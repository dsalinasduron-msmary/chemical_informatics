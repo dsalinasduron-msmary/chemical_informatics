{
 "cells": [
  {
   "cell_type": "code",
   "execution_count": 2,
   "id": "9d441909-f9af-43b9-b413-c39de48763ca",
   "metadata": {},
   "outputs": [
    {
     "name": "stdout",
     "output_type": "stream",
     "text": [
      "200\n",
      "done\n"
     ]
    }
   ],
   "source": [
    "#!/usr/bin/env python3\n",
    "\n",
    "# Import relevant libraries to make HTTP requests and parse JSON response\n",
    "import requests\n",
    "import json\n",
    "import csv\n",
    "\n",
    "# Set disease_id variable for colorectal cancer\n",
    "disease_id = \"EFO_0005537\"\n",
    "\n",
    "# Build query string to get target information as well as count\n",
    "query_string = \"\"\"\n",
    "query associatedTargets {\n",
    "  disease(efoId: \"EFO_0005537\") {\n",
    "    id\n",
    "    name\n",
    "    associatedTargets(page: {size: 100, index: 0}) {\n",
    "      count\n",
    "      rows {\n",
    "        target {\n",
    "          id\n",
    "          approvedSymbol\n",
    "        }\n",
    "      }\n",
    "    }\n",
    "  }\n",
    "}\n",
    "\"\"\"\n",
    "\n",
    "# Set variables object of arguments to be passed to endpoint\n",
    "variables = {\"efoId\": disease_id}\n",
    "\n",
    "# Set base URL of GraphQL API endpoint\n",
    "base_url = \"https://api.platform.opentargets.org/api/v4/graphql\"\n",
    "\n",
    "# Perform POST request and check status code of response\n",
    "r = requests.post(base_url, json={\"query\": query_string, \"variables\": variables})\n",
    "print(r.status_code)\n",
    "\n",
    "#Transform API response from JSON into Python dictionary and print in console\n",
    "api_response = json.loads(r.text)\n",
    "print('done')\n",
    "#print(api_response)\n",
    "\n",
    "\n",
    "\n",
    "        "
   ]
  },
  {
   "cell_type": "code",
   "execution_count": 3,
   "id": "384d88c9-899c-4e3b-9e04-e928a0a5c5c5",
   "metadata": {},
   "outputs": [
    {
     "name": "stdout",
     "output_type": "stream",
     "text": [
      "['ENSG00000184292', 'ENSG00000198900', 'ENSG00000120217', 'ENSG00000258947', 'ENSG00000188229', 'ENSG00000137267', 'ENSG00000137285', 'ENSG00000176014', 'ENSG00000261456', 'ENSG00000104833', 'ENSG00000101162', 'ENSG00000196230', 'ENSG00000106628', 'ENSG00000062822', 'ENSG00000167325', 'ENSG00000177084', 'ENSG00000077514', 'ENSG00000146143', 'ENSG00000148229', 'ENSG00000198056', 'ENSG00000014138', 'ENSG00000175482', 'ENSG00000101868', 'ENSG00000100479', 'ENSG00000083093', 'ENSG00000183765', 'ENSG00000020922', 'ENSG00000119535', 'ENSG00000188389', 'ENSG00000135446', 'ENSG00000131747', 'ENSG00000142208', 'ENSG00000105810', 'ENSG00000105221', 'ENSG00000117020', 'ENSG00000087494', 'ENSG00000160117', 'ENSG00000135100', 'ENSG00000141736', 'ENSG00000146648', 'ENSG00000128052', 'ENSG00000091831', 'ENSG00000112715', 'ENSG00000143799', 'ENSG00000157404', 'ENSG00000113721', 'ENSG00000140443', 'ENSG00000169083', 'ENSG00000231500', 'ENSG00000121879', 'ENSG00000198793', 'ENSG00000048052', 'ENSG00000196776', 'ENSG00000176890', 'ENSG00000012048', 'ENSG00000065361', 'ENSG00000168610', 'ENSG00000141510', 'ENSG00000154229', 'ENSG00000129484', 'ENSG00000136997', 'ENSG00000106462', 'ENSG00000171862', 'ENSG00000149554', 'ENSG00000163599', 'ENSG00000105329', 'ENSG00000140009', 'ENSG00000139687', 'ENSG00000169398', 'ENSG00000037280', 'ENSG00000123374', 'ENSG00000167601', 'ENSG00000137693', 'ENSG00000089685', 'ENSG00000136244', 'ENSG00000197122', 'ENSG00000197043', 'ENSG00000039068', 'ENSG00000111206', 'ENSG00000169429', 'ENSG00000041880', 'ENSG00000232810', 'ENSG00000148773', 'ENSG00000125538', 'ENSG00000105173', 'ENSG00000121858', 'ENSG00000121966', 'ENSG00000102554', 'ENSG00000153563', 'ENSG00000107485', 'ENSG00000148400', 'ENSG00000251562', 'ENSG00000171552', 'ENSG00000100146', 'ENSG00000082175', 'ENSG00000178999', 'ENSG00000164850', 'ENSG00000087586', 'ENSG00000196526', 'ENSG00000100644']\n"
     ]
    }
   ],
   "source": [
    "#This block goes from D --> T\n",
    "\n",
    "a=0\n",
    "target_ids = api_response['data']['disease']['associatedTargets']['rows']\n",
    "target_id_list = []\n",
    "while a < len(target_ids):\n",
    "    target_id_list.append(target_ids[a]['target'].get('id'))\n",
    "    a+=1\n",
    "print(target_id_list)\n"
   ]
  },
  {
   "cell_type": "code",
   "execution_count": 6,
   "id": "c20346da-9ce8-4ee7-8a87-70de4bbd6e12",
   "metadata": {},
   "outputs": [],
   "source": [
    "#this block goes T --> A\n",
    "\n",
    "# Able to write dictionary at a speed of 4 targets/second\n",
    "a = 0\n",
    "target_id_assay_dict = {}\n",
    "for id in target_id_list:\n",
    "# get raw AIDs for each Ensemble ID in JSON format using PUG REST\n",
    "    r = requests.get('https://pubchem.ncbi.nlm.nih.gov/rest/pug/gene/synonym/Ensamble:' + id + '/aids/json')\n",
    "# convert JSON to Python Dictionary\n",
    "    raw_aids = r.json()\n",
    "    #print(type(raw_aids))\n",
    "# isolate raw_aids into a list containing just the AIDS\n",
    "    try:\n",
    "        aids = raw_aids['InformationList']['Information'][0]['AID']\n",
    "    except:\n",
    "        pass\n",
    "# assign each Ensamble Target ID to dictionary entry with associated Assay IDs\n",
    "    target_id_assay_dict[id] =  aids\n",
    "    #a+=1\n",
    "    #display(a)\n",
    "#print(target_id_assay_dict)\n",
    "#^ prints 1-100 \n",
    "#it's looking at a target and getting the A IDs and every time the number goes up it has finished updating the targets\n"
   ]
  }
 ],
 "metadata": {
  "kernelspec": {
   "display_name": "Python 3 (ipykernel)",
   "language": "python",
   "name": "python3"
  },
  "language_info": {
   "codemirror_mode": {
    "name": "ipython",
    "version": 3
   },
   "file_extension": ".py",
   "mimetype": "text/x-python",
   "name": "python",
   "nbconvert_exporter": "python",
   "pygments_lexer": "ipython3",
   "version": "3.11.3"
  }
 },
 "nbformat": 4,
 "nbformat_minor": 5
}
