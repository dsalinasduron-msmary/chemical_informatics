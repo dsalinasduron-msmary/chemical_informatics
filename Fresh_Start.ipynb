{
 "cells": [
  {
   "cell_type": "code",
   "execution_count": 51,
   "metadata": {
    "colab": {
     "base_uri": "https://localhost:8080/"
    },
    "id": "1aPn8IpEe7Q-",
    "outputId": "a07ef6cd-e804-4929-8062-2e16ce47d226"
   },
   "outputs": [],
   "source": [
    "!pip install flair\n",
    "print(\"done\")"
   ]
  },
  {
   "cell_type": "code",
   "execution_count": 52,
   "metadata": {
    "id": "PE-dCM2TMuNx"
   },
   "outputs": [
    {
     "name": "stdout",
     "output_type": "stream",
     "text": [
      "done\n"
     ]
    }
   ],
   "source": [
    "#!/usr/bin/env python3\n",
    "\n",
    "# Import relevant libraries to make HTTP requests and parse JSON response\n",
    "import requests\n",
    "import json\n",
    "import csv\n",
    "import io\n",
    "\n",
    "from collections import defaultdict\n",
    "from time import time\n",
    "from sklearn import metrics\n",
    "from sklearn.feature_extraction.text import TfidfVectorizer\n",
    "\n",
    "from flair.data import Sentence\n",
    "from flair.nn import Classifier\n",
    "print(\"done\")"
   ]
  },
  {
   "cell_type": "code",
   "execution_count": 53,
   "metadata": {
    "id": "S58u_mh3NT7W"
   },
   "outputs": [
    {
     "name": "stdout",
     "output_type": "stream",
     "text": [
      "done\n"
     ]
    }
   ],
   "source": [
    "# Set disease_id variable for triple-negative breast cancer\n",
    "disease_id = \"EFO_0005537\"\n",
    "\n",
    "# Build query string to get target information as well as count\n",
    "query_string = \"\"\"\n",
    "query KnownDrugs {\n",
    "  disease(efoId: \"EFO_0005537\") {\n",
    "    id\n",
    "    name\n",
    "\t\tassociatedTargets (page: {size: 3, index: 0}) {\n",
    "      rows{\n",
    "        score\n",
    "        target{\n",
    "          id\n",
    "          approvedName\n",
    "          approvedSymbol\n",
    "          knownDrugs{\n",
    "            rows{\n",
    "              drug{\n",
    "                name\n",
    "                id\n",
    "              }\n",
    "            }\n",
    "          }\n",
    "        }\n",
    "      }\n",
    "    }\n",
    "}\n",
    "}\n",
    "\"\"\"\n",
    "print(\"done\")"
   ]
  },
  {
   "cell_type": "code",
   "execution_count": 54,
   "metadata": {
    "colab": {
     "base_uri": "https://localhost:8080/"
    },
    "id": "VOSv_cELNhqv",
    "outputId": "ee97efe9-8292-43b0-e892-07a0e54d443c"
   },
   "outputs": [
    {
     "name": "stdout",
     "output_type": "stream",
     "text": [
      "200\n",
      "done\n",
      "done\n"
     ]
    }
   ],
   "source": [
    "# Set variables object of arguments to be passed to endpoint\n",
    "variables = {\"efoId\": disease_id}\n",
    "\n",
    "# Set base URL of GraphQL API endpoint\n",
    "base_url = \"https://api.platform.opentargets.org/api/v4/graphql\"\n",
    "\n",
    "# Perform POST request and check status code of response\n",
    "r = requests.post(base_url, json={\"query\": query_string, \"variables\": variables})\n",
    "print(r.status_code)\n",
    "\n",
    "#Transform API response from JSON into Python dictionary and print in console\n",
    "api_response = json.loads(r.text)\n",
    "print('done')\n",
    "#print(api_response)\n",
    "print(\"done\")\n",
    "#same"
   ]
  },
  {
   "cell_type": "code",
   "execution_count": 55,
   "metadata": {
    "colab": {
     "base_uri": "https://localhost:8080/"
    },
    "id": "mkDGecW5OAG2",
    "outputId": "a2d49a8a-9a05-47e3-8e62-bbb5e213e6e1"
   },
   "outputs": [
    {
     "name": "stdout",
     "output_type": "stream",
     "text": [
      "['ENSG00000184292', 'ENSG00000198900', 'ENSG00000120217']\n",
      "done\n"
     ]
    }
   ],
   "source": [
    "a=0\n",
    "#create list of target IDs by calling them from dictionary\n",
    "target_ids = api_response['data']['disease']['associatedTargets']['rows']\n",
    "#print(target_ids)\n",
    "target_id_list = []\n",
    "#pull IDs from dictionary and add to new list\n",
    "while a < len(target_ids):\n",
    "    target_id_list.append(target_ids[a]['target'].get('id'))\n",
    "    a+=1\n",
    "print(target_id_list)\n",
    "print(\"done\")"
   ]
  },
  {
   "cell_type": "code",
   "execution_count": 17,
   "metadata": {
    "colab": {
     "base_uri": "https://localhost:8080/",
     "height": 1000
    },
    "id": "phkFLvoAOkAs",
    "outputId": "2ad34615-a589-4c06-c665-a7600242aea8"
   },
   "outputs": [],
   "source": [
    "# Create new dictionary assigning assays to to each target, and assigning compounds to each assay using PUG REST\n",
    "# Able to write dictionary at a speed of 4 targets/second\n",
    "\n",
    "a=0\n",
    "target_id_assay_dict = {}\n",
    "counter = 0\n",
    "for target_id in target_id_list:\n",
    "    counter = counter + 1\n",
    "    if counter > 3 :\n",
    "      break\n",
    "# get raw AIDs (Assay IDs) for each Ensemble ID in JSON format using PUG REST\n",
    "    r = requests.get('https://pubchem.ncbi.nlm.nih.gov/rest/pug/gene/synonym/Ensemble:' + target_id + '/aids/json')\n",
    "# convert JSON to Python Dictionary\n",
    "    raw_aids = r.json()\n",
    "    #print(type(raw_aids))\n",
    "# isolate raw_aids into a list containing just the AIDs from the dictionary\n",
    "    try:\n",
    "        aids = raw_aids['InformationList']['Information'][0]['AID']\n",
    "    except:\n",
    "        pass\n",
    "# assign each Ensamble Target ID to dictionary entry with associated Assay IDs\n",
    "    #target_id_assay_dict[id] =  aids\n",
    "\n",
    "    #create sub-dictionary for compounds within each assay\n",
    "    target_id_assay_dict[target_id] =  {}\n",
    "    for aid in aids:\n",
    "        aid = str(aid)\n",
    "        print(aid)\n",
    "        #get raw CIDS (Compound IDs) for each Assay in JSON format using PUG REST\n",
    "        r = requests.get('https://pubchem.ncbi.nlm.nih.gov/assay/pcget.cgi?query=download&record_type=datatable&actvty=active&response_type=display&aid=' + aid)\n",
    "\n",
    "        loose_data = r.text\n",
    "\n",
    "        listed_data = loose_data.split(',')\n",
    "        try:\n",
    "            cid_index = listed_data.index(\"PUBCHEM_CID\")\n",
    "        except:\n",
    "            continue\n",
    "        #print(cid_index)\n",
    "        #print(type(cid_index))\n",
    "\n",
    "        activity_index = listed_data.index(\"PUBCHEM_ACTIVITY_SCORE\")\n",
    "        #print(activity_index)\n",
    "        #print(type(activity_index))\n",
    "\n",
    "\n",
    "        fhand = io.StringIO(loose_data)\n",
    "\n",
    "        cids_with_activities = []\n",
    "\n",
    "        for line in fhand:\n",
    "            line = line.split(',')\n",
    "\n",
    "            while ('' in line):\n",
    "                line.remove('')\n",
    "            try:\n",
    "                int(line[0])\n",
    "                int(line[cid_index])\n",
    "                float(line[activity_index])\n",
    "            except:\n",
    "                line = \"\"\n",
    "                continue\n",
    "            cid_with_activity = (line[cid_index], line[activity_index])\n",
    "            cids_with_activities.append(cid_with_activity)\n",
    "        #isolate raw_cids into a list containing just the CIDs from the dictionary\n",
    "        if len(cids_with_activities) > 0:\n",
    "            #assign CIDs to associated AID dictionary entry\n",
    "            target_id_assay_dict[target_id][aid] = cids_with_activities\n",
    "            print(\"Compounds found! Adding compounds to dictionary and passing to next assay.\")\n",
    "        else:\n",
    "            print(\"No compounds found for assay. Passing to next assay.\")\n",
    "            continue\n",
    "\n",
    "    a+=1\n",
    "    display(a)\n",
    "print(target_id_assay_dict)\n",
    "print(\"done\")"
   ]
  },
  {
   "cell_type": "code",
   "execution_count": 98,
   "metadata": {
    "colab": {
     "base_uri": "https://localhost:8080/"
    },
    "id": "gPxUPZ7Zjr3i",
    "outputId": "c5e08c21-4013-4fdd-f648-d09584aa8891"
   },
   "outputs": [
    {
     "name": "stdout",
     "output_type": "stream",
     "text": [
      "[1904, 56396, 56397, 56398, 56399, 56400, 56401, 56402, 56403, 56404, 56405, 56406, 56407, 56408, 56409, 56410, 56411, 56412, 56413, 56414, 56415, 56416, 56417, 56418, 56419, 56420, 56541, 56542, 56543, 56544, 56545, 56546, 56547, 56548, 56549, 56550, 56551, 56552, 56553, 56554, 56555, 56556, 56557, 56558, 56559, 56560, 56561, 56562, 56563, 56564, 56565, 56566, 56567, 56568, 56569, 56570, 56571, 56572, 56573, 56574, 56575, 56576, 56577, 56699, 56700, 56701, 56702, 56703, 56704, 56705, 56706, 56707, 56708, 56709, 56710, 56711, 56712, 56713, 56714, 56715, 56716, 56717, 56718, 56719, 56720, 56721, 56722, 56723, 56724, 56725, 56726, 56727, 56728, 56729, 56730, 56731, 56732, 56733, 56864, 56865, 56866, 56867, 56868, 56869, 56870, 56871, 56872, 56873, 56874, 56875, 56876, 56877, 56878, 56879, 56880, 56881, 56882, 56883, 56884, 56885, 56886, 56887, 56888, 56889, 56890, 56891, 56892, 56893, 56894, 56895, 56896, 56897, 56898, 56899, 56900, 56901, 57032, 57033, 57034, 57035, 57036, 57037, 57038, 57039, 57040, 57041, 57042, 57043, 210938, 210939, 210940, 210941, 210942, 210943, 210944, 210945, 210946, 210947, 210948, 210949, 211091, 211092, 211093, 211094, 211095, 211097, 211098, 211099, 211100, 211101, 211102, 211103, 211104, 211105, 211106, 211107, 211108, 211109, 211110, 211111, 211112, 211113, 211114, 211115, 211116, 211117, 224610, 228425, 228426, 231982, 232993, 239726, 239852, 240049, 240097, 240620, 241607, 242837, 243219, 243220, 243221, 243223, 243224, 243225, 243226, 243386, 243387, 243388, 243437, 243438, 244262, 244263, 244264, 244265, 244266, 244267, 250096, 251002, 252286, 252287, 252288, 252289, 252290, 252291, 256508, 256678, 258767, 264545, 268635, 268636, 268637, 269042, 269043, 269110, 269203, 283903, 283904, 286262, 286403, 286404, 286405, 286406, 286407, 286413, 286414, 286415, 286416, 286421, 286422, 286423, 286424, 286438, 286439, 286440, 287709, 287710, 287711, 287712, 293172, 293480, 293481, 293483, 296073, 297066, 299311, 299312, 300366, 300367, 309604, 312293, 312295, 314508, 314509, 317452, 322713, 328779, 328780, 331449, 331828, 333055, 333057, 334464, 334465, 334466, 336292, 344134, 345172, 345173, 346586, 350320, 353083, 354858, 358916, 361234, 361235, 361236, 361444, 361445, 361450, 361451, 361452, 362301, 366208, 366217, 376730, 377538, 378110, 379271, 379272, 379273, 379824, 380032, 380033, 380253, 385404, 389683, 393312, 393754, 396403, 396771, 402038, 408919, 408920, 408923, 409902, 411410, 411411, 414753, 418336, 422411, 422412, 422413, 431825, 431826, 431827, 431833, 431834, 431835, 431854, 432397, 432398, 432399, 432401, 432403, 432404, 433914, 434819, 434821, 436178, 436387, 436713, 436714, 436715, 436716, 449570, 449571, 453108, 453806, 456247, 456248, 458062, 460543, 460544, 462323, 462324, 462741, 462742, 467763, 467764, 470667, 476071, 478033, 478041, 478056, 480105, 480106, 480992, 481164, 481165, 481166, 481167, 481168, 481169, 481171, 481172, 481173, 481429, 481430, 485536, 486649, 487689, 487695, 490081, 490170, 494546, 497152, 497153, 511233, 511234, 527478, 527479, 536035, 536036, 536901, 537376, 537377, 537378, 537379, 547370, 547371, 547372, 551007, 551009, 551010, 551014, 551015, 551016, 551263, 552714, 565888, 565889, 565890, 577548, 577549, 577550, 578682, 578683, 590398, 591643, 591644, 592162, 592163, 595841, 595842, 599168, 600204, 600208, 600209, 600210, 600211, 600216, 606654, 606747, 607456, 608854, 608855, 610760, 611200, 611201, 612419, 612420, 615989, 617145, 620745, 620746, 620747, 620748, 620749, 620798, 620799, 624099, 632907, 635424, 636881, 636882, 636883, 644574, 644575, 644777, 651810, 651811, 657775, 657776, 657777, 657778, 657779, 657780, 657781, 657916, 657917, 657918, 666765, 673453, 677826, 677830, 677840, 677841, 696326, 696327, 696328, 696329, 696330, 699139, 699140, 699141, 699143, 699145, 699147, 699149, 699150, 699151, 699152, 699153, 699154, 699155, 699156, 699159, 701776, 701777, 702828, 702851, 702856, 702857, 704299, 704300, 709686, 711426, 711429, 714170, 714171, 720710, 724041, 724051, 724052, 724053, 725344, 725345, 725730, 725731, 725732, 725734, 729747, 730195, 735940, 736320, 736814, 743121, 743454, 745329, 746647, 747370, 747371, 747461, 747462, 748349, 749698, 756448, 761189, 767198, 768623, 770644, 771322, 771323, 771547, 771548, 774972, 775817, 775824, 776101, 776102, 776105, 776106, 776649, 776654, 779453, 779454, 780350, 780351, 780352, 780933, 780934, 780938, 780939, 1061257, 1061259, 1061261, 1063330, 1075781, 1075782, 1075783, 1075784, 1075785, 1075794, 1075795, 1075796, 1075797, 1075855, 1075856, 1075857, 1076036, 1076081, 1076082, 1095219, 1095226, 1095227, 1095228, 1096583, 1096585, 1117281, 1117357, 1121257, 1122073, 1138548, 1142522, 1142523, 1142524, 1142525, 1142526, 1143108, 1143109, 1143384, 1155282, 1155283, 1159506, 1159578, 1159584, 1165010, 1165011, 1165391, 1165392, 1165393, 1165394, 1165395, 1165396, 1167481, 1167482, 1169487, 1169488, 1175659, 1175660, 1175661, 1175662, 1175663, 1175664, 1175665, 1179938, 1182588, 1182589, 1182590, 1182607, 1185511, 1187845, 1194058, 1194769, 1194770, 1195269, 1197367, 1197378, 1197846, 1197849, 1198386, 1201343, 1201344, 1203574, 1203584, 1203585, 1203586, 1203587, 1206840, 1206841, 1206843, 1206844, 1224830, 1225979, 1226759, 1227434, 1227436, 1228597, 1228598, 1228599, 1228600, 1231675, 1231676, 1236890, 1236891, 1239195, 1239196, 1239197, 1240569, 1244074, 1244077, 1245883, 1245884, 1250350, 1250351, 1250352, 1250353, 1250357, 1250358, 1250359, 1250360, 1251496, 1251505, 1252045, 1252046, 1252049, 1252051, 1254805, 1254806, 1254807, 1254810, 1264620, 1265043, 1268056, 1268057, 1268058, 1269401, 1273775, 1273776, 1274490, 1274495, 1274535, 1274800, 1274801, 1279113, 1284053, 1284054, 1284066, 1284067, 1287948, 1287949, 1288087, 1288088, 1288328, 1288329, 1294874, 1294922, 1302329, 1302342, 1306065, 1306928, 1306930, 1306932, 1306934, 1309918, 1309919, 1310522, 1322189, 1322190, 1322191, 1324294, 1325811, 1326452, 1326609, 1326614, 1326622, 1326623, 1327275, 1327276, 1327277, 1327631, 1327633, 1327805, 1327808, 1327956, 1333371, 1333372, 1333373, 1333374, 1337469, 1337470, 1337481, 1337482, 1337582, 1337583, 1339692, 1339693, 1346045, 1347618, 1347619, 1347620, 1352095, 1352096, 1358575, 1359176, 1361510, 1363189, 1363190, 1363340, 1363341, 1363365, 1363366, 1374093, 1374094, 1378651, 1382328, 1382329, 1382330, 1382599, 1382600, 1382607, 1382608, 1383386, 1383387, 1383388, 1383389, 1383390, 1383391, 1383392, 1387408, 1387409, 1387410, 1387411, 1390166, 1390167, 1390176, 1390177, 1390208, 1390209, 1390210, 1390211, 1390212, 1396987, 1400707, 1400708, 1400711, 1401812, 1401813, 1401818, 1401819, 1401820, 1401822, 1401823, 1401824, 1401825, 1401826, 1401830, 1401831, 1407988, 1413829, 1415044, 1426110, 1426112, 1428609, 1428613, 1428614, 1428615, 1428616, 1428617, 1428618, 1428690, 1428691, 1428700, 1428701, 1428712, 1428713, 1428714, 1428715, 1431482, 1431483, 1442286, 1443965, 1443966, 1443967, 1443978, 1443979, 1447300, 1447301, 1447305, 1447306, 1447307, 1448230, 1453061, 1453062, 1453394, 1457569, 1472923, 1472924, 1472925, 1472926, 1472927, 1472928, 1472929, 1472930, 1472931, 1472932, 1472933, 1472934, 1472935, 1472936, 1472937, 1472938, 1472940, 1472941, 1472942, 1472947, 1472948, 1472950, 1472951, 1472952, 1478721, 1478722, 1478733, 1478734, 1481805, 1481806, 1481807, 1486385, 1486759, 1486765, 1500678, 1500679, 1500681, 1507687, 1507689, 1507694, 1507695, 1507750, 1508588, 1520397, 1520398, 1520399, 1520400, 1537211, 1544044, 1544048, 1544049, 1544050, 1544057, 1544058, 1544059, 1544060, 1544061, 1544067, 1544068, 1544069, 1544070, 1544076, 1551202, 1551203, 1551900, 1562002, 1562003, 1562010, 1562011, 1562101, 1562102, 1563007, 1563008, 1563009, 1563013, 1563014, 1563015, 1564585, 1566675, 1566676, 1566743, 1566744, 1566745, 1566778, 1577582, 1577583, 1585186, 1585187, 1585188, 1585189, 1585190, 1585191, 1585192, 1585193, 1601654, 1601657, 1601658, 1601659, 1609804, 1609821, 1609822, 1609823, 1609824, 1609825, 1609859, 1610469, 1631081, 1638092, 1638093, 1648729, 1648730, 1648731, 1651221, 1651222, 1651223, 1651224, 1651225, 1651226, 1655966, 1655967, 1655968, 1655970, 1655971, 1655972, 1655973, 1659501, 1659502, 1659503, 1667417, 1667418, 1673144, 1673146, 1673147, 1673148, 1673149, 1673154, 1673156, 1689290, 1689313, 1692473, 1701969, 1702012, 1702822, 1702823, 1702824, 1702825, 1702826, 1703217, 1703218, 1703219, 1703331, 1703332, 1708523, 1708533, 1708534, 1713804, 1713805, 1723562, 1724032, 1727988, 1727989, 1727990, 1728398, 1728414, 1732040, 1733013, 1736595, 1736602, 1736603, 1736606, 1736607, 1736608, 1737446, 1737447, 1737448, 1737449, 1737450, 1738949, 1740932, 1740933, 1758341, 1758342, 1758988, 1759310, 1759311, 1759312, 1759313, 1759314, 1763576, 1763577, 1763578, 1763579, 1765566, 1765569, 1779158, 1779194, 1779228, 1779229, 1779298, 1781535, 1798415, 1803398, 1808044, 1808045, 1808046, 1808048, 1808049, 1808050, 1808110, 1810247, 1810249, 1810251, 1810252, 1811235, 1811236, 1817036, 1823979, 1823980, 1823981, 1823982, 1823983, 1826593, 1826602, 1830490, 1830496, 1849130, 1849131, 1854846, 1858607, 1859455, 1859464, 1859467, 1859469, 1862078, 1862079, 1862088, 1867660, 1867663, 1877736, 1877737, 1877738, 1884188, 1884189, 1885559, 1885561, 1885562, 1888016, 1888017, 1888018, 1888019, 1888020, 1888021, 1888022, 1888023, 1888036, 1888037, 1888098, 1891163, 1891164, 1891165, 1891166, 1891167, 1891168, 1894518, 1899156, 1906038, 1911379, 1911380, 1911382, 1911684, 1911685]\n",
      "1137\n"
     ]
    }
   ],
   "source": [
    "#Precautions to ensure the code works right and the the Assay ID numbrs line up right\n",
    "print(aids)\n",
    "print(len(aids))\n"
   ]
  },
  {
   "cell_type": "code",
   "execution_count": 58,
   "metadata": {
    "colab": {
     "base_uri": "https://localhost:8080/"
    },
    "id": "XOWx4sBWgDcQ",
    "outputId": "8a7a3b76-dab2-485e-87fc-2f8c2ec7e2da"
   },
   "outputs": [
    {
     "name": "stdout",
     "output_type": "stream",
     "text": [
      "2023-07-17 19:37:05,570 SequenceTagger predicts: Dictionary with 8 tags: <unk>, O, B-Disease, E-Disease, I-Disease, S-Disease, <START>, <STOP>\n",
      "2023-07-17 19:37:06,098 SequenceTagger predicts: Dictionary with 8 tags: <unk>, O, S-Gene, B-Gene, I-Gene, E-Gene, <START>, <STOP>\n",
      "2023-07-17 19:37:06,623 SequenceTagger predicts: Dictionary with 8 tags: <unk>, O, S-Species, B-Species, I-Species, E-Species, <START>, <STOP>\n",
      "2023-07-17 19:37:07,151 SequenceTagger predicts: Dictionary with 8 tags: <unk>, O, S-CellLine, B-CellLine, I-CellLine, E-CellLine, <START>, <STOP>\n",
      "2023-07-17 19:37:07,676 SequenceTagger predicts: Dictionary with 8 tags: <unk>, O, S-Chemical, B-Chemical, I-Chemical, E-Chemical, <START>, <STOP>\n",
      "done\n"
     ]
    }
   ],
   "source": [
    "tagger = Classifier.load('bioner')\n",
    "print(\"done\")"
   ]
  },
  {
   "cell_type": "code",
   "execution_count": 16,
   "metadata": {
    "colab": {
     "base_uri": "https://localhost:8080/"
    },
    "id": "umOdqHwaPb54",
    "outputId": "3bf36791-9e1b-4249-ded5-0313f688a9c0"
   },
   "outputs": [
    {
     "name": "stdout",
     "output_type": "stream",
     "text": [
      "1904\n",
      "siRNA Circadian Assay\n",
      "Description::: :: To identify additional clock genes and modifiers, we conducted a genome-wide screen of ~90,000 siRNAs (QIAGEN Inc) in a human cellular model of clock function. Knockdown of nearly a thousand genes reduced:: rhythm amplitude; these are presumably due to toxic effects on cells. Hundreds of genes potently modified period length or increased amplitude.\n",
      "56396\n",
      "Topoisomerase I DNA relaxation activity was evaluated by Agarose Gel Electrophoresis test at concentration 100 uM\n",
      "Title: Bisindolylmaleimides linked to DNA minor groove binding lexitropsins: synthesis, inhibitory activity against topoisomerase I, and biological evaluation.:: :: Abstract: The synthesis, characterization, inhibitory activity against topoisomerase I, and biological evaluation of a series of oligopeptide-substituted bisindolylmaleimides 7-12 are described. Compounds 7-9, which contain a basic C-terminus function such as (dimethylamino)propyl and bind to DNA with C(50) values of 200, 160, and 135 microM, respectively, exhibited inhibition of topoisomerase I in a concentration dependent manner. Also, the relative order of observed topoisomerase I inhibition is 9 > 8 > 7 at < or = 100 microM concentration, corresponding to the increase of the number of pyrrole units in the oligopeptide moiety. Compounds 10-12, which contain an electrostatically neutral moiety, such as methyl ester, did not bind to DNA templates nor inhibit topoisomerase I. However, the cytotoxicity activities of these compounds were 1.5 times greater than those of compounds 7-9.\n",
      "56397\n",
      "Topoisomerase I DNA relaxation activity was evaluated by Agarose Gel Electrophoresis test at concentration 100 uM\n",
      "Title: Bisindolylmaleimides linked to DNA minor groove binding lexitropsins: synthesis, inhibitory activity against topoisomerase I, and biological evaluation.:: :: Abstract: The synthesis, characterization, inhibitory activity against topoisomerase I, and biological evaluation of a series of oligopeptide-substituted bisindolylmaleimides 7-12 are described. Compounds 7-9, which contain a basic C-terminus function such as (dimethylamino)propyl and bind to DNA with C(50) values of 200, 160, and 135 microM, respectively, exhibited inhibition of topoisomerase I in a concentration dependent manner. Also, the relative order of observed topoisomerase I inhibition is 9 > 8 > 7 at < or = 100 microM concentration, corresponding to the increase of the number of pyrrole units in the oligopeptide moiety. Compounds 10-12, which contain an electrostatically neutral moiety, such as methyl ester, did not bind to DNA templates nor inhibit topoisomerase I. However, the cytotoxicity activities of these compounds were 1.5 times greater than those of compounds 7-9.\n",
      "56398\n",
      "Topoisomerase I DNA relaxation activity was evaluated by Agarose Gel Electrophoresis test at concentration 250 uM\n",
      "Title: Bisindolylmaleimides linked to DNA minor groove binding lexitropsins: synthesis, inhibitory activity against topoisomerase I, and biological evaluation.:: :: Abstract: The synthesis, characterization, inhibitory activity against topoisomerase I, and biological evaluation of a series of oligopeptide-substituted bisindolylmaleimides 7-12 are described. Compounds 7-9, which contain a basic C-terminus function such as (dimethylamino)propyl and bind to DNA with C(50) values of 200, 160, and 135 microM, respectively, exhibited inhibition of topoisomerase I in a concentration dependent manner. Also, the relative order of observed topoisomerase I inhibition is 9 > 8 > 7 at < or = 100 microM concentration, corresponding to the increase of the number of pyrrole units in the oligopeptide moiety. Compounds 10-12, which contain an electrostatically neutral moiety, such as methyl ester, did not bind to DNA templates nor inhibit topoisomerase I. However, the cytotoxicity activities of these compounds were 1.5 times greater than those of compounds 7-9.\n",
      "56399\n",
      "Topoisomerase I DNA relaxation activity was evaluated by Agarose Gel Electrophoresis test at concentration 250 uM\n",
      "Title: Bisindolylmaleimides linked to DNA minor groove binding lexitropsins: synthesis, inhibitory activity against topoisomerase I, and biological evaluation.:: :: Abstract: The synthesis, characterization, inhibitory activity against topoisomerase I, and biological evaluation of a series of oligopeptide-substituted bisindolylmaleimides 7-12 are described. Compounds 7-9, which contain a basic C-terminus function such as (dimethylamino)propyl and bind to DNA with C(50) values of 200, 160, and 135 microM, respectively, exhibited inhibition of topoisomerase I in a concentration dependent manner. Also, the relative order of observed topoisomerase I inhibition is 9 > 8 > 7 at < or = 100 microM concentration, corresponding to the increase of the number of pyrrole units in the oligopeptide moiety. Compounds 10-12, which contain an electrostatically neutral moiety, such as methyl ester, did not bind to DNA templates nor inhibit topoisomerase I. However, the cytotoxicity activities of these compounds were 1.5 times greater than those of compounds 7-9.\n",
      "56400\n",
      "Topoisomerase I DNA relaxation activity was evaluated by Agarose Gel Electrophoresis test at concentration 25 uM\n",
      "Title: Bisindolylmaleimides linked to DNA minor groove binding lexitropsins: synthesis, inhibitory activity against topoisomerase I, and biological evaluation.:: :: Abstract: The synthesis, characterization, inhibitory activity against topoisomerase I, and biological evaluation of a series of oligopeptide-substituted bisindolylmaleimides 7-12 are described. Compounds 7-9, which contain a basic C-terminus function such as (dimethylamino)propyl and bind to DNA with C(50) values of 200, 160, and 135 microM, respectively, exhibited inhibition of topoisomerase I in a concentration dependent manner. Also, the relative order of observed topoisomerase I inhibition is 9 > 8 > 7 at < or = 100 microM concentration, corresponding to the increase of the number of pyrrole units in the oligopeptide moiety. Compounds 10-12, which contain an electrostatically neutral moiety, such as methyl ester, did not bind to DNA templates nor inhibit topoisomerase I. However, the cytotoxicity activities of these compounds were 1.5 times greater than those of compounds 7-9.\n",
      "56401\n",
      "Topoisomerase I DNA relaxation activity was evaluated by Agarose Gel Electrophoresis test at concentration 25 uM\n",
      "Title: Bisindolylmaleimides linked to DNA minor groove binding lexitropsins: synthesis, inhibitory activity against topoisomerase I, and biological evaluation.:: :: Abstract: The synthesis, characterization, inhibitory activity against topoisomerase I, and biological evaluation of a series of oligopeptide-substituted bisindolylmaleimides 7-12 are described. Compounds 7-9, which contain a basic C-terminus function such as (dimethylamino)propyl and bind to DNA with C(50) values of 200, 160, and 135 microM, respectively, exhibited inhibition of topoisomerase I in a concentration dependent manner. Also, the relative order of observed topoisomerase I inhibition is 9 > 8 > 7 at < or = 100 microM concentration, corresponding to the increase of the number of pyrrole units in the oligopeptide moiety. Compounds 10-12, which contain an electrostatically neutral moiety, such as methyl ester, did not bind to DNA templates nor inhibit topoisomerase I. However, the cytotoxicity activities of these compounds were 1.5 times greater than those of compounds 7-9.\n",
      "56402\n",
      "Topoisomerase I DNA relaxation activity was evaluated by Agarose Gel Electrophoresis test at concentration 50 uM\n",
      "Title: Bisindolylmaleimides linked to DNA minor groove binding lexitropsins: synthesis, inhibitory activity against topoisomerase I, and biological evaluation.:: :: Abstract: The synthesis, characterization, inhibitory activity against topoisomerase I, and biological evaluation of a series of oligopeptide-substituted bisindolylmaleimides 7-12 are described. Compounds 7-9, which contain a basic C-terminus function such as (dimethylamino)propyl and bind to DNA with C(50) values of 200, 160, and 135 microM, respectively, exhibited inhibition of topoisomerase I in a concentration dependent manner. Also, the relative order of observed topoisomerase I inhibition is 9 > 8 > 7 at < or = 100 microM concentration, corresponding to the increase of the number of pyrrole units in the oligopeptide moiety. Compounds 10-12, which contain an electrostatically neutral moiety, such as methyl ester, did not bind to DNA templates nor inhibit topoisomerase I. However, the cytotoxicity activities of these compounds were 1.5 times greater than those of compounds 7-9.\n",
      "56403\n",
      "Topoisomerase I DNA relaxation activity was evaluated by Agarose Gel Electrophoresis test at concentration 50 uM\n",
      "Title: Bisindolylmaleimides linked to DNA minor groove binding lexitropsins: synthesis, inhibitory activity against topoisomerase I, and biological evaluation.:: :: Abstract: The synthesis, characterization, inhibitory activity against topoisomerase I, and biological evaluation of a series of oligopeptide-substituted bisindolylmaleimides 7-12 are described. Compounds 7-9, which contain a basic C-terminus function such as (dimethylamino)propyl and bind to DNA with C(50) values of 200, 160, and 135 microM, respectively, exhibited inhibition of topoisomerase I in a concentration dependent manner. Also, the relative order of observed topoisomerase I inhibition is 9 > 8 > 7 at < or = 100 microM concentration, corresponding to the increase of the number of pyrrole units in the oligopeptide moiety. Compounds 10-12, which contain an electrostatically neutral moiety, such as methyl ester, did not bind to DNA templates nor inhibit topoisomerase I. However, the cytotoxicity activities of these compounds were 1.5 times greater than those of compounds 7-9.\n",
      "56404\n",
      "Topoisomerase I DNA relaxation activity was evaluated by Fluorescence assay using Ethidium Bromide after heat denaturation of pBR322 DNA at concentration 100 uM\n",
      "Title: Bisindolylmaleimides linked to DNA minor groove binding lexitropsins: synthesis, inhibitory activity against topoisomerase I, and biological evaluation.:: :: Abstract: The synthesis, characterization, inhibitory activity against topoisomerase I, and biological evaluation of a series of oligopeptide-substituted bisindolylmaleimides 7-12 are described. Compounds 7-9, which contain a basic C-terminus function such as (dimethylamino)propyl and bind to DNA with C(50) values of 200, 160, and 135 microM, respectively, exhibited inhibition of topoisomerase I in a concentration dependent manner. Also, the relative order of observed topoisomerase I inhibition is 9 > 8 > 7 at < or = 100 microM concentration, corresponding to the increase of the number of pyrrole units in the oligopeptide moiety. Compounds 10-12, which contain an electrostatically neutral moiety, such as methyl ester, did not bind to DNA templates nor inhibit topoisomerase I. However, the cytotoxicity activities of these compounds were 1.5 times greater than those of compounds 7-9.\n",
      "56405\n",
      "Topoisomerase I DNA relaxation activity was evaluated by Fluorescence assay using Ethidium Bromide after heat denaturation of pBR322 DNA at concentration 100 uM\n",
      "Title: Bisindolylmaleimides linked to DNA minor groove binding lexitropsins: synthesis, inhibitory activity against topoisomerase I, and biological evaluation.:: :: Abstract: The synthesis, characterization, inhibitory activity against topoisomerase I, and biological evaluation of a series of oligopeptide-substituted bisindolylmaleimides 7-12 are described. Compounds 7-9, which contain a basic C-terminus function such as (dimethylamino)propyl and bind to DNA with C(50) values of 200, 160, and 135 microM, respectively, exhibited inhibition of topoisomerase I in a concentration dependent manner. Also, the relative order of observed topoisomerase I inhibition is 9 > 8 > 7 at < or = 100 microM concentration, corresponding to the increase of the number of pyrrole units in the oligopeptide moiety. Compounds 10-12, which contain an electrostatically neutral moiety, such as methyl ester, did not bind to DNA templates nor inhibit topoisomerase I. However, the cytotoxicity activities of these compounds were 1.5 times greater than those of compounds 7-9.\n",
      "56406\n",
      "Topoisomerase I DNA relaxation activity was evaluated by Fluorescence assay using Ethidium Bromide after heat denaturation of pBR322 DNA at concentration 250 uM\n",
      "Title: Bisindolylmaleimides linked to DNA minor groove binding lexitropsins: synthesis, inhibitory activity against topoisomerase I, and biological evaluation.:: :: Abstract: The synthesis, characterization, inhibitory activity against topoisomerase I, and biological evaluation of a series of oligopeptide-substituted bisindolylmaleimides 7-12 are described. Compounds 7-9, which contain a basic C-terminus function such as (dimethylamino)propyl and bind to DNA with C(50) values of 200, 160, and 135 microM, respectively, exhibited inhibition of topoisomerase I in a concentration dependent manner. Also, the relative order of observed topoisomerase I inhibition is 9 > 8 > 7 at < or = 100 microM concentration, corresponding to the increase of the number of pyrrole units in the oligopeptide moiety. Compounds 10-12, which contain an electrostatically neutral moiety, such as methyl ester, did not bind to DNA templates nor inhibit topoisomerase I. However, the cytotoxicity activities of these compounds were 1.5 times greater than those of compounds 7-9.\n",
      "56407\n",
      "Topoisomerase I DNA relaxation activity was evaluated by Fluorescence assay using Ethidium Bromide after heat denaturation of pBR322 DNA at concentration 250 uM\n",
      "Title: Bisindolylmaleimides linked to DNA minor groove binding lexitropsins: synthesis, inhibitory activity against topoisomerase I, and biological evaluation.:: :: Abstract: The synthesis, characterization, inhibitory activity against topoisomerase I, and biological evaluation of a series of oligopeptide-substituted bisindolylmaleimides 7-12 are described. Compounds 7-9, which contain a basic C-terminus function such as (dimethylamino)propyl and bind to DNA with C(50) values of 200, 160, and 135 microM, respectively, exhibited inhibition of topoisomerase I in a concentration dependent manner. Also, the relative order of observed topoisomerase I inhibition is 9 > 8 > 7 at < or = 100 microM concentration, corresponding to the increase of the number of pyrrole units in the oligopeptide moiety. Compounds 10-12, which contain an electrostatically neutral moiety, such as methyl ester, did not bind to DNA templates nor inhibit topoisomerase I. However, the cytotoxicity activities of these compounds were 1.5 times greater than those of compounds 7-9.\n",
      "56408\n",
      "Topoisomerase I DNA relaxation activity was evaluated by Fluorescence assay using Ethidium Bromide after heat denaturation of pBR322 DNA at concentration 25 uM\n",
      "Title: Bisindolylmaleimides linked to DNA minor groove binding lexitropsins: synthesis, inhibitory activity against topoisomerase I, and biological evaluation.:: :: Abstract: The synthesis, characterization, inhibitory activity against topoisomerase I, and biological evaluation of a series of oligopeptide-substituted bisindolylmaleimides 7-12 are described. Compounds 7-9, which contain a basic C-terminus function such as (dimethylamino)propyl and bind to DNA with C(50) values of 200, 160, and 135 microM, respectively, exhibited inhibition of topoisomerase I in a concentration dependent manner. Also, the relative order of observed topoisomerase I inhibition is 9 > 8 > 7 at < or = 100 microM concentration, corresponding to the increase of the number of pyrrole units in the oligopeptide moiety. Compounds 10-12, which contain an electrostatically neutral moiety, such as methyl ester, did not bind to DNA templates nor inhibit topoisomerase I. However, the cytotoxicity activities of these compounds were 1.5 times greater than those of compounds 7-9.\n",
      "56409\n",
      "Topoisomerase I DNA relaxation activity was evaluated by Fluorescence assay using Ethidium Bromide after heat denaturation of pBR322 DNA at concentration 25 uM\n",
      "Title: Bisindolylmaleimides linked to DNA minor groove binding lexitropsins: synthesis, inhibitory activity against topoisomerase I, and biological evaluation.:: :: Abstract: The synthesis, characterization, inhibitory activity against topoisomerase I, and biological evaluation of a series of oligopeptide-substituted bisindolylmaleimides 7-12 are described. Compounds 7-9, which contain a basic C-terminus function such as (dimethylamino)propyl and bind to DNA with C(50) values of 200, 160, and 135 microM, respectively, exhibited inhibition of topoisomerase I in a concentration dependent manner. Also, the relative order of observed topoisomerase I inhibition is 9 > 8 > 7 at < or = 100 microM concentration, corresponding to the increase of the number of pyrrole units in the oligopeptide moiety. Compounds 10-12, which contain an electrostatically neutral moiety, such as methyl ester, did not bind to DNA templates nor inhibit topoisomerase I. However, the cytotoxicity activities of these compounds were 1.5 times greater than those of compounds 7-9.\n",
      "56410\n",
      "Topoisomerase I DNA relaxation activity was evaluated by Fluorescence assay using Ethidium Bromide after heat denaturation of pBR322 DNA at concentration 50 uM\n",
      "Title: Bisindolylmaleimides linked to DNA minor groove binding lexitropsins: synthesis, inhibitory activity against topoisomerase I, and biological evaluation.:: :: Abstract: The synthesis, characterization, inhibitory activity against topoisomerase I, and biological evaluation of a series of oligopeptide-substituted bisindolylmaleimides 7-12 are described. Compounds 7-9, which contain a basic C-terminus function such as (dimethylamino)propyl and bind to DNA with C(50) values of 200, 160, and 135 microM, respectively, exhibited inhibition of topoisomerase I in a concentration dependent manner. Also, the relative order of observed topoisomerase I inhibition is 9 > 8 > 7 at < or = 100 microM concentration, corresponding to the increase of the number of pyrrole units in the oligopeptide moiety. Compounds 10-12, which contain an electrostatically neutral moiety, such as methyl ester, did not bind to DNA templates nor inhibit topoisomerase I. However, the cytotoxicity activities of these compounds were 1.5 times greater than those of compounds 7-9.\n",
      "56411\n",
      "Topoisomerase I DNA relaxation activity was evaluated by Fluorescence assay using Ethidium Bromide after heat denaturation of pBR322 DNA at concentration 50 uM\n",
      "Title: Bisindolylmaleimides linked to DNA minor groove binding lexitropsins: synthesis, inhibitory activity against topoisomerase I, and biological evaluation.:: :: Abstract: The synthesis, characterization, inhibitory activity against topoisomerase I, and biological evaluation of a series of oligopeptide-substituted bisindolylmaleimides 7-12 are described. Compounds 7-9, which contain a basic C-terminus function such as (dimethylamino)propyl and bind to DNA with C(50) values of 200, 160, and 135 microM, respectively, exhibited inhibition of topoisomerase I in a concentration dependent manner. Also, the relative order of observed topoisomerase I inhibition is 9 > 8 > 7 at < or = 100 microM concentration, corresponding to the increase of the number of pyrrole units in the oligopeptide moiety. Compounds 10-12, which contain an electrostatically neutral moiety, such as methyl ester, did not bind to DNA templates nor inhibit topoisomerase I. However, the cytotoxicity activities of these compounds were 1.5 times greater than those of compounds 7-9.\n",
      "56412\n",
      "Topoisomerase I DNA relaxation activity was evaluated by Fluorescence assay using Ethidium Bromide after heat denaturation of pBR322 DNA at concentration 75 uM\n",
      "Title: Bisindolylmaleimides linked to DNA minor groove binding lexitropsins: synthesis, inhibitory activity against topoisomerase I, and biological evaluation.:: :: Abstract: The synthesis, characterization, inhibitory activity against topoisomerase I, and biological evaluation of a series of oligopeptide-substituted bisindolylmaleimides 7-12 are described. Compounds 7-9, which contain a basic C-terminus function such as (dimethylamino)propyl and bind to DNA with C(50) values of 200, 160, and 135 microM, respectively, exhibited inhibition of topoisomerase I in a concentration dependent manner. Also, the relative order of observed topoisomerase I inhibition is 9 > 8 > 7 at < or = 100 microM concentration, corresponding to the increase of the number of pyrrole units in the oligopeptide moiety. Compounds 10-12, which contain an electrostatically neutral moiety, such as methyl ester, did not bind to DNA templates nor inhibit topoisomerase I. However, the cytotoxicity activities of these compounds were 1.5 times greater than those of compounds 7-9.\n",
      "56413\n",
      "Topoisomerase I DNA relaxation activity was evaluated by Fluorescence assay using Ethidium Bromide before heat denaturation of pBR322 DNA at concentration 100 uM\n",
      "Title: Bisindolylmaleimides linked to DNA minor groove binding lexitropsins: synthesis, inhibitory activity against topoisomerase I, and biological evaluation.:: :: Abstract: The synthesis, characterization, inhibitory activity against topoisomerase I, and biological evaluation of a series of oligopeptide-substituted bisindolylmaleimides 7-12 are described. Compounds 7-9, which contain a basic C-terminus function such as (dimethylamino)propyl and bind to DNA with C(50) values of 200, 160, and 135 microM, respectively, exhibited inhibition of topoisomerase I in a concentration dependent manner. Also, the relative order of observed topoisomerase I inhibition is 9 > 8 > 7 at < or = 100 microM concentration, corresponding to the increase of the number of pyrrole units in the oligopeptide moiety. Compounds 10-12, which contain an electrostatically neutral moiety, such as methyl ester, did not bind to DNA templates nor inhibit topoisomerase I. However, the cytotoxicity activities of these compounds were 1.5 times greater than those of compounds 7-9.\n",
      "56414\n",
      "Topoisomerase I DNA relaxation activity was evaluated by Fluorescence assay using Ethidium Bromide before heat denaturation of pBR322 DNA at concentration 100 uM\n",
      "Title: Bisindolylmaleimides linked to DNA minor groove binding lexitropsins: synthesis, inhibitory activity against topoisomerase I, and biological evaluation.:: :: Abstract: The synthesis, characterization, inhibitory activity against topoisomerase I, and biological evaluation of a series of oligopeptide-substituted bisindolylmaleimides 7-12 are described. Compounds 7-9, which contain a basic C-terminus function such as (dimethylamino)propyl and bind to DNA with C(50) values of 200, 160, and 135 microM, respectively, exhibited inhibition of topoisomerase I in a concentration dependent manner. Also, the relative order of observed topoisomerase I inhibition is 9 > 8 > 7 at < or = 100 microM concentration, corresponding to the increase of the number of pyrrole units in the oligopeptide moiety. Compounds 10-12, which contain an electrostatically neutral moiety, such as methyl ester, did not bind to DNA templates nor inhibit topoisomerase I. However, the cytotoxicity activities of these compounds were 1.5 times greater than those of compounds 7-9.\n",
      "56415\n",
      "Topoisomerase I DNA relaxation activity was evaluated by Fluorescence assay using Ethidium Bromide before heat denaturation of pBR322 DNA at concentration 250 uM\n",
      "Title: Bisindolylmaleimides linked to DNA minor groove binding lexitropsins: synthesis, inhibitory activity against topoisomerase I, and biological evaluation.:: :: Abstract: The synthesis, characterization, inhibitory activity against topoisomerase I, and biological evaluation of a series of oligopeptide-substituted bisindolylmaleimides 7-12 are described. Compounds 7-9, which contain a basic C-terminus function such as (dimethylamino)propyl and bind to DNA with C(50) values of 200, 160, and 135 microM, respectively, exhibited inhibition of topoisomerase I in a concentration dependent manner. Also, the relative order of observed topoisomerase I inhibition is 9 > 8 > 7 at < or = 100 microM concentration, corresponding to the increase of the number of pyrrole units in the oligopeptide moiety. Compounds 10-12, which contain an electrostatically neutral moiety, such as methyl ester, did not bind to DNA templates nor inhibit topoisomerase I. However, the cytotoxicity activities of these compounds were 1.5 times greater than those of compounds 7-9.\n",
      "56416\n",
      "Topoisomerase I DNA relaxation activity was evaluated by Fluorescence assay using Ethidium Bromide before heat denaturation of pBR322 DNA at concentration 250 uM\n",
      "Title: Bisindolylmaleimides linked to DNA minor groove binding lexitropsins: synthesis, inhibitory activity against topoisomerase I, and biological evaluation.:: :: Abstract: The synthesis, characterization, inhibitory activity against topoisomerase I, and biological evaluation of a series of oligopeptide-substituted bisindolylmaleimides 7-12 are described. Compounds 7-9, which contain a basic C-terminus function such as (dimethylamino)propyl and bind to DNA with C(50) values of 200, 160, and 135 microM, respectively, exhibited inhibition of topoisomerase I in a concentration dependent manner. Also, the relative order of observed topoisomerase I inhibition is 9 > 8 > 7 at < or = 100 microM concentration, corresponding to the increase of the number of pyrrole units in the oligopeptide moiety. Compounds 10-12, which contain an electrostatically neutral moiety, such as methyl ester, did not bind to DNA templates nor inhibit topoisomerase I. However, the cytotoxicity activities of these compounds were 1.5 times greater than those of compounds 7-9.\n",
      "56417\n",
      "Topoisomerase I DNA relaxation activity was evaluated by Fluorescence assay using Ethidium Bromide before heat denaturation of pBR322 DNA at concentration 25 uM\n",
      "Title: Bisindolylmaleimides linked to DNA minor groove binding lexitropsins: synthesis, inhibitory activity against topoisomerase I, and biological evaluation.:: :: Abstract: The synthesis, characterization, inhibitory activity against topoisomerase I, and biological evaluation of a series of oligopeptide-substituted bisindolylmaleimides 7-12 are described. Compounds 7-9, which contain a basic C-terminus function such as (dimethylamino)propyl and bind to DNA with C(50) values of 200, 160, and 135 microM, respectively, exhibited inhibition of topoisomerase I in a concentration dependent manner. Also, the relative order of observed topoisomerase I inhibition is 9 > 8 > 7 at < or = 100 microM concentration, corresponding to the increase of the number of pyrrole units in the oligopeptide moiety. Compounds 10-12, which contain an electrostatically neutral moiety, such as methyl ester, did not bind to DNA templates nor inhibit topoisomerase I. However, the cytotoxicity activities of these compounds were 1.5 times greater than those of compounds 7-9.\n",
      "56418\n",
      "Topoisomerase I DNA relaxation activity was evaluated by Fluorescence assay using Ethidium Bromide before heat denaturation of pBR322 DNA at concentration 25 uM\n",
      "Title: Bisindolylmaleimides linked to DNA minor groove binding lexitropsins: synthesis, inhibitory activity against topoisomerase I, and biological evaluation.:: :: Abstract: The synthesis, characterization, inhibitory activity against topoisomerase I, and biological evaluation of a series of oligopeptide-substituted bisindolylmaleimides 7-12 are described. Compounds 7-9, which contain a basic C-terminus function such as (dimethylamino)propyl and bind to DNA with C(50) values of 200, 160, and 135 microM, respectively, exhibited inhibition of topoisomerase I in a concentration dependent manner. Also, the relative order of observed topoisomerase I inhibition is 9 > 8 > 7 at < or = 100 microM concentration, corresponding to the increase of the number of pyrrole units in the oligopeptide moiety. Compounds 10-12, which contain an electrostatically neutral moiety, such as methyl ester, did not bind to DNA templates nor inhibit topoisomerase I. However, the cytotoxicity activities of these compounds were 1.5 times greater than those of compounds 7-9.\n",
      "56419\n",
      "Topoisomerase I DNA relaxation activity was evaluated by Fluorescence assay using Ethidium Bromide before heat denaturation of pBR322 DNA at concentration 50 uM\n",
      "Title: Bisindolylmaleimides linked to DNA minor groove binding lexitropsins: synthesis, inhibitory activity against topoisomerase I, and biological evaluation.:: :: Abstract: The synthesis, characterization, inhibitory activity against topoisomerase I, and biological evaluation of a series of oligopeptide-substituted bisindolylmaleimides 7-12 are described. Compounds 7-9, which contain a basic C-terminus function such as (dimethylamino)propyl and bind to DNA with C(50) values of 200, 160, and 135 microM, respectively, exhibited inhibition of topoisomerase I in a concentration dependent manner. Also, the relative order of observed topoisomerase I inhibition is 9 > 8 > 7 at < or = 100 microM concentration, corresponding to the increase of the number of pyrrole units in the oligopeptide moiety. Compounds 10-12, which contain an electrostatically neutral moiety, such as methyl ester, did not bind to DNA templates nor inhibit topoisomerase I. However, the cytotoxicity activities of these compounds were 1.5 times greater than those of compounds 7-9.\n",
      "56420\n",
      "Topoisomerase I DNA relaxation activity was evaluated by Fluorescence assay using Ethidium Bromide before heat denaturation of pBR322 DNA at concentration 50 uM\n",
      "Title: Bisindolylmaleimides linked to DNA minor groove binding lexitropsins: synthesis, inhibitory activity against topoisomerase I, and biological evaluation.:: :: Abstract: The synthesis, characterization, inhibitory activity against topoisomerase I, and biological evaluation of a series of oligopeptide-substituted bisindolylmaleimides 7-12 are described. Compounds 7-9, which contain a basic C-terminus function such as (dimethylamino)propyl and bind to DNA with C(50) values of 200, 160, and 135 microM, respectively, exhibited inhibition of topoisomerase I in a concentration dependent manner. Also, the relative order of observed topoisomerase I inhibition is 9 > 8 > 7 at < or = 100 microM concentration, corresponding to the increase of the number of pyrrole units in the oligopeptide moiety. Compounds 10-12, which contain an electrostatically neutral moiety, such as methyl ester, did not bind to DNA templates nor inhibit topoisomerase I. However, the cytotoxicity activities of these compounds were 1.5 times greater than those of compounds 7-9.\n",
      "56541\n",
      "Topoisomerase I DNA relaxation activity was evaluated by Fluorescence assay using Ethidium Bromide before heat denaturation of pBR322 DNA at concentration 75 uM\n",
      "Title: Bisindolylmaleimides linked to DNA minor groove binding lexitropsins: synthesis, inhibitory activity against topoisomerase I, and biological evaluation.:: :: Abstract: The synthesis, characterization, inhibitory activity against topoisomerase I, and biological evaluation of a series of oligopeptide-substituted bisindolylmaleimides 7-12 are described. Compounds 7-9, which contain a basic C-terminus function such as (dimethylamino)propyl and bind to DNA with C(50) values of 200, 160, and 135 microM, respectively, exhibited inhibition of topoisomerase I in a concentration dependent manner. Also, the relative order of observed topoisomerase I inhibition is 9 > 8 > 7 at < or = 100 microM concentration, corresponding to the increase of the number of pyrrole units in the oligopeptide moiety. Compounds 10-12, which contain an electrostatically neutral moiety, such as methyl ester, did not bind to DNA templates nor inhibit topoisomerase I. However, the cytotoxicity activities of these compounds were 1.5 times greater than those of compounds 7-9.\n",
      "56542\n",
      "Topoisomerase I in the absence of DNA was evaluated by Fluorescence assay using Ethidium Bromide after heat denaturation of pBR322 DNA at concentration 100 uM\n",
      "Title: Bisindolylmaleimides linked to DNA minor groove binding lexitropsins: synthesis, inhibitory activity against topoisomerase I, and biological evaluation.:: :: Abstract: The synthesis, characterization, inhibitory activity against topoisomerase I, and biological evaluation of a series of oligopeptide-substituted bisindolylmaleimides 7-12 are described. Compounds 7-9, which contain a basic C-terminus function such as (dimethylamino)propyl and bind to DNA with C(50) values of 200, 160, and 135 microM, respectively, exhibited inhibition of topoisomerase I in a concentration dependent manner. Also, the relative order of observed topoisomerase I inhibition is 9 > 8 > 7 at < or = 100 microM concentration, corresponding to the increase of the number of pyrrole units in the oligopeptide moiety. Compounds 10-12, which contain an electrostatically neutral moiety, such as methyl ester, did not bind to DNA templates nor inhibit topoisomerase I. However, the cytotoxicity activities of these compounds were 1.5 times greater than those of compounds 7-9.\n",
      "56543\n",
      "Topoisomerase I in the absence of DNA was evaluated by Fluorescence assay using Ethidium Bromide after heat denaturation of pBR322 DNA at concentration 100 uM\n",
      "Title: Bisindolylmaleimides linked to DNA minor groove binding lexitropsins: synthesis, inhibitory activity against topoisomerase I, and biological evaluation.:: :: Abstract: The synthesis, characterization, inhibitory activity against topoisomerase I, and biological evaluation of a series of oligopeptide-substituted bisindolylmaleimides 7-12 are described. Compounds 7-9, which contain a basic C-terminus function such as (dimethylamino)propyl and bind to DNA with C(50) values of 200, 160, and 135 microM, respectively, exhibited inhibition of topoisomerase I in a concentration dependent manner. Also, the relative order of observed topoisomerase I inhibition is 9 > 8 > 7 at < or = 100 microM concentration, corresponding to the increase of the number of pyrrole units in the oligopeptide moiety. Compounds 10-12, which contain an electrostatically neutral moiety, such as methyl ester, did not bind to DNA templates nor inhibit topoisomerase I. However, the cytotoxicity activities of these compounds were 1.5 times greater than those of compounds 7-9.\n",
      "56544\n",
      "Topoisomerase I in the absence of DNA was evaluated by Fluorescence assay using Ethidium Bromide after heat denaturation of pBR322 DNA at concentration 250 uM\n",
      "Title: Bisindolylmaleimides linked to DNA minor groove binding lexitropsins: synthesis, inhibitory activity against topoisomerase I, and biological evaluation.:: :: Abstract: The synthesis, characterization, inhibitory activity against topoisomerase I, and biological evaluation of a series of oligopeptide-substituted bisindolylmaleimides 7-12 are described. Compounds 7-9, which contain a basic C-terminus function such as (dimethylamino)propyl and bind to DNA with C(50) values of 200, 160, and 135 microM, respectively, exhibited inhibition of topoisomerase I in a concentration dependent manner. Also, the relative order of observed topoisomerase I inhibition is 9 > 8 > 7 at < or = 100 microM concentration, corresponding to the increase of the number of pyrrole units in the oligopeptide moiety. Compounds 10-12, which contain an electrostatically neutral moiety, such as methyl ester, did not bind to DNA templates nor inhibit topoisomerase I. However, the cytotoxicity activities of these compounds were 1.5 times greater than those of compounds 7-9.\n",
      "56545\n",
      "Topoisomerase I in the absence of DNA was evaluated by Fluorescence assay using Ethidium Bromide after heat denaturation of pBR322 DNA at concentration 250 uM\n",
      "Title: Bisindolylmaleimides linked to DNA minor groove binding lexitropsins: synthesis, inhibitory activity against topoisomerase I, and biological evaluation.:: :: Abstract: The synthesis, characterization, inhibitory activity against topoisomerase I, and biological evaluation of a series of oligopeptide-substituted bisindolylmaleimides 7-12 are described. Compounds 7-9, which contain a basic C-terminus function such as (dimethylamino)propyl and bind to DNA with C(50) values of 200, 160, and 135 microM, respectively, exhibited inhibition of topoisomerase I in a concentration dependent manner. Also, the relative order of observed topoisomerase I inhibition is 9 > 8 > 7 at < or = 100 microM concentration, corresponding to the increase of the number of pyrrole units in the oligopeptide moiety. Compounds 10-12, which contain an electrostatically neutral moiety, such as methyl ester, did not bind to DNA templates nor inhibit topoisomerase I. However, the cytotoxicity activities of these compounds were 1.5 times greater than those of compounds 7-9.\n",
      "56546\n",
      "Topoisomerase I in the absence of DNA was evaluated by Fluorescence assay using Ethidium Bromide after heat denaturation of pBR322 DNA at concentration 25 uM\n",
      "Title: Bisindolylmaleimides linked to DNA minor groove binding lexitropsins: synthesis, inhibitory activity against topoisomerase I, and biological evaluation.:: :: Abstract: The synthesis, characterization, inhibitory activity against topoisomerase I, and biological evaluation of a series of oligopeptide-substituted bisindolylmaleimides 7-12 are described. Compounds 7-9, which contain a basic C-terminus function such as (dimethylamino)propyl and bind to DNA with C(50) values of 200, 160, and 135 microM, respectively, exhibited inhibition of topoisomerase I in a concentration dependent manner. Also, the relative order of observed topoisomerase I inhibition is 9 > 8 > 7 at < or = 100 microM concentration, corresponding to the increase of the number of pyrrole units in the oligopeptide moiety. Compounds 10-12, which contain an electrostatically neutral moiety, such as methyl ester, did not bind to DNA templates nor inhibit topoisomerase I. However, the cytotoxicity activities of these compounds were 1.5 times greater than those of compounds 7-9.\n",
      "56547\n",
      "Topoisomerase I in the absence of DNA was evaluated by Fluorescence assay using Ethidium Bromide after heat denaturation of pBR322 DNA at concentration 25 uM\n",
      "Title: Bisindolylmaleimides linked to DNA minor groove binding lexitropsins: synthesis, inhibitory activity against topoisomerase I, and biological evaluation.:: :: Abstract: The synthesis, characterization, inhibitory activity against topoisomerase I, and biological evaluation of a series of oligopeptide-substituted bisindolylmaleimides 7-12 are described. Compounds 7-9, which contain a basic C-terminus function such as (dimethylamino)propyl and bind to DNA with C(50) values of 200, 160, and 135 microM, respectively, exhibited inhibition of topoisomerase I in a concentration dependent manner. Also, the relative order of observed topoisomerase I inhibition is 9 > 8 > 7 at < or = 100 microM concentration, corresponding to the increase of the number of pyrrole units in the oligopeptide moiety. Compounds 10-12, which contain an electrostatically neutral moiety, such as methyl ester, did not bind to DNA templates nor inhibit topoisomerase I. However, the cytotoxicity activities of these compounds were 1.5 times greater than those of compounds 7-9.\n",
      "56548\n",
      "Topoisomerase I in the absence of DNA was evaluated by Fluorescence assay using Ethidium Bromide after heat denaturation of pBR322 DNA at concentration 50 uM\n",
      "Title: Bisindolylmaleimides linked to DNA minor groove binding lexitropsins: synthesis, inhibitory activity against topoisomerase I, and biological evaluation.:: :: Abstract: The synthesis, characterization, inhibitory activity against topoisomerase I, and biological evaluation of a series of oligopeptide-substituted bisindolylmaleimides 7-12 are described. Compounds 7-9, which contain a basic C-terminus function such as (dimethylamino)propyl and bind to DNA with C(50) values of 200, 160, and 135 microM, respectively, exhibited inhibition of topoisomerase I in a concentration dependent manner. Also, the relative order of observed topoisomerase I inhibition is 9 > 8 > 7 at < or = 100 microM concentration, corresponding to the increase of the number of pyrrole units in the oligopeptide moiety. Compounds 10-12, which contain an electrostatically neutral moiety, such as methyl ester, did not bind to DNA templates nor inhibit topoisomerase I. However, the cytotoxicity activities of these compounds were 1.5 times greater than those of compounds 7-9.\n",
      "56549\n",
      "Topoisomerase I in the absence of DNA was evaluated by Fluorescence assay using Ethidium Bromide after heat denaturation of pBR322 DNA at concentration 50 uM\n",
      "Title: Bisindolylmaleimides linked to DNA minor groove binding lexitropsins: synthesis, inhibitory activity against topoisomerase I, and biological evaluation.:: :: Abstract: The synthesis, characterization, inhibitory activity against topoisomerase I, and biological evaluation of a series of oligopeptide-substituted bisindolylmaleimides 7-12 are described. Compounds 7-9, which contain a basic C-terminus function such as (dimethylamino)propyl and bind to DNA with C(50) values of 200, 160, and 135 microM, respectively, exhibited inhibition of topoisomerase I in a concentration dependent manner. Also, the relative order of observed topoisomerase I inhibition is 9 > 8 > 7 at < or = 100 microM concentration, corresponding to the increase of the number of pyrrole units in the oligopeptide moiety. Compounds 10-12, which contain an electrostatically neutral moiety, such as methyl ester, did not bind to DNA templates nor inhibit topoisomerase I. However, the cytotoxicity activities of these compounds were 1.5 times greater than those of compounds 7-9.\n",
      "56550\n",
      "Topoisomerase I in the absence of DNA was evaluated by Fluorescence assay using Ethidium Bromide before heat denaturation of pBR322 DNA at concentration 100 uM\n",
      "Title: Bisindolylmaleimides linked to DNA minor groove binding lexitropsins: synthesis, inhibitory activity against topoisomerase I, and biological evaluation.:: :: Abstract: The synthesis, characterization, inhibitory activity against topoisomerase I, and biological evaluation of a series of oligopeptide-substituted bisindolylmaleimides 7-12 are described. Compounds 7-9, which contain a basic C-terminus function such as (dimethylamino)propyl and bind to DNA with C(50) values of 200, 160, and 135 microM, respectively, exhibited inhibition of topoisomerase I in a concentration dependent manner. Also, the relative order of observed topoisomerase I inhibition is 9 > 8 > 7 at < or = 100 microM concentration, corresponding to the increase of the number of pyrrole units in the oligopeptide moiety. Compounds 10-12, which contain an electrostatically neutral moiety, such as methyl ester, did not bind to DNA templates nor inhibit topoisomerase I. However, the cytotoxicity activities of these compounds were 1.5 times greater than those of compounds 7-9.\n",
      "56551\n",
      "Topoisomerase I in the absence of DNA was evaluated by Fluorescence assay using Ethidium Bromide before heat denaturation of pBR322 DNA at concentration 100 uM\n",
      "Title: Bisindolylmaleimides linked to DNA minor groove binding lexitropsins: synthesis, inhibitory activity against topoisomerase I, and biological evaluation.:: :: Abstract: The synthesis, characterization, inhibitory activity against topoisomerase I, and biological evaluation of a series of oligopeptide-substituted bisindolylmaleimides 7-12 are described. Compounds 7-9, which contain a basic C-terminus function such as (dimethylamino)propyl and bind to DNA with C(50) values of 200, 160, and 135 microM, respectively, exhibited inhibition of topoisomerase I in a concentration dependent manner. Also, the relative order of observed topoisomerase I inhibition is 9 > 8 > 7 at < or = 100 microM concentration, corresponding to the increase of the number of pyrrole units in the oligopeptide moiety. Compounds 10-12, which contain an electrostatically neutral moiety, such as methyl ester, did not bind to DNA templates nor inhibit topoisomerase I. However, the cytotoxicity activities of these compounds were 1.5 times greater than those of compounds 7-9.\n",
      "56552\n",
      "Topoisomerase I in the absence of DNA was evaluated by Fluorescence assay using Ethidium Bromide before heat denaturation of pBR322 DNA at concentration 250 uM\n",
      "Title: Bisindolylmaleimides linked to DNA minor groove binding lexitropsins: synthesis, inhibitory activity against topoisomerase I, and biological evaluation.:: :: Abstract: The synthesis, characterization, inhibitory activity against topoisomerase I, and biological evaluation of a series of oligopeptide-substituted bisindolylmaleimides 7-12 are described. Compounds 7-9, which contain a basic C-terminus function such as (dimethylamino)propyl and bind to DNA with C(50) values of 200, 160, and 135 microM, respectively, exhibited inhibition of topoisomerase I in a concentration dependent manner. Also, the relative order of observed topoisomerase I inhibition is 9 > 8 > 7 at < or = 100 microM concentration, corresponding to the increase of the number of pyrrole units in the oligopeptide moiety. Compounds 10-12, which contain an electrostatically neutral moiety, such as methyl ester, did not bind to DNA templates nor inhibit topoisomerase I. However, the cytotoxicity activities of these compounds were 1.5 times greater than those of compounds 7-9.\n",
      "56553\n",
      "Topoisomerase I in the absence of DNA was evaluated by Fluorescence assay using Ethidium Bromide before heat denaturation of pBR322 DNA at concentration 250 uM\n",
      "Title: Bisindolylmaleimides linked to DNA minor groove binding lexitropsins: synthesis, inhibitory activity against topoisomerase I, and biological evaluation.:: :: Abstract: The synthesis, characterization, inhibitory activity against topoisomerase I, and biological evaluation of a series of oligopeptide-substituted bisindolylmaleimides 7-12 are described. Compounds 7-9, which contain a basic C-terminus function such as (dimethylamino)propyl and bind to DNA with C(50) values of 200, 160, and 135 microM, respectively, exhibited inhibition of topoisomerase I in a concentration dependent manner. Also, the relative order of observed topoisomerase I inhibition is 9 > 8 > 7 at < or = 100 microM concentration, corresponding to the increase of the number of pyrrole units in the oligopeptide moiety. Compounds 10-12, which contain an electrostatically neutral moiety, such as methyl ester, did not bind to DNA templates nor inhibit topoisomerase I. However, the cytotoxicity activities of these compounds were 1.5 times greater than those of compounds 7-9.\n",
      "56554\n",
      "Topoisomerase I in the absence of DNA was evaluated by Fluorescence assay using Ethidium Bromide before heat denaturation of pBR322 DNA at concentration 25 uM\n",
      "Title: Bisindolylmaleimides linked to DNA minor groove binding lexitropsins: synthesis, inhibitory activity against topoisomerase I, and biological evaluation.:: :: Abstract: The synthesis, characterization, inhibitory activity against topoisomerase I, and biological evaluation of a series of oligopeptide-substituted bisindolylmaleimides 7-12 are described. Compounds 7-9, which contain a basic C-terminus function such as (dimethylamino)propyl and bind to DNA with C(50) values of 200, 160, and 135 microM, respectively, exhibited inhibition of topoisomerase I in a concentration dependent manner. Also, the relative order of observed topoisomerase I inhibition is 9 > 8 > 7 at < or = 100 microM concentration, corresponding to the increase of the number of pyrrole units in the oligopeptide moiety. Compounds 10-12, which contain an electrostatically neutral moiety, such as methyl ester, did not bind to DNA templates nor inhibit topoisomerase I. However, the cytotoxicity activities of these compounds were 1.5 times greater than those of compounds 7-9.\n",
      "56555\n",
      "Topoisomerase I in the absence of DNA was evaluated by Fluorescence assay using Ethidium Bromide before heat denaturation of pBR322 DNA at concentration 25 uM\n",
      "Title: Bisindolylmaleimides linked to DNA minor groove binding lexitropsins: synthesis, inhibitory activity against topoisomerase I, and biological evaluation.:: :: Abstract: The synthesis, characterization, inhibitory activity against topoisomerase I, and biological evaluation of a series of oligopeptide-substituted bisindolylmaleimides 7-12 are described. Compounds 7-9, which contain a basic C-terminus function such as (dimethylamino)propyl and bind to DNA with C(50) values of 200, 160, and 135 microM, respectively, exhibited inhibition of topoisomerase I in a concentration dependent manner. Also, the relative order of observed topoisomerase I inhibition is 9 > 8 > 7 at < or = 100 microM concentration, corresponding to the increase of the number of pyrrole units in the oligopeptide moiety. Compounds 10-12, which contain an electrostatically neutral moiety, such as methyl ester, did not bind to DNA templates nor inhibit topoisomerase I. However, the cytotoxicity activities of these compounds were 1.5 times greater than those of compounds 7-9.\n",
      "56556\n",
      "Topoisomerase I in the absence of DNA was evaluated by Fluorescence assay using Ethidium Bromide before heat denaturation of pBR322 DNA at concentration 50 uM\n",
      "Title: Bisindolylmaleimides linked to DNA minor groove binding lexitropsins: synthesis, inhibitory activity against topoisomerase I, and biological evaluation.:: :: Abstract: The synthesis, characterization, inhibitory activity against topoisomerase I, and biological evaluation of a series of oligopeptide-substituted bisindolylmaleimides 7-12 are described. Compounds 7-9, which contain a basic C-terminus function such as (dimethylamino)propyl and bind to DNA with C(50) values of 200, 160, and 135 microM, respectively, exhibited inhibition of topoisomerase I in a concentration dependent manner. Also, the relative order of observed topoisomerase I inhibition is 9 > 8 > 7 at < or = 100 microM concentration, corresponding to the increase of the number of pyrrole units in the oligopeptide moiety. Compounds 10-12, which contain an electrostatically neutral moiety, such as methyl ester, did not bind to DNA templates nor inhibit topoisomerase I. However, the cytotoxicity activities of these compounds were 1.5 times greater than those of compounds 7-9.\n",
      "56557\n",
      "Topoisomerase I in the absence of DNA was evaluated by Fluorescence assay using Ethidium Bromide before heat denaturation of pBR322 DNA at concentration 50 uM\n",
      "Title: Bisindolylmaleimides linked to DNA minor groove binding lexitropsins: synthesis, inhibitory activity against topoisomerase I, and biological evaluation.:: :: Abstract: The synthesis, characterization, inhibitory activity against topoisomerase I, and biological evaluation of a series of oligopeptide-substituted bisindolylmaleimides 7-12 are described. Compounds 7-9, which contain a basic C-terminus function such as (dimethylamino)propyl and bind to DNA with C(50) values of 200, 160, and 135 microM, respectively, exhibited inhibition of topoisomerase I in a concentration dependent manner. Also, the relative order of observed topoisomerase I inhibition is 9 > 8 > 7 at < or = 100 microM concentration, corresponding to the increase of the number of pyrrole units in the oligopeptide moiety. Compounds 10-12, which contain an electrostatically neutral moiety, such as methyl ester, did not bind to DNA templates nor inhibit topoisomerase I. However, the cytotoxicity activities of these compounds were 1.5 times greater than those of compounds 7-9.\n",
      "56558\n",
      "Antibacterial activity against Escherichia coli DNA topoisomerase I\n",
      "Title: seco-Cyclothialidines: new concise synthesis, inhibitory activity toward bacterial and human DNA topoisomerases, and antibacterial properties.:: :: Abstract: seco-Cyclothialidines are a promising class of bacterial DNA gyrase B subunit inhibitors. A new seco-cyclothialidine derivative containing a dioxazine moiety, BAY 50-7952, was synthesized through a new concise pathway. One key step of the synthesis is the straightforward formation of the 2-aminothiazole derivative of S-tritylcysteine. In biological tests, BAY 50-7952 and other known seco-cyclothialidines exhibited high and selective activity toward bacterial DNA gyrase and toward Gram-positive bacteria. The dioxazine moiety and other similar groups were found to be important for the ability of the seco-cyclothialidines to penetrate bacterial membranes. The opposite enantiomer ((S)-form) of BAY 50-7952 was also synthesized, and neither significant target activity nor in vitro antibacterial activity were found, suggesting a highly selective fit of the (R)-form. Despite promising in vitro activity, only poor activity was found in the murine infection model.\n",
      "56559\n",
      "Inhibition against DNA topoisomerase I by direct assay with activated DNA and 25 uM dNTPs including [3H]dTTP\n",
      "Title: Inhibition of herpes simplex virus type 1 helicase-primase by (dichloroanilino)purines and -pyrimidines.:: :: Abstract: Herpes simplex virus type 1 (HSV1) encodes a heterotrimeric helicase-primase comprised of the products of three of the seven DNA replication-specific genes. Several dihalo-substituted derivatives of N2-phenylguanines and 2-anilinoadenines weakly inhibited the intrinsic DNA-dependent NTPase activity of the HSV1 helicase-primase, and these compounds inhibited the DNA-unwinding activity of the enzyme. The primase activity of the enzyme was strongly inhibited by 3,4- and 3,5-dichloroanilino derivatives of adenine and 2-aminopyrimidines. These compounds and nucleoside analogs of 2-(3,5-dichloroanilino)purines inhibited viral DNA synthesis in HSV1-infected HeLa cells in culture but also inhibited cellular DNA synthesis, likely as a result of inhibition of cellular primase and/or DNA polymerases.\n",
      "56560\n",
      "Inhibition against DNA topoisomerase I by direct assay with activated DNA and 25 uM dNTPs including [3H]dTTP\n",
      "Title: Inhibition of herpes simplex virus type 1 helicase-primase by (dichloroanilino)purines and -pyrimidines.:: :: Abstract: Herpes simplex virus type 1 (HSV1) encodes a heterotrimeric helicase-primase comprised of the products of three of the seven DNA replication-specific genes. Several dihalo-substituted derivatives of N2-phenylguanines and 2-anilinoadenines weakly inhibited the intrinsic DNA-dependent NTPase activity of the HSV1 helicase-primase, and these compounds inhibited the DNA-unwinding activity of the enzyme. The primase activity of the enzyme was strongly inhibited by 3,4- and 3,5-dichloroanilino derivatives of adenine and 2-aminopyrimidines. These compounds and nucleoside analogs of 2-(3,5-dichloroanilino)purines inhibited viral DNA synthesis in HSV1-infected HeLa cells in culture but also inhibited cellular DNA synthesis, likely as a result of inhibition of cellular primase and/or DNA polymerases.\n",
      "56561\n",
      "Inhibitory activity against DNA topoisomerase I\n",
      "Title: Quantized surface complementarity diversity (QSCD): a model based on small molecule-target complementarity.:: :: Abstract: A model of molecular diversity is presented. The model, termed \"Quantized Surface Complementarity Diversity\" (QSCD), defines molecular diversity by measuring molecular complementarity to a fully enumerated set of theoretical target surfaces. Molecular diversity space is defined as the molecular complement to this set of enumerated surfaces. Using a set of known test compounds, the model is shown to be biologically relevant, consistently scoring known actives as similar. At the resolution of the model, which examines molecules \"quantized\" into 4.24 A cubic units and treats four points of specific energetic complementarity, the minimum number of compounds needed to fully cover molecular diversity space up to volume 1070 cubic A is estimated to be on the order of 24 million molecules. Most importantly, QSCD allows for individual points in diversity space to be filled by direct modeling of molecular libraries into detailed 3D templates of shape and functionality.\n",
      "56562\n",
      "Cytotoxicity against DNA topoisomerase I purified from calf thymus\n",
      "Title: Synthesis of water-soluble (aminoalkyl)camptothecin analogues: inhibition of topoisomerase I and antitumor activity.:: :: Abstract: Water-soluble analogues of the antitumor alkaloid camptothecin (1) were prepared in which aminoalkyl groups were introduced into ring A or B. Most of the analogues were prepared by oxidation of camptothecin to 10-hydroxycamptothecin (2) followed by a Mannich reaction to give N-substituted 9-(aminomethyl)-10-hydroxycamptothecins (4-12) or by subsequent modification of Mannich product 4 (13, 15, 17, 19, 21). Others were obtained by modification of the hydroxyl group of 2 (25,26) or by total synthesis (35,42,43). These analogues, as well as some of their synthetic precursors, were evaluated for inhibition of topoisomerase I, cytotoxicity, and antitumor activity. Although there was not a quantitative correlation between these assays, compounds that inhibited topoisomerase I were also cytotoxic and demonstrated antitumor activity in vivo. Further evaluation of the most active water-soluble analogue led to the selection of 9-[(dimethylamino)methyl]-10-hydroxycamptothecin (4, SK&F 104864) for development as an antitumor agent. In addition to its water solubility, ease of synthesis from natural camptothecin, and high potency, 4 demonstrated broad-spectrum activity in preclinical tumor models and is currently undergoing Phase I clinical trials in cancer patients.\n",
      "56563\n",
      "Concentration that produces 50% DNA cleavage mediated by DNA topoisomerase I\n",
      "Title: Modification of the hydroxy lactone ring of camptothecin: inhibition of mammalian topoisomerase I and biological activity.:: :: Abstract: Several camptothecin derivatives containing a modified hydroxy lactone ring have been synthesized and evaluated for inhibition of topoisomerase I and cytotoxicity to mammalian cells. Each of the groups of the hydroxy lactone moiety, the carbonyl oxygen, the ring lactone oxygen, and the 20-hydroxy group, were shown to be critical for enzyme inhibition. For example the lactol, lactam, thiolactone, and 20-deoxy derivatives did not stabilize the covalent DNA-topoisomerase I complex. With a few exceptions, those compounds that did not inhibit topoisomerase I were not cytotoxic to mammalian cells. Two cytotoxic derivatives that did not inhibit topoisomerase I were shown to produce non-protein-associated DNA single-strand breaks and are likely to have a different mechanism of action. One of these compounds was tested for antitumor activity and was found to be inactive. The present findings, as well as other reports that the hydroxy lactone ring of camptothecin is critical for antitumor activity in vivo, correlate with the structure-activity relationships at the level of topoisomerase I and support the hypothesis that antitumor activity is related to inhibition of this target enzyme.\n",
      "56564\n",
      "Concentration that produces 50% DNA cleavage mediated by DNA topoisomerase I; neg= negative is no enzyme mediated DNA cleavage at the highest conc tested at 50 uM\n",
      "Title: Modification of the hydroxy lactone ring of camptothecin: inhibition of mammalian topoisomerase I and biological activity.:: :: Abstract: Several camptothecin derivatives containing a modified hydroxy lactone ring have been synthesized and evaluated for inhibition of topoisomerase I and cytotoxicity to mammalian cells. Each of the groups of the hydroxy lactone moiety, the carbonyl oxygen, the ring lactone oxygen, and the 20-hydroxy group, were shown to be critical for enzyme inhibition. For example the lactol, lactam, thiolactone, and 20-deoxy derivatives did not stabilize the covalent DNA-topoisomerase I complex. With a few exceptions, those compounds that did not inhibit topoisomerase I were not cytotoxic to mammalian cells. Two cytotoxic derivatives that did not inhibit topoisomerase I were shown to produce non-protein-associated DNA single-strand breaks and are likely to have a different mechanism of action. One of these compounds was tested for antitumor activity and was found to be inactive. The present findings, as well as other reports that the hydroxy lactone ring of camptothecin is critical for antitumor activity in vivo, correlate with the structure-activity relationships at the level of topoisomerase I and support the hypothesis that antitumor activity is related to inhibition of this target enzyme.\n",
      "56565\n",
      "Antibacterial activity against calf thymus Topo I.\n",
      "Title: seco-Cyclothialidines: new concise synthesis, inhibitory activity toward bacterial and human DNA topoisomerases, and antibacterial properties.:: :: Abstract: seco-Cyclothialidines are a promising class of bacterial DNA gyrase B subunit inhibitors. A new seco-cyclothialidine derivative containing a dioxazine moiety, BAY 50-7952, was synthesized through a new concise pathway. One key step of the synthesis is the straightforward formation of the 2-aminothiazole derivative of S-tritylcysteine. In biological tests, BAY 50-7952 and other known seco-cyclothialidines exhibited high and selective activity toward bacterial DNA gyrase and toward Gram-positive bacteria. The dioxazine moiety and other similar groups were found to be important for the ability of the seco-cyclothialidines to penetrate bacterial membranes. The opposite enantiomer ((S)-form) of BAY 50-7952 was also synthesized, and neither significant target activity nor in vitro antibacterial activity were found, suggesting a highly selective fit of the (R)-form. Despite promising in vitro activity, only poor activity was found in the murine infection model.\n",
      "56566\n",
      "Average concentration of compound to cause 50% inhibition of topoisomerase-1\n",
      "Title: Water soluble inhibitors of topoisomerase I: quaternary salt derivatives of camptothecin.:: :: Abstract: Eleven water soluble 7-substituted quaternary ammonium salt derivatives of 10,11-(methylenedioxy)- and 10,11-(ethylenedioxy)-(20S)-camptothecin were synthesized via the Friedlander reaction followed by nucleophilic displacement with an aromatic amine. All of these compounds were more potent than camptothecin in the in vitro cleavable complex assay. These inherently charged camptothecin derivatives were cytotoxic against three different human tumor cell lines (SKOV3, an ovarian adenocarcinoma; SKVLB a multidrug resistant ovarian adenocarcinoma; and HT-29, a colon carcinoma). A selected group of five compounds was evaluated in the nude mouse HT-29 xenograft model. Two of these quaternary salts (17 and 18) were more efficacious than Topotecan in delaying tumor growth. In an extended in vivo model, 18 demonstrated tumor regression.\n",
      "56567\n",
      "Average concentration of compound to cause 50% inhibition of topoisomerase-1 isolated from calf thymus\n",
      "Title: Water soluble inhibitors of topoisomerase I: quaternary salt derivatives of camptothecin.:: :: Abstract: Eleven water soluble 7-substituted quaternary ammonium salt derivatives of 10,11-(methylenedioxy)- and 10,11-(ethylenedioxy)-(20S)-camptothecin were synthesized via the Friedlander reaction followed by nucleophilic displacement with an aromatic amine. All of these compounds were more potent than camptothecin in the in vitro cleavable complex assay. These inherently charged camptothecin derivatives were cytotoxic against three different human tumor cell lines (SKOV3, an ovarian adenocarcinoma; SKVLB a multidrug resistant ovarian adenocarcinoma; and HT-29, a colon carcinoma). A selected group of five compounds was evaluated in the nude mouse HT-29 xenograft model. Two of these quaternary salts (17 and 18) were more efficacious than Topotecan in delaying tumor growth. In an extended in vivo model, 18 demonstrated tumor regression.\n",
      "56568\n",
      "Compound was evaluated for the inhibition of DNA topoisomerase I of calf thymus; Not determined\n",
      "Title: Naphthazarin derivatives (II): formation of glutathione conjugate, inhibition of DNA topoisomerase-I and cytotoxicity.:: :: Abstract: 6-(1-Hydroxyalkyl)-5,8-dimethoxy-1,4-naphthoquinones, expressing a higher reactivity in conjugation with glutathione, showed a greater potency in the inhibition of DNA topoisomerase-I and the cytotoxicity against L1210 cells than 2-(1-hydroxyalkyl)-DMNQ derivatives, implying the participation of electrophilic arylation in the bioactivities. In further study 6-(1-Hydroxyalkyl)-5,8-dimethoxy-1,4-naphthoquinones with an alkyl group of shorter chain length (C2-C6) exerted a greater bioactivities than those with longer chain length(>C6).\n",
      "56569\n",
      "Compound was evaluated for the inhibition of DNA topoisomerase-1 of calf thymus\n",
      "Title: Naphthazarin derivatives (II): formation of glutathione conjugate, inhibition of DNA topoisomerase-I and cytotoxicity.:: :: Abstract: 6-(1-Hydroxyalkyl)-5,8-dimethoxy-1,4-naphthoquinones, expressing a higher reactivity in conjugation with glutathione, showed a greater potency in the inhibition of DNA topoisomerase-I and the cytotoxicity against L1210 cells than 2-(1-hydroxyalkyl)-DMNQ derivatives, implying the participation of electrophilic arylation in the bioactivities. In further study 6-(1-Hydroxyalkyl)-5,8-dimethoxy-1,4-naphthoquinones with an alkyl group of shorter chain length (C2-C6) exerted a greater bioactivities than those with longer chain length(>C6).\n"
     ]
    }
   ],
   "source": [
    "#Thomas Passaro working on my own request using the URL From John Marinelli.\n",
    "\n",
    "from os import X_OK\n",
    "\n",
    "\n",
    "\n",
    "#List made to hold all the Assay Descriptions\n",
    "Assay_Descriptions_List = []\n",
    "\n",
    "#Counter used to break out for test purposes\n",
    "Count = 0\n",
    "\n",
    "#A for loop used to cycle through the Assay ID numbers.\n",
    "for i in aids:\n",
    "\n",
    "  #this prints the Assay ID number before the name of the Assay. I find this gives more information for the user.\n",
    "  print(str(i))\n",
    "\n",
    "  #count to stop after a certain number of Assays (For test purposes)\n",
    "  #Count = Count +1\n",
    "  #if Count > 2:\n",
    "    #break\n",
    "  #this is the calling of the request from the URL and it includes the cycling of Assay ID numbers.\n",
    "  description_requests = requests.get('https://pubchem.ncbi.nlm.nih.gov/rest/pug/assay/aid/'+ str(i) +'/description/JSON')\n",
    "  URL_Dict = description_requests.json()\n",
    "\n",
    "  #Assay_Names is URL_Dict after it went through a few indexs\n",
    "  Assay_Names = URL_Dict['PC_AssayContainer'][0]['assay']['descr']['name']\n",
    "  print(Assay_Names)\n",
    "\n",
    "  #Assay_Descriptions is the URL_Dict after it went through a few indexs to get the decriptions of each Assay\n",
    "  Assay_Descriptions = URL_Dict['PC_AssayContainer'][0]['assay']['descr']['description']\n",
    "\n",
    "  #Makes the descriptions all one string instead of multiple\n",
    "  Assay_Descriptions_Joined = ':: '.join(Assay_Descriptions)\n",
    "  print(Assay_Descriptions_Joined)\n",
    "\n",
    "  #making the string only key words for the clusters\n",
    "  sentence = Sentence(Assay_Descriptions_Joined)\n",
    "  tagger.predict(sentence)\n",
    "\n",
    "  Assay_Key_Words = \"\"\n",
    "  for label in sentence.get_labels():\n",
    "      Assay_Key_Words += label.data_point.text\n",
    "      Assay_Key_Words += \" \"\n",
    "      #print(label.data_point.text)\n",
    "      #print(Assay_Key_Words)\n",
    "\n",
    "  #adds the Descriptions of the Assays to the Assay Description List\n",
    "  Assay_Descriptions_List.append(Assay_Key_Words)\n",
    "work = \"done\"\n",
    "print(work)"
   ]
  },
  {
   "cell_type": "code",
   "execution_count": null,
   "metadata": {},
   "outputs": [],
   "source": []
  },
  {
   "cell_type": "code",
   "execution_count": 59,
   "metadata": {},
   "outputs": [
    {
     "name": "stdout",
     "output_type": "stream",
     "text": [
      "done\n"
     ]
    }
   ],
   "source": [
    "print(work)"
   ]
  },
  {
   "cell_type": "code",
   "execution_count": 63,
   "metadata": {
    "colab": {
     "base_uri": "https://localhost:8080/"
    },
    "id": "U8irBaS5PoiR",
    "outputId": "b97fadb7-a9a0-4b52-baf5-67d00a30c9fc"
   },
   "outputs": [],
   "source": [
    "print(Assay_Descriptions_List)"
   ]
  },
  {
   "cell_type": "code",
   "execution_count": 81,
   "metadata": {},
   "outputs": [],
   "source": [
    "import pandas as pd\n",
    "\n",
    "D = {\"aids\":aids, \"Key Terms\": Assay_Descriptions_List}\n",
    "D = pd.DataFrame.from_dict(D)\n",
    "display(D)"
   ]
  },
  {
   "cell_type": "code",
   "execution_count": null,
   "metadata": {},
   "outputs": [],
   "source": [
    "\n",
    "x=D\n",
    "f = open(\"KeyWords.pickle\", \"wb\")\n",
    "pickle.dump(x,f)\n",
    "f.close()"
   ]
  },
  {
   "cell_type": "code",
   "execution_count": 61,
   "metadata": {},
   "outputs": [
    {
     "name": "stdout",
     "output_type": "stream",
     "text": [
      "2023-07-17 19:37:56,324 Warning: An empty Sentence was created! Are there empty strings in your dataset?\n",
      "2023-07-17 19:41:44,112 Warning: An empty Sentence was created! Are there empty strings in your dataset?\n",
      "2023-07-17 19:42:12,462 Warning: An empty Sentence was created! Are there empty strings in your dataset?\n",
      "(1137, 1671)\n",
      "  (0, 824)\t1\n",
      "  (1, 425)\t2\n",
      "  (1, 1555)\t1\n",
      "  (1, 1521)\t2\n",
      "  (1, 1311)\t1\n",
      "  (1, 589)\t1\n",
      "  (2, 425)\t2\n",
      "  (2, 1555)\t1\n",
      "  (2, 1521)\t2\n",
      "  (2, 1311)\t1\n",
      "  (2, 589)\t1\n",
      "  (3, 425)\t2\n",
      "  (3, 1555)\t1\n",
      "  (3, 1521)\t2\n",
      "  (3, 1311)\t1\n",
      "  (3, 589)\t1\n",
      "  (4, 425)\t2\n",
      "  (4, 1555)\t1\n",
      "  (4, 1521)\t2\n",
      "  (4, 1311)\t1\n",
      "  (4, 589)\t1\n",
      "  (5, 425)\t2\n",
      "  (5, 1555)\t1\n",
      "  (5, 1521)\t2\n",
      "  (5, 1311)\t1\n",
      "  :\t:\n",
      "  (1133, 1506)\t1\n",
      "  (1134, 1521)\t1\n",
      "  (1134, 1626)\t1\n",
      "  (1134, 1475)\t1\n",
      "  (1134, 1070)\t2\n",
      "  (1134, 1483)\t1\n",
      "  (1134, 448)\t2\n",
      "  (1134, 446)\t1\n",
      "  (1134, 1506)\t1\n",
      "  (1135, 697)\t1\n",
      "  (1135, 498)\t1\n",
      "  (1135, 775)\t1\n",
      "  (1135, 1385)\t1\n",
      "  (1135, 704)\t1\n",
      "  (1135, 1370)\t1\n",
      "  (1135, 814)\t1\n",
      "  (1135, 1014)\t1\n",
      "  (1136, 697)\t1\n",
      "  (1136, 498)\t1\n",
      "  (1136, 775)\t1\n",
      "  (1136, 1385)\t1\n",
      "  (1136, 704)\t1\n",
      "  (1136, 1370)\t1\n",
      "  (1136, 814)\t1\n",
      "  (1136, 1014)\t1\n",
      "[[0 0 0 ... 0 0 0]\n",
      " [0 0 0 ... 0 0 0]\n",
      " [0 0 0 ... 0 0 0]\n",
      " ...\n",
      " [0 0 0 ... 0 0 0]\n",
      " [0 0 0 ... 0 0 0]\n",
      " [0 0 0 ... 0 0 0]]\n"
     ]
    }
   ],
   "source": [
    "def tokenize_with_flair(description):\n",
    "    sentence = Sentence(description)\n",
    "    tagger.predict(sentence)\n",
    "    return [ l.data_point.text for l in sentence.get_labels() ]\n",
    "\n",
    "from sklearn.feature_extraction.text import CountVectorizer\n",
    "\n",
    "Assay_Count_Vect = CountVectorizer(tokenizer=tokenize_with_flair)\n",
    "Assay_Train_Counts = Assay_Count_Vect.fit_transform(Assay_Descriptions_List)\n",
    "print(Assay_Train_Counts.shape)\n",
    "print(Assay_Train_Counts)\n",
    "print(Assay_Train_Counts.toarray())"
   ]
  },
  {
   "cell_type": "code",
   "execution_count": 62,
   "metadata": {
    "colab": {
     "base_uri": "https://localhost:8080/"
    },
    "id": "SWcufRScPwSm",
    "outputId": "ec23fafa-de4e-4006-8257-4d4ef38222c2"
   },
   "outputs": [
    {
     "name": "stdout",
     "output_type": "stream",
     "text": [
      "(1137, 2378)\n",
      "  (0, 1187)\t1\n",
      "  (1, 466)\t2\n",
      "  (1, 2244)\t5\n",
      "  (1, 1666)\t2\n",
      "  (1, 2100)\t1\n",
      "  (1, 825)\t1\n",
      "  (1, 1867)\t1\n",
      "  (1, 1916)\t1\n",
      "  (1, 1496)\t1\n",
      "  (1, 924)\t1\n",
      "  (1, 708)\t1\n",
      "  (2, 466)\t2\n",
      "  (2, 2244)\t5\n",
      "  (2, 1666)\t2\n",
      "  (2, 2100)\t1\n",
      "  (2, 825)\t1\n",
      "  (2, 1867)\t1\n",
      "  (2, 1916)\t1\n",
      "  (2, 1496)\t1\n",
      "  (2, 924)\t1\n",
      "  (2, 708)\t1\n",
      "  (3, 466)\t2\n",
      "  (3, 2244)\t5\n",
      "  (3, 1666)\t2\n",
      "  (3, 2100)\t1\n",
      "  :\t:\n",
      "  (1135, 1416)\t1\n",
      "  (1135, 1186)\t1\n",
      "  (1135, 1171)\t1\n",
      "  (1135, 2130)\t1\n",
      "  (1135, 652)\t1\n",
      "  (1135, 972)\t1\n",
      "  (1136, 2245)\t1\n",
      "  (1136, 2308)\t1\n",
      "  (1136, 265)\t1\n",
      "  (1136, 2304)\t1\n",
      "  (1136, 567)\t2\n",
      "  (1136, 1776)\t1\n",
      "  (1136, 1232)\t1\n",
      "  (1136, 953)\t3\n",
      "  (1136, 1121)\t1\n",
      "  (1136, 2040)\t1\n",
      "  (1136, 1124)\t1\n",
      "  (1136, 2064)\t1\n",
      "  (1136, 1569)\t1\n",
      "  (1136, 1416)\t1\n",
      "  (1136, 1186)\t1\n",
      "  (1136, 1171)\t1\n",
      "  (1136, 2130)\t1\n",
      "  (1136, 652)\t1\n",
      "  (1136, 972)\t1\n",
      "[[0 0 0 ... 0 0 0]\n",
      " [0 0 0 ... 0 0 0]\n",
      " [0 0 0 ... 0 0 0]\n",
      " ...\n",
      " [0 0 0 ... 0 0 0]\n",
      " [0 0 0 ... 0 0 0]\n",
      " [0 0 0 ... 0 0 0]]\n"
     ]
    }
   ],
   "source": [
    "from sklearn.feature_extraction.text import CountVectorizer\n",
    "\n",
    "Assay_Count_Vect = CountVectorizer()\n",
    "Assay_Train_Counts = Assay_Count_Vect.fit_transform(Assay_Descriptions_List)\n",
    "print(Assay_Train_Counts.shape)\n",
    "print(Assay_Train_Counts)\n",
    "print(Assay_Train_Counts.toarray())"
   ]
  },
  {
   "cell_type": "code",
   "execution_count": 64,
   "metadata": {
    "colab": {
     "base_uri": "https://localhost:8080/"
    },
    "id": "RK_q0rvtQEq6",
    "outputId": "2a49dcc8-85f2-4301-a203-5bde57d4dd74"
   },
   "outputs": [
    {
     "name": "stdout",
     "output_type": "stream",
     "text": [
      "['088', '10', '107', '109', '10a', '10h', '11', '110', '111', '116', '11a', '11b', '11h', '12', '12a', '13', '13a', '13h', '14', '1435', '145', '15', '151', '1520', '154', '158393', '16', '1730', '17beta', '17β', '18', '1h', '1vs', '1α', '1β', '20', '201', '205', '20s', '21', '211h', '21s', '22', '222', '229', '231', '24', '241', '250749', '251873', '26', '28', '29', '2h', '2s', '2н', '30', '31', '33258', '33342', '3503', '36o', '38', '388', '3a', '3e', '3h', '3i', '400', '404', '435', '45', '459', '460', '468', '4b', '4h', '4β', '50', '506', '534', '549', '551', '56', '562', '5alpha', '5h', '5z', '60', '6040', '63', '638', '64', '65', '6a', '6c', '6h', '7402', '7404', '75', '7701', '7721', '786', '7901', '7952', '7h', '803', '8065', '82', '821', '823', '8402', '875', '88915', '8c', '8e', '93', '945', '9alpha', '9b', '9c', '9h', '9z', 'a2780', 'a2780r', 'a2780s', 'a375', 'a427', 'a549', 'abcb1', 'abcg2', 'abortus', 'acetaldehyde', 'acetamide', 'acetamides', 'acetamino', 'acetate', 'acetates', 'acetic', 'acetogenin', 'acetyl', 'acetylcysteine', 'acetylenes', 'acetylshikonin', 'achn', 'acid', 'acids', 'acridine', 'acridines', 'acridinone', 'acridone', 'acridones', 'activities', 'activity', 'acute', 'acyl', 'acylheterocyclic', 'acylshikonin', 'acylthiourea', 'adenine', 'adenocarcinoma', 'adp', 'adr', 'adriamycin', 'adrr', 'aeruginosa', 'aesculiosides', 'aesculus', 'african', 'agarose', 'aglycon', 'aglycone', 'aglycones', 'akt', 'alba', 'albicans', 'alcohol', 'alcohols', 'aldehydes', 'aldimines', 'algae', 'algoaensis', 'aliphatic', 'alizarin', 'alkaloid', 'alkaloids', 'alkannin', 'alkenes', 'alkenyl', 'alkenylindenoisoquinoline', 'alkoxy', 'alkyl', 'alkylamine', 'alkylamines', 'alkylamino', 'alkylanilinoquinazoline', 'alkylcarbamates', 'alkylethylenediamines', 'alkylguanidino', 'alkyllactam', 'alkylthiomethyl', 'alkyne', 'alkynyl', 'allyl', 'alopecuroides', 'alopecurosines', 'alpha', 'ametantrone', 'amide', 'amides', 'amidic', 'amidine', 'amidinium', 'amidino', 'amidinobenzimidazole', 'amidinobenzothiazole', 'amidobenzimidazole', 'amidobenzyl', 'amine', 'amines', 'aminium', 'amino', 'aminoacid', 'aminoacridines', 'aminoalkenyl', 'aminoalkoxyimino', 'aminoalkyl', 'aminoaryl', 'aminobenzimidazo', 'aminobenzoic', 'aminobenzothiolate', 'aminocarbazole', 'aminocarbonyl', 'aminocarboxy', 'aminodibenzofuran', 'aminodibenzothiophene', 'aminodiscorhabdin', 'aminoethyl', 'aminoethylamino', 'aminoethyloxime', 'aminoglycoside', 'aminoglycosides', 'aminohydroximinomethyl', 'aminoindole', 'aminomethyl', 'aminomethylnaphtho', 'aminomethylpyrrolidine', 'aminophenyl', 'aminophosphonates', 'aminopropane', 'aminopropyl', 'aminopropylamino', 'aminopyridine', 'aminopyrimidines', 'aminopyrrolidine', 'aminoquinazolinones', 'aminoquinoxaline', 'aminothiazole', 'ammonium', 'amonafide', 'amphotericin', 'amsa', 'amsacrine', 'analogue', 'analogues', 'and', 'androgen', 'angelate', 'angeloyl', 'anguifera', 'angular', 'anhydride', 'anhydrides', 'anilides', 'aniline', 'anilines', 'anilino', 'anilinoadenines', 'anilinofuro', 'animal', 'animals', 'annexin', 'anthra', 'anthracendiones', 'anthracene', 'anthracenes', 'anthracycline', 'anthracyclines', 'anthracyclinone', 'anthrafurandiones', 'anthranilamides', 'anthrapyrazole', 'anthrapyrazoles', 'anthraquinone', 'anthraquinones', 'anthrathiophenediones', 'anti', 'antibioticus', 'antibody', 'antiintegrase', 'antiprotease', 'antitopoisomerase', 'antrodia', 'ap', 'aporphine', 'applanata', 'arc', 'arg364', 'arginine', 'aromathecin', 'aromathecins', 'aromatic', 'arrestin', 'artemisinin', 'artesunic', 'arthritis', 'aryisoquinolinamines', 'aryl', 'arylacyl', 'arylamines', 'arylamino', 'arylated', 'arylazo', 'arylazobenzosuberones', 'arylcamptothecin', 'arylcoumarins', 'aryldiazenyl', 'arylguanidines', 'arylideneimidazo', 'arylisoquinolinamines', 'arylisoquinoline', 'arylisoquinolines', 'arylmethylamino', 'arylnaphthalimides', 'aryloxygroup', 'arylquinazolinones', 'arylquinolines', 'arylquinzolinones', 'arylsubstituted', 'asn352', 'asn722', 'aspartic', 'aspergillus', 'associated', 'atf4', 'atm', 'atp', 'atpase', 'atr', 'aureus', 'auricularia', 'aurones', 'autosomal', 'aza', 'azaacridine', 'azacamptothecin', 'azacyclopenta', 'azafulvenes', 'azaindenoisoquinoline', 'azaindenoisoquinolines', 'azaindole', 'azaphilones', 'azaquinolizinium', 'azathioxanthone', 'azathioxanthones', 'azaxanthone', 'azaxanthones', 'azetidine', 'azide', 'azino', 'azo', 'azolotriazino', 'b1', 'b16', 'ba', 'bacillus', 'bacteria', 'bacterial', 'bacterium', 'bad', 'baec', 'bak', 'balb', 'bartonella', 'based', 'bases', 'batracylin', 'bax', 'bay', 'bcl', 'bcrp', 'bdczs', 'bearing', 'bees', 'behavior', 'bel', 'bellae', 'bengacarboline', 'benz', 'benzaldehyde', 'benzaldehydes', 'benzamide', 'benzazol', 'benzazole', 'benzene', 'benzeneethanamine', 'benzimidazo', 'benzimidazole', 'benzimidazoles', 'benzimidazolyl', 'benzimidazothiazoles', 'benzimidazothiazolone', 'benzo', 'benzoazolyl', 'benzodioxinocarbazoles', 'benzodioxinoindolocarbazoles', 'benzofuran', 'benzofuro', 'benzofuroquinazolinones', 'benzofuroquinolinediones', 'benzophenanthridine', 'benzophenanthridinone', 'benzophenanthridone', 'benzopyrido', 'benzopyridophenoxazin', 'benzosuberone', 'benzosuberones', 'benzoterbenzimidazole', 'benzoterbenzimidazoles', 'benzothiazole', 'benzothiazoles', 'benzothiazolyl', 'benzothieno', 'benzothienoquinazolinones', 'benzothiophene', 'benzothiopyranoindole', 'benzothiopyranoindoles', 'benzothyazoles', 'benzotriazine', 'benzotriazoles', 'benzoxanthone', 'benzoxazol', 'benzoyl', 'benzoylacetates', 'benzyl', 'benzylamino', 'benzylcamptothecin', 'beta', 'betulin', 'betulinic', 'bgc', 'bi', 'biaryl', 'bibenzimidazole', 'bibenzimidazoles', 'bicyclic', 'bim', 'biphenyl', 'bir', 'bis', 'bisanthrapyrazole', 'bisanthrapyrazoles', 'bisbenzimidazoles', 'bisbenzothiazole', 'bisbenzothiazoles', 'bisindenoisoquinolines', 'bisindolylmaleimides', 'bladder', 'bleomycin', 'blm', 'blue', 'bms', 'boc', 'bodipy', 'boehmeriasin', 'bone', 'borate', 'boron', 'boronate', 'boronic', 'bound', 'bovine', 'bpn', 'bpns', 'br', 'brain', 'brcp1', 'brd4', 'breast', 'bromide', 'bromo', 'bromoacetyl', 'bromobenzenesulfonate', 'bromophenol', 'bromophenyl', 'bromopyridine', 'brucella', 'bt', 'bt45', 'bt474', 'bt483', 'budding', 'buona', 'buta', 'butoxy', 'butyl', 'butylamino', 'butylcamptothecin', 'bxpc3', 'c12', 'c2', 'c21', 'c3a', 'c5', 'c6', 'ca2', 'ca224', 'caa', 'caco', 'cadherin', 'caffeic', 'calf', 'calothrixin', 'calothrixins', 'campest', 'campesterol', 'camphorata', 'campthotecin', 'campthotecins', 'campto', 'camptot', 'camptothecin', 'camptothecins', 'cancer', 'cancerous', 'cancers', 'candida', 'capan', 'cape', 'carbaldehyde', 'carbamate', 'carbamoyl', 'carbazole', 'carbazoles', 'carbobenzyloxy', 'carbohydrate', 'carbohydrates', 'carbolin', 'carboline', 'carbolines', 'carbolinone', 'carbon', 'carbonitriles', 'carbons', 'carbonyl', 'carboxaldehyde', 'carboxamide', 'carboxamides', 'carboxanilides', 'carboxy', 'carboxyacridone', 'carboxyisoquinolones', 'carboxyl', 'carboxylate', 'carboxylic', 'carboxymethoxyphenyl', 'carboxyphenyl', 'carcinoma', 'cardiotoxic', 'cardiovascular', 'caspase', 'caspases', 'catalyzed', 'catechols', 'cathepsin', 'cathepsins', 'cccp', 'ccf', 'ccl', 'ccne1', 'ccrf', 'cdc', 'cdc25a', 'cdcas', 'cddp', 'cdk1', 'cdk2', 'cdk4', 'cdks', 'cell', 'cells', 'cem', 'cereus', 'cerevisiae', 'cf', 'ch', 'ch2ch3', 'ch3', 'chalcogen', 'chalcogenoxanthylium', 'chalcone', 'chalcones', 'chamaejasme', 'chartreusis', 'chebulagic', 'checkpoint', 'chk', 'chk1', 'chk2', 'chloride', 'chlorides', 'chlorine', 'chloro', 'chlorobenzyl', 'chlorofuran', 'chloroisoquinoline', 'chloroisoquinolinediones', 'chloromethyl', 'chloropheny', 'chlorophenyl', 'chlorophenylhydrazone', 'chlorophenylpyridines', 'chlorothiophen', 'chq', 'chroman', 'chromanone', 'chromen', 'chromenes', 'chromeno', 'chromenopyridines', 'chromone', 'chronic', 'cinnamic', 'cinnolin', 'cinnoline', 'cip1', 'ciprofloxacin', 'cis', 'cisplatin', 'cl', 'claviceps', 'cleaved', 'cml', 'cmv', 'cne', 'cne1', 'cne2', 'cnu', 'cocos', 'col2', 'colchicine', 'coli', 'collagen', 'colo', 'colon', 'colorectal', 'columnifera', 'combilexins', 'complexes', 'compound', 'compounds', 'conh', 'containing', 'copper', 'corydamine', 'coumarin', 'coumarins', 'cox', 'cp2ticl2', 'cpg', 'cpt', 'cpt5', 'cpts', 'crl', 'cryptococcus', 'ct26', 'cu', 'cuban', 'cubr', 'cucurbitacin', 'cucurbitacins', 'cucurbitane', 'cucurbitanes', 'curc', 'curcumin', 'curcuminoid', 'cyanide', 'cyano', 'cyanobacterium', 'cyanoisoindoles', 'cyanophenyl', 'cyclic', 'cyclin', 'cyclitol', 'cyclohexenes', 'cyclooxygenase', 'cyclopentadienone', 'cyclopentanol', 'cyclopropylamine', 'cycloprotoberberine', 'cyclothialidine', 'cyclothialidines', 'cytisine', 'cytochrome', 'cytokine', 'cytokines', 'cytotoxic', 'cytotoxicities', 'cytotoxicity', 'd1', 'd8', 'dadt', 'daedalea', 'daleae', 'damage', 'daphnane', 'daunomycin', 'dcb', 'dcdg', 'de', 'deacetylase', 'decanoic', 'decarbonyl', 'decarboxylase', 'decumbenine', 'defects', 'deficient', 'deglycosyl', 'dehydrodiscorhabdin', 'dehydrogenase', 'delta', 'demethyl', 'demethylepipodophyllotoxin', 'deoxy', 'deoxycucurbitacin', 'deoxyleucopaxillone', 'deoxynucleotidyl', 'deoxyribonuclease', 'deoxyrubralactone', 'dependent', 'derivative', 'derivatives', 'desmethylcryptopleurine', 'detroit', 'di', 'dialkyl', 'dialkylaminoalkoxy', 'dialkylaminoalkyl', 'dialkylaminoalkylamino', 'dialkylidenemagnesacyclopentane', 'diamidofluorenones', 'diamine', 'diamines', 'diamino', 'diaminoalkane', 'diaminoalkanes', 'diaminoalkyl', 'diaminoanthra', 'diaminocamptothecin', 'diaryl', 'diarylbut', 'diarylisoquinoline', 'diarylisoquinolines', 'diarylisoquinolone', 'diaza', 'diazachrysen', 'diazadibenzo', 'diazaindeno', 'diazo', 'diazonium', 'diazotized', 'dibenzo', 'dibenzofuran', 'dibenzoquinoxaline', 'dibenzoquinoxalines', 'dibenzothiophene', 'dibrominated', 'dibutylmethyl', 'dicarbaldehydes', 'dicentrine', 'dicentrinone', 'dichloride', 'dichlorinated', 'dichloro', 'dichloroanilino', 'dichloroisoquinoline', 'dichloroquinolinediones', 'dickinsii', 'dicyclohexylcarbodiimide', 'dien', 'dienes', 'dienoic', 'diethyl', 'diethylcarboxamide', 'diethylene', 'diethylmethyl', 'difluoro', 'dihydro', 'dihydrobenzophenanthridine', 'dihydrochloride', 'dihydroindeno', 'dihydroindenoisoquinoline', 'dihydroindenoisoquinolines', 'dihydroindol', 'dihydropyridine', 'dihydropyrido', 'dihydropyrroloquinoline', 'dihydroquinolino', 'dihydroxy', 'dihydroxyanthraquinone', 'dihydroxyisoaurone', 'dihydroxylated', 'dihydroxynaphtho', 'dihydroxypropane', 'diimidazolinyl', 'diimides', 'diketones', 'dimethoxy', 'dimethoxyanthra', 'dimethoxybenzo', 'dimethoxyquinazoline', 'dimethoxyquinolines', 'dimethyl', 'dimethylamine', 'dimethylaminium', 'dimethylamino', 'dimethylaminoethyl', 'dimethylaminomethyl', 'dimethylaminomethylene', 'dimethylaminophenyl', 'dimethylaminopropyl', 'dimethylformamide', 'dimethyloctanoate', 'dimethylthiazol', 'diol', 'diols', 'dione', 'diones', 'dioxazine', 'dioxo', 'dioxoanthra', 'dioxolo', 'dioxophenothiazine', 'diphenyl', 'diphthamide', 'dipropoxyanthra', 'dipropylamino', 'dipropylmethyl', 'disaccharide', 'discorhabdin', 'disease', 'diseases', 'diselenide', 'disorders', 'disubstituted', 'disulfide', 'diterpene', 'diterpenenoids', 'dithian', 'dl', 'dm', 'dmf', 'dmnq', 'dmo', 'dmso', 'dna', 'dnase', 'dodecyl', 'dolabella', 'dolabellin', 'dolastatin', 'dox', 'doxorubicin', 'dpa', 'drimentine', 'drosophila', 'drug', 'du', 'du145', 'dyrk1a', 'dysfunction', 'e2', 'e6', 'e7', 'early', 'eca109', 'ed', 'edotecarin', 'edulis', 'effect', 'effects', 'efflux', 'egf', 'egfr', 'ehsp90', 'elfvingia', 'ellipticine', 'emodin', 'en', 'enaminone', 'endoperoxide', 'endotoxemia', 'enolate', 'enones', 'enterococcus', 'enzyme', 'enzymes', 'ep400', 'epicatechin', 'epidermal', 'epiloganin', 'epipodophyllotoxin', 'epoxide', 'epoxy', 'epoxyesters', 'epsilon', 'ergotism', 'erk1', 'erlotinib', 'erythroleukemic', 'erythrorhizon', 'erα', 'es', 'escherichia', 'ester', 'esters', 'estradiol', 'estrogen', 'eta', 'etbr', 'ethanol', 'ethanolamine', 'ethanone', 'etharate', 'ether', 'ethers', 'ethidium', 'ethoxy', 'ethoxycarbonyl', 'ethyl', 'ethylamine', 'ethylamino', 'ethylenediamine', 'ethylenediamines', 'ethylenedioxy', 'ethynyl', 'etmgbr', 'etoposide', 'eukaryotic', 'eupolauridine', 'evo', 'evodia', 'evodiae', 'evodiamine', 'ewing', 'ews', 'expressing', 'fa', 'faba', 'factor', 'faecalis', 'faecium', 'fagaronine', 'falciparum', 'families', 'family', 'fascaplysin', 'fatigue', 'fatty', 'favus', 'fenamates', 'fibrosarcoma', 'fibrosis', 'fitc', 'five', 'fl118', 'flavone', 'flavones', 'flavonoid', 'flavonoids', 'flavonol', 'flavonols', 'flexuosus', 'fli1', 'fluoren', 'fluorenone', 'fluorenones', 'fluorenylmethoxycarbonyl', 'fluorescein', 'fluorinated', 'fluorine', 'fluoro', 'fluorocalothrixin', 'fluorocamptothecin', 'fluorocamptothecins', 'fluoroglycosylated', 'fluoroindolo', 'fluoroindolocarbazole', 'fluoroindolocarbazoles', 'fluoroquinocarbazole', 'fluoroquinolone', 'fluoroquinolones', 'fluorouracil', 'fluorouracile', 'fmoc', 'formic', 'formyl', 'formylamino', 'from', 'fructus', 'fu', 'fucopyranosyl', 'functional', 'fungi', 'furan', 'furancarboxamides', 'furanone', 'furanones', 'furans', 'furanyl', 'furin', 'furo', 'furoquinolinedione', 'furoquinolinediones', 'furyl', 'furylpyridine', 'furylvinyl', 'fused', 'fusion', 'g2', 'galactopyranosyl', 'galianthe', 'gamma', 'ganoderic', 'ganoderma', 'gastric', 'gastrointestinal', 'gbm', 'genistein', 'genkwanin', 'gentianeus', 'germ', 'gfp', 'gi50', 'gibberellin', 'glc', 'glioblastoma', 'glioma', 'glomeratose', 'glts', 'glu356', 'glucopyranoside', 'glucopyranosyl', 'glucose', 'glucoside', 'glutathione', 'glycerol', 'glycinamides', 'glycinate', 'glycine', 'glycol', 'glycoprotein', 'glycoside', 'glycosides', 'glycosidic', 'glycosyl', 'glycosylated', 'gmb', 'gpx4', 'gram', 'gramine', 'granulatimide', 'green', 'griseus', 'group', 'growth', 'guanidine', 'guanidino', 'guanidinoethylamino', 'gxf251l', 'gyrase', 'h1299', 'h22h8d8', 'h2ax', 'h2o', 'h2o2', 'h446', 'h460', 'h520', 'h526', 'h69', 'h69ar', 'h9', 'halo', 'haloemodin', 'haloemodins', 'halogen', 'halogenated', 'halogeno', 'halogenoacetyl', 'hare', 'harmala', 'hb', 'hbfq', 'hbpg', 'hcc', 'hcl', 'hcpt', 'hct', 'hct116', 'hct15', 'hdac', 'hdn1009', 'hecin', 'hek293', 'hela', 'helicase', 'heliomycin', 'hematological', 'hematotoxicity', 'henselae', 'hep', 'hep3b', 'hepatitis', 'hepatocellular', 'hepg', 'hepg2', 'hepta', 'her2', 'hereditary', 'herpes', 'hetarene', 'heteroarene', 'heteroaromatic', 'heteroaromatics', 'heteroaryl', 'heteroarylisoquinolinamines', 'heteroarylisoquinolines', 'heteroatom', 'heterocycle', 'heterocycles', 'heterocyclic', 'heterotetracyclic', 'heterotrimeric', 'hexacyclic', 'hexadecadienoic', 'hexadecadiynoic', 'hexadecanoic', 'hexadiyne', 'hexahydroquinolino', 'hexyl', 'hi', 'hif', 'hispidulin', 'histidine', 'histone', 'hiv', 'hl', 'hl60', 'hmec', 'hoc', 'hoechst', 'homo', 'homocamptothecin', 'homocamptothecins', 'homophthalic', 'homospermidine', 'homovanillic', 'honey', 'hpv', 'hpv18', 'hsc', 'hsp90', 'hsp90α', 'hsv1', 'ht', 'ht1080', 'ht29', 'htb', 'htop1', 'htop2α', 'htopo', 'htopoi', 'htopoii', 'htopoiiα', 'huh', 'huh7', 'human', 'huvec', 'hydantoin', 'hydrazides', 'hydrazinyl', 'hydrazones', 'hydrochloride', 'hydrogen', 'hydroxamic', 'hydroxide', 'hydroxy', 'hydroxyacuminatine', 'hydroxyalkyl', 'hydroxybenzofuro', 'hydroxybenzoyl', 'hydroxybenzyl', 'hydroxybut', 'hydroxycamptothecin', 'hydroxycamptothecins', 'hydroxycoumarin', 'hydroxycoumarins', 'hydroxydiscorhabdin', 'hydroxyethyl', 'hydroxyethylaminopropyl', 'hydroxyevodiamine', 'hydroxyflavone', 'hydroxyindeno', 'hydroxyindenoisoquinolines', 'hydroxyl', 'hydroxylactone', 'hydroxylamino', 'hydroxylated', 'hydroxylevodiamine', 'hydroxyls', 'hydroxymethyl', 'hydroxyphenyl', 'hydroxypropan', 'hydroxysarpagine', 'hypecumine', 'hypertension', 'hypoxia', 'hypoxic', 'ia', 'ias', 'ib', 'ii', 'iialpha', 'iii', 'iiq', 'iiα', 'il', 'illyricum', 'imatinib', 'imidazo', 'imidazol', 'imidazole', 'imidazolidine', 'imidazolidines', 'imidazoline', 'imidazolinium', 'imidazolinyl', 'imidazolyl', 'imidazonaphthyridine', 'imidazonaphthyridinones', 'imidazopyridine', 'imidazopyridines', 'imide', 'imine', 'imines', 'imino', 'iminoisoindoline', 'iminomethyl', 'iminostilbene', 'immunodeficiency', 'imp', 'imvi', 'indene', 'indeno', 'indenoindolols', 'indenoindolone', 'indenoindolones', 'indenoisoquinoline', 'indenoisoquinolines', 'indenoisoquinolinium', 'indenonaphthyridine', 'indenopyridin', 'indenopyridine', 'indenopyridinol', 'indenopyridinone', 'indenoquinolines', 'indenoquinolinones', 'indimitecan', 'indol', 'indole', 'indoles', 'indolic', 'indolizino', 'indolizinoquinolinedione', 'indolizinoquinolinediones', 'indolo', 'indolocarbazole', 'indolocarbazoles', 'indolopyrazolocarbazole', 'indotecan', 'indotertine', 'induced', 'inducible', 'inert', 'infantum', 'infected', 'infection', 'infections', 'inflammation', 'inflammatory', 'inhibiting', 'inhibitor', 'inhibitory', 'inonotus', 'inosine', 'integrase', 'integrases', 'intercalative', 'iodide', 'iodomethane', 'iodophenols', 'iota', 'iridoid', 'irinotecan', 'iron', 'isoaurones', 'isoaurostatin', 'isobutyranilide', 'isobutyranilides', 'isochromane', 'isochromene', 'isocryptolepine', 'isoenzymes', 'isoflavones', 'isoforms', 'isogranulatimide', 'isoindole', 'isoindolin', 'isoindoline', 'isoindolines', 'isoindolo', 'isoindoloquinoxalin', 'isoindoloquinoxalines', 'isoleucine', 'isophthaloyl', 'isoprenoids', 'isopropoxy', 'isopropyl', 'isopropylamine', 'isoquino', 'isoquinolin', 'isoquinoline', 'isoquinolines', 'isoquinolinium', 'isoquinolones', 'isorauhimbinic', 'ium', 'iv', 'iκb', 'jak', 'jak1', 'jak2', 'jak3', 'janus', 'jarid1c', 'juglone', 'juvenile', 'k252c', 'k5', 'k562', 'k562adr', 'kaempherol', 'kappa', 'kasanosins', 'kb', 'kb3', 'kbh5', 'kbvin', 'kdel', 'keratitis', 'keto', 'ketoindenoisoquinolines', 'ketone', 'ketones', 'kinase', 'kinases', 'kinesin', 'klaineana', 'klebsiella', 'ksp', 'l1210', 'l929', 'lactam', 'lactol', 'lactone', 'lactones', 'laetiporus', 'lambda', 'lamellarin', 'lamellarins', 'lanostanes', 'lanostanoids', 'lanosterol', 'lapachol', 'latrunculia', 'latrunculid', 'lawsone', 'leguminosae', 'leishmania', 'leishmaniasis', 'lethedocin', 'lethedon', 'leucine', 'leucopaxillones', 'leucopaxillus', 'leucoxylon', 'leukemia', 'lewis', 'lexitropsin', 'lignan', 'like', 'line', 'lines', 'linked', 'lithospermum', 'liver', 'lm9', 'lmp', 'lmp400', 'lmp776', 'lncap', 'lo2', 'lomefloxacin', 'lotus', 'lovo', 'lox', 'luc', 'lucidum', 'luciferase', 'lung', 'luotonin', 'luotonins', 'lupane', 'lupeol', 'luteolin', 'lycobetaine', 'lycorine', 'lymphoblast', 'lymphoblastic', 'lymphoma', 'lyngbya', 'lyngbyabellin', 'lyngbyastatin', 'lysine', 'm109', 'magnesium', 'majuscula', 'maleimide', 'malignancies', 'malignant', 'mammalian', 'mammals', 'mammary', 'mannich', 'mansonone', 'marine', 'marrow', 'matrine', 'mauritianin', 'mb', 'mb231', 'mb468', 'mcf', 'mcf10a', 'mcf7', 'mcf7mdr', 'mcl', 'mda', 'mdo', 'mdr', 'mdr1', 'mdrp', 'me', 'mediated', 'medulloblastoma', 'mel', 'melanogaster', 'melanoma', 'membered', 'merbarone', 'mesothelin', 'mesylate', 'meta', 'methanesulfonic', 'methanol', 'methoxy', 'methoxybenzofuro', 'methoxycamptothecin', 'methoxydiscorhabdin', 'methoxyflavone', 'methoxyflavones', 'methoxyl', 'methoxylated', 'methoxyphenyl', 'methoxyphenylethyl', 'methyl', 'methylajmaline', 'methylamine', 'methylamino', 'methylated', 'methylbut', 'methylbutyrate', 'methylene', 'methylenedioxy', 'methylenedioxybenzo', 'methylenedioxycamptothecins', 'methylenedioxydibenzo', 'methylenedioxyquinazoline', 'methylhexadecyl', 'methylindenoisoquinolines', 'methylisoajmaline', 'methylmaleimide', 'methylphenanthridinium', 'methylpiperazin', 'methylpiperazino', 'methylpiperazinyl', 'methylpyrrole', 'methylquinazolinones', 'methyltricetin', 'mg', 'mgc', 'mice', 'microorganisms', 'mid', 'mitochondrial', 'mitonafide', 'mitoxantrone', 'mj', 'mkn', 'mkn28', 'mmp', 'moiety', 'mono', 'monoamine', 'monoamines', 'monobenzimidazoles', 'monohydroxylated', 'monophosphate', 'montmorillonite', 'morindaparvin', 'morpholine', 'morpholino', 'moss', 'mouse', 'mrc', 'mrc5', 'mrs', 'mrsa', 'msto', 'mtor', 'mts', 'mtt', 'multidrug', 'multiforme', 'muricadienin', 'murine', 'mutant', 'mutated', 'mx', 'mx2', 'mxt', 'myc', 'myeloblastic', 'myelogenous', 'myeloid', 'n1', 'n11', 'n13', 'n14', 'n2', 'nacl', 'nad', 'nadh', 'naphthalen', 'naphthalene', 'naphthalimide', 'naphthalimides', 'naphthazarin', 'naphtho', 'naphthofurandiones', 'naphthoindole', 'naphthol', 'naphthoquinone', 'naphthoquinones', 'naphthotryptamine', 'naphthyl', 'naphthylamines', 'naphthylisocyanates', 'naphthyridi', 'naphthyridin', 'naphthyridine', 'naphthyridines', 'naphthyridinic', 'naphthyridinium', 'napthyl', 'natural', 'nb', 'nch3', 'nci', 'ncih23', 'ndi', 'necrosis', 'negative', 'neoformans', 'neoplasms', 'nephrotoxic', 'nerolidol', 'neurodegeneration', 'neurodegenerative', 'neurological', 'nf', 'nfκb', 'nh2', 'nhc', 'nhc2h5', 'nhch', 'nhch2ch3', 'nhch3', 'nhco', 'nitidine', 'nitro', 'nitroacridine', 'nitrobenzoxazol', 'nitrocamptothecin', 'nitrogen', 'nitrogenous', 'nitrogens', 'nitroindenoisoquinoline', 'nitroindenoisoquinolines', 'no', 'non', 'noncamptothecin', 'nordolastatin', 'norindenoisoquinoline', 'norindenoisoquinolines', 'norlyngbyastatin', 'normal', 'novobiocin', 'npg', 'nr0b1', 'nsc', 'nsclc', 'ntpase', 'nu', 'nua4', 'nuclear', 'nucleoside', 'nucleosides', 'nude', 'nugc', 'oac', 'obliquus', 'ocf', 'och', 'ocotea', 'odc', 'of', 'oh', 'ol', 'olean', 'oleanane', 'oleananes', 'oleanolic', 'olefin', 'olefins', 'oligopeptide', 'oligopyrrole', 'oligosaccharide', 'oligosaccharides', 'olivomycin', 'ols', 'ome', 'oncological', 'one', 'ones', 'onset', 'or', 'ornithine', 'ortho', 'orthoaminobenzonitrile', 'orthoaminoketones', 'ov', 'ovarian', 'ovcar5', 'oxa', 'oxadiazol', 'oxazole', 'oxepine', 'oxepines', 'oxidase', 'oxide', 'oxides', 'oxidized', 'oxime', 'oximes', 'oximo', 'oxiranylmethoxy', 'oxiranylmethyloxy', 'oxo', 'oxoazabenzo', 'oxobenzo', 'oxoisoaporphine', 'oxy', 'oxygen', 'oxyiminomethyl', 'oxynitidine', 'oxyranylmethyloxy', 'p21', 'p388', 'p388cpt5', 'p53', 'p62', 'paclitaxel', 'palladium', 'palmitic', 'pancratium', 'pancreatic', 'papillomavirus', 'para', 'paraben', 'parasitic', 'park2', 'parkin', 'parkinson', 'parkinsonism', 'parp', 'parp1', 'pathogen', 'patient', 'patients', 'pavia', 'pc', 'pc3', 'pcdk1', 'pd', 'pde11a', 'pde5', 'pde6c', 'pedunculata', 'peg', 'peganum', 'penicilliols', 'penicillium', 'pentacycle', 'pentacycles', 'pentacyclic', 'pentenoylshikonin', 'pentyl', 'peptolide', 'permeability', 'peroxide', 'petrosia', 'pge', 'pgp', 'phenanthren', 'phenanthrene', 'phenanthridin', 'phenanthridine', 'phenanthridines', 'phenanthridinium', 'phenanthridinones', 'phenanthroindolizidine', 'phenanthroline', 'phenanthrolines', 'phenanthrolinones', 'phenanthroquinolizidine', 'phenazin', 'phenazine', 'phenazinediones', 'phenazines', 'phenethyl', 'phenol', 'phenolic', 'phenols', 'phenoxazin', 'phenyl', 'phenylalanine', 'phenylamine', 'phenylamino', 'phenylbenzamide', 'phenylene', 'phenylenediamide', 'phenylenediamines', 'phenylethylamino', 'phenylguanines', 'phenylpyrazolo', 'phenylsulfonyl', 'phenylterbenzimidazole', 'phenylthiochromen', 'phenylundeca', 'phosphanes', 'phosphate', 'phosphatidylserine', 'phosphine', 'phosphodiesterase', 'phosphodiesterases', 'phosphonateaniline', 'phosphorus', 'phosphotyrosyl', 'phototoxic', 'phototoxicity', 'phthalaldehyde', 'phthalazine', 'phthalazines', 'phthalazinium', 'phthalic', 'phthalides', 'phyllanthus', 'pi3k', 'picolylidene', 'pim', 'pink1', 'pink12', 'piperazine', 'piperazinyl', 'piperidin', 'piperidine', 'piperidino', 'piperidinyl', 'pkc', 'placenta', 'plant', 'plasmodium', 'plga', 'plukenetione', 'pneumoniae', 'podophyllotoxin', 'podophyllotoxins', 'poisoning', 'pol', 'pol32', 'pold3', 'pols', 'poly', 'polyamine', 'polyamines', 'polycyclic', 'polyhydroxybenzoyl', 'polyhydroxylated', 'polymerase', 'polymerases', 'polymyxin', 'polynucleotide', 'polyphenolic', 'polyphosphoric', 'polypyrrolecarboxamide', 'poria', 'porphyrin', 'positive', 'potato', 'potency', 'prb', 'pregnen', 'primary', 'primase', 'pro431', 'prodiginine', 'prodigiosin', 'product', 'progesterone', 'promyelocytic', 'propanoylshikonin', 'properties', 'propidium', 'propolis', 'propoxy', 'propyl', 'propylamino', 'propyloxy', 'prostate', 'protease', 'protein', 'proteine', 'proteins', 'pseudo', 'pseudoalteromonas', 'pseudomonas', 'pty', 'pulmonary', 'pump', 'purine', 'purines', 'purpurea', 'pyran', 'pyrano', 'pyrazine', 'pyrazol', 'pyrazole', 'pyrazoles', 'pyrazolic', 'pyrazoline', 'pyrazolo', 'pyrazolopyrimidinones', 'pyrenacantha', 'pyridin', 'pyridine', 'pyridines', 'pyridinium', 'pyridinol', 'pyridinols', 'pyridinone', 'pyridinones', 'pyrido', 'pyridoacridine', 'pyridophenoxazin', 'pyridopyrimidinones', 'pyridothiopyranoindole', 'pyridothiopyranoindoles', 'pyridyl', 'pyridylmethyl', 'pyrimidin', 'pyrimidine', 'pyrimidines', 'pyrimido', 'pyrone', 'pyrrole', 'pyrrolidin', 'pyrrolidine', 'pyrrolidino', 'pyrrolidinyl', 'pyrrolo', 'pyrroloazepinone', 'pyrroloiminoquinone', 'pyrroloiminoquinones', 'pyrroloquinoline', 'qg', 'qsg', 'quaternary', 'quinazolin', 'quinazoline', 'quinazolinecarboline', 'quinazolinocarboline', 'quinazolinonyl', 'quino', 'quinocarbazole', 'quinocarbazoles', 'quinolin', 'quinoline', 'quinolines', 'quinolino', 'quinolinone', 'quinolinoquinoline', 'quinolinquinone', 'quinolinylphosphine', 'quinolinylphosphonates', 'quinolone', 'quinolones', 'quinone', 'quinonemethide', 'quinones', 'quinoxalin', 'quinoxaline', 'rabbit', 'rad52', 'raji', 'rat', 'ratibida', 'ratiferolide', 'rauwolfia', 'raw264', 'rebeccamycin', 'receptor', 'recessive', 'recombinant', 'renal', 'repair', 'resistance', 'resistant', 'retinoblastoma', 'retro', 'retrochalcone', 'retroviral', 'reverse', 'rh123', 'rhamnosyl', 'rhamnosylated', 'rheumatoid', 'rhodamine', 'rhodanine', 'ribofuranoside', 'ribose', 'ring', 'rinorea', 'rna', 'rosettacin', 'rpmi', 'rpmi8402', 'rs322', 'rubiaceae', 'rubra', 'rubralactone', 'rutaecarpa', 'saccharomyces', 'saha', 'salmonella', 'salt', 'salts', 'sapiens', 'sarcoma', 'sas', 'scab', 'scabies', 'schiff', 'scid', 'sclc', 'scopoletin', 'sds', 'se3', 'se4', 'sea', 'seaweed', 'secalonic', 'seco', 'secondary', 'securinine', 'selective', 'selenol', 'selenoxanthylium', 'semicarbazones', 'sepsis', 'ser139', 'serpentina', 'sesquiterpene', 'sesquiterpenoids', 'sgc', 'sgc7901', 'sh', 'shikonin', 'sildenafil', 'simian', 'simocyclinone', 'simplex', 'sirt1', 'sirt2', 'sirtuin', 'sirtuins', 'sitosterol', 'sj', 'sjcrh30', 'sk', 'skhep', 'sklvb', 'skov', 'skov03', 'skov3', 'skvlb', 'small', 'smcx', 'smmc', 'sn', 'sn38', 'snu', 'snu638', 'sodium', 'solamin', 'solid', 'solphenazines', 'soluble', 'sophora', 'sophoridine', 'sophoridinic', 'sophoridinine', 'sophoridinol', 'sorafenib', 'south', 'sp', 'specific', 'spermidine', 'spindle', 'spiro', 'sponge', 'sponges', 'spp', 'sqstm1', 'squamous', 'src', 'ss1p', 'staphylococcus', 'star', 'stat', 'stat3', 'staurosporine', 'stellera', 'steroid', 'steroids', 'stigmast', 'stigmastadien', 'stigmasterol', 'stomach', 'strain', 'streptococcus', 'streptomyces', 'stroke', 'strongylodesma', 'structure', 'sttg1', 'styrenes', 'sub', 'substituents', 'substituted', 'sucrose', 'sugar', 'sugars', 'sulfate', 'sulfide', 'sulfides', 'sulfonated', 'sulfonyl', 'sulfonylamidine', 'sulfophenyl', 'sulforhodamine', 'sulfur', 'sulphureus', 'sup', 'supercoiled', 'superoxides', 'survivin', 'sv40', 'sw480', 'sw948', 'sy5y', 'sybr', 'syndrome', 'syringaresinol', 't24', 't24r', 't3p', 't4', 't47d', 't6', 't7', 'tadalafil', 'talaroflavone', 'talaromyces', 'tamoxifen', 'tannaensis', 'targeted', 'targeting', 'tbs', 'tc32', 'tdp1', 'tdp1cc', 'tdp1were', 'tdp2', 'tdt', 'te671', 'telluroxanthylium', 'telomerase', 'temozolomide', 'terbenzimidazole', 'terbenzimidazoles', 'terephthaloyl', 'terminal', 'terpyridine', 'tert', 'tertiary', 'tetracycle', 'tetracyclic', 'tetrafluoroborates', 'tetrahydro', 'tetrahydrobenzo', 'tetrahydrochromeno', 'tetrahydrocyclopenta', 'tetrahydroindenoquinolines', 'tetrahydroquinoline', 'tetrahydroquinolines', 'tetrahydroquinolino', 'tetrahydroquinolinylphosphane', 'tetrahydroquinolinylphosphine', 'tetrahydroquinolylphosphine', 'tetrahydrothieno', 'tetrahydrothiochromeno', 'tetrahydroxanthone', 'tetrahydroxanthones', 'tetrahydroxycyclopentyl', 'tetraones', 'tetrazolium', 'thalictroides', 'thecin', 'thermomonospora', 'thiadiazole', 'thiazol', 'thiazole', 'thiazoles', 'thiazolidin', 'thiazolidines', 'thiazolidinone', 'thiazolobenzotriazole', 'thiazoloindolo', 'thiazolyl', 'thieno', 'thienothiophene', 'thienyl', 'thienylcarboxanilides', 'thienylvinyl', 'thiiranylmethoxy', 'thiiranylmethyloxy', 'thio', 'thiochromeno', 'thiocolchicine', 'thioepoxide', 'thiohydantoin', 'thiolactone', 'thiols', 'thione', 'thionyl', 'thiophen', 'thiophene', 'thiophenes', 'thiophenols', 'thiophenyl', 'thiosemicarbazone', 'thiosemicarbazones', 'thiourea', 'thioxanthylium', 'thioxo', 'thr718', 'thymine', 'thymus', 'tigeloyl', 'tip60', 'tld', 'tlr', 'tlr4', 'tnbc', 'tnf', 'tnox', 'tofacitinib', 'tolfenamic', 'toll', 'toluidine', 'tolyl', 'top', 'top1', 'top1cc', 'top1ccs', 'top2', 'topi', 'topib', 'topo', 'topo1', 'topoi', 'topoiiα', 'topoisomerase', 'topoisomerases', 'topopyrone', 'topos', 'topotecan', 'tosylanthra', 'tosylhexahydroquinolino', 'toxicity', 'toxin', 'tpg', 'tpt', 'transcriptase', 'transferase', 'transporter', 'transporters', 'tri', 'triaryl', 'triazachrysen', 'triazachrysenes', 'triazinane', 'triazole', 'trichloro', 'tricyclic', 'tridemethyldeacetylthiocolchicine', 'tridemethylthiocolchicine', 'trifluoracetic', 'trifluoride', 'trifluoroacetate', 'trifluoromethyl', 'trihydroxy', 'trihydroxybenzoyl', 'trihydroxybenzylidene', 'trihydroxylated', 'trimethoxybenzoyl', 'trimethyl', 'trimethylammonium', 'triol', 'triones', 'triphenyl', 'triphosgene', 'triple', 'tris', 'trisubstituted', 'triterpene', 'triterpenes', 'triterpenoid', 'triterpenoids', 'tritylcysteine', 'trypanthrins', 'tryptamine', 'tryptamines', 'tryptanthrin', 'tryptanthrins', 'tryptophan', 'tsc24', 'tsitsikamma', 'tsitsikammamine', 'tsitsikammamines', 'tubulin', 'tuftsin', 'tumor', 'tumors', 'tumour', 'tyk2', 'type', 'types', 'typhimurium', 'tyrosine', 'tyrosyl', 'tyrphostins', 'tü', 'u2os', 'u87mg', 'u937', 'unbs3157', 'ungeremine', 'unsaturated', 'uracil', 'urea', 'ureas', 'ureido', 'vaco', 'vardenafil', 'vasicinones', 'vdac1', 've', 'vegf', 'velutin', 'vemurafenib', 'vericolor', 'versicolor', 'versixanthones', 'vicia', 'vin', 'vinyl', 'vinylindoles', 'viral', 'virus', 'visceral', 'vittatine', 'vp', 'waf1', 'wakayin', 'wee1', 'wheat', 'wi', 'wild', 'wt', 'xanthanolide', 'xanthen', 'xanthone', 'xanthones', 'xanthylium', 'xenograft', 'xenografted', 'xiap', 'xl', 'xtt', 'yeast', 'yl', 'ylamino', 'ylbenzene', 'ylidene', 'ylmethylene', 'yloxy', 'ylpropoxy', 'ym155', 'yohimbinic', 'yrate', 'zebrafish', 'zl', 'zn', 'zr', 'κb']\n",
      "(1137, 2378)\n"
     ]
    }
   ],
   "source": [
    "dir(Assay_Count_Vect)\n",
    "print(Assay_Count_Vect.get_feature_names())\n",
    "print(Assay_Train_Counts.shape)"
   ]
  },
  {
   "cell_type": "code",
   "execution_count": 70,
   "metadata": {
    "colab": {
     "base_uri": "https://localhost:8080/",
     "height": 381
    },
    "id": "jbzCtj-kQRQC",
    "outputId": "591945d4-b280-4f06-e0b6-619be49f5caf"
   },
   "outputs": [],
   "source": [
    "from sklearn.cluster import AgglomerativeClustering\n",
    "import numpy as np\n",
    "from scipy.cluster.hierarchy import dendrogram\n",
    "\n",
    "n_clusters = 10  # number of regions\n",
    "X = Assay_Train_Counts.toarray()\n",
    "\n",
    "#ward = AgglomerativeClustering(\n",
    "   # n_clusters = n_clusters, linkage=\"ward\", connectivity=None, compute_full_tree= True,compute_distances= True\n",
    "#)\n",
    "#ward.fit(X)\n",
    "\n",
    "#ward.distances_\n",
    "#ward.distances_.shape"
   ]
  },
  {
   "cell_type": "code",
   "execution_count": 71,
   "metadata": {
    "colab": {
     "base_uri": "https://localhost:8080/"
    },
    "id": "yCvpko_5tgYo",
    "outputId": "1c18a02d-985d-45df-abb9-e526a1d33c6c"
   },
   "outputs": [
    {
     "ename": "AttributeError",
     "evalue": "'AgglomerativeClustering' object has no attribute 'distances_'",
     "output_type": "error",
     "traceback": [
      "\u001b[0;31m---------------------------------------------------------------------------\u001b[0m",
      "\u001b[0;31mAttributeError\u001b[0m                            Traceback (most recent call last)",
      "\u001b[0;32m<ipython-input-71-89224624c39f>\u001b[0m in \u001b[0;36m<module>\u001b[0;34m\u001b[0m\n\u001b[1;32m      5\u001b[0m \u001b[0;31m#print(ward.distances_.shape)\u001b[0m\u001b[0;34m\u001b[0m\u001b[0;34m\u001b[0m\u001b[0;34m\u001b[0m\u001b[0m\n\u001b[1;32m      6\u001b[0m \u001b[0;31m#print(ward.children_)\u001b[0m\u001b[0;34m\u001b[0m\u001b[0;34m\u001b[0m\u001b[0;34m\u001b[0m\u001b[0m\n\u001b[0;32m----> 7\u001b[0;31m \u001b[0mX_Hist\u001b[0m \u001b[0;34m=\u001b[0m \u001b[0mward\u001b[0m\u001b[0;34m.\u001b[0m\u001b[0mdistances_\u001b[0m\u001b[0;34m\u001b[0m\u001b[0;34m\u001b[0m\u001b[0m\n\u001b[0m\u001b[1;32m      8\u001b[0m \u001b[0;31m#hist(X_Hist)\u001b[0m\u001b[0;34m\u001b[0m\u001b[0;34m\u001b[0m\u001b[0;34m\u001b[0m\u001b[0m\n\u001b[1;32m      9\u001b[0m \u001b[0mkernel\u001b[0m \u001b[0;34m=\u001b[0m \u001b[0mstats\u001b[0m\u001b[0;34m.\u001b[0m\u001b[0mgaussian_kde\u001b[0m\u001b[0;34m(\u001b[0m\u001b[0mX_Hist\u001b[0m\u001b[0;34m)\u001b[0m\u001b[0;34m\u001b[0m\u001b[0;34m\u001b[0m\u001b[0m\n",
      "\u001b[0;31mAttributeError\u001b[0m: 'AgglomerativeClustering' object has no attribute 'distances_'"
     ]
    }
   ],
   "source": [
    "from matplotlib.pyplot import hist\n",
    "from sklearn.neighbors import KernelDensity\n",
    "from scipy import stats\n",
    "#print(ward.distances_)\n",
    "#print(ward.distances_.shape)\n",
    "#print(ward.children_)\n",
    "X_Hist = ward.distances_\n",
    "#hist(X_Hist)\n",
    "kernel = stats.gaussian_kde(X_Hist)\n",
    "print(kernel(X_Hist))\n",
    "print(X_Hist)"
   ]
  },
  {
   "cell_type": "code",
   "execution_count": 26,
   "metadata": {
    "colab": {
     "base_uri": "https://localhost:8080/"
    },
    "id": "rg3V9zlRXrDo",
    "outputId": "d82f7a14-fc96-4721-af98-e1bdc991b0e8"
   },
   "outputs": [],
   "source": [
    "!pip install seaborn"
   ]
  },
  {
   "cell_type": "code",
   "execution_count": 72,
   "metadata": {
    "colab": {
     "base_uri": "https://localhost:8080/",
     "height": 1000
    },
    "id": "0xlNKnGVYSS6",
    "outputId": "ab4d991e-ea41-4de2-f2c3-d3e0e8ea313b"
   },
   "outputs": [
    {
     "data": {
      "text/plain": [
       "<seaborn.matrix.ClusterGrid at 0x7fc469804310>"
      ]
     },
     "execution_count": 72,
     "metadata": {},
     "output_type": "execute_result"
    },
    {
     "data": {
      "image/png": "[encoded data removed]",
      "text/plain": [
       "<Figure size 720x720 with 4 Axes>"
      ]
     },
     "metadata": {
      "needs_background": "light"
     },
     "output_type": "display_data"
    }
   ],
   "source": [
    "import seaborn\n",
    "\n",
    "seaborn.clustermap(X,method='ward')\n",
    "\n"
   ]
  },
  {
   "cell_type": "code",
   "execution_count": 74,
   "metadata": {
    "colab": {
     "base_uri": "https://localhost:8080/",
     "height": 74
    },
    "id": "0hP494F4po4j",
    "outputId": "f966d7fb-bd09-4e22-c815-11d4713021ca"
   },
   "outputs": [
    {
     "data": {
      "text/plain": [
       "TfidfTransformer(norm='l2', smooth_idf=True, sublinear_tf=False, use_idf=True)"
      ]
     },
     "execution_count": 74,
     "metadata": {},
     "output_type": "execute_result"
    }
   ],
   "source": [
    "from sklearn.feature_extraction.text import TfidfVectorizer\n",
    "from sklearn.feature_extraction.text import TfidfTransformer\n",
    "from sklearn.feature_extraction.text import CountVectorizer\n",
    "import pandas as pd\n",
    "\n",
    "tfidf_transformer=TfidfTransformer(smooth_idf=True,use_idf=True)\n",
    "tfidf_transformer.fit(Assay_Train_Counts)"
   ]
  },
  {
   "cell_type": "code",
   "execution_count": 76,
   "metadata": {
    "colab": {
     "base_uri": "https://localhost:8080/",
     "height": 423
    },
    "id": "0tayF_OlpwEI",
    "outputId": "0e1cba3b-362c-4676-d84f-8b66540008b1"
   },
   "outputs": [
    {
     "data": {
      "text/html": [
       "<div>\n",
       "<style scoped>\n",
       "    .dataframe tbody tr th:only-of-type {\n",
       "        vertical-align: middle;\n",
       "    }\n",
       "\n",
       "    .dataframe tbody tr th {\n",
       "        vertical-align: top;\n",
       "    }\n",
       "\n",
       "    .dataframe thead th {\n",
       "        text-align: right;\n",
       "    }\n",
       "</style>\n",
       "<table border=\"1\" class=\"dataframe\">\n",
       "  <thead>\n",
       "    <tr style=\"text-align: right;\">\n",
       "      <th></th>\n",
       "      <th>idf_weights</th>\n",
       "    </tr>\n",
       "  </thead>\n",
       "  <tbody>\n",
       "    <tr>\n",
       "      <th>topoisomerase</th>\n",
       "      <td>1.156644</td>\n",
       "    </tr>\n",
       "    <tr>\n",
       "      <th>human</th>\n",
       "      <td>1.790921</td>\n",
       "    </tr>\n",
       "    <tr>\n",
       "      <th>cytotoxicity</th>\n",
       "      <td>1.923345</td>\n",
       "    </tr>\n",
       "    <tr>\n",
       "      <th>camptothecin</th>\n",
       "      <td>2.244014</td>\n",
       "    </tr>\n",
       "    <tr>\n",
       "      <th>dna</th>\n",
       "      <td>2.244014</td>\n",
       "    </tr>\n",
       "    <tr>\n",
       "      <th>...</th>\n",
       "      <td>...</td>\n",
       "    </tr>\n",
       "    <tr>\n",
       "      <th>drimentine</th>\n",
       "      <td>7.343880</td>\n",
       "    </tr>\n",
       "    <tr>\n",
       "      <th>dolastatin</th>\n",
       "      <td>7.343880</td>\n",
       "    </tr>\n",
       "    <tr>\n",
       "      <th>dodecyl</th>\n",
       "      <td>7.343880</td>\n",
       "    </tr>\n",
       "    <tr>\n",
       "      <th>peroxide</th>\n",
       "      <td>7.343880</td>\n",
       "    </tr>\n",
       "    <tr>\n",
       "      <th>huvec</th>\n",
       "      <td>7.343880</td>\n",
       "    </tr>\n",
       "  </tbody>\n",
       "</table>\n",
       "<p>2378 rows × 1 columns</p>\n",
       "</div>"
      ],
      "text/plain": [
       "               idf_weights\n",
       "topoisomerase     1.156644\n",
       "human             1.790921\n",
       "cytotoxicity      1.923345\n",
       "camptothecin      2.244014\n",
       "dna               2.244014\n",
       "...                    ...\n",
       "drimentine        7.343880\n",
       "dolastatin        7.343880\n",
       "dodecyl           7.343880\n",
       "peroxide          7.343880\n",
       "huvec             7.343880\n",
       "\n",
       "[2378 rows x 1 columns]"
      ]
     },
     "execution_count": 76,
     "metadata": {},
     "output_type": "execute_result"
    }
   ],
   "source": [
    "\n",
    "# print idf values\n",
    "df_idf = pd.DataFrame(tfidf_transformer.idf_,index=Assay_Count_Vect.get_feature_names(),columns=[\"idf_weights\"])\n",
    "\n",
    "# sort ascending\n",
    "df_idf.sort_values(by=['idf_weights'])\n"
   ]
  },
  {
   "cell_type": "code",
   "execution_count": 77,
   "metadata": {
    "colab": {
     "base_uri": "https://localhost:8080/"
    },
    "id": "v7gsFWonp2oq",
    "outputId": "e61371b5-b287-4c86-c9b9-9f0855b2f801"
   },
   "outputs": [
    {
     "name": "stdout",
     "output_type": "stream",
     "text": [
      "  (0, 1187)\t1.0\n",
      "  (1, 2244)\t0.35699127662321983\n",
      "  (1, 2100)\t0.1735370913966995\n",
      "  (1, 1916)\t0.24874833401134397\n",
      "  (1, 1867)\t0.2271817834259233\n",
      "  (1, 1666)\t0.5278836822565193\n",
      "  (1, 1496)\t0.21246494920186504\n",
      "  (1, 924)\t0.2271817834259233\n",
      "  (1, 825)\t0.24654349845944556\n",
      "  (1, 708)\t0.1187258689272663\n",
      "  (1, 466)\t0.5278836822565193\n",
      "  (2, 2244)\t0.35699127662321983\n",
      "  (2, 2100)\t0.1735370913966995\n",
      "  (2, 1916)\t0.24874833401134397\n",
      "  (2, 1867)\t0.2271817834259233\n",
      "  (2, 1666)\t0.5278836822565193\n",
      "  (2, 1496)\t0.21246494920186504\n",
      "  (2, 924)\t0.2271817834259233\n",
      "  (2, 825)\t0.24654349845944556\n",
      "  (2, 708)\t0.1187258689272663\n",
      "  (2, 466)\t0.5278836822565193\n",
      "  (3, 2244)\t0.35699127662321983\n",
      "  (3, 2100)\t0.1735370913966995\n",
      "  (3, 1916)\t0.24874833401134397\n",
      "  (3, 1867)\t0.2271817834259233\n",
      "  :\t:\n",
      "  (1135, 1121)\t0.23277890941320345\n",
      "  (1135, 972)\t0.2512787572735766\n",
      "  (1135, 953)\t0.48088243203678843\n",
      "  (1135, 652)\t0.2512787572735766\n",
      "  (1135, 567)\t0.27758049347745906\n",
      "  (1135, 265)\t0.09318978684491251\n",
      "  (1136, 2308)\t0.16788929534347777\n",
      "  (1136, 2304)\t0.11829251620815193\n",
      "  (1136, 2245)\t0.10960256277661823\n",
      "  (1136, 2130)\t0.2512787572735766\n",
      "  (1136, 2064)\t0.24086018325358416\n",
      "  (1136, 2040)\t0.21149187256709032\n",
      "  (1136, 1776)\t0.12538981608167135\n",
      "  (1136, 1569)\t0.21575745389034476\n",
      "  (1136, 1416)\t0.22617602791033725\n",
      "  (1136, 1232)\t0.09052785231976637\n",
      "  (1136, 1186)\t0.22617602791033725\n",
      "  (1136, 1171)\t0.2512787572735766\n",
      "  (1136, 1124)\t0.21575745389034476\n",
      "  (1136, 1121)\t0.23277890941320345\n",
      "  (1136, 972)\t0.2512787572735766\n",
      "  (1136, 953)\t0.48088243203678843\n",
      "  (1136, 652)\t0.2512787572735766\n",
      "  (1136, 567)\t0.27758049347745906\n",
      "  (1136, 265)\t0.09318978684491251\n"
     ]
    },
    {
     "data": {
      "text/plain": [
       "(1137, 2378)"
      ]
     },
     "execution_count": 77,
     "metadata": {},
     "output_type": "execute_result"
    }
   ],
   "source": [
    "# count matrix\n",
    "count_vector=Assay_Count_Vect.transform(Assay_Descriptions_List)\n",
    "\n",
    "# tf-idf scores\n",
    "tf_idf_vector=tfidf_transformer.transform(count_vector)\n",
    "print(tf_idf_vector)\n",
    "tf_idf_vector.shape"
   ]
  },
  {
   "cell_type": "code",
   "execution_count": 79,
   "metadata": {
    "colab": {
     "base_uri": "https://localhost:8080/",
     "height": 423
    },
    "id": "jwN0Zsm-qBh_",
    "outputId": "54636ee2-49b3-48f4-a81b-d4add8e572f7"
   },
   "outputs": [
    {
     "data": {
      "text/html": [
       "<div>\n",
       "<style scoped>\n",
       "    .dataframe tbody tr th:only-of-type {\n",
       "        vertical-align: middle;\n",
       "    }\n",
       "\n",
       "    .dataframe tbody tr th {\n",
       "        vertical-align: top;\n",
       "    }\n",
       "\n",
       "    .dataframe thead th {\n",
       "        text-align: right;\n",
       "    }\n",
       "</style>\n",
       "<table border=\"1\" class=\"dataframe\">\n",
       "  <thead>\n",
       "    <tr style=\"text-align: right;\">\n",
       "      <th></th>\n",
       "      <th>tfidf</th>\n",
       "    </tr>\n",
       "  </thead>\n",
       "  <tbody>\n",
       "    <tr>\n",
       "      <th>human</th>\n",
       "      <td>1.0</td>\n",
       "    </tr>\n",
       "    <tr>\n",
       "      <th>088</th>\n",
       "      <td>0.0</td>\n",
       "    </tr>\n",
       "    <tr>\n",
       "      <th>naphthyridi</th>\n",
       "      <td>0.0</td>\n",
       "    </tr>\n",
       "    <tr>\n",
       "      <th>naphthol</th>\n",
       "      <td>0.0</td>\n",
       "    </tr>\n",
       "    <tr>\n",
       "      <th>naphthoquinone</th>\n",
       "      <td>0.0</td>\n",
       "    </tr>\n",
       "    <tr>\n",
       "      <th>...</th>\n",
       "      <td>...</td>\n",
       "    </tr>\n",
       "    <tr>\n",
       "      <th>diethylcarboxamide</th>\n",
       "      <td>0.0</td>\n",
       "    </tr>\n",
       "    <tr>\n",
       "      <th>diethylene</th>\n",
       "      <td>0.0</td>\n",
       "    </tr>\n",
       "    <tr>\n",
       "      <th>diethylmethyl</th>\n",
       "      <td>0.0</td>\n",
       "    </tr>\n",
       "    <tr>\n",
       "      <th>difluoro</th>\n",
       "      <td>0.0</td>\n",
       "    </tr>\n",
       "    <tr>\n",
       "      <th>κb</th>\n",
       "      <td>0.0</td>\n",
       "    </tr>\n",
       "  </tbody>\n",
       "</table>\n",
       "<p>2378 rows × 1 columns</p>\n",
       "</div>"
      ],
      "text/plain": [
       "                    tfidf\n",
       "human                 1.0\n",
       "088                   0.0\n",
       "naphthyridi           0.0\n",
       "naphthol              0.0\n",
       "naphthoquinone        0.0\n",
       "...                   ...\n",
       "diethylcarboxamide    0.0\n",
       "diethylene            0.0\n",
       "diethylmethyl         0.0\n",
       "difluoro              0.0\n",
       "κb                    0.0\n",
       "\n",
       "[2378 rows x 1 columns]"
      ]
     },
     "execution_count": 79,
     "metadata": {},
     "output_type": "execute_result"
    }
   ],
   "source": [
    "feature_names = Assay_Count_Vect.get_feature_names()\n",
    "\n",
    "#get tfidf vector for first document\n",
    "first_document_vector=tf_idf_vector[0]\n",
    "\n",
    "#print the scores\n",
    "df = pd.DataFrame(first_document_vector.T.todense(), index=feature_names, columns=[\"tfidf\"])\n",
    "df.sort_values(by=[\"tfidf\"],ascending=False)"
   ]
  },
  {
   "cell_type": "code",
   "execution_count": 80,
   "metadata": {
    "colab": {
     "base_uri": "https://localhost:8080/",
     "height": 1000
    },
    "id": "gJ22MvecqHE9",
    "outputId": "573fbb46-45ab-46a7-e49a-0a1a66f9bf66"
   },
   "outputs": [
    {
     "name": "stderr",
     "output_type": "stream",
     "text": [
      "/home/ubuntu/.local/lib/python3.8/site-packages/seaborn/matrix.py:560: UserWarning: Clustering large matrix with scipy. Installing `fastcluster` may give better performance.\n",
      "  warnings.warn(msg)\n"
     ]
    },
    {
     "data": {
      "text/plain": [
       "<seaborn.matrix.ClusterGrid at 0x7fc56cdbdfd0>"
      ]
     },
     "execution_count": 80,
     "metadata": {},
     "output_type": "execute_result"
    },
    {
     "data": {
      "image/png": "[encoded data removed]",
      "text/plain": [
       "<Figure size 720x720 with 4 Axes>"
      ]
     },
     "metadata": {
      "needs_background": "light"
     },
     "output_type": "display_data"
    }
   ],
   "source": [
    "import seaborn\n",
    "\n",
    "seaborn.clustermap(tf_idf_vector.toarray(),method='ward')"
   ]
  },
  {
   "cell_type": "code",
   "execution_count": null,
   "metadata": {},
   "outputs": [],
   "source": []
  },
  {
   "cell_type": "code",
   "execution_count": 51,
   "metadata": {
    "colab": {
     "base_uri": "https://localhost:8080/"
    },
    "id": "1aPn8IpEe7Q-",
    "outputId": "a07ef6cd-e804-4929-8062-2e16ce47d226"
   },
   "outputs": [
    {
     "name": "stdout",
     "output_type": "stream",
     "text": [
      "Defaulting to user installation because normal site-packages is not writeable\n",
      "Requirement already satisfied: flair in ./.local/lib/python3.8/site-packages (0.12.2)\n",
      "Requirement already satisfied: tabulate in ./.local/lib/python3.8/site-packages (from flair) (0.9.0)\n",
      "Requirement already satisfied: bpemb>=0.3.2 in ./.local/lib/python3.8/site-packages (from flair) (0.3.4)\n",
      "Requirement already satisfied: huggingface-hub>=0.10.0 in ./.local/lib/python3.8/site-packages (from flair) (0.16.4)\n",
      "Requirement already satisfied: regex in ./.local/lib/python3.8/site-packages (from flair) (2023.6.3)\n",
      "Requirement already satisfied: pytorch-revgrad in ./.local/lib/python3.8/site-packages (from flair) (0.2.0)\n",
      "Requirement already satisfied: boto3 in ./.local/lib/python3.8/site-packages (from flair) (1.28.3)\n",
      "Requirement already satisfied: wikipedia-api in ./.local/lib/python3.8/site-packages (from flair) (0.6.0)\n",
      "Requirement already satisfied: gensim>=3.8.0 in ./.local/lib/python3.8/site-packages (from flair) (4.3.1)\n",
      "Requirement already satisfied: transformer-smaller-training-vocab>=0.2.1 in ./.local/lib/python3.8/site-packages (from flair) (0.2.4)\n",
      "Requirement already satisfied: python-dateutil>=2.6.1 in ./.local/lib/python3.8/site-packages (from flair) (2.8.2)\n",
      "Requirement already satisfied: torch!=1.8,>=1.5.0 in /usr/lib/python3/dist-packages (from flair) (1.13.1)\n",
      "Requirement already satisfied: tqdm>=4.26.0 in ./.local/lib/python3.8/site-packages (from flair) (4.64.1)\n",
      "Requirement already satisfied: transformers[sentencepiece]>=4.18.0 in ./.local/lib/python3.8/site-packages (from flair) (4.30.2)\n",
      "Requirement already satisfied: pptree in ./.local/lib/python3.8/site-packages (from flair) (3.1)\n",
      "Requirement already satisfied: sqlitedict>=1.6.0 in ./.local/lib/python3.8/site-packages (from flair) (2.1.0)\n",
      "Requirement already satisfied: deprecated>=1.2.4 in ./.local/lib/python3.8/site-packages (from flair) (1.2.14)\n",
      "Requirement already satisfied: conllu>=4.0 in ./.local/lib/python3.8/site-packages (from flair) (4.5.3)\n",
      "Requirement already satisfied: janome in ./.local/lib/python3.8/site-packages (from flair) (0.5.0)\n",
      "Requirement already satisfied: ftfy in ./.local/lib/python3.8/site-packages (from flair) (6.1.1)\n",
      "Requirement already satisfied: matplotlib>=2.2.3 in ./.local/lib/python3.8/site-packages (from flair) (3.6.3)\n",
      "Requirement already satisfied: more-itertools in /usr/lib/python3/dist-packages (from flair) (4.2.0)\n",
      "Requirement already satisfied: lxml in /usr/lib/python3/dist-packages (from flair) (4.5.0)\n",
      "Requirement already satisfied: hyperopt>=0.2.7 in ./.local/lib/python3.8/site-packages (from flair) (0.2.7)\n",
      "Requirement already satisfied: scikit-learn>=0.21.3 in /usr/lib/python3/dist-packages (from flair) (0.22.2.post1)\n",
      "Requirement already satisfied: segtok>=1.5.7 in ./.local/lib/python3.8/site-packages (from flair) (1.5.11)\n",
      "Requirement already satisfied: gdown==4.4.0 in ./.local/lib/python3.8/site-packages (from flair) (4.4.0)\n",
      "Requirement already satisfied: mpld3==0.3 in ./.local/lib/python3.8/site-packages (from flair) (0.3)\n",
      "Requirement already satisfied: langdetect in ./.local/lib/python3.8/site-packages (from flair) (1.0.9)\n",
      "Requirement already satisfied: requests[socks] in ./.local/lib/python3.8/site-packages (from gdown==4.4.0->flair) (2.28.2)\n",
      "Requirement already satisfied: six in /usr/lib/python3/dist-packages (from gdown==4.4.0->flair) (1.14.0)\n",
      "Requirement already satisfied: beautifulsoup4 in /usr/lib/python3/dist-packages (from gdown==4.4.0->flair) (4.8.2)\n",
      "Requirement already satisfied: filelock in /usr/lib/python3/dist-packages (from gdown==4.4.0->flair) (3.0.12)\n",
      "Requirement already satisfied: numpy in ./.local/lib/python3.8/site-packages (from bpemb>=0.3.2->flair) (1.23.5)\n",
      "Requirement already satisfied: sentencepiece in ./.local/lib/python3.8/site-packages (from bpemb>=0.3.2->flair) (0.1.99)\n",
      "Requirement already satisfied: wrapt<2,>=1.10 in /usr/lib/python3/dist-packages (from deprecated>=1.2.4->flair) (1.11.2)\n",
      "Requirement already satisfied: smart-open>=1.8.1 in ./.local/lib/python3.8/site-packages (from gensim>=3.8.0->flair) (6.3.0)\n",
      "Requirement already satisfied: scipy>=1.7.0 in ./.local/lib/python3.8/site-packages (from gensim>=3.8.0->flair) (1.9.3)\n",
      "Requirement already satisfied: packaging>=20.9 in ./.local/lib/python3.8/site-packages (from huggingface-hub>=0.10.0->flair) (23.0)\n",
      "Requirement already satisfied: typing-extensions>=3.7.4.3 in ./.local/lib/python3.8/site-packages (from huggingface-hub>=0.10.0->flair) (4.5.0)\n",
      "Requirement already satisfied: pyyaml>=5.1 in ./.local/lib/python3.8/site-packages (from huggingface-hub>=0.10.0->flair) (6.0)\n",
      "Requirement already satisfied: fsspec in ./.local/lib/python3.8/site-packages (from huggingface-hub>=0.10.0->flair) (2023.6.0)\n",
      "Requirement already satisfied: cloudpickle in /usr/lib/python3/dist-packages (from hyperopt>=0.2.7->flair) (1.3.0)\n",
      "Requirement already satisfied: py4j in ./.local/lib/python3.8/site-packages (from hyperopt>=0.2.7->flair) (0.10.9.7)\n",
      "Requirement already satisfied: future in /usr/lib/python3/dist-packages (from hyperopt>=0.2.7->flair) (0.18.2)\n",
      "Requirement already satisfied: networkx>=2.2 in /usr/lib/python3/dist-packages (from hyperopt>=0.2.7->flair) (2.4)\n",
      "Requirement already satisfied: kiwisolver>=1.0.1 in /usr/lib/python3/dist-packages (from matplotlib>=2.2.3->flair) (1.0.1)\n",
      "Requirement already satisfied: contourpy>=1.0.1 in ./.local/lib/python3.8/site-packages (from matplotlib>=2.2.3->flair) (1.0.7)\n",
      "Requirement already satisfied: fonttools>=4.22.0 in ./.local/lib/python3.8/site-packages (from matplotlib>=2.2.3->flair) (4.39.0)\n",
      "Requirement already satisfied: cycler>=0.10 in /usr/lib/python3/dist-packages (from matplotlib>=2.2.3->flair) (0.10.0)\n",
      "Requirement already satisfied: pyparsing>=2.2.1 in /usr/lib/python3/dist-packages (from matplotlib>=2.2.3->flair) (2.4.6)\n",
      "Requirement already satisfied: pillow>=6.2.0 in /usr/lib/python3/dist-packages (from matplotlib>=2.2.3->flair) (7.0.0)\n",
      "Requirement already satisfied: datasets<3.0.0,>=2.0.0 in ./.local/lib/python3.8/site-packages (from transformer-smaller-training-vocab>=0.2.1->flair) (2.13.1)\n",
      "Requirement already satisfied: tokenizers!=0.11.3,<0.14,>=0.11.1 in ./.local/lib/python3.8/site-packages (from transformers[sentencepiece]>=4.18.0->flair) (0.13.3)\n",
      "Requirement already satisfied: safetensors>=0.3.1 in ./.local/lib/python3.8/site-packages (from transformers[sentencepiece]>=4.18.0->flair) (0.3.1)\n",
      "Requirement already satisfied: protobuf<=3.20.3 in /usr/lib/python3/dist-packages (from transformers[sentencepiece]>=4.18.0->flair) (3.11.4)\n",
      "Requirement already satisfied: s3transfer<0.7.0,>=0.6.0 in ./.local/lib/python3.8/site-packages (from boto3->flair) (0.6.1)\n",
      "Requirement already satisfied: jmespath<2.0.0,>=0.7.1 in ./.local/lib/python3.8/site-packages (from boto3->flair) (1.0.1)\n",
      "Requirement already satisfied: botocore<1.32.0,>=1.31.3 in ./.local/lib/python3.8/site-packages (from boto3->flair) (1.31.3)\n",
      "Requirement already satisfied: wcwidth>=0.2.5 in ./.local/lib/python3.8/site-packages (from ftfy->flair) (0.2.6)\n",
      "Requirement already satisfied: urllib3<1.27,>=1.25.4 in /usr/lib/python3/dist-packages (from botocore<1.32.0,>=1.31.3->boto3->flair) (1.25.8)\n",
      "Requirement already satisfied: multiprocess in ./.local/lib/python3.8/site-packages (from datasets<3.0.0,>=2.0.0->transformer-smaller-training-vocab>=0.2.1->flair) (0.70.14)\n",
      "Requirement already satisfied: pandas in ./.local/lib/python3.8/site-packages (from datasets<3.0.0,>=2.0.0->transformer-smaller-training-vocab>=0.2.1->flair) (1.5.3)\n",
      "Requirement already satisfied: aiohttp in ./.local/lib/python3.8/site-packages (from datasets<3.0.0,>=2.0.0->transformer-smaller-training-vocab>=0.2.1->flair) (3.8.4)\n",
      "Requirement already satisfied: dill<0.3.7,>=0.3.0 in ./.local/lib/python3.8/site-packages (from datasets<3.0.0,>=2.0.0->transformer-smaller-training-vocab>=0.2.1->flair) (0.3.6)\n",
      "Requirement already satisfied: pyarrow>=8.0.0 in ./.local/lib/python3.8/site-packages (from datasets<3.0.0,>=2.0.0->transformer-smaller-training-vocab>=0.2.1->flair) (12.0.1)\n",
      "Requirement already satisfied: xxhash in ./.local/lib/python3.8/site-packages (from datasets<3.0.0,>=2.0.0->transformer-smaller-training-vocab>=0.2.1->flair) (3.2.0)\n",
      "Requirement already satisfied: charset-normalizer<4,>=2 in ./.local/lib/python3.8/site-packages (from requests[socks]->gdown==4.4.0->flair) (3.1.0)\n",
      "Requirement already satisfied: certifi>=2017.4.17 in /usr/lib/python3/dist-packages (from requests[socks]->gdown==4.4.0->flair) (2019.11.28)\n",
      "Requirement already satisfied: idna<4,>=2.5 in /usr/lib/python3/dist-packages (from requests[socks]->gdown==4.4.0->flair) (2.8)\n",
      "Requirement already satisfied: accelerate>=0.20.2 in ./.local/lib/python3.8/site-packages (from transformers[sentencepiece]>=4.18.0->flair) (0.21.0)\n",
      "Requirement already satisfied: PySocks!=1.5.7,>=1.5.6 in ./.local/lib/python3.8/site-packages (from requests[socks]->gdown==4.4.0->flair) (1.7.1)\n",
      "Requirement already satisfied: psutil in /usr/lib/python3/dist-packages (from accelerate>=0.20.2->transformers[sentencepiece]>=4.18.0->flair) (5.5.1)\n",
      "Requirement already satisfied: attrs>=17.3.0 in ./.local/lib/python3.8/site-packages (from aiohttp->datasets<3.0.0,>=2.0.0->transformer-smaller-training-vocab>=0.2.1->flair) (21.4.0)\n",
      "Requirement already satisfied: multidict<7.0,>=4.5 in ./.local/lib/python3.8/site-packages (from aiohttp->datasets<3.0.0,>=2.0.0->transformer-smaller-training-vocab>=0.2.1->flair) (6.0.4)\n",
      "Requirement already satisfied: aiosignal>=1.1.2 in ./.local/lib/python3.8/site-packages (from aiohttp->datasets<3.0.0,>=2.0.0->transformer-smaller-training-vocab>=0.2.1->flair) (1.3.1)\n",
      "Requirement already satisfied: yarl<2.0,>=1.0 in ./.local/lib/python3.8/site-packages (from aiohttp->datasets<3.0.0,>=2.0.0->transformer-smaller-training-vocab>=0.2.1->flair) (1.9.2)\n",
      "Requirement already satisfied: async-timeout<5.0,>=4.0.0a3 in ./.local/lib/python3.8/site-packages (from aiohttp->datasets<3.0.0,>=2.0.0->transformer-smaller-training-vocab>=0.2.1->flair) (4.0.2)\n",
      "Requirement already satisfied: frozenlist>=1.1.1 in ./.local/lib/python3.8/site-packages (from aiohttp->datasets<3.0.0,>=2.0.0->transformer-smaller-training-vocab>=0.2.1->flair) (1.4.0)\n",
      "Requirement already satisfied: pytz>=2020.1 in ./.local/lib/python3.8/site-packages (from pandas->datasets<3.0.0,>=2.0.0->transformer-smaller-training-vocab>=0.2.1->flair) (2022.7.1)\n",
      "\n",
      "\u001b[1m[\u001b[0m\u001b[34;49mnotice\u001b[0m\u001b[1;39;49m]\u001b[0m\u001b[39;49m A new release of pip is available: \u001b[0m\u001b[31;49m23.0.1\u001b[0m\u001b[39;49m -> \u001b[0m\u001b[32;49m23.2\u001b[0m\n",
      "\u001b[1m[\u001b[0m\u001b[34;49mnotice\u001b[0m\u001b[1;39;49m]\u001b[0m\u001b[39;49m To update, run: \u001b[0m\u001b[32;49mpython3 -m pip install --upgrade pip\u001b[0m\n",
      "done\n"
     ]
    }
   ],
   "source": [
    "!pip install flair\n",
    "print(\"done\")"
   ]
  },
  {
   "cell_type": "code",
   "execution_count": 52,
   "metadata": {
    "id": "PE-dCM2TMuNx"
   },
   "outputs": [
    {
     "name": "stdout",
     "output_type": "stream",
     "text": [
      "done\n"
     ]
    }
   ],
   "source": [
    "#!/usr/bin/env python3\n",
    "\n",
    "# Import relevant libraries to make HTTP requests and parse JSON response\n",
    "import requests\n",
    "import json\n",
    "import csv\n",
    "import io\n",
    "\n",
    "from collections import defaultdict\n",
    "from time import time\n",
    "from sklearn import metrics\n",
    "from sklearn.feature_extraction.text import TfidfVectorizer\n",
    "\n",
    "from flair.data import Sentence\n",
    "from flair.nn import Classifier\n",
    "print(\"done\")"
   ]
  },
  {
   "cell_type": "code",
   "execution_count": 53,
   "metadata": {
    "id": "S58u_mh3NT7W"
   },
   "outputs": [
    {
     "name": "stdout",
     "output_type": "stream",
     "text": [
      "done\n"
     ]
    }
   ],
   "source": [
    "# Set disease_id variable for triple-negative breast cancer\n",
    "disease_id = \"EFO_0005537\"\n",
    "\n",
    "# Build query string to get target information as well as count\n",
    "query_string = \"\"\"\n",
    "query KnownDrugs {\n",
    "  disease(efoId: \"EFO_0005537\") {\n",
    "    id\n",
    "    name\n",
    "\t\tassociatedTargets (page: {size: 3, index: 0}) {\n",
    "      rows{\n",
    "        score\n",
    "        target{\n",
    "          id\n",
    "          approvedName\n",
    "          approvedSymbol\n",
    "          knownDrugs{\n",
    "            rows{\n",
    "              drug{\n",
    "                name\n",
    "                id\n",
    "              }\n",
    "            }\n",
    "          }\n",
    "        }\n",
    "      }\n",
    "    }\n",
    "}\n",
    "}\n",
    "\"\"\"\n",
    "print(\"done\")"
   ]
  },
  {
   "cell_type": "code",
   "execution_count": 54,
   "metadata": {
    "colab": {
     "base_uri": "https://localhost:8080/"
    },
    "id": "VOSv_cELNhqv",
    "outputId": "ee97efe9-8292-43b0-e892-07a0e54d443c"
   },
   "outputs": [
    {
     "name": "stdout",
     "output_type": "stream",
     "text": [
      "200\n",
      "done\n",
      "done\n"
     ]
    }
   ],
   "source": [
    "# Set variables object of arguments to be passed to endpoint\n",
    "variables = {\"efoId\": disease_id}\n",
    "\n",
    "# Set base URL of GraphQL API endpoint\n",
    "base_url = \"https://api.platform.opentargets.org/api/v4/graphql\"\n",
    "\n",
    "# Perform POST request and check status code of response\n",
    "r = requests.post(base_url, json={\"query\": query_string, \"variables\": variables})\n",
    "print(r.status_code)\n",
    "\n",
    "#Transform API response from JSON into Python dictionary and print in console\n",
    "api_response = json.loads(r.text)\n",
    "print('done')\n",
    "#print(api_response)\n",
    "print(\"done\")"
   ]
  },
  {
   "cell_type": "code",
   "execution_count": 55,
   "metadata": {
    "colab": {
     "base_uri": "https://localhost:8080/"
    },
    "id": "mkDGecW5OAG2",
    "outputId": "a2d49a8a-9a05-47e3-8e62-bbb5e213e6e1"
   },
   "outputs": [
    {
     "name": "stdout",
     "output_type": "stream",
     "text": [
      "['ENSG00000184292', 'ENSG00000198900', 'ENSG00000120217']\n",
      "done\n"
     ]
    }
   ],
   "source": [
    "a=0\n",
    "#create list of target IDs by calling them from dictionary\n",
    "target_ids = api_response['data']['disease']['associatedTargets']['rows']\n",
    "#print(target_ids)\n",
    "target_id_list = []\n",
    "#pull IDs from dictionary and add to new list\n",
    "while a < len(target_ids):\n",
    "    target_id_list.append(target_ids[a]['target'].get('id'))\n",
    "    a+=1\n",
    "print(target_id_list)\n",
    "print(\"done\")"
   ]
  },
  {
   "cell_type": "code",
   "execution_count": 17,
   "metadata": {
    "colab": {
     "base_uri": "https://localhost:8080/",
     "height": 1000
    },
    "id": "phkFLvoAOkAs",
    "outputId": "2ad34615-a589-4c06-c665-a7600242aea8"
   },
   "outputs": [
    {
     "name": "stdout",
     "output_type": "stream",
     "text": [
      "1904\n",
      "No compounds found for assay. Passing to next assay.\n",
      "624099\n",
      "No compounds found for assay. Passing to next assay.\n",
      "651810\n",
      "No compounds found for assay. Passing to next assay.\n",
      "651811\n",
      "No compounds found for assay. Passing to next assay.\n",
      "743121\n",
      "No compounds found for assay. Passing to next assay.\n",
      "743454\n",
      "No compounds found for assay. Passing to next assay.\n",
      "1117281\n",
      "No compounds found for assay. Passing to next assay.\n",
      "1117357\n",
      "1159506\n",
      "1159578\n",
      "No compounds found for assay. Passing to next assay.\n",
      "1159584\n",
      "No compounds found for assay. Passing to next assay.\n",
      "1224830\n",
      "No compounds found for assay. Passing to next assay.\n",
      "1346172\n",
      "No compounds found for assay. Passing to next assay.\n",
      "1508588\n",
      "No compounds found for assay. Passing to next assay.\n"
     ]
    },
    {
     "data": {
      "text/plain": [
       "1"
      ]
     },
     "metadata": {},
     "output_type": "display_data"
    },
    {
     "name": "stdout",
     "output_type": "stream",
     "text": [
      "1904\n"
     ]
    }
   ],
   "source": [
    "# Create new dictionary assigning assays to to each target, and assigning compounds to each assay using PUG REST\n",
    "# Able to write dictionary at a speed of 4 targets/second\n",
    "\n",
    "a=0\n",
    "target_id_assay_dict = {}\n",
    "counter = 0\n",
    "for target_id in target_id_list:\n",
    "    counter = counter + 1\n",
    "    if counter > 3 :\n",
    "      break\n",
    "# get raw AIDs (Assay IDs) for each Ensemble ID in JSON format using PUG REST\n",
    "    r = requests.get('https://pubchem.ncbi.nlm.nih.gov/rest/pug/gene/synonym/Ensemble:' + target_id + '/aids/json')\n",
    "# convert JSON to Python Dictionary\n",
    "    raw_aids = r.json()\n",
    "    #print(type(raw_aids))\n",
    "# isolate raw_aids into a list containing just the AIDs from the dictionary\n",
    "    try:\n",
    "        aids = raw_aids['InformationList']['Information'][0]['AID']\n",
    "    except:\n",
    "        pass\n",
    "# assign each Ensamble Target ID to dictionary entry with associated Assay IDs\n",
    "    #target_id_assay_dict[id] =  aids\n",
    "\n",
    "    #create sub-dictionary for compounds within each assay\n",
    "    target_id_assay_dict[target_id] =  {}\n",
    "    for aid in aids:\n",
    "        aid = str(aid)\n",
    "        print(aid)\n",
    "        #get raw CIDS (Compound IDs) for each Assay in JSON format using PUG REST\n",
    "        r = requests.get('https://pubchem.ncbi.nlm.nih.gov/assay/pcget.cgi?query=download&record_type=datatable&actvty=active&response_type=display&aid=' + aid)\n",
    "\n",
    "        loose_data = r.text\n",
    "\n",
    "        listed_data = loose_data.split(',')\n",
    "        try:\n",
    "            cid_index = listed_data.index(\"PUBCHEM_CID\")\n",
    "        except:\n",
    "            continue\n",
    "        #print(cid_index)\n",
    "        #print(type(cid_index))\n",
    "\n",
    "        activity_index = listed_data.index(\"PUBCHEM_ACTIVITY_SCORE\")\n",
    "        #print(activity_index)\n",
    "        #print(type(activity_index))\n",
    "\n",
    "\n",
    "        fhand = io.StringIO(loose_data)\n",
    "\n",
    "        cids_with_activities = []\n",
    "\n",
    "        for line in fhand:\n",
    "            line = line.split(',')\n",
    "\n",
    "            while ('' in line):\n",
    "                line.remove('')\n",
    "            try:\n",
    "                int(line[0])\n",
    "                int(line[cid_index])\n",
    "                float(line[activity_index])\n",
    "            except:\n",
    "                line = \"\"\n",
    "                continue\n",
    "            cid_with_activity = (line[cid_index], line[activity_index])\n",
    "            cids_with_activities.append(cid_with_activity)\n",
    "        #isolate raw_cids into a list containing just the CIDs from the dictionary\n",
    "        if len(cids_with_activities) > 0:\n",
    "            #assign CIDs to associated AID dictionary entry\n",
    "            target_id_assay_dict[target_id][aid] = cids_with_activities\n",
    "            print(\"Compounds found! Adding compounds to dictionary and passing to next assay.\")\n",
    "        else:\n",
    "            print(\"No compounds found for assay. Passing to next assay.\")\n",
    "            continue\n",
    "\n",
    "    a+=1\n",
    "    display(a)\n",
    "print(target_id_assay_dict)\n",
    "print(\"done\")"
   ]
  },
  {
   "cell_type": "code",
   "execution_count": 57,
   "metadata": {
    "colab": {
     "base_uri": "https://localhost:8080/"
    },
    "id": "gPxUPZ7Zjr3i",
    "outputId": "c5e08c21-4013-4fdd-f648-d09584aa8891"
   },
   "outputs": [
    {
     "name": "stdout",
     "output_type": "stream",
     "text": [
      "[1904, 56396, 56397, 56398, 56399, 56400, 56401, 56402, 56403, 56404, 56405, 56406, 56407, 56408, 56409, 56410, 56411, 56412, 56413, 56414, 56415, 56416, 56417, 56418, 56419, 56420, 56541, 56542, 56543, 56544, 56545, 56546, 56547, 56548, 56549, 56550, 56551, 56552, 56553, 56554, 56555, 56556, 56557, 56558, 56559, 56560, 56561, 56562, 56563, 56564, 56565, 56566, 56567, 56568, 56569, 56570, 56571, 56572, 56573, 56574, 56575, 56576, 56577, 56699, 56700, 56701, 56702, 56703, 56704, 56705, 56706, 56707, 56708, 56709, 56710, 56711, 56712, 56713, 56714, 56715, 56716, 56717, 56718, 56719, 56720, 56721, 56722, 56723, 56724, 56725, 56726, 56727, 56728, 56729, 56730, 56731, 56732, 56733, 56864, 56865, 56866, 56867, 56868, 56869, 56870, 56871, 56872, 56873, 56874, 56875, 56876, 56877, 56878, 56879, 56880, 56881, 56882, 56883, 56884, 56885, 56886, 56887, 56888, 56889, 56890, 56891, 56892, 56893, 56894, 56895, 56896, 56897, 56898, 56899, 56900, 56901, 57032, 57033, 57034, 57035, 57036, 57037, 57038, 57039, 57040, 57041, 57042, 57043, 210938, 210939, 210940, 210941, 210942, 210943, 210944, 210945, 210946, 210947, 210948, 210949, 211091, 211092, 211093, 211094, 211095, 211097, 211098, 211099, 211100, 211101, 211102, 211103, 211104, 211105, 211106, 211107, 211108, 211109, 211110, 211111, 211112, 211113, 211114, 211115, 211116, 211117, 224610, 228425, 228426, 231982, 232993, 239726, 239852, 240049, 240097, 240620, 241607, 242837, 243219, 243220, 243221, 243223, 243224, 243225, 243226, 243386, 243387, 243388, 243437, 243438, 244262, 244263, 244264, 244265, 244266, 244267, 250096, 251002, 252286, 252287, 252288, 252289, 252290, 252291, 256508, 256678, 258767, 264545, 268635, 268636, 268637, 269042, 269043, 269110, 269203, 283903, 283904, 286262, 286403, 286404, 286405, 286406, 286407, 286413, 286414, 286415, 286416, 286421, 286422, 286423, 286424, 286438, 286439, 286440, 287709, 287710, 287711, 287712, 293172, 293480, 293481, 293483, 296073, 297066, 299311, 299312, 300366, 300367, 309604, 312293, 312295, 314508, 314509, 317452, 322713, 328779, 328780, 331449, 331828, 333055, 333057, 334464, 334465, 334466, 336292, 344134, 345172, 345173, 346586, 350320, 353083, 354858, 358916, 361234, 361235, 361236, 361444, 361445, 361450, 361451, 361452, 362301, 366208, 366217, 376730, 377538, 378110, 379271, 379272, 379273, 379824, 380032, 380033, 380253, 385404, 389683, 393312, 393754, 396403, 396771, 402038, 408919, 408920, 408923, 409902, 411410, 411411, 414753, 418336, 422411, 422412, 422413, 431825, 431826, 431827, 431833, 431834, 431835, 431854, 432397, 432398, 432399, 432401, 432403, 432404, 433914, 434819, 434821, 436178, 436387, 436713, 436714, 436715, 436716, 449570, 449571, 453108, 453806, 456247, 456248, 458062, 460543, 460544, 462323, 462324, 462741, 462742, 467763, 467764, 470667, 476071, 478033, 478041, 478056, 480105, 480106, 480992, 481164, 481165, 481166, 481167, 481168, 481169, 481171, 481172, 481173, 481429, 481430, 485536, 486649, 487689, 487695, 490081, 490170, 494546, 497152, 497153, 511233, 511234, 527478, 527479, 536035, 536036, 536901, 537376, 537377, 537378, 537379, 547370, 547371, 547372, 551007, 551009, 551010, 551014, 551015, 551016, 551263, 552714, 565888, 565889, 565890, 577548, 577549, 577550, 578682, 578683, 590398, 591643, 591644, 592162, 592163, 595841, 595842, 599168, 600204, 600208, 600209, 600210, 600211, 600216, 606654, 606747, 607456, 608854, 608855, 610760, 611200, 611201, 612419, 612420, 615989, 617145, 620745, 620746, 620747, 620748, 620749, 620798, 620799, 624099, 632907, 635424, 636881, 636882, 636883, 644574, 644575, 644777, 651810, 651811, 657775, 657776, 657777, 657778, 657779, 657780, 657781, 657916, 657917, 657918, 666765, 673453, 677826, 677830, 677840, 677841, 696326, 696327, 696328, 696329, 696330, 699139, 699140, 699141, 699143, 699145, 699147, 699149, 699150, 699151, 699152, 699153, 699154, 699155, 699156, 699159, 701776, 701777, 702828, 702851, 702856, 702857, 704299, 704300, 709686, 711426, 711429, 714170, 714171, 720710, 724041, 724051, 724052, 724053, 725344, 725345, 725730, 725731, 725732, 725734, 729747, 730195, 735940, 736320, 736814, 743121, 743454, 745329, 746647, 747370, 747371, 747461, 747462, 748349, 749698, 756448, 761189, 767198, 768623, 770644, 771322, 771323, 771547, 771548, 774972, 775817, 775824, 776101, 776102, 776105, 776106, 776649, 776654, 779453, 779454, 780350, 780351, 780352, 780933, 780934, 780938, 780939, 1061257, 1061259, 1061261, 1063330, 1075781, 1075782, 1075783, 1075784, 1075785, 1075794, 1075795, 1075796, 1075797, 1075855, 1075856, 1075857, 1076036, 1076081, 1076082, 1095219, 1095226, 1095227, 1095228, 1096583, 1096585, 1117281, 1117357, 1121257, 1122073, 1138548, 1142522, 1142523, 1142524, 1142525, 1142526, 1143108, 1143109, 1143384, 1155282, 1155283, 1159506, 1159578, 1159584, 1165010, 1165011, 1165391, 1165392, 1165393, 1165394, 1165395, 1165396, 1167481, 1167482, 1169487, 1169488, 1175659, 1175660, 1175661, 1175662, 1175663, 1175664, 1175665, 1179938, 1182588, 1182589, 1182590, 1182607, 1185511, 1187845, 1194058, 1194769, 1194770, 1195269, 1197367, 1197378, 1197846, 1197849, 1198386, 1201343, 1201344, 1203574, 1203584, 1203585, 1203586, 1203587, 1206840, 1206841, 1206843, 1206844, 1224830, 1225979, 1226759, 1227434, 1227436, 1228597, 1228598, 1228599, 1228600, 1231675, 1231676, 1236890, 1236891, 1239195, 1239196, 1239197, 1240569, 1244074, 1244077, 1245883, 1245884, 1250350, 1250351, 1250352, 1250353, 1250357, 1250358, 1250359, 1250360, 1251496, 1251505, 1252045, 1252046, 1252049, 1252051, 1254805, 1254806, 1254807, 1254810, 1264620, 1265043, 1268056, 1268057, 1268058, 1269401, 1273775, 1273776, 1274490, 1274495, 1274535, 1274800, 1274801, 1279113, 1284053, 1284054, 1284066, 1284067, 1287948, 1287949, 1288087, 1288088, 1288328, 1288329, 1294874, 1294922, 1302329, 1302342, 1306065, 1306928, 1306930, 1306932, 1306934, 1309918, 1309919, 1310522, 1322189, 1322190, 1322191, 1324294, 1325811, 1326452, 1326609, 1326614, 1326622, 1326623, 1327275, 1327276, 1327277, 1327631, 1327633, 1327805, 1327808, 1327956, 1333371, 1333372, 1333373, 1333374, 1337469, 1337470, 1337481, 1337482, 1337582, 1337583, 1339692, 1339693, 1346045, 1347618, 1347619, 1347620, 1352095, 1352096, 1358575, 1359176, 1361510, 1363189, 1363190, 1363340, 1363341, 1363365, 1363366, 1374093, 1374094, 1378651, 1382328, 1382329, 1382330, 1382599, 1382600, 1382607, 1382608, 1383386, 1383387, 1383388, 1383389, 1383390, 1383391, 1383392, 1387408, 1387409, 1387410, 1387411, 1390166, 1390167, 1390176, 1390177, 1390208, 1390209, 1390210, 1390211, 1390212, 1396987, 1400707, 1400708, 1400711, 1401812, 1401813, 1401818, 1401819, 1401820, 1401822, 1401823, 1401824, 1401825, 1401826, 1401830, 1401831, 1407988, 1413829, 1415044, 1426110, 1426112, 1428609, 1428613, 1428614, 1428615, 1428616, 1428617, 1428618, 1428690, 1428691, 1428700, 1428701, 1428712, 1428713, 1428714, 1428715, 1431482, 1431483, 1442286, 1443965, 1443966, 1443967, 1443978, 1443979, 1447300, 1447301, 1447305, 1447306, 1447307, 1448230, 1453061, 1453062, 1453394, 1457569, 1472923, 1472924, 1472925, 1472926, 1472927, 1472928, 1472929, 1472930, 1472931, 1472932, 1472933, 1472934, 1472935, 1472936, 1472937, 1472938, 1472940, 1472941, 1472942, 1472947, 1472948, 1472950, 1472951, 1472952, 1478721, 1478722, 1478733, 1478734, 1481805, 1481806, 1481807, 1486385, 1486759, 1486765, 1500678, 1500679, 1500681, 1507687, 1507689, 1507694, 1507695, 1507750, 1508588, 1520397, 1520398, 1520399, 1520400, 1537211, 1544044, 1544048, 1544049, 1544050, 1544057, 1544058, 1544059, 1544060, 1544061, 1544067, 1544068, 1544069, 1544070, 1544076, 1551202, 1551203, 1551900, 1562002, 1562003, 1562010, 1562011, 1562101, 1562102, 1563007, 1563008, 1563009, 1563013, 1563014, 1563015, 1564585, 1566675, 1566676, 1566743, 1566744, 1566745, 1566778, 1577582, 1577583, 1585186, 1585187, 1585188, 1585189, 1585190, 1585191, 1585192, 1585193, 1601654, 1601657, 1601658, 1601659, 1609804, 1609821, 1609822, 1609823, 1609824, 1609825, 1609859, 1610469, 1631081, 1638092, 1638093, 1648729, 1648730, 1648731, 1651221, 1651222, 1651223, 1651224, 1651225, 1651226, 1655966, 1655967, 1655968, 1655970, 1655971, 1655972, 1655973, 1659501, 1659502, 1659503, 1667417, 1667418, 1673144, 1673146, 1673147, 1673148, 1673149, 1673154, 1673156, 1689290, 1689313, 1692473, 1701969, 1702012, 1702822, 1702823, 1702824, 1702825, 1702826, 1703217, 1703218, 1703219, 1703331, 1703332, 1708523, 1708533, 1708534, 1713804, 1713805, 1723562, 1724032, 1727988, 1727989, 1727990, 1728398, 1728414, 1732040, 1733013, 1736595, 1736602, 1736603, 1736606, 1736607, 1736608, 1737446, 1737447, 1737448, 1737449, 1737450, 1738949, 1740932, 1740933, 1758341, 1758342, 1758988, 1759310, 1759311, 1759312, 1759313, 1759314, 1763576, 1763577, 1763578, 1763579, 1765566, 1765569, 1779158, 1779194, 1779228, 1779229, 1779298, 1781535, 1798415, 1803398, 1808044, 1808045, 1808046, 1808048, 1808049, 1808050, 1808110, 1810247, 1810249, 1810251, 1810252, 1811235, 1811236, 1817036, 1823979, 1823980, 1823981, 1823982, 1823983, 1826593, 1826602, 1830490, 1830496, 1849130, 1849131, 1854846, 1858607, 1859455, 1859464, 1859467, 1859469, 1862078, 1862079, 1862088, 1867660, 1867663, 1877736, 1877737, 1877738, 1884188, 1884189, 1885559, 1885561, 1885562, 1888016, 1888017, 1888018, 1888019, 1888020, 1888021, 1888022, 1888023, 1888036, 1888037, 1888098, 1891163, 1891164, 1891165, 1891166, 1891167, 1891168, 1894518, 1899156, 1906038, 1911379, 1911380, 1911382, 1911684, 1911685]\n",
      "1137\n"
     ]
    }
   ],
   "source": [
    "#Precautions to ensure the code works right and the the Assay ID numbrs line up right\n",
    "print(aids)\n",
    "print(len(aids))\n"
   ]
  },
  {
   "cell_type": "code",
   "execution_count": 58,
   "metadata": {
    "colab": {
     "base_uri": "https://localhost:8080/"
    },
    "id": "XOWx4sBWgDcQ",
    "outputId": "8a7a3b76-dab2-485e-87fc-2f8c2ec7e2da"
   },
   "outputs": [
    {
     "name": "stdout",
     "output_type": "stream",
     "text": [
      "2023-07-17 19:37:05,570 SequenceTagger predicts: Dictionary with 8 tags: <unk>, O, B-Disease, E-Disease, I-Disease, S-Disease, <START>, <STOP>\n",
      "2023-07-17 19:37:06,098 SequenceTagger predicts: Dictionary with 8 tags: <unk>, O, S-Gene, B-Gene, I-Gene, E-Gene, <START>, <STOP>\n",
      "2023-07-17 19:37:06,623 SequenceTagger predicts: Dictionary with 8 tags: <unk>, O, S-Species, B-Species, I-Species, E-Species, <START>, <STOP>\n",
      "2023-07-17 19:37:07,151 SequenceTagger predicts: Dictionary with 8 tags: <unk>, O, S-CellLine, B-CellLine, I-CellLine, E-CellLine, <START>, <STOP>\n",
      "2023-07-17 19:37:07,676 SequenceTagger predicts: Dictionary with 8 tags: <unk>, O, S-Chemical, B-Chemical, I-Chemical, E-Chemical, <START>, <STOP>\n",
      "done\n"
     ]
    }
   ],
   "source": [
    "tagger = Classifier.load('bioner')\n",
    "print(\"done\")"
   ]
  },
  {
   "cell_type": "code",
   "execution_count": 16,
   "metadata": {
    "colab": {
     "base_uri": "https://localhost:8080/"
    },
    "id": "umOdqHwaPb54",
    "outputId": "3bf36791-9e1b-4249-ded5-0313f688a9c0"
   },
   "outputs": [
    {
     "name": "stdout",
     "output_type": "stream",
     "text": [
      "1904\n",
      "siRNA Circadian Assay\n",
      "Description::: :: To identify additional clock genes and modifiers, we conducted a genome-wide screen of ~90,000 siRNAs (QIAGEN Inc) in a human cellular model of clock function. Knockdown of nearly a thousand genes reduced:: rhythm amplitude; these are presumably due to toxic effects on cells. Hundreds of genes potently modified period length or increased amplitude.\n",
      "56396\n",
      "Topoisomerase I DNA relaxation activity was evaluated by Agarose Gel Electrophoresis test at concentration 100 uM\n",
      "Title: Bisindolylmaleimides linked to DNA minor groove binding lexitropsins: synthesis, inhibitory activity against topoisomerase I, and biological evaluation.:: :: Abstract: The synthesis, characterization, inhibitory activity against topoisomerase I, and biological evaluation of a series of oligopeptide-substituted bisindolylmaleimides 7-12 are described. Compounds 7-9, which contain a basic C-terminus function such as (dimethylamino)propyl and bind to DNA with C(50) values of 200, 160, and 135 microM, respectively, exhibited inhibition of topoisomerase I in a concentration dependent manner. Also, the relative order of observed topoisomerase I inhibition is 9 > 8 > 7 at < or = 100 microM concentration, corresponding to the increase of the number of pyrrole units in the oligopeptide moiety. Compounds 10-12, which contain an electrostatically neutral moiety, such as methyl ester, did not bind to DNA templates nor inhibit topoisomerase I. However, the cytotoxicity activities of these compounds were 1.5 times greater than those of compounds 7-9.\n",
      "56397\n",
      "Topoisomerase I DNA relaxation activity was evaluated by Agarose Gel Electrophoresis test at concentration 100 uM\n",
      "Title: Bisindolylmaleimides linked to DNA minor groove binding lexitropsins: synthesis, inhibitory activity against topoisomerase I, and biological evaluation.:: :: Abstract: The synthesis, characterization, inhibitory activity against topoisomerase I, and biological evaluation of a series of oligopeptide-substituted bisindolylmaleimides 7-12 are described. Compounds 7-9, which contain a basic C-terminus function such as (dimethylamino)propyl and bind to DNA with C(50) values of 200, 160, and 135 microM, respectively, exhibited inhibition of topoisomerase I in a concentration dependent manner. Also, the relative order of observed topoisomerase I inhibition is 9 > 8 > 7 at < or = 100 microM concentration, corresponding to the increase of the number of pyrrole units in the oligopeptide moiety. Compounds 10-12, which contain an electrostatically neutral moiety, such as methyl ester, did not bind to DNA templates nor inhibit topoisomerase I. However, the cytotoxicity activities of these compounds were 1.5 times greater than those of compounds 7-9.\n",
      "56398\n",
      "Topoisomerase I DNA relaxation activity was evaluated by Agarose Gel Electrophoresis test at concentration 250 uM\n",
      "Title: Bisindolylmaleimides linked to DNA minor groove binding lexitropsins: synthesis, inhibitory activity against topoisomerase I, and biological evaluation.:: :: Abstract: The synthesis, characterization, inhibitory activity against topoisomerase I, and biological evaluation of a series of oligopeptide-substituted bisindolylmaleimides 7-12 are described. Compounds 7-9, which contain a basic C-terminus function such as (dimethylamino)propyl and bind to DNA with C(50) values of 200, 160, and 135 microM, respectively, exhibited inhibition of topoisomerase I in a concentration dependent manner. Also, the relative order of observed topoisomerase I inhibition is 9 > 8 > 7 at < or = 100 microM concentration, corresponding to the increase of the number of pyrrole units in the oligopeptide moiety. Compounds 10-12, which contain an electrostatically neutral moiety, such as methyl ester, did not bind to DNA templates nor inhibit topoisomerase I. However, the cytotoxicity activities of these compounds were 1.5 times greater than those of compounds 7-9.\n",
      "56399\n",
      "Topoisomerase I DNA relaxation activity was evaluated by Agarose Gel Electrophoresis test at concentration 250 uM\n",
      "Title: Bisindolylmaleimides linked to DNA minor groove binding lexitropsins: synthesis, inhibitory activity against topoisomerase I, and biological evaluation.:: :: Abstract: The synthesis, characterization, inhibitory activity against topoisomerase I, and biological evaluation of a series of oligopeptide-substituted bisindolylmaleimides 7-12 are described. Compounds 7-9, which contain a basic C-terminus function such as (dimethylamino)propyl and bind to DNA with C(50) values of 200, 160, and 135 microM, respectively, exhibited inhibition of topoisomerase I in a concentration dependent manner. Also, the relative order of observed topoisomerase I inhibition is 9 > 8 > 7 at < or = 100 microM concentration, corresponding to the increase of the number of pyrrole units in the oligopeptide moiety. Compounds 10-12, which contain an electrostatically neutral moiety, such as methyl ester, did not bind to DNA templates nor inhibit topoisomerase I. However, the cytotoxicity activities of these compounds were 1.5 times greater than those of compounds 7-9.\n",
      "56400\n",
      "Topoisomerase I DNA relaxation activity was evaluated by Agarose Gel Electrophoresis test at concentration 25 uM\n",
      "Title: Bisindolylmaleimides linked to DNA minor groove binding lexitropsins: synthesis, inhibitory activity against topoisomerase I, and biological evaluation.:: :: Abstract: The synthesis, characterization, inhibitory activity against topoisomerase I, and biological evaluation of a series of oligopeptide-substituted bisindolylmaleimides 7-12 are described. Compounds 7-9, which contain a basic C-terminus function such as (dimethylamino)propyl and bind to DNA with C(50) values of 200, 160, and 135 microM, respectively, exhibited inhibition of topoisomerase I in a concentration dependent manner. Also, the relative order of observed topoisomerase I inhibition is 9 > 8 > 7 at < or = 100 microM concentration, corresponding to the increase of the number of pyrrole units in the oligopeptide moiety. Compounds 10-12, which contain an electrostatically neutral moiety, such as methyl ester, did not bind to DNA templates nor inhibit topoisomerase I. However, the cytotoxicity activities of these compounds were 1.5 times greater than those of compounds 7-9.\n",
      "56401\n",
      "Topoisomerase I DNA relaxation activity was evaluated by Agarose Gel Electrophoresis test at concentration 25 uM\n",
      "Title: Bisindolylmaleimides linked to DNA minor groove binding lexitropsins: synthesis, inhibitory activity against topoisomerase I, and biological evaluation.:: :: Abstract: The synthesis, characterization, inhibitory activity against topoisomerase I, and biological evaluation of a series of oligopeptide-substituted bisindolylmaleimides 7-12 are described. Compounds 7-9, which contain a basic C-terminus function such as (dimethylamino)propyl and bind to DNA with C(50) values of 200, 160, and 135 microM, respectively, exhibited inhibition of topoisomerase I in a concentration dependent manner. Also, the relative order of observed topoisomerase I inhibition is 9 > 8 > 7 at < or = 100 microM concentration, corresponding to the increase of the number of pyrrole units in the oligopeptide moiety. Compounds 10-12, which contain an electrostatically neutral moiety, such as methyl ester, did not bind to DNA templates nor inhibit topoisomerase I. However, the cytotoxicity activities of these compounds were 1.5 times greater than those of compounds 7-9.\n",
      "56402\n",
      "Topoisomerase I DNA relaxation activity was evaluated by Agarose Gel Electrophoresis test at concentration 50 uM\n",
      "Title: Bisindolylmaleimides linked to DNA minor groove binding lexitropsins: synthesis, inhibitory activity against topoisomerase I, and biological evaluation.:: :: Abstract: The synthesis, characterization, inhibitory activity against topoisomerase I, and biological evaluation of a series of oligopeptide-substituted bisindolylmaleimides 7-12 are described. Compounds 7-9, which contain a basic C-terminus function such as (dimethylamino)propyl and bind to DNA with C(50) values of 200, 160, and 135 microM, respectively, exhibited inhibition of topoisomerase I in a concentration dependent manner. Also, the relative order of observed topoisomerase I inhibition is 9 > 8 > 7 at < or = 100 microM concentration, corresponding to the increase of the number of pyrrole units in the oligopeptide moiety. Compounds 10-12, which contain an electrostatically neutral moiety, such as methyl ester, did not bind to DNA templates nor inhibit topoisomerase I. However, the cytotoxicity activities of these compounds were 1.5 times greater than those of compounds 7-9.\n"
     ]
    }
   ],
   "source": [
    "#Thomas Passaro working on my own request using the URL From John Marinelli.\n",
    "\n",
    "from os import X_OK\n",
    "\n",
    "\n",
    "\n",
    "#List made to hold all the Assay Descriptions\n",
    "Assay_Descriptions_List = []\n",
    "\n",
    "#Counter used to break out for test purposes\n",
    "Count = 0\n",
    "\n",
    "#A for loop used to cycle through the Assay ID numbers.\n",
    "for i in aids:\n",
    "\n",
    "  #this prints the Assay ID number before the name of the Assay. I find this gives more information for the user.\n",
    "  print(str(i))\n",
    "\n",
    "  #count to stop after a certain number of Assays (For test purposes)\n",
    "  #Count = Count +1\n",
    "  #if Count > 2:\n",
    "    #break\n",
    "  #this is the calling of the request from the URL and it includes the cycling of Assay ID numbers.\n",
    "  description_requests = requests.get('https://pubchem.ncbi.nlm.nih.gov/rest/pug/assay/aid/'+ str(i) +'/description/JSON')\n",
    "  URL_Dict = description_requests.json()\n",
    "\n",
    "  #Assay_Names is URL_Dict after it went through a few indexs\n",
    "  Assay_Names = URL_Dict['PC_AssayContainer'][0]['assay']['descr']['name']\n",
    "  print(Assay_Names)\n",
    "\n",
    "  #Assay_Descriptions is the URL_Dict after it went through a few indexs to get the decriptions of each Assay\n",
    "  Assay_Descriptions = URL_Dict['PC_AssayContainer'][0]['assay']['descr']['description']\n",
    "\n",
    "  #Makes the descriptions all one string instead of multiple\n",
    "  Assay_Descriptions_Joined = ':: '.join(Assay_Descriptions)\n",
    "  print(Assay_Descriptions_Joined)\n",
    "\n",
    "  #making the string only key words for the clusters\n",
    "  sentence = Sentence(Assay_Descriptions_Joined)\n",
    "  tagger.predict(sentence)\n",
    "\n",
    "  Assay_Key_Words = \"\"\n",
    "  for label in sentence.get_labels():\n",
    "      Assay_Key_Words += label.data_point.text\n",
    "      Assay_Key_Words += \":: \"\n",
    "      #print(label.data_point.text)\n",
    "      #print(Assay_Key_Words)\n",
    "\n",
    "  #adds the Descriptions of the Assays to the Assay Description List\n",
    "  Assay_Descriptions_List.append(Assay_Key_Words)\n",
    "work = \"done\"\n",
    "print(work)"
   ]
  },
  {
   "cell_type": "code",
   "execution_count": 92,
   "metadata": {},
   "outputs": [
    {
     "name": "stdout",
     "output_type": "stream",
     "text": [
      "done\n"
     ]
    }
   ],
   "source": [
    "print(work)"
   ]
  },
  {
   "cell_type": "code",
   "execution_count": 94,
   "metadata": {
    "colab": {
     "base_uri": "https://localhost:8080/"
    },
    "id": "U8irBaS5PoiR",
    "outputId": "b97fadb7-a9a0-4b52-baf5-67d00a30c9fc"
   },
   "outputs": [],
   "source": [
    "print(Assay_Descriptions_List)"
   ]
  },
  {
   "cell_type": "code",
   "execution_count": 95,
   "metadata": {},
   "outputs": [
    {
     "data": {
      "text/html": [
       "<div>\n",
       "<style scoped>\n",
       "    .dataframe tbody tr th:only-of-type {\n",
       "        vertical-align: middle;\n",
       "    }\n",
       "\n",
       "    .dataframe tbody tr th {\n",
       "        vertical-align: top;\n",
       "    }\n",
       "\n",
       "    .dataframe thead th {\n",
       "        text-align: right;\n",
       "    }\n",
       "</style>\n",
       "<table border=\"1\" class=\"dataframe\">\n",
       "  <thead>\n",
       "    <tr style=\"text-align: right;\">\n",
       "      <th></th>\n",
       "      <th>aids</th>\n",
       "      <th>Key Terms</th>\n",
       "    </tr>\n",
       "  </thead>\n",
       "  <tbody>\n",
       "    <tr>\n",
       "      <th>0</th>\n",
       "      <td>1904</td>\n",
       "      <td>human::</td>\n",
       "    </tr>\n",
       "    <tr>\n",
       "      <th>1</th>\n",
       "      <td>56396</td>\n",
       "      <td>Bisindolylmaleimides:: topoisomerase I:: topoi...</td>\n",
       "    </tr>\n",
       "    <tr>\n",
       "      <th>2</th>\n",
       "      <td>56397</td>\n",
       "      <td>Bisindolylmaleimides:: topoisomerase I:: topoi...</td>\n",
       "    </tr>\n",
       "    <tr>\n",
       "      <th>3</th>\n",
       "      <td>56398</td>\n",
       "      <td>Bisindolylmaleimides:: topoisomerase I:: topoi...</td>\n",
       "    </tr>\n",
       "    <tr>\n",
       "      <th>4</th>\n",
       "      <td>56399</td>\n",
       "      <td>Bisindolylmaleimides:: topoisomerase I:: topoi...</td>\n",
       "    </tr>\n",
       "    <tr>\n",
       "      <th>...</th>\n",
       "      <td>...</td>\n",
       "      <td>...</td>\n",
       "    </tr>\n",
       "    <tr>\n",
       "      <th>1132</th>\n",
       "      <td>1911379</td>\n",
       "      <td>Calothrixin A:: Topoisomerase I and II:: Calot...</td>\n",
       "    </tr>\n",
       "    <tr>\n",
       "      <th>1133</th>\n",
       "      <td>1911380</td>\n",
       "      <td>Calothrixin A:: Topoisomerase I and II:: Calot...</td>\n",
       "    </tr>\n",
       "    <tr>\n",
       "      <th>1134</th>\n",
       "      <td>1911382</td>\n",
       "      <td>Calothrixin A:: Topoisomerase I and II:: Calot...</td>\n",
       "    </tr>\n",
       "    <tr>\n",
       "      <th>1135</th>\n",
       "      <td>1911684</td>\n",
       "      <td>Evodiamine:: Carcinoma:: Evodiamine:: N14-phen...</td>\n",
       "    </tr>\n",
       "    <tr>\n",
       "      <th>1136</th>\n",
       "      <td>1911685</td>\n",
       "      <td>Evodiamine:: Carcinoma:: Evodiamine:: N14-phen...</td>\n",
       "    </tr>\n",
       "  </tbody>\n",
       "</table>\n",
       "<p>1137 rows × 2 columns</p>\n",
       "</div>"
      ],
      "text/plain": [
       "         aids                                          Key Terms\n",
       "0        1904                                           human:: \n",
       "1       56396  Bisindolylmaleimides:: topoisomerase I:: topoi...\n",
       "2       56397  Bisindolylmaleimides:: topoisomerase I:: topoi...\n",
       "3       56398  Bisindolylmaleimides:: topoisomerase I:: topoi...\n",
       "4       56399  Bisindolylmaleimides:: topoisomerase I:: topoi...\n",
       "...       ...                                                ...\n",
       "1132  1911379  Calothrixin A:: Topoisomerase I and II:: Calot...\n",
       "1133  1911380  Calothrixin A:: Topoisomerase I and II:: Calot...\n",
       "1134  1911382  Calothrixin A:: Topoisomerase I and II:: Calot...\n",
       "1135  1911684  Evodiamine:: Carcinoma:: Evodiamine:: N14-phen...\n",
       "1136  1911685  Evodiamine:: Carcinoma:: Evodiamine:: N14-phen...\n",
       "\n",
       "[1137 rows x 2 columns]"
      ]
     },
     "metadata": {},
     "output_type": "display_data"
    }
   ],
   "source": [
    "import pandas as pd\n",
    "\n",
    "D = {\"aids\":aids, \"Key Terms\": Assay_Descriptions_List}\n",
    "D = pd.DataFrame.from_dict(D)\n",
    "display(D)"
   ]
  },
  {
   "cell_type": "code",
   "execution_count": 97,
   "metadata": {},
   "outputs": [],
   "source": [
    "import pickle \n",
    "x=D\n",
    "f = open(\"KeyWords.pickle\", \"wb\")\n",
    "pickle.dump(x,f)\n",
    "f.close()"
   ]
  },
  {
   "cell_type": "code",
   "execution_count": 61,
   "metadata": {},
   "outputs": [],
   "source": [
    "def tokenize_with_flair(description):\n",
    "    sentence = Sentence(description)\n",
    "    tagger.predict(sentence)\n",
    "    return [ l.data_point.text for l in sentence.get_labels() ]\n",
    "\n",
    "from sklearn.feature_extraction.text import CountVectorizer\n",
    "\n",
    "Assay_Count_Vect = CountVectorizer(tokenizer=tokenize_with_flair)\n",
    "Assay_Train_Counts = Assay_Count_Vect.fit_transform(Assay_Descriptions_List)\n",
    "print(Assay_Train_Counts.shape)\n",
    "print(Assay_Train_Counts)\n",
    "print(Assay_Train_Counts.toarray())"
   ]
  },
  {
   "cell_type": "code",
   "execution_count": 62,
   "metadata": {
    "colab": {
     "base_uri": "https://localhost:8080/"
    },
    "id": "SWcufRScPwSm",
    "outputId": "ec23fafa-de4e-4006-8257-4d4ef38222c2"
   },
   "outputs": [],
   "source": [
    "from sklearn.feature_extraction.text import CountVectorizer\n",
    "\n",
    "Assay_Count_Vect = CountVectorizer()\n",
    "Assay_Train_Counts = Assay_Count_Vect.fit_transform(Assay_Descriptions_List)\n",
    "print(Assay_Train_Counts.shape)\n",
    "print(Assay_Train_Counts)\n",
    "print(Assay_Train_Counts.toarray())"
   ]
  },
  {
   "cell_type": "code",
   "execution_count": 64,
   "metadata": {
    "colab": {
     "base_uri": "https://localhost:8080/"
    },
    "id": "RK_q0rvtQEq6",
    "outputId": "2a49dcc8-85f2-4301-a203-5bde57d4dd74"
   },
   "outputs": [],
   "source": [
    "dir(Assay_Count_Vect)\n",
    "print(Assay_Count_Vect.get_feature_names())\n",
    "print(Assay_Train_Counts.shape)"
   ]
  },
  {
   "cell_type": "code",
   "execution_count": 70,
   "metadata": {
    "colab": {
     "base_uri": "https://localhost:8080/",
     "height": 381
    },
    "id": "jbzCtj-kQRQC",
    "outputId": "591945d4-b280-4f06-e0b6-619be49f5caf"
   },
   "outputs": [],
   "source": [
    "from sklearn.cluster import AgglomerativeClustering\n",
    "import numpy as np\n",
    "from scipy.cluster.hierarchy import dendrogram\n",
    "\n",
    "n_clusters = 10  # number of regions\n",
    "X = Assay_Train_Counts.toarray()\n",
    "\n",
    "#ward = AgglomerativeClustering(\n",
    "   # n_clusters = n_clusters, linkage=\"ward\", connectivity=None, compute_full_tree= True,compute_distances= True\n",
    "#)\n",
    "#ward.fit(X)\n",
    "\n",
    "#ward.distances_\n",
    "#ward.distances_.shape"
   ]
  },
  {
   "cell_type": "code",
   "execution_count": 71,
   "metadata": {
    "colab": {
     "base_uri": "https://localhost:8080/"
    },
    "id": "yCvpko_5tgYo",
    "outputId": "1c18a02d-985d-45df-abb9-e526a1d33c6c"
   },
   "outputs": [
    {
     "ename": "AttributeError",
     "evalue": "'AgglomerativeClustering' object has no attribute 'distances_'",
     "output_type": "error",
     "traceback": [
      "\u001b[0;31m---------------------------------------------------------------------------\u001b[0m",
      "\u001b[0;31mAttributeError\u001b[0m                            Traceback (most recent call last)",
      "\u001b[0;32m<ipython-input-71-89224624c39f>\u001b[0m in \u001b[0;36m<module>\u001b[0;34m\u001b[0m\n\u001b[1;32m      5\u001b[0m \u001b[0;31m#print(ward.distances_.shape)\u001b[0m\u001b[0;34m\u001b[0m\u001b[0;34m\u001b[0m\u001b[0;34m\u001b[0m\u001b[0m\n\u001b[1;32m      6\u001b[0m \u001b[0;31m#print(ward.children_)\u001b[0m\u001b[0;34m\u001b[0m\u001b[0;34m\u001b[0m\u001b[0;34m\u001b[0m\u001b[0m\n\u001b[0;32m----> 7\u001b[0;31m \u001b[0mX_Hist\u001b[0m \u001b[0;34m=\u001b[0m \u001b[0mward\u001b[0m\u001b[0;34m.\u001b[0m\u001b[0mdistances_\u001b[0m\u001b[0;34m\u001b[0m\u001b[0;34m\u001b[0m\u001b[0m\n\u001b[0m\u001b[1;32m      8\u001b[0m \u001b[0;31m#hist(X_Hist)\u001b[0m\u001b[0;34m\u001b[0m\u001b[0;34m\u001b[0m\u001b[0;34m\u001b[0m\u001b[0m\n\u001b[1;32m      9\u001b[0m \u001b[0mkernel\u001b[0m \u001b[0;34m=\u001b[0m \u001b[0mstats\u001b[0m\u001b[0;34m.\u001b[0m\u001b[0mgaussian_kde\u001b[0m\u001b[0;34m(\u001b[0m\u001b[0mX_Hist\u001b[0m\u001b[0;34m)\u001b[0m\u001b[0;34m\u001b[0m\u001b[0;34m\u001b[0m\u001b[0m\n",
      "\u001b[0;31mAttributeError\u001b[0m: 'AgglomerativeClustering' object has no attribute 'distances_'"
     ]
    }
   ],
   "source": [
    "from matplotlib.pyplot import hist\n",
    "from sklearn.neighbors import KernelDensity\n",
    "from scipy import stats\n",
    "#print(ward.distances_)\n",
    "#print(ward.distances_.shape)\n",
    "#print(ward.children_)\n",
    "X_Hist = ward.distances_\n",
    "#hist(X_Hist)\n",
    "kernel = stats.gaussian_kde(X_Hist)\n",
    "print(kernel(X_Hist))\n",
    "print(X_Hist)"
   ]
  },
  {
   "cell_type": "code",
   "execution_count": 26,
   "metadata": {
    "colab": {
     "base_uri": "https://localhost:8080/"
    },
    "id": "rg3V9zlRXrDo",
    "outputId": "d82f7a14-fc96-4721-af98-e1bdc991b0e8"
   },
   "outputs": [],
   "source": [
    "!pip install seaborn"
   ]
  },
  {
   "cell_type": "code",
   "execution_count": 72,
   "metadata": {
    "colab": {
     "base_uri": "https://localhost:8080/",
     "height": 1000
    },
    "id": "0xlNKnGVYSS6",
    "outputId": "ab4d991e-ea41-4de2-f2c3-d3e0e8ea313b"
   },
   "outputs": [
    {
     "data": {
      "text/plain": [
       "<seaborn.matrix.ClusterGrid at 0x7fc469804310>"
      ]
     },
     "execution_count": 72,
     "metadata": {},
     "output_type": "execute_result"
    },
    {
     "data": {
      "image/png": "[encoded data removed]",
      "text/plain": [
       "<Figure size 720x720 with 4 Axes>"
      ]
     },
     "metadata": {
      "needs_background": "light"
     },
     "output_type": "display_data"
    }
   ],
   "source": [
    "import seaborn\n",
    "\n",
    "seaborn.clustermap(X,method='ward')\n",
    "\n"
   ]
  },
  {
   "cell_type": "code",
   "execution_count": 74,
   "metadata": {
    "colab": {
     "base_uri": "https://localhost:8080/",
     "height": 74
    },
    "id": "0hP494F4po4j",
    "outputId": "f966d7fb-bd09-4e22-c815-11d4713021ca"
   },
   "outputs": [
    {
     "data": {
      "text/plain": [
       "TfidfTransformer(norm='l2', smooth_idf=True, sublinear_tf=False, use_idf=True)"
      ]
     },
     "execution_count": 74,
     "metadata": {},
     "output_type": "execute_result"
    }
   ],
   "source": [
    "from sklearn.feature_extraction.text import TfidfVectorizer\n",
    "from sklearn.feature_extraction.text import TfidfTransformer\n",
    "from sklearn.feature_extraction.text import CountVectorizer\n",
    "import pandas as pd\n",
    "\n",
    "tfidf_transformer=TfidfTransformer(smooth_idf=True,use_idf=True)\n",
    "tfidf_transformer.fit(Assay_Train_Counts)"
   ]
  },
  {
   "cell_type": "code",
   "execution_count": 76,
   "metadata": {
    "colab": {
     "base_uri": "https://localhost:8080/",
     "height": 423
    },
    "id": "0tayF_OlpwEI",
    "outputId": "0e1cba3b-362c-4676-d84f-8b66540008b1"
   },
   "outputs": [
    {
     "data": {
      "text/html": [
       "<div>\n",
       "<style scoped>\n",
       "    .dataframe tbody tr th:only-of-type {\n",
       "        vertical-align: middle;\n",
       "    }\n",
       "\n",
       "    .dataframe tbody tr th {\n",
       "        vertical-align: top;\n",
       "    }\n",
       "\n",
       "    .dataframe thead th {\n",
       "        text-align: right;\n",
       "    }\n",
       "</style>\n",
       "<table border=\"1\" class=\"dataframe\">\n",
       "  <thead>\n",
       "    <tr style=\"text-align: right;\">\n",
       "      <th></th>\n",
       "      <th>idf_weights</th>\n",
       "    </tr>\n",
       "  </thead>\n",
       "  <tbody>\n",
       "    <tr>\n",
       "      <th>topoisomerase</th>\n",
       "      <td>1.156644</td>\n",
       "    </tr>\n",
       "    <tr>\n",
       "      <th>human</th>\n",
       "      <td>1.790921</td>\n",
       "    </tr>\n",
       "    <tr>\n",
       "      <th>cytotoxicity</th>\n",
       "      <td>1.923345</td>\n",
       "    </tr>\n",
       "    <tr>\n",
       "      <th>camptothecin</th>\n",
       "      <td>2.244014</td>\n",
       "    </tr>\n",
       "    <tr>\n",
       "      <th>dna</th>\n",
       "      <td>2.244014</td>\n",
       "    </tr>\n",
       "    <tr>\n",
       "      <th>...</th>\n",
       "      <td>...</td>\n",
       "    </tr>\n",
       "    <tr>\n",
       "      <th>drimentine</th>\n",
       "      <td>7.343880</td>\n",
       "    </tr>\n",
       "    <tr>\n",
       "      <th>dolastatin</th>\n",
       "      <td>7.343880</td>\n",
       "    </tr>\n",
       "    <tr>\n",
       "      <th>dodecyl</th>\n",
       "      <td>7.343880</td>\n",
       "    </tr>\n",
       "    <tr>\n",
       "      <th>peroxide</th>\n",
       "      <td>7.343880</td>\n",
       "    </tr>\n",
       "    <tr>\n",
       "      <th>huvec</th>\n",
       "      <td>7.343880</td>\n",
       "    </tr>\n",
       "  </tbody>\n",
       "</table>\n",
       "<p>2378 rows × 1 columns</p>\n",
       "</div>"
      ],
      "text/plain": [
       "               idf_weights\n",
       "topoisomerase     1.156644\n",
       "human             1.790921\n",
       "cytotoxicity      1.923345\n",
       "camptothecin      2.244014\n",
       "dna               2.244014\n",
       "...                    ...\n",
       "drimentine        7.343880\n",
       "dolastatin        7.343880\n",
       "dodecyl           7.343880\n",
       "peroxide          7.343880\n",
       "huvec             7.343880\n",
       "\n",
       "[2378 rows x 1 columns]"
      ]
     },
     "execution_count": 76,
     "metadata": {},
     "output_type": "execute_result"
    }
   ],
   "source": [
    "\n",
    "# print idf values\n",
    "df_idf = pd.DataFrame(tfidf_transformer.idf_,index=Assay_Count_Vect.get_feature_names(),columns=[\"idf_weights\"])\n",
    "\n",
    "# sort ascending\n",
    "df_idf.sort_values(by=['idf_weights'])\n"
   ]
  },
  {
   "cell_type": "code",
   "execution_count": 77,
   "metadata": {
    "colab": {
     "base_uri": "https://localhost:8080/"
    },
    "id": "v7gsFWonp2oq",
    "outputId": "e61371b5-b287-4c86-c9b9-9f0855b2f801"
   },
   "outputs": [
    {
     "name": "stdout",
     "output_type": "stream",
     "text": [
      "  (0, 1187)\t1.0\n",
      "  (1, 2244)\t0.35699127662321983\n",
      "  (1, 2100)\t0.1735370913966995\n",
      "  (1, 1916)\t0.24874833401134397\n",
      "  (1, 1867)\t0.2271817834259233\n",
      "  (1, 1666)\t0.5278836822565193\n",
      "  (1, 1496)\t0.21246494920186504\n",
      "  (1, 924)\t0.2271817834259233\n",
      "  (1, 825)\t0.24654349845944556\n",
      "  (1, 708)\t0.1187258689272663\n",
      "  (1, 466)\t0.5278836822565193\n",
      "  (2, 2244)\t0.35699127662321983\n",
      "  (2, 2100)\t0.1735370913966995\n",
      "  (2, 1916)\t0.24874833401134397\n",
      "  (2, 1867)\t0.2271817834259233\n",
      "  (2, 1666)\t0.5278836822565193\n",
      "  (2, 1496)\t0.21246494920186504\n",
      "  (2, 924)\t0.2271817834259233\n",
      "  (2, 825)\t0.24654349845944556\n",
      "  (2, 708)\t0.1187258689272663\n",
      "  (2, 466)\t0.5278836822565193\n",
      "  (3, 2244)\t0.35699127662321983\n",
      "  (3, 2100)\t0.1735370913966995\n",
      "  (3, 1916)\t0.24874833401134397\n",
      "  (3, 1867)\t0.2271817834259233\n",
      "  :\t:\n",
      "  (1135, 1121)\t0.23277890941320345\n",
      "  (1135, 972)\t0.2512787572735766\n",
      "  (1135, 953)\t0.48088243203678843\n",
      "  (1135, 652)\t0.2512787572735766\n",
      "  (1135, 567)\t0.27758049347745906\n",
      "  (1135, 265)\t0.09318978684491251\n",
      "  (1136, 2308)\t0.16788929534347777\n",
      "  (1136, 2304)\t0.11829251620815193\n",
      "  (1136, 2245)\t0.10960256277661823\n",
      "  (1136, 2130)\t0.2512787572735766\n",
      "  (1136, 2064)\t0.24086018325358416\n",
      "  (1136, 2040)\t0.21149187256709032\n",
      "  (1136, 1776)\t0.12538981608167135\n",
      "  (1136, 1569)\t0.21575745389034476\n",
      "  (1136, 1416)\t0.22617602791033725\n",
      "  (1136, 1232)\t0.09052785231976637\n",
      "  (1136, 1186)\t0.22617602791033725\n",
      "  (1136, 1171)\t0.2512787572735766\n",
      "  (1136, 1124)\t0.21575745389034476\n",
      "  (1136, 1121)\t0.23277890941320345\n",
      "  (1136, 972)\t0.2512787572735766\n",
      "  (1136, 953)\t0.48088243203678843\n",
      "  (1136, 652)\t0.2512787572735766\n",
      "  (1136, 567)\t0.27758049347745906\n",
      "  (1136, 265)\t0.09318978684491251\n"
     ]
    },
    {
     "data": {
      "text/plain": [
       "(1137, 2378)"
      ]
     },
     "execution_count": 77,
     "metadata": {},
     "output_type": "execute_result"
    }
   ],
   "source": [
    "# count matrix\n",
    "count_vector=Assay_Count_Vect.transform(Assay_Descriptions_List)\n",
    "\n",
    "# tf-idf scores\n",
    "tf_idf_vector=tfidf_transformer.transform(count_vector)\n",
    "print(tf_idf_vector)\n",
    "tf_idf_vector.shape"
   ]
  },
  {
   "cell_type": "code",
   "execution_count": 79,
   "metadata": {
    "colab": {
     "base_uri": "https://localhost:8080/",
     "height": 423
    },
    "id": "jwN0Zsm-qBh_",
    "outputId": "54636ee2-49b3-48f4-a81b-d4add8e572f7"
   },
   "outputs": [
    {
     "data": {
      "text/html": [
       "<div>\n",
       "<style scoped>\n",
       "    .dataframe tbody tr th:only-of-type {\n",
       "        vertical-align: middle;\n",
       "    }\n",
       "\n",
       "    .dataframe tbody tr th {\n",
       "        vertical-align: top;\n",
       "    }\n",
       "\n",
       "    .dataframe thead th {\n",
       "        text-align: right;\n",
       "    }\n",
       "</style>\n",
       "<table border=\"1\" class=\"dataframe\">\n",
       "  <thead>\n",
       "    <tr style=\"text-align: right;\">\n",
       "      <th></th>\n",
       "      <th>tfidf</th>\n",
       "    </tr>\n",
       "  </thead>\n",
       "  <tbody>\n",
       "    <tr>\n",
       "      <th>human</th>\n",
       "      <td>1.0</td>\n",
       "    </tr>\n",
       "    <tr>\n",
       "      <th>088</th>\n",
       "      <td>0.0</td>\n",
       "    </tr>\n",
       "    <tr>\n",
       "      <th>naphthyridi</th>\n",
       "      <td>0.0</td>\n",
       "    </tr>\n",
       "    <tr>\n",
       "      <th>naphthol</th>\n",
       "      <td>0.0</td>\n",
       "    </tr>\n",
       "    <tr>\n",
       "      <th>naphthoquinone</th>\n",
       "      <td>0.0</td>\n",
       "    </tr>\n",
       "    <tr>\n",
       "      <th>...</th>\n",
       "      <td>...</td>\n",
       "    </tr>\n",
       "    <tr>\n",
       "      <th>diethylcarboxamide</th>\n",
       "      <td>0.0</td>\n",
       "    </tr>\n",
       "    <tr>\n",
       "      <th>diethylene</th>\n",
       "      <td>0.0</td>\n",
       "    </tr>\n",
       "    <tr>\n",
       "      <th>diethylmethyl</th>\n",
       "      <td>0.0</td>\n",
       "    </tr>\n",
       "    <tr>\n",
       "      <th>difluoro</th>\n",
       "      <td>0.0</td>\n",
       "    </tr>\n",
       "    <tr>\n",
       "      <th>κb</th>\n",
       "      <td>0.0</td>\n",
       "    </tr>\n",
       "  </tbody>\n",
       "</table>\n",
       "<p>2378 rows × 1 columns</p>\n",
       "</div>"
      ],
      "text/plain": [
       "                    tfidf\n",
       "human                 1.0\n",
       "088                   0.0\n",
       "naphthyridi           0.0\n",
       "naphthol              0.0\n",
       "naphthoquinone        0.0\n",
       "...                   ...\n",
       "diethylcarboxamide    0.0\n",
       "diethylene            0.0\n",
       "diethylmethyl         0.0\n",
       "difluoro              0.0\n",
       "κb                    0.0\n",
       "\n",
       "[2378 rows x 1 columns]"
      ]
     },
     "execution_count": 79,
     "metadata": {},
     "output_type": "execute_result"
    }
   ],
   "source": [
    "feature_names = Assay_Count_Vect.get_feature_names()\n",
    "\n",
    "#get tfidf vector for first document\n",
    "first_document_vector=tf_idf_vector[0]\n",
    "\n",
    "#print the scores\n",
    "df = pd.DataFrame(first_document_vector.T.todense(), index=feature_names, columns=[\"tfidf\"])\n",
    "df.sort_values(by=[\"tfidf\"],ascending=False)"
   ]
  },
  {
   "cell_type": "code",
   "execution_count": 80,
   "metadata": {
    "colab": {
     "base_uri": "https://localhost:8080/",
     "height": 1000
    },
    "id": "gJ22MvecqHE9",
    "outputId": "573fbb46-45ab-46a7-e49a-0a1a66f9bf66"
   },
   "outputs": [
    {
     "name": "stderr",
     "output_type": "stream",
     "text": [
      "/home/ubuntu/.local/lib/python3.8/site-packages/seaborn/matrix.py:560: UserWarning: Clustering large matrix with scipy. Installing `fastcluster` may give better performance.\n",
      "  warnings.warn(msg)\n"
     ]
    },
    {
     "data": {
      "text/plain": [
       "<seaborn.matrix.ClusterGrid at 0x7fc56cdbdfd0>"
      ]
     },
     "execution_count": 80,
     "metadata": {},
     "output_type": "execute_result"
    },
    {
     "data": {
      "image/png": "[encoded data removed]",
      "text/plain": [
       "<Figure size 720x720 with 4 Axes>"
      ]
     },
     "metadata": {
      "needs_background": "light"
     },
     "output_type": "display_data"
    }
   ],
   "source": [
    "import seaborn\n",
    "\n",
    "seaborn.clustermap(tf_idf_vector.toarray(),method='ward')"
   ]
  },
  {
   "cell_type": "code",
   "execution_count": null,
   "metadata": {},
   "outputs": [],
   "source": []
  }
 ],
 "metadata": {
  "kernelspec": {
   "display_name": "Python 3",
   "language": "python",
   "name": "python3"
  },
  "language_info": {
   "name": ""
  }
 },
 "nbformat": 4,
 "nbformat_minor": 0
}
