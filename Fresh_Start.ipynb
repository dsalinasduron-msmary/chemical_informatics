{
  "nbformat": 4,
  "nbformat_minor": 0,
  "metadata": {
    "colab": {
      "provenance": []
    },
    "kernelspec": {
      "name": "python3",
      "display_name": "Python 3"
    },
    "language_info": {
      "name": "python"
    }
  },
  "cells": [
    {
      "cell_type": "code",
      "execution_count": 1,
      "metadata": {
        "id": "PE-dCM2TMuNx"
      },
      "outputs": [],
      "source": [
        "#!/usr/bin/env python3\n",
        "\n",
        "# Import relevant libraries to make HTTP requests and parse JSON response\n",
        "import requests\n",
        "import json\n",
        "import csv\n",
        "import io\n",
        "\n",
        "from collections import defaultdict\n",
        "from time import time\n",
        "from sklearn import metrics\n"
      ]
    },
    {
      "cell_type": "code",
      "source": [
        "# Set disease_id variable for triple-negative breast cancer\n",
        "disease_id = \"EFO_0005537\"\n",
        "\n",
        "# Build query string to get target information as well as count\n",
        "query_string = \"\"\"\n",
        "query KnownDrugs {\n",
        "  disease(efoId: \"EFO_0005537\") {\n",
        "    id\n",
        "    name\n",
        "\t\tassociatedTargets (page: {size: 3, index: 0}) {\n",
        "      rows{\n",
        "        score\n",
        "        target{\n",
        "          id\n",
        "          approvedName\n",
        "          approvedSymbol\n",
        "          knownDrugs{\n",
        "            rows{\n",
        "              drug{\n",
        "                name\n",
        "                id\n",
        "              }\n",
        "            }\n",
        "          }\n",
        "        }\n",
        "      }\n",
        "    }\n",
        "}\n",
        "}\n",
        "\"\"\""
      ],
      "metadata": {
        "id": "S58u_mh3NT7W"
      },
      "execution_count": 2,
      "outputs": []
    },
    {
      "cell_type": "code",
      "source": [
        "# Set variables object of arguments to be passed to endpoint\n",
        "variables = {\"efoId\": disease_id}\n",
        "\n",
        "# Set base URL of GraphQL API endpoint\n",
        "base_url = \"https://api.platform.opentargets.org/api/v4/graphql\"\n",
        "\n",
        "# Perform POST request and check status code of response\n",
        "r = requests.post(base_url, json={\"query\": query_string, \"variables\": variables})\n",
        "print(r.status_code)\n",
        "\n",
        "#Transform API response from JSON into Python dictionary and print in console\n",
        "api_response = json.loads(r.text)\n",
        "print('done')\n",
        "#print(api_response)"
      ],
      "metadata": {
        "colab": {
          "base_uri": "https://localhost:8080/"
        },
        "id": "VOSv_cELNhqv",
        "outputId": "cf6b1a0a-a290-459e-c7b9-839dfb193e5a"
      },
      "execution_count": 3,
      "outputs": [
        {
          "output_type": "stream",
          "name": "stdout",
          "text": [
            "200\n",
            "done\n"
          ]
        }
      ]
    },
    {
      "cell_type": "code",
      "source": [
        "a=0\n",
        "#create list of target IDs by calling them from dictionary\n",
        "target_ids = api_response['data']['disease']['associatedTargets']['rows']\n",
        "#print(target_ids)\n",
        "target_id_list = []\n",
        "#pull IDs from dictionary and add to new list\n",
        "while a < len(target_ids):\n",
        "    target_id_list.append(target_ids[a]['target'].get('id'))\n",
        "    a+=1\n",
        "print(target_id_list)\n"
      ],
      "metadata": {
        "colab": {
          "base_uri": "https://localhost:8080/"
        },
        "id": "mkDGecW5OAG2",
        "outputId": "0c9e88aa-8e08-4966-c0f5-f83849d5379f"
      },
      "execution_count": 4,
      "outputs": [
        {
          "output_type": "stream",
          "name": "stdout",
          "text": [
            "['ENSG00000184292', 'ENSG00000198900', 'ENSG00000120217']\n"
          ]
        }
      ]
    },
    {
      "cell_type": "code",
      "source": [
        "# Create new dictionary assigning assays to to each target, and assigning compounds to each assay using PUG REST\n",
        "# Able to write dictionary at a speed of 4 targets/second\n",
        "\n",
        "a=0\n",
        "target_id_assay_dict = {}\n",
        "counter = 0\n",
        "for target_id in target_id_list:\n",
        "    counter = counter + 1\n",
        "    if counter > 3 :\n",
        "      break\n",
        "# get raw AIDs (Assay IDs) for each Ensemble ID in JSON format using PUG REST\n",
        "    r = requests.get('https://pubchem.ncbi.nlm.nih.gov/rest/pug/gene/synonym/Ensemble:' + target_id + '/aids/json')\n",
        "# convert JSON to Python Dictionary\n",
        "    raw_aids = r.json()\n",
        "    #print(type(raw_aids))\n",
        "# isolate raw_aids into a list containing just the AIDs from the dictionary\n",
        "    try:\n",
        "        aids = raw_aids['InformationList']['Information'][0]['AID']\n",
        "    except:\n",
        "        pass\n",
        "# assign each Ensamble Target ID to dictionary entry with associated Assay IDs\n",
        "    #target_id_assay_dict[id] =  aids\n",
        "\n",
        "    #create sub-dictionary for compounds within each assay\n",
        "    target_id_assay_dict[target_id] =  {}\n",
        "    for aid in aids:\n",
        "        aid = str(aid)\n",
        "        print(aid)\n",
        "        #get raw CIDS (Compound IDs) for each Assay in JSON format using PUG REST\n",
        "        r = requests.get('https://pubchem.ncbi.nlm.nih.gov/assay/pcget.cgi?query=download&record_type=datatable&actvty=active&response_type=display&aid=' + aid)\n",
        "\n",
        "        loose_data = r.text\n",
        "\n",
        "        listed_data = loose_data.split(',')\n",
        "        try:\n",
        "            cid_index = listed_data.index(\"PUBCHEM_CID\")\n",
        "        except:\n",
        "            continue\n",
        "        #print(cid_index)\n",
        "        #print(type(cid_index))\n",
        "\n",
        "        activity_index = listed_data.index(\"PUBCHEM_ACTIVITY_SCORE\")\n",
        "        #print(activity_index)\n",
        "        #print(type(activity_index))\n",
        "\n",
        "\n",
        "        fhand = io.StringIO(loose_data)\n",
        "\n",
        "        cids_with_activities = []\n",
        "\n",
        "        for line in fhand:\n",
        "            line = line.split(',')\n",
        "\n",
        "            while ('' in line):\n",
        "                line.remove('')\n",
        "            try:\n",
        "                int(line[0])\n",
        "                int(line[cid_index])\n",
        "                float(line[activity_index])\n",
        "            except:\n",
        "                line = \"\"\n",
        "                continue\n",
        "            cid_with_activity = (line[cid_index], line[activity_index])\n",
        "            cids_with_activities.append(cid_with_activity)\n",
        "        #isolate raw_cids into a list containing just the CIDs from the dictionary\n",
        "        if len(cids_with_activities) > 0:\n",
        "            #assign CIDs to associated AID dictionary entry\n",
        "            target_id_assay_dict[target_id][aid] = cids_with_activities\n",
        "            print(\"Compounds found! Adding compounds to dictionary and passing to next assay.\")\n",
        "        else:\n",
        "            print(\"No compounds found for assay. Passing to next assay.\")\n",
        "            continue\n",
        "\n",
        "    a+=1\n",
        "    display(a)\n",
        "print(target_id_assay_dict)"
      ],
      "metadata": {
        "id": "phkFLvoAOkAs"
      },
      "execution_count": null,
      "outputs": []
    },
    {
      "cell_type": "code",
      "source": [
        "#Precautions to ensure the code works right and the the Assay ID numbrs line up right\n",
        "print(aids)\n",
        "print(len(aids))\n"
      ],
      "metadata": {
        "colab": {
          "base_uri": "https://localhost:8080/"
        },
        "id": "gPxUPZ7Zjr3i",
        "outputId": "82ab2e53-e28c-4c48-b5c5-f6d0d55b3c43"
      },
      "execution_count": 7,
      "outputs": [
        {
          "output_type": "stream",
          "name": "stdout",
          "text": [
            "[1904, 56396, 56397, 56398, 56399, 56400, 56401, 56402, 56403, 56404, 56405, 56406, 56407, 56408, 56409, 56410, 56411, 56412, 56413, 56414, 56415, 56416, 56417, 56418, 56419, 56420, 56541, 56542, 56543, 56544, 56545, 56546, 56547, 56548, 56549, 56550, 56551, 56552, 56553, 56554, 56555, 56556, 56557, 56558, 56559, 56560, 56561, 56562, 56563, 56564, 56565, 56566, 56567, 56568, 56569, 56570, 56571, 56572, 56573, 56574, 56575, 56576, 56577, 56699, 56700, 56701, 56702, 56703, 56704, 56705, 56706, 56707, 56708, 56709, 56710, 56711, 56712, 56713, 56714, 56715, 56716, 56717, 56718, 56719, 56720, 56721, 56722, 56723, 56724, 56725, 56726, 56727, 56728, 56729, 56730, 56731, 56732, 56733, 56864, 56865, 56866, 56867, 56868, 56869, 56870, 56871, 56872, 56873, 56874, 56875, 56876, 56877, 56878, 56879, 56880, 56881, 56882, 56883, 56884, 56885, 56886, 56887, 56888, 56889, 56890, 56891, 56892, 56893, 56894, 56895, 56896, 56897, 56898, 56899, 56900, 56901, 57032, 57033, 57034, 57035, 57036, 57037, 57038, 57039, 57040, 57041, 57042, 57043, 210938, 210939, 210940, 210941, 210942, 210943, 210944, 210945, 210946, 210947, 210948, 210949, 211091, 211092, 211093, 211094, 211095, 211097, 211098, 211099, 211100, 211101, 211102, 211103, 211104, 211105, 211106, 211107, 211108, 211109, 211110, 211111, 211112, 211113, 211114, 211115, 211116, 211117, 224610, 228425, 228426, 231982, 232993, 239726, 239852, 240049, 240097, 240620, 241607, 242837, 243219, 243220, 243221, 243223, 243224, 243225, 243226, 243386, 243387, 243388, 243437, 243438, 244262, 244263, 244264, 244265, 244266, 244267, 250096, 251002, 252286, 252287, 252288, 252289, 252290, 252291, 256508, 256678, 258767, 264545, 268635, 268636, 268637, 269042, 269043, 269110, 269203, 283903, 283904, 286262, 286403, 286404, 286405, 286406, 286407, 286413, 286414, 286415, 286416, 286421, 286422, 286423, 286424, 286438, 286439, 286440, 287709, 287710, 287711, 287712, 293172, 293480, 293481, 293483, 296073, 297066, 299311, 299312, 300366, 300367, 309604, 312293, 312295, 314508, 314509, 317452, 322713, 328779, 328780, 331449, 331828, 333055, 333057, 334464, 334465, 334466, 336292, 344134, 345172, 345173, 346586, 350320, 353083, 354858, 358916, 361234, 361235, 361236, 361444, 361445, 361450, 361451, 361452, 362301, 366208, 366217, 376730, 377538, 378110, 379271, 379272, 379273, 379824, 380032, 380033, 380253, 385404, 389683, 393312, 393754, 396403, 396771, 402038, 408919, 408920, 408923, 409902, 411410, 411411, 414753, 418336, 422411, 422412, 422413, 431825, 431826, 431827, 431833, 431834, 431835, 431854, 432397, 432398, 432399, 432401, 432403, 432404, 433914, 434819, 434821, 436178, 436387, 436713, 436714, 436715, 436716, 449570, 449571, 453108, 453806, 456247, 456248, 458062, 460543, 460544, 462323, 462324, 462741, 462742, 467763, 467764, 470667, 476071, 478033, 478041, 478056, 480105, 480106, 480992, 481164, 481165, 481166, 481167, 481168, 481169, 481171, 481172, 481173, 481429, 481430, 485536, 486649, 487689, 487695, 490081, 490170, 494546, 497152, 497153, 511233, 511234, 527478, 527479, 536035, 536036, 536901, 537376, 537377, 537378, 537379, 547370, 547371, 547372, 551007, 551009, 551010, 551014, 551015, 551016, 551263, 552714, 565888, 565889, 565890, 577548, 577549, 577550, 578682, 578683, 590398, 591643, 591644, 592162, 592163, 595841, 595842, 599168, 600204, 600208, 600209, 600210, 600211, 600216, 606654, 606747, 607456, 608854, 608855, 610760, 611200, 611201, 612419, 612420, 615989, 617145, 620745, 620746, 620747, 620748, 620749, 620798, 620799, 624099, 632907, 635424, 636881, 636882, 636883, 644574, 644575, 644777, 651810, 651811, 657775, 657776, 657777, 657778, 657779, 657780, 657781, 657916, 657917, 657918, 666765, 673453, 677826, 677830, 677840, 677841, 696326, 696327, 696328, 696329, 696330, 699139, 699140, 699141, 699143, 699145, 699147, 699149, 699150, 699151, 699152, 699153, 699154, 699155, 699156, 699159, 701776, 701777, 702828, 702851, 702856, 702857, 704299, 704300, 709686, 711426, 711429, 714170, 714171, 720710, 724041, 724051, 724052, 724053, 725344, 725345, 725730, 725731, 725732, 725734, 729747, 730195, 735940, 736320, 736814, 743121, 743454, 745329, 746647, 747370, 747371, 747461, 747462, 748349, 749698, 756448, 761189, 767198, 768623, 770644, 771322, 771323, 771547, 771548, 774972, 775817, 775824, 776101, 776102, 776105, 776106, 776649, 776654, 779453, 779454, 780350, 780351, 780352, 780933, 780934, 780938, 780939, 1061257, 1061259, 1061261, 1063330, 1075781, 1075782, 1075783, 1075784, 1075785, 1075794, 1075795, 1075796, 1075797, 1075855, 1075856, 1075857, 1076036, 1076081, 1076082, 1095219, 1095226, 1095227, 1095228, 1096583, 1096585, 1117281, 1117357, 1121257, 1122073, 1138548, 1142522, 1142523, 1142524, 1142525, 1142526, 1143108, 1143109, 1143384, 1155282, 1155283, 1159506, 1159578, 1159584, 1165010, 1165011, 1165391, 1165392, 1165393, 1165394, 1165395, 1165396, 1167481, 1167482, 1169487, 1169488, 1175659, 1175660, 1175661, 1175662, 1175663, 1175664, 1175665, 1179938, 1182588, 1182589, 1182590, 1182607, 1185511, 1187845, 1194058, 1194769, 1194770, 1195269, 1197367, 1197378, 1197846, 1197849, 1198386, 1201343, 1201344, 1203574, 1203584, 1203585, 1203586, 1203587, 1206840, 1206841, 1206843, 1206844, 1224830, 1225979, 1226759, 1227434, 1227436, 1228597, 1228598, 1228599, 1228600, 1231675, 1231676, 1236890, 1236891, 1239195, 1239196, 1239197, 1240569, 1244074, 1244077, 1245883, 1245884, 1250350, 1250351, 1250352, 1250353, 1250357, 1250358, 1250359, 1250360, 1251496, 1251505, 1252045, 1252046, 1252049, 1252051, 1254805, 1254806, 1254807, 1254810, 1264620, 1265043, 1268056, 1268057, 1268058, 1269401, 1273775, 1273776, 1274490, 1274495, 1274535, 1274800, 1274801, 1279113, 1284053, 1284054, 1284066, 1284067, 1287948, 1287949, 1288087, 1288088, 1288328, 1288329, 1294874, 1294922, 1302329, 1302342, 1306065, 1306928, 1306930, 1306932, 1306934, 1309918, 1309919, 1310522, 1322189, 1322190, 1322191, 1324294, 1325811, 1326452, 1326609, 1326614, 1326622, 1326623, 1327275, 1327276, 1327277, 1327631, 1327633, 1327805, 1327808, 1327956, 1333371, 1333372, 1333373, 1333374, 1337469, 1337470, 1337481, 1337482, 1337582, 1337583, 1339692, 1339693, 1346045, 1347618, 1347619, 1347620, 1352095, 1352096, 1358575, 1359176, 1361510, 1363189, 1363190, 1363340, 1363341, 1363365, 1363366, 1374093, 1374094, 1378651, 1382328, 1382329, 1382330, 1382599, 1382600, 1382607, 1382608, 1383386, 1383387, 1383388, 1383389, 1383390, 1383391, 1383392, 1387408, 1387409, 1387410, 1387411, 1390166, 1390167, 1390176, 1390177, 1390208, 1390209, 1390210, 1390211, 1390212, 1396987, 1400707, 1400708, 1400711, 1401812, 1401813, 1401818, 1401819, 1401820, 1401822, 1401823, 1401824, 1401825, 1401826, 1401830, 1401831, 1407988, 1413829, 1415044, 1426110, 1426112, 1428609, 1428613, 1428614, 1428615, 1428616, 1428617, 1428618, 1428690, 1428691, 1428700, 1428701, 1428712, 1428713, 1428714, 1428715, 1431482, 1431483, 1442286, 1443965, 1443966, 1443967, 1443978, 1443979, 1447300, 1447301, 1447305, 1447306, 1447307, 1448230, 1453061, 1453062, 1453394, 1457569, 1472923, 1472924, 1472925, 1472926, 1472927, 1472928, 1472929, 1472930, 1472931, 1472932, 1472933, 1472934, 1472935, 1472936, 1472937, 1472938, 1472940, 1472941, 1472942, 1472947, 1472948, 1472950, 1472951, 1472952, 1478721, 1478722, 1478733, 1478734, 1481805, 1481806, 1481807, 1486385, 1486759, 1486765, 1500678, 1500679, 1500681, 1507687, 1507689, 1507694, 1507695, 1507750, 1508588, 1520397, 1520398, 1520399, 1520400, 1537211, 1544044, 1544048, 1544049, 1544050, 1544057, 1544058, 1544059, 1544060, 1544061, 1544067, 1544068, 1544069, 1544070, 1544076, 1551202, 1551203, 1551900, 1562002, 1562003, 1562010, 1562011, 1562101, 1562102, 1563007, 1563008, 1563009, 1563013, 1563014, 1563015, 1564585, 1566675, 1566676, 1566743, 1566744, 1566745, 1566778, 1577582, 1577583, 1585186, 1585187, 1585188, 1585189, 1585190, 1585191, 1585192, 1585193, 1601654, 1601657, 1601658, 1601659, 1609804, 1609821, 1609822, 1609823, 1609824, 1609825, 1609859, 1610469, 1631081, 1638092, 1638093, 1648729, 1648730, 1648731, 1651221, 1651222, 1651223, 1651224, 1651225, 1651226, 1655966, 1655967, 1655968, 1655970, 1655971, 1655972, 1655973, 1659501, 1659502, 1659503, 1667417, 1667418, 1673144, 1673146, 1673147, 1673148, 1673149, 1673154, 1673156, 1689290, 1689313, 1692473, 1701969, 1702012, 1702822, 1702823, 1702824, 1702825, 1702826, 1703217, 1703218, 1703219, 1703331, 1703332, 1708523, 1708533, 1708534, 1713804, 1713805, 1723562, 1724032, 1727988, 1727989, 1727990, 1728398, 1728414, 1732040, 1733013, 1736595, 1736602, 1736603, 1736606, 1736607, 1736608, 1737446, 1737447, 1737448, 1737449, 1737450, 1738949, 1740932, 1740933, 1758341, 1758342, 1758988, 1759310, 1759311, 1759312, 1759313, 1759314, 1763576, 1763577, 1763578, 1763579, 1765566, 1765569, 1779158, 1779194, 1779228, 1779229, 1779298, 1781535, 1798415, 1803398, 1808044, 1808045, 1808046, 1808048, 1808049, 1808050, 1808110, 1810247, 1810249, 1810251, 1810252, 1811235, 1811236, 1817036, 1823979, 1823980, 1823981, 1823982, 1823983, 1826593, 1826602, 1830490, 1830496, 1849130, 1849131, 1854846, 1858607, 1859455, 1859464, 1859467, 1859469, 1862078, 1862079, 1862088, 1867660, 1867663, 1877736, 1877737, 1877738, 1884188, 1884189, 1885559, 1885561, 1885562, 1888016, 1888017, 1888018, 1888019, 1888020, 1888021, 1888022, 1888023, 1888036, 1888037, 1888098, 1891163, 1891164, 1891165, 1891166, 1891167, 1891168, 1894518, 1899156, 1906038, 1911379, 1911380, 1911382, 1911684, 1911685]\n",
            "1137\n"
          ]
        }
      ]
    },
    {
      "cell_type": "code",
      "source": [
        "#Thomas Passaro working on my own request using the URL From John Marinelli.\n",
        "\n",
        "from os import X_OK\n",
        "\n",
        "#List made to hold all the Assay Descriptions\n",
        "Assay_Descriptions_List = []\n",
        "\n",
        "#Counter used to break out for test purposes\n",
        "Count = 0\n",
        "\n",
        "#A for loop used to cycle through the Assay ID numbers.\n",
        "for i in aids:\n",
        "\n",
        "  #this prints the Assay ID number before the name of the Assay. I find this gives more information for the user.\n",
        "  print(str(i))\n",
        "\n",
        "  #count to stop after a certain number of Assays (For test purposes)\n",
        "  Count = Count +1\n",
        "  if Count > 40:\n",
        "    break\n",
        "  #this is the calling of the request from the URL and it includes the cycling of Assay ID numbers.\n",
        "  description_requests = requests.get('https://pubchem.ncbi.nlm.nih.gov/rest/pug/assay/aid/'+ str(i) +'/description/JSON')\n",
        "  URL_Dict = description_requests.json()\n",
        "\n",
        "  #Assay_Names is URL_Dict after it went through a few indexs\n",
        "  Assay_Names = URL_Dict['PC_AssayContainer'][0]['assay']['descr']['name']\n",
        "  print(Assay_Names)\n",
        "\n",
        "  #Assay_Descriptions is the URL_Dict after it went through a few indexs to get the decriptions of each Assay\n",
        "  Assay_Descriptions = URL_Dict['PC_AssayContainer'][0]['assay']['descr']['description']\n",
        "\n",
        "  #Makes the descriptions all one string instead of multiple\n",
        "  Assay_Descriptions_Joined = ' '.join(Assay_Descriptions)\n",
        "  print(Assay_Descriptions_Joined)\n",
        "\n",
        "  #adds the Descriptions of the Assays to the Assay Description List\n",
        "  Assay_Descriptions_List.append(Assay_Descriptions_Joined)\n"
      ],
      "metadata": {
        "id": "umOdqHwaPb54"
      },
      "execution_count": null,
      "outputs": []
    },
    {
      "cell_type": "code",
      "source": [
        "print(Assay_Descriptions_List)"
      ],
      "metadata": {
        "id": "U8irBaS5PoiR"
      },
      "execution_count": null,
      "outputs": []
    },
    {
      "cell_type": "code",
      "source": [
        "from sklearn.feature_extraction.text import CountVectorizer\n",
        "Assay_Count_Vect = CountVectorizer()\n",
        "Assay_Train_Counts = Assay_Count_Vect.fit_transform(Assay_Descriptions_List)\n",
        "Assay_Train_Counts.shape\n",
        "print(Assay_Train_Counts)\n",
        "print(Assay_Train_Counts.toarray())"
      ],
      "metadata": {
        "id": "SWcufRScPwSm"
      },
      "execution_count": null,
      "outputs": []
    },
    {
      "cell_type": "code",
      "source": [
        "print(Assay_Count_Vect.get_feature_names_out())\n",
        "print(Assay_Train_Counts.shape)"
      ],
      "metadata": {
        "colab": {
          "base_uri": "https://localhost:8080/"
        },
        "id": "RK_q0rvtQEq6",
        "outputId": "02689c03-422f-49d6-b731-37725e57ada7"
      },
      "execution_count": 36,
      "outputs": [
        {
          "output_type": "stream",
          "name": "stdout",
          "text": [
            "['000' '10' '100' '12' '135' '160' '200' '50' '90' 'abstract' 'activities'\n",
            " 'activity' 'additional' 'against' 'also' 'amplitude' 'an' 'and' 'are'\n",
            " 'as' 'at' 'basic' 'bind' 'binding' 'biological' 'bisindolylmaleimides'\n",
            " 'cells' 'cellular' 'characterization' 'clock' 'compounds' 'concentration'\n",
            " 'conducted' 'contain' 'corresponding' 'cytotoxicity' 'dependent'\n",
            " 'described' 'description' 'did' 'dimethylamino' 'dna' 'due' 'effects'\n",
            " 'electrostatically' 'ester' 'evaluation' 'exhibited' 'function' 'genes'\n",
            " 'genome' 'greater' 'groove' 'however' 'human' 'hundreds' 'identify' 'in'\n",
            " 'inc' 'increase' 'increased' 'inhibit' 'inhibition' 'inhibitory' 'is'\n",
            " 'knockdown' 'length' 'lexitropsins' 'linked' 'manner' 'methyl' 'microm'\n",
            " 'minor' 'model' 'modified' 'modifiers' 'moiety' 'nearly' 'neutral' 'nor'\n",
            " 'not' 'number' 'observed' 'of' 'oligopeptide' 'on' 'or' 'order' 'period'\n",
            " 'potently' 'presumably' 'propyl' 'pyrrole' 'qiagen' 'reduced' 'relative'\n",
            " 'respectively' 'rhythm' 'screen' 'series' 'sirnas' 'substituted' 'such'\n",
            " 'synthesis' 'templates' 'terminus' 'than' 'the' 'these' 'those'\n",
            " 'thousand' 'times' 'title' 'to' 'topoisomerase' 'toxic' 'units' 'values'\n",
            " 'we' 'were' 'which' 'wide' 'with']\n",
            "(40, 123)\n"
          ]
        }
      ]
    },
    {
      "cell_type": "code",
      "source": [
        "from sklearn.cluster import AgglomerativeClustering\n",
        "import numpy as np\n",
        "from scipy.cluster.hierarchy import dendrogram\n",
        "\n",
        "n_clusters = 10  # number of regions\n",
        "X = Assay_Train_Counts.toarray()\n",
        "\n",
        "ward = AgglomerativeClustering(\n",
        "    n_clusters = n_clusters, linkage=\"ward\", connectivity=None, compute_full_tree= True,compute_distances = True\n",
        ")\n",
        "ward.fit(X)\n",
        "\n"
      ],
      "metadata": {
        "colab": {
          "base_uri": "https://localhost:8080/",
          "height": 92
        },
        "id": "jbzCtj-kQRQC",
        "outputId": "a3f33ecd-73b2-4d4b-8d12-9ea779fe5afb"
      },
      "execution_count": 29,
      "outputs": [
        {
          "output_type": "execute_result",
          "data": {
            "text/plain": [
              "AgglomerativeClustering(compute_distances=True, compute_full_tree=True,\n",
              "                        n_clusters=10)"
            ],
            "text/html": [
              "<style>#sk-container-id-6 {color: black;background-color: white;}#sk-container-id-6 pre{padding: 0;}#sk-container-id-6 div.sk-toggleable {background-color: white;}#sk-container-id-6 label.sk-toggleable__label {cursor: pointer;display: block;width: 100%;margin-bottom: 0;padding: 0.3em;box-sizing: border-box;text-align: center;}#sk-container-id-6 label.sk-toggleable__label-arrow:before {content: \"▸\";float: left;margin-right: 0.25em;color: #696969;}#sk-container-id-6 label.sk-toggleable__label-arrow:hover:before {color: black;}#sk-container-id-6 div.sk-estimator:hover label.sk-toggleable__label-arrow:before {color: black;}#sk-container-id-6 div.sk-toggleable__content {max-height: 0;max-width: 0;overflow: hidden;text-align: left;background-color: #f0f8ff;}#sk-container-id-6 div.sk-toggleable__content pre {margin: 0.2em;color: black;border-radius: 0.25em;background-color: #f0f8ff;}#sk-container-id-6 input.sk-toggleable__control:checked~div.sk-toggleable__content {max-height: 200px;max-width: 100%;overflow: auto;}#sk-container-id-6 input.sk-toggleable__control:checked~label.sk-toggleable__label-arrow:before {content: \"▾\";}#sk-container-id-6 div.sk-estimator input.sk-toggleable__control:checked~label.sk-toggleable__label {background-color: #d4ebff;}#sk-container-id-6 div.sk-label input.sk-toggleable__control:checked~label.sk-toggleable__label {background-color: #d4ebff;}#sk-container-id-6 input.sk-hidden--visually {border: 0;clip: rect(1px 1px 1px 1px);clip: rect(1px, 1px, 1px, 1px);height: 1px;margin: -1px;overflow: hidden;padding: 0;position: absolute;width: 1px;}#sk-container-id-6 div.sk-estimator {font-family: monospace;background-color: #f0f8ff;border: 1px dotted black;border-radius: 0.25em;box-sizing: border-box;margin-bottom: 0.5em;}#sk-container-id-6 div.sk-estimator:hover {background-color: #d4ebff;}#sk-container-id-6 div.sk-parallel-item::after {content: \"\";width: 100%;border-bottom: 1px solid gray;flex-grow: 1;}#sk-container-id-6 div.sk-label:hover label.sk-toggleable__label {background-color: #d4ebff;}#sk-container-id-6 div.sk-serial::before {content: \"\";position: absolute;border-left: 1px solid gray;box-sizing: border-box;top: 0;bottom: 0;left: 50%;z-index: 0;}#sk-container-id-6 div.sk-serial {display: flex;flex-direction: column;align-items: center;background-color: white;padding-right: 0.2em;padding-left: 0.2em;position: relative;}#sk-container-id-6 div.sk-item {position: relative;z-index: 1;}#sk-container-id-6 div.sk-parallel {display: flex;align-items: stretch;justify-content: center;background-color: white;position: relative;}#sk-container-id-6 div.sk-item::before, #sk-container-id-6 div.sk-parallel-item::before {content: \"\";position: absolute;border-left: 1px solid gray;box-sizing: border-box;top: 0;bottom: 0;left: 50%;z-index: -1;}#sk-container-id-6 div.sk-parallel-item {display: flex;flex-direction: column;z-index: 1;position: relative;background-color: white;}#sk-container-id-6 div.sk-parallel-item:first-child::after {align-self: flex-end;width: 50%;}#sk-container-id-6 div.sk-parallel-item:last-child::after {align-self: flex-start;width: 50%;}#sk-container-id-6 div.sk-parallel-item:only-child::after {width: 0;}#sk-container-id-6 div.sk-dashed-wrapped {border: 1px dashed gray;margin: 0 0.4em 0.5em 0.4em;box-sizing: border-box;padding-bottom: 0.4em;background-color: white;}#sk-container-id-6 div.sk-label label {font-family: monospace;font-weight: bold;display: inline-block;line-height: 1.2em;}#sk-container-id-6 div.sk-label-container {text-align: center;}#sk-container-id-6 div.sk-container {/* jupyter's `normalize.less` sets `[hidden] { display: none; }` but bootstrap.min.css set `[hidden] { display: none !important; }` so we also need the `!important` here to be able to override the default hidden behavior on the sphinx rendered scikit-learn.org. See: https://github.com/scikit-learn/scikit-learn/issues/21755 */display: inline-block !important;position: relative;}#sk-container-id-6 div.sk-text-repr-fallback {display: none;}</style><div id=\"sk-container-id-6\" class=\"sk-top-container\"><div class=\"sk-text-repr-fallback\"><pre>AgglomerativeClustering(compute_distances=True, compute_full_tree=True,\n",
              "                        n_clusters=10)</pre><b>In a Jupyter environment, please rerun this cell to show the HTML representation or trust the notebook. <br />On GitHub, the HTML representation is unable to render, please try loading this page with nbviewer.org.</b></div><div class=\"sk-container\" hidden><div class=\"sk-item\"><div class=\"sk-estimator sk-toggleable\"><input class=\"sk-toggleable__control sk-hidden--visually\" id=\"sk-estimator-id-6\" type=\"checkbox\" checked><label for=\"sk-estimator-id-6\" class=\"sk-toggleable__label sk-toggleable__label-arrow\">AgglomerativeClustering</label><div class=\"sk-toggleable__content\"><pre>AgglomerativeClustering(compute_distances=True, compute_full_tree=True,\n",
              "                        n_clusters=10)</pre></div></div></div></div></div>"
            ]
          },
          "metadata": {},
          "execution_count": 29
        }
      ]
    },
    {
      "cell_type": "code",
      "source": [
        "!pip install seaborn"
      ],
      "metadata": {
        "colab": {
          "base_uri": "https://localhost:8080/"
        },
        "id": "rg3V9zlRXrDo",
        "outputId": "59bbef2d-ddd9-4e19-a074-457d1d67496c"
      },
      "execution_count": 34,
      "outputs": [
        {
          "output_type": "stream",
          "name": "stdout",
          "text": [
            "Requirement already satisfied: seaborn in /usr/local/lib/python3.10/dist-packages (0.12.2)\n",
            "Requirement already satisfied: numpy!=1.24.0,>=1.17 in /usr/local/lib/python3.10/dist-packages (from seaborn) (1.22.4)\n",
            "Requirement already satisfied: pandas>=0.25 in /usr/local/lib/python3.10/dist-packages (from seaborn) (1.5.3)\n",
            "Requirement already satisfied: matplotlib!=3.6.1,>=3.1 in /usr/local/lib/python3.10/dist-packages (from seaborn) (3.7.1)\n",
            "Requirement already satisfied: contourpy>=1.0.1 in /usr/local/lib/python3.10/dist-packages (from matplotlib!=3.6.1,>=3.1->seaborn) (1.1.0)\n",
            "Requirement already satisfied: cycler>=0.10 in /usr/local/lib/python3.10/dist-packages (from matplotlib!=3.6.1,>=3.1->seaborn) (0.11.0)\n",
            "Requirement already satisfied: fonttools>=4.22.0 in /usr/local/lib/python3.10/dist-packages (from matplotlib!=3.6.1,>=3.1->seaborn) (4.40.0)\n",
            "Requirement already satisfied: kiwisolver>=1.0.1 in /usr/local/lib/python3.10/dist-packages (from matplotlib!=3.6.1,>=3.1->seaborn) (1.4.4)\n",
            "Requirement already satisfied: packaging>=20.0 in /usr/local/lib/python3.10/dist-packages (from matplotlib!=3.6.1,>=3.1->seaborn) (23.1)\n",
            "Requirement already satisfied: pillow>=6.2.0 in /usr/local/lib/python3.10/dist-packages (from matplotlib!=3.6.1,>=3.1->seaborn) (8.4.0)\n",
            "Requirement already satisfied: pyparsing>=2.3.1 in /usr/local/lib/python3.10/dist-packages (from matplotlib!=3.6.1,>=3.1->seaborn) (3.1.0)\n",
            "Requirement already satisfied: python-dateutil>=2.7 in /usr/local/lib/python3.10/dist-packages (from matplotlib!=3.6.1,>=3.1->seaborn) (2.8.2)\n",
            "Requirement already satisfied: pytz>=2020.1 in /usr/local/lib/python3.10/dist-packages (from pandas>=0.25->seaborn) (2022.7.1)\n",
            "Requirement already satisfied: six>=1.5 in /usr/local/lib/python3.10/dist-packages (from python-dateutil>=2.7->matplotlib!=3.6.1,>=3.1->seaborn) (1.16.0)\n"
          ]
        }
      ]
    },
    {
      "cell_type": "code",
      "source": [
        "import seaborn\n",
        "\n",
        "seaborn.clustermap(X,method='ward')\n",
        "\n"
      ],
      "metadata": {
        "colab": {
          "base_uri": "https://localhost:8080/",
          "height": 1000
        },
        "id": "0xlNKnGVYSS6",
        "outputId": "7a2613c1-53d4-4018-f3f3-a6870414a66f"
      },
      "execution_count": 39,
      "outputs": [
        {
          "output_type": "execute_result",
          "data": {
            "text/plain": [
              "<seaborn.matrix.ClusterGrid at 0x7a34dd799450>"
            ]
          },
          "metadata": {},
          "execution_count": 39
        },
        {
          "output_type": "display_data",
          "data": {
            "text/plain": [
              "<Figure size 1000x1000 with 4 Axes>"
            ],
            "image/png": "[encoded data removed]"
          },
          "metadata": {}
        }
      ]
    }
  ]
}