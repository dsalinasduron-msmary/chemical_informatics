{
 "cells": [
  {
   "cell_type": "code",
   "execution_count": 5,
   "metadata": {},
   "outputs": [
    {
     "name": "stdout",
     "output_type": "stream",
     "text": [
      "Collecting deepchem\n",
      "  Using cached deepchem-2.7.1-py3-none-any.whl (693 kB)\n",
      "Collecting joblib (from deepchem)\n",
      "  Downloading joblib-1.3.1-py3-none-any.whl (301 kB)\n",
      "\u001b[2K     \u001b[90m━━━━━━━━━━━━━━━━━━━━━━━━━━━━━━━━━━━━━━━\u001b[0m \u001b[32m302.0/302.0 kB\u001b[0m \u001b[31m6.2 MB/s\u001b[0m eta \u001b[36m0:00:00\u001b[0m\n",
      "\u001b[?25hRequirement already satisfied: numpy>=1.21 in /home/john/modelenv/lib/python3.8/site-packages (from deepchem) (1.24.3)\n",
      "Collecting pandas (from deepchem)\n",
      "  Using cached pandas-2.0.3-cp38-cp38-manylinux_2_17_x86_64.manylinux2014_x86_64.whl (12.4 MB)\n",
      "Collecting scikit-learn (from deepchem)\n",
      "  Downloading scikit_learn-1.3.0-cp38-cp38-manylinux_2_17_x86_64.manylinux2014_x86_64.whl (11.1 MB)\n",
      "\u001b[2K     \u001b[90m━━━━━━━━━━━━━━━━━━━━━━━━━━━━━━━━━━━━━━━━\u001b[0m \u001b[32m11.1/11.1 MB\u001b[0m \u001b[31m12.4 MB/s\u001b[0m eta \u001b[36m0:00:00\u001b[0m00:01\u001b[0m00:01\u001b[0m\n",
      "\u001b[?25hCollecting scipy<1.9 (from deepchem)\n",
      "  Downloading scipy-1.8.1-cp38-cp38-manylinux_2_17_x86_64.manylinux2014_x86_64.whl (41.6 MB)\n",
      "\u001b[2K     \u001b[90m━━━━━━━━━━━━━━━━━━━━━━━━━━━━━━━━━━━━━━━━\u001b[0m \u001b[32m41.6/41.6 MB\u001b[0m \u001b[31m11.5 MB/s\u001b[0m eta \u001b[36m0:00:00\u001b[0m00:01\u001b[0m00:01\u001b[0m\n",
      "\u001b[?25hCollecting rdkit (from deepchem)\n",
      "  Downloading rdkit-2023.3.2-cp38-cp38-manylinux_2_17_x86_64.manylinux2014_x86_64.whl (29.7 MB)\n",
      "\u001b[2K     \u001b[90m━━━━━━━━━━━━━━━━━━━━━━━━━━━━━━━━━━━━━━━━\u001b[0m \u001b[32m29.7/29.7 MB\u001b[0m \u001b[31m11.9 MB/s\u001b[0m eta \u001b[36m0:00:00\u001b[0m00:01\u001b[0m00:01\u001b[0m\n",
      "\u001b[?25hRequirement already satisfied: python-dateutil>=2.8.2 in /home/john/modelenv/lib/python3.8/site-packages (from pandas->deepchem) (2.8.2)\n",
      "Requirement already satisfied: pytz>=2020.1 in /home/john/modelenv/lib/python3.8/site-packages (from pandas->deepchem) (2023.3)\n",
      "Collecting tzdata>=2022.1 (from pandas->deepchem)\n",
      "  Using cached tzdata-2023.3-py2.py3-none-any.whl (341 kB)\n",
      "Collecting Pillow (from rdkit->deepchem)\n",
      "  Downloading Pillow-10.0.0-cp38-cp38-manylinux_2_28_x86_64.whl (3.4 MB)\n",
      "\u001b[2K     \u001b[90m━━━━━━━━━━━━━━━━━━━━━━━━━━━━━━━━━━━━━━━━\u001b[0m \u001b[32m3.4/3.4 MB\u001b[0m \u001b[31m13.7 MB/s\u001b[0m eta \u001b[36m0:00:00\u001b[0m00:01\u001b[0m00:01\u001b[0m\n",
      "\u001b[?25hCollecting threadpoolctl>=2.0.0 (from scikit-learn->deepchem)\n",
      "  Using cached threadpoolctl-3.1.0-py3-none-any.whl (14 kB)\n",
      "Requirement already satisfied: six>=1.5 in /home/john/modelenv/lib/python3.8/site-packages (from python-dateutil>=2.8.2->pandas->deepchem) (1.16.0)\n",
      "Installing collected packages: tzdata, threadpoolctl, scipy, Pillow, joblib, scikit-learn, rdkit, pandas, deepchem\n",
      "Successfully installed Pillow-10.0.0 deepchem-2.7.1 joblib-1.3.1 pandas-2.0.3 rdkit-2023.3.2 scikit-learn-1.3.0 scipy-1.8.1 threadpoolctl-3.1.0 tzdata-2023.3\n"
     ]
    }
   ],
   "source": [
    "!pip install deepchem"
   ]
  },
  {
   "cell_type": "code",
   "execution_count": 59,
   "metadata": {
    "id": "PDiY03h35zF_",
    "scrolled": true
   },
   "outputs": [
    {
     "data": {
      "text/plain": [
       "'2.7.1'"
      ]
     },
     "execution_count": 59,
     "metadata": {},
     "output_type": "execute_result"
    }
   ],
   "source": [
    "import deepchem as dc\n",
    "dc.__version__"
   ]
  },
  {
   "cell_type": "code",
   "execution_count": null,
   "metadata": {
    "id": "662jOmVDjb6j"
   },
   "outputs": [],
   "source": [
    "#!git clone https://github.com/dsalinasduron-msmary/chemical_informatics.git"
   ]
  },
  {
   "cell_type": "code",
   "execution_count": 60,
   "metadata": {
    "id": "Dzyxv9_apqbk"
   },
   "outputs": [
    {
     "data": {
      "text/plain": [
       "'/home/john/chemical_informatics'"
      ]
     },
     "execution_count": 60,
     "metadata": {},
     "output_type": "execute_result"
    }
   ],
   "source": [
    "import os\n",
    "import pickle\n",
    "\n",
    "os.listdir()\n",
    "#os.chdir('chemical_informatics')\n",
    "os.getcwd()"
   ]
  },
  {
   "cell_type": "code",
   "execution_count": 61,
   "metadata": {
    "id": "0nP10z6fqkjo"
   },
   "outputs": [
    {
     "data": {
      "text/html": [
       "<div>\n",
       "<style scoped>\n",
       "    .dataframe tbody tr th:only-of-type {\n",
       "        vertical-align: middle;\n",
       "    }\n",
       "\n",
       "    .dataframe tbody tr th {\n",
       "        vertical-align: top;\n",
       "    }\n",
       "\n",
       "    .dataframe thead th {\n",
       "        text-align: right;\n",
       "    }\n",
       "</style>\n",
       "<table border=\"1\" class=\"dataframe\">\n",
       "  <thead>\n",
       "    <tr style=\"text-align: right;\">\n",
       "      <th></th>\n",
       "      <th>compound id</th>\n",
       "      <th>smiles</th>\n",
       "      <th>type</th>\n",
       "      <th>standard value</th>\n",
       "      <th>assay_id</th>\n",
       "    </tr>\n",
       "  </thead>\n",
       "  <tbody>\n",
       "    <tr>\n",
       "      <th>0</th>\n",
       "      <td>CHEMBL2088421</td>\n",
       "      <td>COc1ccc(NC(=O)N(CCCCC2CCCCC2)CCc2ccc(SC(C)(C)C...</td>\n",
       "      <td>IC50</td>\n",
       "      <td>0.28</td>\n",
       "      <td>CHEMBL2089717</td>\n",
       "    </tr>\n",
       "    <tr>\n",
       "      <th>1</th>\n",
       "      <td>CHEMBL21241</td>\n",
       "      <td>CC(C)(Sc1ccc(CCN(CCCCC2CCCCC2)C(=O)NC2CCCCC2)c...</td>\n",
       "      <td>IC50</td>\n",
       "      <td>0.46</td>\n",
       "      <td>CHEMBL2089717</td>\n",
       "    </tr>\n",
       "    <tr>\n",
       "      <th>2</th>\n",
       "      <td>CHEMBL2088422</td>\n",
       "      <td>COc1cccc(NC(=O)N(CCCCC2CCCCC2)CCc2ccc(SC(C)(C)...</td>\n",
       "      <td>IC50</td>\n",
       "      <td>0.59</td>\n",
       "      <td>CHEMBL2089717</td>\n",
       "    </tr>\n",
       "    <tr>\n",
       "      <th>3</th>\n",
       "      <td>CHEMBL20392</td>\n",
       "      <td>COc1ccccc1NC(=O)N(CCCCC1CCCCC1)CCc1ccc(SC(C)(C...</td>\n",
       "      <td>IC50</td>\n",
       "      <td>1.93</td>\n",
       "      <td>CHEMBL2089717</td>\n",
       "    </tr>\n",
       "    <tr>\n",
       "      <th>4</th>\n",
       "      <td>CHEMBL424685</td>\n",
       "      <td>CC[C@@](C)(Cc1ccc(OCCCOc2ccc(C3CCCCC3)cc2Cl)cc...</td>\n",
       "      <td>IC50</td>\n",
       "      <td>2.0</td>\n",
       "      <td>CHEMBL867227</td>\n",
       "    </tr>\n",
       "    <tr>\n",
       "      <th>...</th>\n",
       "      <td>...</td>\n",
       "      <td>...</td>\n",
       "      <td>...</td>\n",
       "      <td>...</td>\n",
       "      <td>...</td>\n",
       "    </tr>\n",
       "    <tr>\n",
       "      <th>994</th>\n",
       "      <td>CHEMBL981</td>\n",
       "      <td>CC(C)(Oc1ccc(C(=O)c2ccc(Cl)cc2)cc1)C(=O)O</td>\n",
       "      <td>IC50</td>\n",
       "      <td>68000.0</td>\n",
       "      <td>CHEMBL824654</td>\n",
       "    </tr>\n",
       "    <tr>\n",
       "      <th>995</th>\n",
       "      <td>CHEMBL2153842</td>\n",
       "      <td>CC(C)(Oc1ccc(CCNC(=O)c2ccc(Cl)cc2)cc1)C(=O)NS(...</td>\n",
       "      <td>IC50</td>\n",
       "      <td>68500.0</td>\n",
       "      <td>CHEMBL2154210</td>\n",
       "    </tr>\n",
       "    <tr>\n",
       "      <th>996</th>\n",
       "      <td>CHEMBL4475797</td>\n",
       "      <td>CCOc1ccc(-c2ccc(CCCc3nn(CC)c(=O)n3-c3ccccc3F)c...</td>\n",
       "      <td>IC50</td>\n",
       "      <td>89300.0</td>\n",
       "      <td>CHEMBL4332153</td>\n",
       "    </tr>\n",
       "    <tr>\n",
       "      <th>997</th>\n",
       "      <td>CHEMBL981</td>\n",
       "      <td>CC(C)(Oc1ccc(C(=O)c2ccc(Cl)cc2)cc1)C(=O)O</td>\n",
       "      <td>IC50</td>\n",
       "      <td>106000.0</td>\n",
       "      <td>CHEMBL983194</td>\n",
       "    </tr>\n",
       "    <tr>\n",
       "      <th>998</th>\n",
       "      <td>CHEMBL3781940</td>\n",
       "      <td>CCCC(Sc1nc2cc(Cl)ccc2s1)C(=O)NS(=O)(=O)c1ccc(N...</td>\n",
       "      <td>IC50</td>\n",
       "      <td>108000.0</td>\n",
       "      <td>CHEMBL3782526</td>\n",
       "    </tr>\n",
       "  </tbody>\n",
       "</table>\n",
       "<p>999 rows × 5 columns</p>\n",
       "</div>"
      ],
      "text/plain": [
       "       compound id                                             smiles  type  \\\n",
       "0    CHEMBL2088421  COc1ccc(NC(=O)N(CCCCC2CCCCC2)CCc2ccc(SC(C)(C)C...  IC50   \n",
       "1      CHEMBL21241  CC(C)(Sc1ccc(CCN(CCCCC2CCCCC2)C(=O)NC2CCCCC2)c...  IC50   \n",
       "2    CHEMBL2088422  COc1cccc(NC(=O)N(CCCCC2CCCCC2)CCc2ccc(SC(C)(C)...  IC50   \n",
       "3      CHEMBL20392  COc1ccccc1NC(=O)N(CCCCC1CCCCC1)CCc1ccc(SC(C)(C...  IC50   \n",
       "4     CHEMBL424685  CC[C@@](C)(Cc1ccc(OCCCOc2ccc(C3CCCCC3)cc2Cl)cc...  IC50   \n",
       "..             ...                                                ...   ...   \n",
       "994      CHEMBL981          CC(C)(Oc1ccc(C(=O)c2ccc(Cl)cc2)cc1)C(=O)O  IC50   \n",
       "995  CHEMBL2153842  CC(C)(Oc1ccc(CCNC(=O)c2ccc(Cl)cc2)cc1)C(=O)NS(...  IC50   \n",
       "996  CHEMBL4475797  CCOc1ccc(-c2ccc(CCCc3nn(CC)c(=O)n3-c3ccccc3F)c...  IC50   \n",
       "997      CHEMBL981          CC(C)(Oc1ccc(C(=O)c2ccc(Cl)cc2)cc1)C(=O)O  IC50   \n",
       "998  CHEMBL3781940  CCCC(Sc1nc2cc(Cl)ccc2s1)C(=O)NS(=O)(=O)c1ccc(N...  IC50   \n",
       "\n",
       "    standard value       assay_id  \n",
       "0             0.28  CHEMBL2089717  \n",
       "1             0.46  CHEMBL2089717  \n",
       "2             0.59  CHEMBL2089717  \n",
       "3             1.93  CHEMBL2089717  \n",
       "4              2.0   CHEMBL867227  \n",
       "..             ...            ...  \n",
       "994        68000.0   CHEMBL824654  \n",
       "995        68500.0  CHEMBL2154210  \n",
       "996        89300.0  CHEMBL4332153  \n",
       "997       106000.0   CHEMBL983194  \n",
       "998       108000.0  CHEMBL3782526  \n",
       "\n",
       "[999 rows x 5 columns]"
      ]
     },
     "metadata": {},
     "output_type": "display_data"
    }
   ],
   "source": [
    "f = open('ENSG00000128191dataframe.pickle','rb')\n",
    "compound_dataset = pickle.load(f)\n",
    "f.close()\n",
    "display(compound_dataset)"
   ]
  },
  {
   "cell_type": "code",
   "execution_count": 62,
   "metadata": {
    "id": "8TpbPILDrorH"
   },
   "outputs": [
    {
     "data": {
      "text/html": [
       "<div>\n",
       "<style scoped>\n",
       "    .dataframe tbody tr th:only-of-type {\n",
       "        vertical-align: middle;\n",
       "    }\n",
       "\n",
       "    .dataframe tbody tr th {\n",
       "        vertical-align: top;\n",
       "    }\n",
       "\n",
       "    .dataframe thead th {\n",
       "        text-align: right;\n",
       "    }\n",
       "</style>\n",
       "<table border=\"1\" class=\"dataframe\">\n",
       "  <thead>\n",
       "    <tr style=\"text-align: right;\">\n",
       "      <th></th>\n",
       "      <th>compound id</th>\n",
       "      <th>smiles</th>\n",
       "      <th>type</th>\n",
       "      <th>standard value</th>\n",
       "      <th>assay_id</th>\n",
       "      <th>featurized</th>\n",
       "    </tr>\n",
       "  </thead>\n",
       "  <tbody>\n",
       "    <tr>\n",
       "      <th>0</th>\n",
       "      <td>CHEMBL2088421</td>\n",
       "      <td>COc1ccc(NC(=O)N(CCCCC2CCCCC2)CCc2ccc(SC(C)(C)C...</td>\n",
       "      <td>IC50</td>\n",
       "      <td>0.28</td>\n",
       "      <td>CHEMBL2089717</td>\n",
       "      <td>&lt;deepchem.feat.mol_graphs.ConvMol object at 0x...</td>\n",
       "    </tr>\n",
       "    <tr>\n",
       "      <th>1</th>\n",
       "      <td>CHEMBL21241</td>\n",
       "      <td>CC(C)(Sc1ccc(CCN(CCCCC2CCCCC2)C(=O)NC2CCCCC2)c...</td>\n",
       "      <td>IC50</td>\n",
       "      <td>0.46</td>\n",
       "      <td>CHEMBL2089717</td>\n",
       "      <td>&lt;deepchem.feat.mol_graphs.ConvMol object at 0x...</td>\n",
       "    </tr>\n",
       "    <tr>\n",
       "      <th>2</th>\n",
       "      <td>CHEMBL2088422</td>\n",
       "      <td>COc1cccc(NC(=O)N(CCCCC2CCCCC2)CCc2ccc(SC(C)(C)...</td>\n",
       "      <td>IC50</td>\n",
       "      <td>0.59</td>\n",
       "      <td>CHEMBL2089717</td>\n",
       "      <td>&lt;deepchem.feat.mol_graphs.ConvMol object at 0x...</td>\n",
       "    </tr>\n",
       "    <tr>\n",
       "      <th>3</th>\n",
       "      <td>CHEMBL20392</td>\n",
       "      <td>COc1ccccc1NC(=O)N(CCCCC1CCCCC1)CCc1ccc(SC(C)(C...</td>\n",
       "      <td>IC50</td>\n",
       "      <td>1.93</td>\n",
       "      <td>CHEMBL2089717</td>\n",
       "      <td>&lt;deepchem.feat.mol_graphs.ConvMol object at 0x...</td>\n",
       "    </tr>\n",
       "    <tr>\n",
       "      <th>4</th>\n",
       "      <td>CHEMBL424685</td>\n",
       "      <td>CC[C@@](C)(Cc1ccc(OCCCOc2ccc(C3CCCCC3)cc2Cl)cc...</td>\n",
       "      <td>IC50</td>\n",
       "      <td>2.0</td>\n",
       "      <td>CHEMBL867227</td>\n",
       "      <td>&lt;deepchem.feat.mol_graphs.ConvMol object at 0x...</td>\n",
       "    </tr>\n",
       "    <tr>\n",
       "      <th>...</th>\n",
       "      <td>...</td>\n",
       "      <td>...</td>\n",
       "      <td>...</td>\n",
       "      <td>...</td>\n",
       "      <td>...</td>\n",
       "      <td>...</td>\n",
       "    </tr>\n",
       "    <tr>\n",
       "      <th>994</th>\n",
       "      <td>CHEMBL981</td>\n",
       "      <td>CC(C)(Oc1ccc(C(=O)c2ccc(Cl)cc2)cc1)C(=O)O</td>\n",
       "      <td>IC50</td>\n",
       "      <td>68000.0</td>\n",
       "      <td>CHEMBL824654</td>\n",
       "      <td>&lt;deepchem.feat.mol_graphs.ConvMol object at 0x...</td>\n",
       "    </tr>\n",
       "    <tr>\n",
       "      <th>995</th>\n",
       "      <td>CHEMBL2153842</td>\n",
       "      <td>CC(C)(Oc1ccc(CCNC(=O)c2ccc(Cl)cc2)cc1)C(=O)NS(...</td>\n",
       "      <td>IC50</td>\n",
       "      <td>68500.0</td>\n",
       "      <td>CHEMBL2154210</td>\n",
       "      <td>&lt;deepchem.feat.mol_graphs.ConvMol object at 0x...</td>\n",
       "    </tr>\n",
       "    <tr>\n",
       "      <th>996</th>\n",
       "      <td>CHEMBL4475797</td>\n",
       "      <td>CCOc1ccc(-c2ccc(CCCc3nn(CC)c(=O)n3-c3ccccc3F)c...</td>\n",
       "      <td>IC50</td>\n",
       "      <td>89300.0</td>\n",
       "      <td>CHEMBL4332153</td>\n",
       "      <td>&lt;deepchem.feat.mol_graphs.ConvMol object at 0x...</td>\n",
       "    </tr>\n",
       "    <tr>\n",
       "      <th>997</th>\n",
       "      <td>CHEMBL981</td>\n",
       "      <td>CC(C)(Oc1ccc(C(=O)c2ccc(Cl)cc2)cc1)C(=O)O</td>\n",
       "      <td>IC50</td>\n",
       "      <td>106000.0</td>\n",
       "      <td>CHEMBL983194</td>\n",
       "      <td>&lt;deepchem.feat.mol_graphs.ConvMol object at 0x...</td>\n",
       "    </tr>\n",
       "    <tr>\n",
       "      <th>998</th>\n",
       "      <td>CHEMBL3781940</td>\n",
       "      <td>CCCC(Sc1nc2cc(Cl)ccc2s1)C(=O)NS(=O)(=O)c1ccc(N...</td>\n",
       "      <td>IC50</td>\n",
       "      <td>108000.0</td>\n",
       "      <td>CHEMBL3782526</td>\n",
       "      <td>&lt;deepchem.feat.mol_graphs.ConvMol object at 0x...</td>\n",
       "    </tr>\n",
       "  </tbody>\n",
       "</table>\n",
       "<p>999 rows × 6 columns</p>\n",
       "</div>"
      ],
      "text/plain": [
       "       compound id                                             smiles  type  \\\n",
       "0    CHEMBL2088421  COc1ccc(NC(=O)N(CCCCC2CCCCC2)CCc2ccc(SC(C)(C)C...  IC50   \n",
       "1      CHEMBL21241  CC(C)(Sc1ccc(CCN(CCCCC2CCCCC2)C(=O)NC2CCCCC2)c...  IC50   \n",
       "2    CHEMBL2088422  COc1cccc(NC(=O)N(CCCCC2CCCCC2)CCc2ccc(SC(C)(C)...  IC50   \n",
       "3      CHEMBL20392  COc1ccccc1NC(=O)N(CCCCC1CCCCC1)CCc1ccc(SC(C)(C...  IC50   \n",
       "4     CHEMBL424685  CC[C@@](C)(Cc1ccc(OCCCOc2ccc(C3CCCCC3)cc2Cl)cc...  IC50   \n",
       "..             ...                                                ...   ...   \n",
       "994      CHEMBL981          CC(C)(Oc1ccc(C(=O)c2ccc(Cl)cc2)cc1)C(=O)O  IC50   \n",
       "995  CHEMBL2153842  CC(C)(Oc1ccc(CCNC(=O)c2ccc(Cl)cc2)cc1)C(=O)NS(...  IC50   \n",
       "996  CHEMBL4475797  CCOc1ccc(-c2ccc(CCCc3nn(CC)c(=O)n3-c3ccccc3F)c...  IC50   \n",
       "997      CHEMBL981          CC(C)(Oc1ccc(C(=O)c2ccc(Cl)cc2)cc1)C(=O)O  IC50   \n",
       "998  CHEMBL3781940  CCCC(Sc1nc2cc(Cl)ccc2s1)C(=O)NS(=O)(=O)c1ccc(N...  IC50   \n",
       "\n",
       "    standard value       assay_id  \\\n",
       "0             0.28  CHEMBL2089717   \n",
       "1             0.46  CHEMBL2089717   \n",
       "2             0.59  CHEMBL2089717   \n",
       "3             1.93  CHEMBL2089717   \n",
       "4              2.0   CHEMBL867227   \n",
       "..             ...            ...   \n",
       "994        68000.0   CHEMBL824654   \n",
       "995        68500.0  CHEMBL2154210   \n",
       "996        89300.0  CHEMBL4332153   \n",
       "997       106000.0   CHEMBL983194   \n",
       "998       108000.0  CHEMBL3782526   \n",
       "\n",
       "                                            featurized  \n",
       "0    <deepchem.feat.mol_graphs.ConvMol object at 0x...  \n",
       "1    <deepchem.feat.mol_graphs.ConvMol object at 0x...  \n",
       "2    <deepchem.feat.mol_graphs.ConvMol object at 0x...  \n",
       "3    <deepchem.feat.mol_graphs.ConvMol object at 0x...  \n",
       "4    <deepchem.feat.mol_graphs.ConvMol object at 0x...  \n",
       "..                                                 ...  \n",
       "994  <deepchem.feat.mol_graphs.ConvMol object at 0x...  \n",
       "995  <deepchem.feat.mol_graphs.ConvMol object at 0x...  \n",
       "996  <deepchem.feat.mol_graphs.ConvMol object at 0x...  \n",
       "997  <deepchem.feat.mol_graphs.ConvMol object at 0x...  \n",
       "998  <deepchem.feat.mol_graphs.ConvMol object at 0x...  \n",
       "\n",
       "[999 rows x 6 columns]"
      ]
     },
     "metadata": {},
     "output_type": "display_data"
    }
   ],
   "source": [
    "smiles = compound_dataset['smiles']\n",
    "IC50 = compound_dataset['standard value']\n",
    "featurizer = dc.feat.ConvMolFeaturizer()\n",
    "compound_dataset['featurized'] = featurizer.featurize(smiles)\n",
    "display(compound_dataset)"
   ]
  },
  {
   "cell_type": "code",
   "execution_count": 63,
   "metadata": {
    "id": "b8YztYwNzDyH"
   },
   "outputs": [
    {
     "data": {
      "text/html": [
       "<div>\n",
       "<style scoped>\n",
       "    .dataframe tbody tr th:only-of-type {\n",
       "        vertical-align: middle;\n",
       "    }\n",
       "\n",
       "    .dataframe tbody tr th {\n",
       "        vertical-align: top;\n",
       "    }\n",
       "\n",
       "    .dataframe thead th {\n",
       "        text-align: right;\n",
       "    }\n",
       "</style>\n",
       "<table border=\"1\" class=\"dataframe\">\n",
       "  <thead>\n",
       "    <tr style=\"text-align: right;\">\n",
       "      <th></th>\n",
       "      <th>compound id</th>\n",
       "      <th>smiles</th>\n",
       "      <th>type</th>\n",
       "      <th>standard value</th>\n",
       "      <th>assay_id</th>\n",
       "      <th>featurized</th>\n",
       "      <th>number</th>\n",
       "    </tr>\n",
       "  </thead>\n",
       "  <tbody>\n",
       "    <tr>\n",
       "      <th>0</th>\n",
       "      <td>CHEMBL2088421</td>\n",
       "      <td>COc1ccc(NC(=O)N(CCCCC2CCCCC2)CCc2ccc(SC(C)(C)C...</td>\n",
       "      <td>IC50</td>\n",
       "      <td>0.28</td>\n",
       "      <td>CHEMBL2089717</td>\n",
       "      <td>&lt;deepchem.feat.mol_graphs.ConvMol object at 0x...</td>\n",
       "      <td>0</td>\n",
       "    </tr>\n",
       "    <tr>\n",
       "      <th>1</th>\n",
       "      <td>CHEMBL21241</td>\n",
       "      <td>CC(C)(Sc1ccc(CCN(CCCCC2CCCCC2)C(=O)NC2CCCCC2)c...</td>\n",
       "      <td>IC50</td>\n",
       "      <td>0.46</td>\n",
       "      <td>CHEMBL2089717</td>\n",
       "      <td>&lt;deepchem.feat.mol_graphs.ConvMol object at 0x...</td>\n",
       "      <td>1</td>\n",
       "    </tr>\n",
       "    <tr>\n",
       "      <th>2</th>\n",
       "      <td>CHEMBL2088422</td>\n",
       "      <td>COc1cccc(NC(=O)N(CCCCC2CCCCC2)CCc2ccc(SC(C)(C)...</td>\n",
       "      <td>IC50</td>\n",
       "      <td>0.59</td>\n",
       "      <td>CHEMBL2089717</td>\n",
       "      <td>&lt;deepchem.feat.mol_graphs.ConvMol object at 0x...</td>\n",
       "      <td>2</td>\n",
       "    </tr>\n",
       "    <tr>\n",
       "      <th>3</th>\n",
       "      <td>CHEMBL20392</td>\n",
       "      <td>COc1ccccc1NC(=O)N(CCCCC1CCCCC1)CCc1ccc(SC(C)(C...</td>\n",
       "      <td>IC50</td>\n",
       "      <td>1.93</td>\n",
       "      <td>CHEMBL2089717</td>\n",
       "      <td>&lt;deepchem.feat.mol_graphs.ConvMol object at 0x...</td>\n",
       "      <td>3</td>\n",
       "    </tr>\n",
       "    <tr>\n",
       "      <th>4</th>\n",
       "      <td>CHEMBL424685</td>\n",
       "      <td>CC[C@@](C)(Cc1ccc(OCCCOc2ccc(C3CCCCC3)cc2Cl)cc...</td>\n",
       "      <td>IC50</td>\n",
       "      <td>2.0</td>\n",
       "      <td>CHEMBL867227</td>\n",
       "      <td>&lt;deepchem.feat.mol_graphs.ConvMol object at 0x...</td>\n",
       "      <td>4</td>\n",
       "    </tr>\n",
       "    <tr>\n",
       "      <th>...</th>\n",
       "      <td>...</td>\n",
       "      <td>...</td>\n",
       "      <td>...</td>\n",
       "      <td>...</td>\n",
       "      <td>...</td>\n",
       "      <td>...</td>\n",
       "      <td>...</td>\n",
       "    </tr>\n",
       "    <tr>\n",
       "      <th>994</th>\n",
       "      <td>CHEMBL981</td>\n",
       "      <td>CC(C)(Oc1ccc(C(=O)c2ccc(Cl)cc2)cc1)C(=O)O</td>\n",
       "      <td>IC50</td>\n",
       "      <td>68000.0</td>\n",
       "      <td>CHEMBL824654</td>\n",
       "      <td>&lt;deepchem.feat.mol_graphs.ConvMol object at 0x...</td>\n",
       "      <td>994</td>\n",
       "    </tr>\n",
       "    <tr>\n",
       "      <th>995</th>\n",
       "      <td>CHEMBL2153842</td>\n",
       "      <td>CC(C)(Oc1ccc(CCNC(=O)c2ccc(Cl)cc2)cc1)C(=O)NS(...</td>\n",
       "      <td>IC50</td>\n",
       "      <td>68500.0</td>\n",
       "      <td>CHEMBL2154210</td>\n",
       "      <td>&lt;deepchem.feat.mol_graphs.ConvMol object at 0x...</td>\n",
       "      <td>995</td>\n",
       "    </tr>\n",
       "    <tr>\n",
       "      <th>996</th>\n",
       "      <td>CHEMBL4475797</td>\n",
       "      <td>CCOc1ccc(-c2ccc(CCCc3nn(CC)c(=O)n3-c3ccccc3F)c...</td>\n",
       "      <td>IC50</td>\n",
       "      <td>89300.0</td>\n",
       "      <td>CHEMBL4332153</td>\n",
       "      <td>&lt;deepchem.feat.mol_graphs.ConvMol object at 0x...</td>\n",
       "      <td>996</td>\n",
       "    </tr>\n",
       "    <tr>\n",
       "      <th>997</th>\n",
       "      <td>CHEMBL981</td>\n",
       "      <td>CC(C)(Oc1ccc(C(=O)c2ccc(Cl)cc2)cc1)C(=O)O</td>\n",
       "      <td>IC50</td>\n",
       "      <td>106000.0</td>\n",
       "      <td>CHEMBL983194</td>\n",
       "      <td>&lt;deepchem.feat.mol_graphs.ConvMol object at 0x...</td>\n",
       "      <td>997</td>\n",
       "    </tr>\n",
       "    <tr>\n",
       "      <th>998</th>\n",
       "      <td>CHEMBL3781940</td>\n",
       "      <td>CCCC(Sc1nc2cc(Cl)ccc2s1)C(=O)NS(=O)(=O)c1ccc(N...</td>\n",
       "      <td>IC50</td>\n",
       "      <td>108000.0</td>\n",
       "      <td>CHEMBL3782526</td>\n",
       "      <td>&lt;deepchem.feat.mol_graphs.ConvMol object at 0x...</td>\n",
       "      <td>998</td>\n",
       "    </tr>\n",
       "  </tbody>\n",
       "</table>\n",
       "<p>999 rows × 7 columns</p>\n",
       "</div>"
      ],
      "text/plain": [
       "       compound id                                             smiles  type  \\\n",
       "0    CHEMBL2088421  COc1ccc(NC(=O)N(CCCCC2CCCCC2)CCc2ccc(SC(C)(C)C...  IC50   \n",
       "1      CHEMBL21241  CC(C)(Sc1ccc(CCN(CCCCC2CCCCC2)C(=O)NC2CCCCC2)c...  IC50   \n",
       "2    CHEMBL2088422  COc1cccc(NC(=O)N(CCCCC2CCCCC2)CCc2ccc(SC(C)(C)...  IC50   \n",
       "3      CHEMBL20392  COc1ccccc1NC(=O)N(CCCCC1CCCCC1)CCc1ccc(SC(C)(C...  IC50   \n",
       "4     CHEMBL424685  CC[C@@](C)(Cc1ccc(OCCCOc2ccc(C3CCCCC3)cc2Cl)cc...  IC50   \n",
       "..             ...                                                ...   ...   \n",
       "994      CHEMBL981          CC(C)(Oc1ccc(C(=O)c2ccc(Cl)cc2)cc1)C(=O)O  IC50   \n",
       "995  CHEMBL2153842  CC(C)(Oc1ccc(CCNC(=O)c2ccc(Cl)cc2)cc1)C(=O)NS(...  IC50   \n",
       "996  CHEMBL4475797  CCOc1ccc(-c2ccc(CCCc3nn(CC)c(=O)n3-c3ccccc3F)c...  IC50   \n",
       "997      CHEMBL981          CC(C)(Oc1ccc(C(=O)c2ccc(Cl)cc2)cc1)C(=O)O  IC50   \n",
       "998  CHEMBL3781940  CCCC(Sc1nc2cc(Cl)ccc2s1)C(=O)NS(=O)(=O)c1ccc(N...  IC50   \n",
       "\n",
       "    standard value       assay_id  \\\n",
       "0             0.28  CHEMBL2089717   \n",
       "1             0.46  CHEMBL2089717   \n",
       "2             0.59  CHEMBL2089717   \n",
       "3             1.93  CHEMBL2089717   \n",
       "4              2.0   CHEMBL867227   \n",
       "..             ...            ...   \n",
       "994        68000.0   CHEMBL824654   \n",
       "995        68500.0  CHEMBL2154210   \n",
       "996        89300.0  CHEMBL4332153   \n",
       "997       106000.0   CHEMBL983194   \n",
       "998       108000.0  CHEMBL3782526   \n",
       "\n",
       "                                            featurized  number  \n",
       "0    <deepchem.feat.mol_graphs.ConvMol object at 0x...       0  \n",
       "1    <deepchem.feat.mol_graphs.ConvMol object at 0x...       1  \n",
       "2    <deepchem.feat.mol_graphs.ConvMol object at 0x...       2  \n",
       "3    <deepchem.feat.mol_graphs.ConvMol object at 0x...       3  \n",
       "4    <deepchem.feat.mol_graphs.ConvMol object at 0x...       4  \n",
       "..                                                 ...     ...  \n",
       "994  <deepchem.feat.mol_graphs.ConvMol object at 0x...     994  \n",
       "995  <deepchem.feat.mol_graphs.ConvMol object at 0x...     995  \n",
       "996  <deepchem.feat.mol_graphs.ConvMol object at 0x...     996  \n",
       "997  <deepchem.feat.mol_graphs.ConvMol object at 0x...     997  \n",
       "998  <deepchem.feat.mol_graphs.ConvMol object at 0x...     998  \n",
       "\n",
       "[999 rows x 7 columns]"
      ]
     },
     "metadata": {},
     "output_type": "display_data"
    }
   ],
   "source": [
    "compound_dataset['number'] = list(range(0,len(compound_dataset)))\n",
    "display(compound_dataset)"
   ]
  },
  {
   "cell_type": "code",
   "execution_count": 64,
   "metadata": {
    "id": "XAxzn73HuJ6X"
   },
   "outputs": [],
   "source": [
    "x = compound_dataset\n",
    "f = open('x.pickle','wb')\n",
    "pickle.dump(x,f)\n",
    "f.close()"
   ]
  },
  {
   "cell_type": "code",
   "execution_count": 65,
   "metadata": {
    "id": "Ri3huzzQvic9"
   },
   "outputs": [],
   "source": [
    "import pandas as pd\n",
    "training_dataset = compound_dataset.sample(frac = 0.7)"
   ]
  },
  {
   "cell_type": "code",
   "execution_count": 66,
   "metadata": {
    "id": "AjTBXgG6wMCn"
   },
   "outputs": [
    {
     "data": {
      "text/html": [
       "<div>\n",
       "<style scoped>\n",
       "    .dataframe tbody tr th:only-of-type {\n",
       "        vertical-align: middle;\n",
       "    }\n",
       "\n",
       "    .dataframe tbody tr th {\n",
       "        vertical-align: top;\n",
       "    }\n",
       "\n",
       "    .dataframe thead th {\n",
       "        text-align: right;\n",
       "    }\n",
       "</style>\n",
       "<table border=\"1\" class=\"dataframe\">\n",
       "  <thead>\n",
       "    <tr style=\"text-align: right;\">\n",
       "      <th></th>\n",
       "      <th>compound id</th>\n",
       "      <th>smiles</th>\n",
       "      <th>type</th>\n",
       "      <th>standard value</th>\n",
       "      <th>assay_id</th>\n",
       "      <th>featurized</th>\n",
       "      <th>number</th>\n",
       "    </tr>\n",
       "  </thead>\n",
       "  <tbody>\n",
       "    <tr>\n",
       "      <th>11</th>\n",
       "      <td>CHEMBL234659</td>\n",
       "      <td>COc1cc(OCC(=O)O)c(C)cc1SCc1ccc(OCc2ccc(C(F)(F)...</td>\n",
       "      <td>pIC50</td>\n",
       "      <td>4.699</td>\n",
       "      <td>CHEMBL2038446</td>\n",
       "      <td>&lt;deepchem.feat.mol_graphs.ConvMol object at 0x...</td>\n",
       "      <td>11</td>\n",
       "    </tr>\n",
       "    <tr>\n",
       "      <th>15</th>\n",
       "      <td>CHEMBL203408</td>\n",
       "      <td>CC[C@](C)(Cc1ccc(OCCCOc2ccc(Oc3ccc(F)cc3)cc2Cl...</td>\n",
       "      <td>IC50</td>\n",
       "      <td>6.0</td>\n",
       "      <td>CHEMBL867227</td>\n",
       "      <td>&lt;deepchem.feat.mol_graphs.ConvMol object at 0x...</td>\n",
       "      <td>15</td>\n",
       "    </tr>\n",
       "    <tr>\n",
       "      <th>17</th>\n",
       "      <td>CHEMBL369725</td>\n",
       "      <td>CCC(C)(C)c1ccc(OCCCOc2ccc3c(c2)O[C@@](C)(C(=O)...</td>\n",
       "      <td>pIC50</td>\n",
       "      <td>6.998</td>\n",
       "      <td>CHEMBL2038446</td>\n",
       "      <td>&lt;deepchem.feat.mol_graphs.ConvMol object at 0x...</td>\n",
       "      <td>17</td>\n",
       "    </tr>\n",
       "    <tr>\n",
       "      <th>21</th>\n",
       "      <td>CHEMBL344282</td>\n",
       "      <td>Cc1ccc(Cn2nc(CCCc3ccc(OC(C)(C)C(=O)O)cc3)n(C)c...</td>\n",
       "      <td>pIC50</td>\n",
       "      <td>11.99</td>\n",
       "      <td>CHEMBL2038446</td>\n",
       "      <td>&lt;deepchem.feat.mol_graphs.ConvMol object at 0x...</td>\n",
       "      <td>21</td>\n",
       "    </tr>\n",
       "    <tr>\n",
       "      <th>26</th>\n",
       "      <td>CHEMBL148639</td>\n",
       "      <td>Cn1c(CCCc2ccc(OC(C)(C)C(=O)O)cc2)nn(Cc2ccc(C(C...</td>\n",
       "      <td>pIC50</td>\n",
       "      <td>15.0</td>\n",
       "      <td>CHEMBL2038446</td>\n",
       "      <td>&lt;deepchem.feat.mol_graphs.ConvMol object at 0x...</td>\n",
       "      <td>26</td>\n",
       "    </tr>\n",
       "    <tr>\n",
       "      <th>...</th>\n",
       "      <td>...</td>\n",
       "      <td>...</td>\n",
       "      <td>...</td>\n",
       "      <td>...</td>\n",
       "      <td>...</td>\n",
       "      <td>...</td>\n",
       "      <td>...</td>\n",
       "    </tr>\n",
       "    <tr>\n",
       "      <th>988</th>\n",
       "      <td>CHEMBL295416</td>\n",
       "      <td>Cc1cccc(Nc2cc(Cl)nc(SCC(=O)O)n2)c1C</td>\n",
       "      <td>IC50</td>\n",
       "      <td>36300.0</td>\n",
       "      <td>CHEMBL3366025</td>\n",
       "      <td>&lt;deepchem.feat.mol_graphs.ConvMol object at 0x...</td>\n",
       "      <td>988</td>\n",
       "    </tr>\n",
       "    <tr>\n",
       "      <th>989</th>\n",
       "      <td>CHEMBL4457493</td>\n",
       "      <td>O=c1n(-c2ccc(C(F)(F)F)cc2)nc(COc2ccc(-c3ccc(NS...</td>\n",
       "      <td>IC50</td>\n",
       "      <td>38140.0</td>\n",
       "      <td>CHEMBL4332153</td>\n",
       "      <td>&lt;deepchem.feat.mol_graphs.ConvMol object at 0x...</td>\n",
       "      <td>989</td>\n",
       "    </tr>\n",
       "    <tr>\n",
       "      <th>992</th>\n",
       "      <td>CHEMBL2153836</td>\n",
       "      <td>CC(C)C(Sc1nc2cc(Cl)ccc2s1)C(=O)NS(C)(=O)=O</td>\n",
       "      <td>IC50</td>\n",
       "      <td>46500.0</td>\n",
       "      <td>CHEMBL2154210</td>\n",
       "      <td>&lt;deepchem.feat.mol_graphs.ConvMol object at 0x...</td>\n",
       "      <td>992</td>\n",
       "    </tr>\n",
       "    <tr>\n",
       "      <th>994</th>\n",
       "      <td>CHEMBL981</td>\n",
       "      <td>CC(C)(Oc1ccc(C(=O)c2ccc(Cl)cc2)cc1)C(=O)O</td>\n",
       "      <td>IC50</td>\n",
       "      <td>68000.0</td>\n",
       "      <td>CHEMBL824654</td>\n",
       "      <td>&lt;deepchem.feat.mol_graphs.ConvMol object at 0x...</td>\n",
       "      <td>994</td>\n",
       "    </tr>\n",
       "    <tr>\n",
       "      <th>996</th>\n",
       "      <td>CHEMBL4475797</td>\n",
       "      <td>CCOc1ccc(-c2ccc(CCCc3nn(CC)c(=O)n3-c3ccccc3F)c...</td>\n",
       "      <td>IC50</td>\n",
       "      <td>89300.0</td>\n",
       "      <td>CHEMBL4332153</td>\n",
       "      <td>&lt;deepchem.feat.mol_graphs.ConvMol object at 0x...</td>\n",
       "      <td>996</td>\n",
       "    </tr>\n",
       "  </tbody>\n",
       "</table>\n",
       "<p>300 rows × 7 columns</p>\n",
       "</div>"
      ],
      "text/plain": [
       "       compound id                                             smiles   type  \\\n",
       "11    CHEMBL234659  COc1cc(OCC(=O)O)c(C)cc1SCc1ccc(OCc2ccc(C(F)(F)...  pIC50   \n",
       "15    CHEMBL203408  CC[C@](C)(Cc1ccc(OCCCOc2ccc(Oc3ccc(F)cc3)cc2Cl...   IC50   \n",
       "17    CHEMBL369725  CCC(C)(C)c1ccc(OCCCOc2ccc3c(c2)O[C@@](C)(C(=O)...  pIC50   \n",
       "21    CHEMBL344282  Cc1ccc(Cn2nc(CCCc3ccc(OC(C)(C)C(=O)O)cc3)n(C)c...  pIC50   \n",
       "26    CHEMBL148639  Cn1c(CCCc2ccc(OC(C)(C)C(=O)O)cc2)nn(Cc2ccc(C(C...  pIC50   \n",
       "..             ...                                                ...    ...   \n",
       "988   CHEMBL295416                Cc1cccc(Nc2cc(Cl)nc(SCC(=O)O)n2)c1C   IC50   \n",
       "989  CHEMBL4457493  O=c1n(-c2ccc(C(F)(F)F)cc2)nc(COc2ccc(-c3ccc(NS...   IC50   \n",
       "992  CHEMBL2153836         CC(C)C(Sc1nc2cc(Cl)ccc2s1)C(=O)NS(C)(=O)=O   IC50   \n",
       "994      CHEMBL981          CC(C)(Oc1ccc(C(=O)c2ccc(Cl)cc2)cc1)C(=O)O   IC50   \n",
       "996  CHEMBL4475797  CCOc1ccc(-c2ccc(CCCc3nn(CC)c(=O)n3-c3ccccc3F)c...   IC50   \n",
       "\n",
       "    standard value       assay_id  \\\n",
       "11           4.699  CHEMBL2038446   \n",
       "15             6.0   CHEMBL867227   \n",
       "17           6.998  CHEMBL2038446   \n",
       "21           11.99  CHEMBL2038446   \n",
       "26            15.0  CHEMBL2038446   \n",
       "..             ...            ...   \n",
       "988        36300.0  CHEMBL3366025   \n",
       "989        38140.0  CHEMBL4332153   \n",
       "992        46500.0  CHEMBL2154210   \n",
       "994        68000.0   CHEMBL824654   \n",
       "996        89300.0  CHEMBL4332153   \n",
       "\n",
       "                                            featurized  number  \n",
       "11   <deepchem.feat.mol_graphs.ConvMol object at 0x...      11  \n",
       "15   <deepchem.feat.mol_graphs.ConvMol object at 0x...      15  \n",
       "17   <deepchem.feat.mol_graphs.ConvMol object at 0x...      17  \n",
       "21   <deepchem.feat.mol_graphs.ConvMol object at 0x...      21  \n",
       "26   <deepchem.feat.mol_graphs.ConvMol object at 0x...      26  \n",
       "..                                                 ...     ...  \n",
       "988  <deepchem.feat.mol_graphs.ConvMol object at 0x...     988  \n",
       "989  <deepchem.feat.mol_graphs.ConvMol object at 0x...     989  \n",
       "992  <deepchem.feat.mol_graphs.ConvMol object at 0x...     992  \n",
       "994  <deepchem.feat.mol_graphs.ConvMol object at 0x...     994  \n",
       "996  <deepchem.feat.mol_graphs.ConvMol object at 0x...     996  \n",
       "\n",
       "[300 rows x 7 columns]"
      ]
     },
     "metadata": {},
     "output_type": "display_data"
    }
   ],
   "source": [
    "testing_dataset = (compound_dataset[~compound_dataset['number'].isin(training_dataset['number'])])\n",
    "display(testing_dataset)"
   ]
  },
  {
   "cell_type": "code",
   "execution_count": 67,
   "metadata": {
    "id": "QJ4FANaB13j1"
   },
   "outputs": [],
   "source": [
    "numpy_training_dataset = dc.data.NumpyDataset(X=training_dataset['featurized'],y=training_dataset['standard value'].astype(float), ids=training_dataset['smiles'])\n",
    "numpy_testing_dataset = dc.data.NumpyDataset(X=testing_dataset['featurized'],y=testing_dataset['standard value'].astype(float), ids=testing_dataset['smiles'])"
   ]
  },
  {
   "cell_type": "code",
   "execution_count": 74,
   "metadata": {
    "id": "GmDVcsWW3I6B"
   },
   "outputs": [],
   "source": [
    "model = dc.models.GraphConvModel(n_tasks=1, mode='regression', dropout=0.2)"
   ]
  },
  {
   "cell_type": "code",
   "execution_count": 75,
   "metadata": {},
   "outputs": [
    {
     "data": {
      "text/plain": [
       "74021727.08571428"
      ]
     },
     "execution_count": 75,
     "metadata": {},
     "output_type": "execute_result"
    }
   ],
   "source": [
    "model.fit(numpy_training_dataset, nb_epoch=10)"
   ]
  },
  {
   "cell_type": "code",
   "execution_count": 76,
   "metadata": {},
   "outputs": [
    {
     "name": "stdout",
     "output_type": "stream",
     "text": [
      "Python 3.8.2\n"
     ]
    }
   ],
   "source": [
    "!python --version"
   ]
  },
  {
   "cell_type": "code",
   "execution_count": 70,
   "metadata": {},
   "outputs": [],
   "source": [
    "from IPython.display import Image, display\n",
    "import tensorboard"
   ]
  },
  {
   "cell_type": "code",
   "execution_count": 71,
   "metadata": {},
   "outputs": [
    {
     "name": "stdout",
     "output_type": "stream",
     "text": [
      "/tmp/tmph7_a7vkl\n",
      "/tmp/tmph7_a7vkl\n"
     ]
    }
   ],
   "source": [
    "model_dir=model.model_dir\n",
    "print(model_dir)\n",
    "print(model.model_dir)"
   ]
  },
  {
   "cell_type": "code",
   "execution_count": 73,
   "metadata": {},
   "outputs": [
    {
     "name": "stdout",
     "output_type": "stream",
     "text": [
      "2023-07-13 10:19:49.330036: I tensorflow/tsl/cuda/cudart_stub.cc:28] Could not find cuda drivers on your machine, GPU will not be used.\n",
      "2023-07-13 10:19:49.370734: I tensorflow/tsl/cuda/cudart_stub.cc:28] Could not find cuda drivers on your machine, GPU will not be used.\n",
      "2023-07-13 10:19:49.371377: I tensorflow/core/platform/cpu_feature_guard.cc:182] This TensorFlow binary is optimized to use available CPU instructions in performance-critical operations.\n",
      "To enable the following instructions: AVX2 FMA, in other operations, rebuild TensorFlow with the appropriate compiler flags.\n",
      "2023-07-13 10:19:50.149966: W tensorflow/compiler/tf2tensorrt/utils/py_utils.cc:38] TF-TRT Warning: Could not find TensorRT\n",
      "Serving TensorBoard on localhost; to expose to the network, use a proxy or pass --bind_all\n",
      "TensorBoard 2.13.0 at http://localhost:6006/ (Press CTRL+C to quit)\n",
      "^C\n"
     ]
    }
   ],
   "source": [
    "!tensorboard --logdir=tmp/tmph7_a7vkl --load_fast=false"
   ]
  },
  {
   "cell_type": "code",
   "execution_count": 16,
   "metadata": {
    "id": "saTaOpXY5zGI"
   },
   "outputs": [],
   "source": [
    "#Deep Chem example\n",
    "tasks, datasets, transformers = dc.molnet.load_delaney(featurizer='GraphConv')\n",
    "train_dataset, valid_dataset, test_dataset = datasets"
   ]
  },
  {
   "cell_type": "code",
   "execution_count": 51,
   "metadata": {
    "id": "oFtYgiOXlQi6"
   },
   "outputs": [
    {
     "data": {
      "text/plain": [
       "<DiskDataset X.shape: (902,), y.shape: (902, 1), w.shape: (902, 1), ids: ['CC(C)=CCCC(C)=CC(=O)' 'CCCC=C' 'CCCCCCCCCCCCCC' ...\n",
       " 'Nc2cccc3nc1ccccc1cc23 ' 'C1CCCCCC1' 'OC1CCCCCC1'], task_names: ['measured log solubility in mols per litre']>"
      ]
     },
     "metadata": {},
     "output_type": "display_data"
    },
    {
     "name": "stdout",
     "output_type": "stream",
     "text": [
      "<class 'deepchem.data.datasets.DiskDataset'>\n"
     ]
    }
   ],
   "source": [
    "display(train_dataset)\n",
    "print(type(train_dataset))"
   ]
  },
  {
   "cell_type": "code",
   "execution_count": 57,
   "metadata": {},
   "outputs": [
    {
     "name": "stdout",
     "output_type": "stream",
     "text": [
      "Training set score: {'pearson_r2_score': 0.01632765986275479}\n",
      "Test set score: {'pearson_r2_score': 0.022033479643243377}\n"
     ]
    }
   ],
   "source": [
    "metric = dc.metrics.Metric(dc.metrics.pearson_r2_score)\n",
    "print(\"Training set score:\", model.evaluate(numpy_training_dataset, [metric]))\n",
    "print(\"Test set score:\", model.evaluate(numpy_testing_dataset, [metric]))"
   ]
  },
  {
   "cell_type": "code",
   "execution_count": 41,
   "metadata": {
    "id": "YEDcUsz35zGO"
   },
   "outputs": [],
   "source": [
    "model = dc.models.GraphConvModel(n_tasks=1, mode='regression', dropout=0.2)"
   ]
  },
  {
   "cell_type": "code",
   "execution_count": 42,
   "metadata": {
    "id": "e5K3rdGV5zGg"
   },
   "outputs": [
    {
     "data": {
      "text/plain": [
       "0.020856966972351076"
      ]
     },
     "execution_count": 42,
     "metadata": {},
     "output_type": "execute_result"
    }
   ],
   "source": [
    "model.fit(train_dataset, nb_epoch=1000)"
   ]
  },
  {
   "cell_type": "code",
   "execution_count": 43,
   "metadata": {
    "id": "LJc90fs_5zGs"
   },
   "outputs": [
    {
     "name": "stdout",
     "output_type": "stream",
     "text": [
      "Training set score: {'pearson_r2_score': 0.980311257511911}\n",
      "Test set score: {'pearson_r2_score': 0.7677824162669799}\n"
     ]
    }
   ],
   "source": [
    "metric = dc.metrics.Metric(dc.metrics.pearson_r2_score)\n",
    "print(\"Training set score:\", model.evaluate(numpy_training_dataset, [metric]))\n",
    "print(\"Test set score:\", model.evaluate(numpy_test, [metric]))"
   ]
  },
  {
   "cell_type": "code",
   "execution_count": null,
   "metadata": {
    "id": "HSVqeYox5zGx"
   },
   "outputs": [],
   "source": [
    "#solubilities = model.predict_on_batch(test_dataset.X[:10])\n",
    "#for molecule, solubility, test_solubility in zip(test_dataset.ids, solubilities, test_dataset.y):\n",
    "#   print(solubility, test_solubility, molecule)'''"
   ]
  },
  {
   "cell_type": "markdown",
   "metadata": {
    "id": "pOBd6-YdQSvF"
   },
   "source": [
    "## Citing This Tutorial\n",
    "If you found this tutorial useful please consider citing it using the provided BibTeX."
   ]
  },
  {
   "cell_type": "code",
   "execution_count": null,
   "metadata": {
    "id": "KZUk_9yIYw0c"
   },
   "outputs": [],
   "source": [
    "@manual{Intro1,\n",
    " title={The Basic Tools of the Deep Life Sciences},\n",
    " organization={DeepChem},\n",
    " author={Ramsundar, Bharath},\n",
    " howpublished = {\\url{https://github.com/deepchem/deepchem/blob/master/examples/tutorials/The_Basic_Tools_of_the_Deep_Life_Sciences.ipynb}},\n",
    " year={2021},\n",
    "}"
   ]
  }
 ],
 "metadata": {
  "colab": {
   "provenance": []
  },
  "kernelspec": {
   "display_name": "Python 3 (ipykernel)",
   "language": "python",
   "name": "python3"
  },
  "language_info": {
   "codemirror_mode": {
    "name": "ipython",
    "version": 3
   },
   "file_extension": ".py",
   "mimetype": "text/x-python",
   "name": "python",
   "nbconvert_exporter": "python",
   "pygments_lexer": "ipython3",
   "version": "3.8.2"
  }
 },
 "nbformat": 4,
 "nbformat_minor": 4
}
