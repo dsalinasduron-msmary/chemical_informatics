{
  "cells": [
    {
      "cell_type": "code",
      "execution_count": null,
      "metadata": {
        "id": "CMWAv-Z46nCc",
        "pycharm": {
          "name": "#%%\n"
        }
      },
      "outputs": [],
      "source": [
        "!pip install --pre deepchem[tensorflow]"
      ]
    },
    {
      "cell_type": "code",
      "execution_count": null,
      "metadata": {
        "id": "PDiY03h35zF_"
      },
      "outputs": [],
      "source": [
        "import deepchem as dc\n",
        "dc.__version__"
      ]
    },
    {
      "cell_type": "code",
      "source": [
        "import numpy as np"
      ],
      "metadata": {
        "id": "QHPMOV5vqU5u"
      },
      "execution_count": 59,
      "outputs": []
    },
    {
      "cell_type": "code",
      "source": [
        "!git clone https://github.com/dsalinasduron-msmary/chemical_informatics.git"
      ],
      "metadata": {
        "id": "662jOmVDjb6j"
      },
      "execution_count": null,
      "outputs": []
    },
    {
      "cell_type": "code",
      "source": [
        "import os\n",
        "import pickle\n",
        "\n",
        "os.listdir()\n",
        "os.chdir('chemical_informatics')\n",
        "os.getcwd()"
      ],
      "metadata": {
        "id": "Dzyxv9_apqbk"
      },
      "execution_count": null,
      "outputs": []
    },
    {
      "cell_type": "code",
      "source": [
        "f = open('ENSG00000128191dataframe.pickle','rb')\n",
        "compound_dataset = pickle.load(f)\n",
        "f.close()\n",
        "display(compound_dataset)"
      ],
      "metadata": {
        "id": "0nP10z6fqkjo"
      },
      "execution_count": null,
      "outputs": []
    },
    {
      "cell_type": "code",
      "source": [
        "smiles = compound_dataset['smiles']\n",
        "IC50 = compound_dataset['standard value']\n",
        "featurizer = dc.feat.ConvMolFeaturizer()\n",
        "compound_dataset['featurized'] = featurizer.featurize(smiles)\n",
        "display(compound_dataset)"
      ],
      "metadata": {
        "id": "8TpbPILDrorH"
      },
      "execution_count": null,
      "outputs": []
    },
    {
      "cell_type": "code",
      "source": [
        "compound_dataset['divided values'] = compound_dataset['standard value'].astype(float).div(108000)\n",
        "display(compound_dataset)"
      ],
      "metadata": {
        "id": "5vGoZOZexPH6"
      },
      "execution_count": null,
      "outputs": []
    },
    {
      "cell_type": "code",
      "source": [
        "compound_dataset['pIC50'] = np.log10(compound_dataset['divided values'].astype(float)).mul(-1)\n",
        "\n",
        "display(compound_dataset)"
      ],
      "metadata": {
        "id": "RVnJ1_89sUdg"
      },
      "execution_count": null,
      "outputs": []
    },
    {
      "cell_type": "code",
      "source": [
        "compound_dataset['pIC50'].hist()"
      ],
      "metadata": {
        "colab": {
          "base_uri": "https://localhost:8080/",
          "height": 447
        },
        "id": "RdTz462M2KU4",
        "outputId": "1627e2cb-c47d-4aee-d7ef-2b6d25a07bcb"
      },
      "execution_count": 129,
      "outputs": [
        {
          "output_type": "execute_result",
          "data": {
            "text/plain": [
              "<Axes: >"
            ]
          },
          "metadata": {},
          "execution_count": 129
        },
        {
          "output_type": "display_data",
          "data": {
            "text/plain": [
              "<Figure size 640x480 with 1 Axes>"
            ],
            "image/png": "[encoded data removed]"
          },
          "metadata": {}
        }
      ]
    },
    {
      "cell_type": "code",
      "source": [
        "compound_dataset['number'] = list(range(0,len(compound_dataset)))\n",
        "display(compound_dataset)"
      ],
      "metadata": {
        "id": "b8YztYwNzDyH"
      },
      "execution_count": null,
      "outputs": []
    },
    {
      "cell_type": "code",
      "source": [
        "x = compound_dataset\n",
        "f = open('x.pickle','wb')\n",
        "pickle.dump(x,f)\n",
        "f.close()"
      ],
      "metadata": {
        "id": "XAxzn73HuJ6X"
      },
      "execution_count": 109,
      "outputs": []
    },
    {
      "cell_type": "code",
      "source": [
        "import pandas as pd\n",
        "training_dataset = compound_dataset.sample(frac = 0.7)"
      ],
      "metadata": {
        "id": "Ri3huzzQvic9"
      },
      "execution_count": 110,
      "outputs": []
    },
    {
      "cell_type": "code",
      "source": [
        "#training_dataset.featurized[0].n_feat"
      ],
      "metadata": {
        "colab": {
          "base_uri": "https://localhost:8080/"
        },
        "id": "MXKtmwOVjk8n",
        "outputId": "042bb3d1-2d3d-42b8-9b80-ff02d6b18290"
      },
      "execution_count": 111,
      "outputs": [
        {
          "output_type": "execute_result",
          "data": {
            "text/plain": [
              "75"
            ]
          },
          "metadata": {},
          "execution_count": 111
        }
      ]
    },
    {
      "cell_type": "code",
      "source": [
        "testing_dataset = (compound_dataset[~compound_dataset['number'].isin(training_dataset['number'])])\n",
        "display(testing_dataset)"
      ],
      "metadata": {
        "id": "AjTBXgG6wMCn"
      },
      "execution_count": null,
      "outputs": []
    },
    {
      "cell_type": "code",
      "source": [
        "numpy_training_dataset = dc.data.NumpyDataset(X=training_dataset['featurized'],y=training_dataset['pIC50'].astype(float), ids=training_dataset['smiles'])\n",
        "numpy_testing_dataset = dc.data.NumpyDataset(X=testing_dataset['featurized'],y=testing_dataset['pIC50'].astype(float), ids=testing_dataset['smiles'])\n",
        "display(numpy_training_dataset)\n",
        "display(numpy_testing_dataset)"
      ],
      "metadata": {
        "id": "QJ4FANaB13j1"
      },
      "execution_count": null,
      "outputs": []
    },
    {
      "cell_type": "code",
      "source": [
        "model = dc.models.GraphConvModel(n_tasks=1, mode='regression', dropout=0.2, dense_layer_size=10)"
      ],
      "metadata": {
        "id": "GmDVcsWW3I6B"
      },
      "execution_count": 124,
      "outputs": []
    },
    {
      "cell_type": "code",
      "source": [
        "model.fit(numpy_training_dataset, nb_epoch=100)"
      ],
      "metadata": {
        "colab": {
          "base_uri": "https://localhost:8080/"
        },
        "id": "He-NcvSbUHDx",
        "outputId": "c6ea240a-ec5d-43ba-f45a-06e2049107f6"
      },
      "execution_count": 122,
      "outputs": [
        {
          "output_type": "execute_result",
          "data": {
            "text/plain": [
              "0.5193304824829101"
            ]
          },
          "metadata": {},
          "execution_count": 122
        }
      ]
    },
    {
      "cell_type": "code",
      "source": [
        "metric = dc.metrics.Metric(dc.metrics.pearson_r2_score)\n",
        "print(\"Training set score:\", model.evaluate(numpy_training_dataset, [metric]))\n",
        "print(\"Test set score:\", model.evaluate(numpy_testing_dataset, [metric]))"
      ],
      "metadata": {
        "colab": {
          "base_uri": "https://localhost:8080/"
        },
        "id": "5QzaRRr0Z3yE",
        "outputId": "2cb9ed07-dcda-441f-d649-26c3193dda0c"
      },
      "execution_count": 123,
      "outputs": [
        {
          "output_type": "stream",
          "name": "stdout",
          "text": [
            "Training set score: {'pearson_r2_score': 0.4422063118850517}\n",
            "Test set score: {'pearson_r2_score': 0.34849665471113234}\n"
          ]
        }
      ]
    },
    {
      "cell_type": "code",
      "execution_count": null,
      "metadata": {
        "id": "saTaOpXY5zGI"
      },
      "outputs": [],
      "source": [
        "#Deep Chem example\n",
        "#tasks, datasets, transformers = dc.molnet.load_delaney(featurizer='GraphConv')\n",
        "#train_dataset, valid_dataset, test_dataset = datasets'''"
      ]
    },
    {
      "cell_type": "code",
      "source": [
        "#print(train_dataset)\n",
        "#print(type(train_dataset))'''"
      ],
      "metadata": {
        "id": "oFtYgiOXlQi6"
      },
      "execution_count": null,
      "outputs": []
    },
    {
      "cell_type": "code",
      "execution_count": null,
      "metadata": {
        "id": "YEDcUsz35zGO"
      },
      "outputs": [],
      "source": [
        "#model = dc.models.GraphConvModel(n_tasks=1, mode='regression', dropout=0.2)"
      ]
    },
    {
      "cell_type": "code",
      "execution_count": null,
      "metadata": {
        "id": "e5K3rdGV5zGg"
      },
      "outputs": [],
      "source": [
        "#model.fit(train_dataset, nb_epoch=100)"
      ]
    },
    {
      "cell_type": "code",
      "execution_count": null,
      "metadata": {
        "id": "LJc90fs_5zGs"
      },
      "outputs": [],
      "source": [
        "#metric = dc.metrics.Metric(dc.metrics.pearson_r2_score)\n",
        "#print(\"Training set score:\", model.evaluate(train_dataset, [metric], transformers))\n",
        "#print(\"Test set score:\", model.evaluate(test_dataset, [metric], transformers))"
      ]
    },
    {
      "cell_type": "code",
      "execution_count": null,
      "metadata": {
        "id": "HSVqeYox5zGx"
      },
      "outputs": [],
      "source": [
        "#solubilities = model.predict_on_batch(test_dataset.X[:10])\n",
        "#for molecule, solubility, test_solubility in zip(test_dataset.ids, solubilities, test_dataset.y):\n",
        "#   print(solubility, test_solubility, molecule)'''"
      ]
    }
  ],
  "metadata": {
    "colab": {
      "provenance": []
    },
    "kernelspec": {
      "display_name": "Python 3 (ipykernel)",
      "language": "python",
      "name": "python3"
    },
    "language_info": {
      "codemirror_mode": {
        "name": "ipython",
        "version": 3
      },
      "file_extension": ".py",
      "mimetype": "text/x-python",
      "name": "python",
      "nbconvert_exporter": "python",
      "pygments_lexer": "ipython3",
      "version": "3.7.10"
    }
  },
  "nbformat": 4,
  "nbformat_minor": 0
}