{
 "cells": [
  {
   "cell_type": "code",
   "execution_count": null,
   "id": "483adfd2-fbe8-440b-bf3b-6a222f8b206a",
   "metadata": {},
   "outputs": [],
   "source": [
    "import chemical_informatics as ci"
   ]
  },
  {
   "cell_type": "code",
   "execution_count": null,
   "id": "a972deb4-4954-48e7-9a81-52d7e9004a50",
   "metadata": {},
   "outputs": [],
   "source": [
    "import importlib"
   ]
  },
  {
   "cell_type": "markdown",
   "id": "088d4977-1309-4da2-903b-8b36fb36dc36",
   "metadata": {},
   "source": [
    "# 1. Select disease"
   ]
  },
  {
   "cell_type": "markdown",
   "id": "ce55a9e2-a9a0-499f-ad5e-a7d570ff09bc",
   "metadata": {},
   "source": [
    "You must provide an [Experimental Factor Ontology](https://www.ebi.ac.uk/efo/) ID."
   ]
  },
  {
   "cell_type": "code",
   "execution_count": null,
   "id": "0b4806d9-8312-4a50-87a6-334f1d6484dd",
   "metadata": {},
   "outputs": [],
   "source": [
    "disease_id = \"EFO_0005537\""
   ]
  },
  {
   "cell_type": "markdown",
   "id": "73089ba3-86da-40dd-94ea-52a1a4d4f8c1",
   "metadata": {},
   "source": [
    "# 2. Find targets"
   ]
  },
  {
   "cell_type": "markdown",
   "id": "a8d7de55-fece-46fc-a546-2482bc941639",
   "metadata": {},
   "source": [
    "Set the number of targets to look for."
   ]
  },
  {
   "cell_type": "code",
   "execution_count": null,
   "id": "02aa3649-5181-495d-9074-d7a2852f80f8",
   "metadata": {},
   "outputs": [],
   "source": [
    "number_of_targets = 10"
   ]
  },
  {
   "cell_type": "markdown",
   "id": "c20c9ddd-a575-4a6d-a23c-fe8209814b97",
   "metadata": {},
   "source": [
    "Make the request from [Open Targets](https://www.opentargets.org/)."
   ]
  },
  {
   "cell_type": "code",
   "execution_count": null,
   "id": "739a9ac8-f536-49b8-b2e2-14a043d8aee7",
   "metadata": {},
   "outputs": [],
   "source": [
    "targets = ci.get_targets(disease_id,number_of_targets)"
   ]
  },
  {
   "cell_type": "markdown",
   "id": "3ca6d4d0-fc92-4aae-af9d-fa8bba188eff",
   "metadata": {},
   "source": [
    "# 3. Find compounds and assays"
   ]
  },
  {
   "cell_type": "markdown",
   "id": "7d743d7a-fd9d-4760-a9bf-6a8c069308fa",
   "metadata": {},
   "source": [
    "Select the list of targets to find active compounds and assays for."
   ]
  },
  {
   "cell_type": "code",
   "execution_count": null,
   "id": "a660c96c-df27-4daa-a3b2-663993b41811",
   "metadata": {},
   "outputs": [],
   "source": [
    "target_list = targets[\"target_ensg\"]"
   ]
  },
  {
   "cell_type": "markdown",
   "id": "c0a3a272-680d-4171-bfa5-59dc4b5c3c1e",
   "metadata": {},
   "source": [
    "Find compounds and assays for the selected targets."
   ]
  },
  {
   "cell_type": "code",
   "execution_count": null,
   "id": "c0fffc71-d7c5-4896-9c73-eec2188aaac8",
   "metadata": {},
   "outputs": [],
   "source": [
    "importlib.reload(ci)\n",
    "importlib.reload(ci.utils)"
   ]
  },
  {
   "cell_type": "code",
   "execution_count": null,
   "id": "433db7eb-7ac9-4bb3-a776-6aa8903214db",
   "metadata": {},
   "outputs": [],
   "source": [
    "compounds_and_assays = ci.get_compounds_and_assays(target_list)"
   ]
  },
  {
   "cell_type": "code",
   "execution_count": 72,
   "id": "86b96def-d9de-439a-9901-903c4a375ea3",
   "metadata": {},
   "outputs": [
    {
     "name": "stdout",
     "output_type": "stream",
     "text": [
      "1\n"
     ]
    }
   ],
   "source": [
    "print(compounds_and_assays)"
   ]
  },
  {
   "cell_type": "code",
   "execution_count": null,
   "id": "31d177e8-cd34-49af-8c08-c39aede0ad40",
   "metadata": {},
   "outputs": [],
   "source": []
  }
 ],
 "metadata": {
  "kernelspec": {
   "display_name": "Python 3 (ipykernel)",
   "language": "python",
   "name": "python3"
  },
  "language_info": {
   "codemirror_mode": {
    "name": "ipython",
    "version": 3
   },
   "file_extension": ".py",
   "mimetype": "text/x-python",
   "name": "python",
   "nbconvert_exporter": "python",
   "pygments_lexer": "ipython3",
   "version": "3.8.10"
  }
 },
 "nbformat": 4,
 "nbformat_minor": 5
}
