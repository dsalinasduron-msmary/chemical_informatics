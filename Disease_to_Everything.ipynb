{
  "cells": [
    {
      "cell_type": "code",
      "execution_count": 5,
      "id": "db6deb8f-2b7f-4793-a878-d5f78d344bab",
      "metadata": {
        "colab": {
          "base_uri": "https://localhost:8080/"
        },
        "id": "db6deb8f-2b7f-4793-a878-d5f78d344bab",
        "outputId": "d4decc91-ca0a-4025-f171-2140f9e58847"
      },
      "outputs": [
        {
          "name": "stdout",
          "output_type": "stream",
          "text": [
            "done\n"
          ]
        }
      ],
      "source": [
        "# Import relevant libraries to make HTTP requests and parse JSON response\n",
        "import requests\n",
        "import json\n",
        "import csv\n",
        "import io\n",
        "import chembl_webresource_client as cwc\n",
        "import pandas as pd\n",
        "import pickle\n",
        "import os\n",
        "\n",
        "print(\"done\")"
      ]
    },
    {
      "cell_type": "code",
      "execution_count": 36,
      "id": "6a02401c",
      "metadata": {},
      "outputs": [
        {
          "name": "stdout",
          "output_type": "stream",
          "text": [
            "InChIKey=KFZMGEQAYNKOFK-UHFFFAOYSA-N\n"
          ]
        }
      ],
      "source": [
        "url = \"https://cactus.nci.nih.gov/chemical/structure/CC(C)O/stdinchikey\"\n",
        "r = requests.get(url=url)\n",
        "print(r.text)\n"
      ]
    },
    {
      "cell_type": "code",
      "execution_count": 55,
      "id": "9021c9cc-6955-406d-bc3c-360cc1d637e4",
      "metadata": {
        "colab": {
          "base_uri": "https://localhost:8080/"
        },
        "id": "9021c9cc-6955-406d-bc3c-360cc1d637e4",
        "outputId": "90af27b6-9160-4018-c86b-972a0792dc1e"
      },
      "outputs": [
        {
          "name": "stdout",
          "output_type": "stream",
          "text": [
            "200\n",
            "done\n"
          ]
        }
      ],
      "source": [
        "# Set disease_id variable for desired disease\n",
        "disease_id = \"EFO_0005537\"\n",
        "\n",
        "# Build query string to get target information as well as count\n",
        "query_string = \"\"\"\n",
        "query AssociatedTargets {\n",
        "  disease(efoId: \"disease_id\") {\n",
        "    id\n",
        "    name\n",
        "    associatedTargets(page: { size: 4, index: 0 }) {\n",
        "      rows {\n",
        "        target {\n",
        "          id\n",
        "          approvedName\n",
        "          dbXrefs{\n",
        "              id\n",
        "            }\n",
        "        }\n",
        "        score\n",
        "      }\n",
        "    }\n",
        "  }\n",
        "}\n",
        "\"\"\".replace(\"disease_id\", disease_id)\n",
        "\n",
        "# Set variables object of arguments to be passed to endpoint\n",
        "variables = {\"efoId\": disease_id}\n",
        "\n",
        "# Set base URL of GraphQL API endpoint\n",
        "base_url = \"https://api.platform.opentargets.org/api/v4/graphql\"\n",
        "\n",
        "# Perform POST request and check status code of response\n",
        "r = requests.post(base_url, json={\"query\": query_string, \"variables\": variables})\n",
        "print(r.status_code)\n",
        "\n",
        "#Transform API response from JSON into Python dictionary and print in console\n",
        "api_response = json.loads(r.text)\n",
        "print('done')\n",
        "#print(api_response)\n"
      ]
    },
    {
      "cell_type": "code",
      "execution_count": 56,
      "id": "e431ec55-6072-48fe-b14a-5f9896cac8d7",
      "metadata": {
        "colab": {
          "base_uri": "https://localhost:8080/"
        },
        "id": "e431ec55-6072-48fe-b14a-5f9896cac8d7",
        "outputId": "6ab70672-2d2f-46a1-a5a1-52fcf1a6ca94"
      },
      "outputs": [
        {
          "name": "stdout",
          "output_type": "stream",
          "text": [
            "[('ENSG00000184292', 'CHEMBL3856163', 0.43149003913252654), ('ENSG00000198900', 'CHEMBL1781', 0.42420687638099397), ('ENSG00000120217', 'CHEMBL3580522', 0.40556949639812895), ('ENSG00000258947', 'CHEMBL2597', 0.40282736578982326)]\n"
          ]
        }
      ],
      "source": [
        "a=0\n",
        "#create list of target IDs with associated evidence scores by calling them from dictionary\n",
        "target_info = api_response['data']['disease']['associatedTargets']['rows']\n",
        "#print(target_info)\n",
        "\n",
        "\n",
        "target_id_list = []\n",
        "#pull IDs and scores from dictionary and add to new list\n",
        "while a < len(target_info):\n",
        "    #print(a)\n",
        "\n",
        "    for dict in target_info[a]['target']['dbXrefs']:\n",
        "        #print(dict)\n",
        "        # Get rid of all IDs that aren't CHEMBL IDs, then put CHEMBL ID in list to add to tuple\n",
        "        newDict = {key:val for key, val in (dict).items() if \"CHEMBL\" in val}\n",
        "        if len(newDict) == 0:\n",
        "            continue\n",
        "        chembl_id = newDict['id']\n",
        "    target_id_list.append((target_info[a]['target'].get('id'), chembl_id, target_info[a]['score']))\n",
        "    a+=1\n",
        "print(target_id_list)"
      ]
    },
    {
      "cell_type": "code",
      "execution_count": 57,
      "id": "n0nZje1C-Q55",
      "metadata": {
        "colab": {
          "base_uri": "https://localhost:8080/"
        },
        "id": "n0nZje1C-Q55",
        "outputId": "37a29396-f374-4418-ede5-d4b7f0358deb"
      },
      "outputs": [
        {
          "name": "stdout",
          "output_type": "stream",
          "text": [
            "['__class__', '__delattr__', '__dict__', '__dir__', '__doc__', '__eq__', '__format__', '__ge__', '__getattribute__', '__gt__', '__hash__', '__init__', '__init_subclass__', '__le__', '__lt__', '__module__', '__ne__', '__new__', '__reduce__', '__reduce_ex__', '__repr__', '__setattr__', '__sizeof__', '__str__', '__subclasshook__', '__weakref__', 'activity', 'activity_supplementary_data_by_activity', 'assay', 'assay_class', 'atc_class', 'binding_site', 'biotherapeutic', 'cell_line', 'chembl_id_lookup', 'compound_record', 'compound_structural_alert', 'description', 'document', 'document_similarity', 'drug', 'drug_indication', 'drug_warning', 'go_slim', 'image', 'mechanism', 'metabolism', 'molecule', 'molecule_form', 'official', 'organism', 'protein_classification', 'similarity', 'source', 'substructure', 'target', 'target_component', 'target_relation', 'tissue', 'xref_source']\n",
            "[{'cross_references': [{'xref_id': 'P11387', 'xref_name': None, 'xref_src': 'canSAR-Target'}, {'xref_id': 'TOP1', 'xref_name': None, 'xref_src': 'Wikipedia'}], 'organism': 'Homo sapiens', 'pref_name': 'DNA topoisomerase I', 'species_group_flag': False, 'target_chembl_id': 'CHEMBL1781', 'target_components': [{'accession': 'P11387', 'component_description': 'DNA topoisomerase 1', 'component_id': 72, 'component_type': 'PROTEIN', 'relationship': 'SINGLE PROTEIN', 'target_component_synonyms': [{'component_synonym': '5.6.2.1', 'syn_type': 'EC_NUMBER'}, {'component_synonym': 'DNA topoisomerase 1', 'syn_type': 'UNIPROT'}, {'component_synonym': 'DNA topoisomerase I', 'syn_type': 'UNIPROT'}, {'component_synonym': 'TOP1', 'syn_type': 'GENE_SYMBOL'}], 'target_component_xrefs': [{'xref_id': 'GO:0000228', 'xref_name': 'nuclear chromosome', 'xref_src_db': 'GoComponent'}, {'xref_id': 'GO:0000932', 'xref_name': 'P-body', 'xref_src_db': 'GoComponent'}, {'xref_id': 'GO:0001650', 'xref_name': 'fibrillar center', 'xref_src_db': 'GoComponent'}, {'xref_id': 'GO:0001673', 'xref_name': 'male germ cell nucleus', 'xref_src_db': 'GoComponent'}, {'xref_id': 'GO:0005634', 'xref_name': 'nucleus', 'xref_src_db': 'GoComponent'}, {'xref_id': 'GO:0005654', 'xref_name': 'nucleoplasm', 'xref_src_db': 'GoComponent'}, {'xref_id': 'GO:0005694', 'xref_name': 'chromosome', 'xref_src_db': 'GoComponent'}, {'xref_id': 'GO:0005730', 'xref_name': 'nucleolus', 'xref_src_db': 'GoComponent'}, {'xref_id': 'GO:0005737', 'xref_name': 'cytoplasm', 'xref_src_db': 'GoComponent'}, {'xref_id': 'GO:0032993', 'xref_name': 'protein-DNA complex', 'xref_src_db': 'GoComponent'}, {'xref_id': 'GO:0043204', 'xref_name': 'perikaryon', 'xref_src_db': 'GoComponent'}, {'xref_id': 'GO:0000978', 'xref_name': 'RNA polymerase II cis-regulatory region sequence-specific DNA binding', 'xref_src_db': 'GoFunction'}, {'xref_id': 'GO:0003677', 'xref_name': 'DNA binding', 'xref_src_db': 'GoFunction'}, {'xref_id': 'GO:0003682', 'xref_name': 'chromatin binding', 'xref_src_db': 'GoFunction'}, {'xref_id': 'GO:0003690', 'xref_name': 'double-stranded DNA binding', 'xref_src_db': 'GoFunction'}, {'xref_id': 'GO:0003697', 'xref_name': 'single-stranded DNA binding', 'xref_src_db': 'GoFunction'}, {'xref_id': 'GO:0003723', 'xref_name': 'RNA binding', 'xref_src_db': 'GoFunction'}, {'xref_id': 'GO:0003916', 'xref_name': 'DNA topoisomerase activity', 'xref_src_db': 'GoFunction'}, {'xref_id': 'GO:0003917', 'xref_name': 'DNA topoisomerase type I (single strand cut, ATP-independent) activity', 'xref_src_db': 'GoFunction'}, {'xref_id': 'GO:0004674', 'xref_name': 'protein serine/threonine kinase activity', 'xref_src_db': 'GoFunction'}, {'xref_id': 'GO:0005515', 'xref_name': 'protein binding', 'xref_src_db': 'GoFunction'}, {'xref_id': 'GO:0005524', 'xref_name': 'ATP binding', 'xref_src_db': 'GoFunction'}, {'xref_id': 'GO:0008301', 'xref_name': 'DNA binding, bending', 'xref_src_db': 'GoFunction'}, {'xref_id': 'GO:0016853', 'xref_name': 'isomerase activity', 'xref_src_db': 'GoFunction'}, {'xref_id': 'GO:0019904', 'xref_name': 'protein domain specific binding', 'xref_src_db': 'GoFunction'}, {'xref_id': 'GO:0097100', 'xref_name': 'supercoiled DNA binding', 'xref_src_db': 'GoFunction'}, {'xref_id': 'GO:0006260', 'xref_name': 'DNA replication', 'xref_src_db': 'GoProcess'}, {'xref_id': 'GO:0006265', 'xref_name': 'DNA topological change', 'xref_src_db': 'GoProcess'}, {'xref_id': 'GO:0006338', 'xref_name': 'chromatin remodeling', 'xref_src_db': 'GoProcess'}, {'xref_id': 'GO:0007059', 'xref_name': 'chromosome segregation', 'xref_src_db': 'GoProcess'}, {'xref_id': 'GO:0007623', 'xref_name': 'circadian rhythm', 'xref_src_db': 'GoProcess'}, {'xref_id': 'GO:0009410', 'xref_name': 'response to xenobiotic stimulus', 'xref_src_db': 'GoProcess'}, {'xref_id': 'GO:0012501', 'xref_name': 'programmed cell death', 'xref_src_db': 'GoProcess'}, {'xref_id': 'GO:0016310', 'xref_name': 'phosphorylation', 'xref_src_db': 'GoProcess'}, {'xref_id': 'GO:0018105', 'xref_name': 'peptidyl-serine phosphorylation', 'xref_src_db': 'GoProcess'}, {'xref_id': 'GO:0032922', 'xref_name': 'circadian regulation of gene expression', 'xref_src_db': 'GoProcess'}, {'xref_id': 'GO:0040016', 'xref_name': 'embryonic cleavage', 'xref_src_db': 'GoProcess'}, {'xref_id': 'GO:0048511', 'xref_name': 'rhythmic process', 'xref_src_db': 'GoProcess'}, {'xref_id': 'P11387', 'xref_name': None, 'xref_src_db': 'IntAct'}, {'xref_id': 'IPR001631', 'xref_name': 'TopoI.', 'xref_src_db': 'InterPro'}, {'xref_id': 'IPR008336', 'xref_name': 'TopoI_DNA-bd_euk.', 'xref_src_db': 'InterPro'}, {'xref_id': 'IPR011010', 'xref_name': 'DNA_brk_join_enz.', 'xref_src_db': 'InterPro'}, {'xref_id': 'IPR013030', 'xref_name': 'DNA_topo_DNA_db_N_dom2.', 'xref_src_db': 'InterPro'}, {'xref_id': 'IPR013034', 'xref_name': 'DNA_topo_DNA_db_N_dom1.', 'xref_src_db': 'InterPro'}, {'xref_id': 'IPR013499', 'xref_name': 'TopoI_euk.', 'xref_src_db': 'InterPro'}, {'xref_id': 'IPR013500', 'xref_name': 'TopoI_cat_euk.', 'xref_src_db': 'InterPro'}, {'xref_id': 'IPR014711', 'xref_name': 'TopoI_cat_a-hlx-sub_euk.', 'xref_src_db': 'InterPro'}, {'xref_id': 'IPR014727', 'xref_name': 'TopoI_cat_a/b-sub_euk.', 'xref_src_db': 'InterPro'}, {'xref_id': 'IPR018521', 'xref_name': 'TopoI_AS.', 'xref_src_db': 'InterPro'}, {'xref_id': 'IPR025834', 'xref_name': 'TopoI_C_dom.', 'xref_src_db': 'InterPro'}, {'xref_id': 'IPR036202', 'xref_name': 'TopoI_DNA-bd_euk_N_sf.', 'xref_src_db': 'InterPro'}, {'xref_id': '1A31', 'xref_name': 'A', 'xref_src_db': 'PDBe'}, {'xref_id': '1A35', 'xref_name': 'A', 'xref_src_db': 'PDBe'}, {'xref_id': '1A36', 'xref_name': 'A', 'xref_src_db': 'PDBe'}, {'xref_id': '1EJ9', 'xref_name': 'A', 'xref_src_db': 'PDBe'}, {'xref_id': '1K4S', 'xref_name': 'A', 'xref_src_db': 'PDBe'}, {'xref_id': '1K4T', 'xref_name': 'A', 'xref_src_db': 'PDBe'}, {'xref_id': '1LPQ', 'xref_name': 'A', 'xref_src_db': 'PDBe'}, {'xref_id': '1NH3', 'xref_name': 'A', 'xref_src_db': 'PDBe'}, {'xref_id': '1R49', 'xref_name': 'A', 'xref_src_db': 'PDBe'}, {'xref_id': '1RR8', 'xref_name': 'A', 'xref_src_db': 'PDBe'}, {'xref_id': '1RRJ', 'xref_name': 'A', 'xref_src_db': 'PDBe'}, {'xref_id': '1SC7', 'xref_name': 'A', 'xref_src_db': 'PDBe'}, {'xref_id': '1SEU', 'xref_name': 'A', 'xref_src_db': 'PDBe'}, {'xref_id': '1T8I', 'xref_name': 'A', 'xref_src_db': 'PDBe'}, {'xref_id': '1TL8', 'xref_name': 'A', 'xref_src_db': 'PDBe'}, {'xref_id': 'PF01028', 'xref_name': 'Topoisom_I', 'xref_src_db': 'Pfam'}, {'xref_id': 'PF02919', 'xref_name': 'Topoisom_I_N', 'xref_src_db': 'Pfam'}, {'xref_id': 'PF14370', 'xref_name': 'Topo_C_assoc', 'xref_src_db': 'Pfam'}, {'xref_id': 'PA353', 'xref_name': 'topoisomerase (DNA) I', 'xref_src_db': 'PharmGKB'}, {'xref_id': 'P11387', 'xref_name': 'Tclin', 'xref_src_db': 'Pharos'}, {'xref_id': 'R-HSA-4615885', 'xref_name': 'SUMOylation of DNA replication proteins.', 'xref_src_db': 'Reactome'}, {'xref_id': 'A8KA78', 'xref_name': None, 'xref_src_db': 'UniProt'}, {'xref_id': 'E1P5W3', 'xref_name': None, 'xref_src_db': 'UniProt'}, {'xref_id': 'O43256', 'xref_name': None, 'xref_src_db': 'UniProt'}, {'xref_id': 'P11387', 'xref_name': None, 'xref_src_db': 'UniProt'}, {'xref_id': 'Q12855', 'xref_name': None, 'xref_src_db': 'UniProt'}, {'xref_id': 'Q12856', 'xref_name': None, 'xref_src_db': 'UniProt'}, {'xref_id': 'Q15610', 'xref_name': None, 'xref_src_db': 'UniProt'}, {'xref_id': 'Q5TFY3', 'xref_name': None, 'xref_src_db': 'UniProt'}, {'xref_id': 'Q9UJN0', 'xref_name': None, 'xref_src_db': 'UniProt'}]}], 'target_type': 'SINGLE PROTEIN', 'tax_id': 9606}]\n"
          ]
        }
      ],
      "source": [
        "from chembl_webresource_client.new_client import new_client\n",
        "\n",
        "target = new_client.target\n",
        "activity = new_client.activity\n",
        "print(dir(new_client))\n",
        "\n",
        "\n",
        "activities = target.filter(target_chembl_id=target_id_list[1][1], standard_type=\"IC50\", relation = '=')\n",
        "print(activities)\n",
        "\n"
      ]
    },
    {
      "cell_type": "code",
      "execution_count": 58,
      "id": "e1763bbe-0dbe-45fe-8438-b9feaf3f39b7",
      "metadata": {
        "colab": {
          "base_uri": "https://localhost:8080/",
          "height": 1000
        },
        "id": "e1763bbe-0dbe-45fe-8438-b9feaf3f39b7",
        "outputId": "09df42ba-2afb-4728-b86e-3f4e8e9c5677"
      },
      "outputs": [
        {
          "name": "stdout",
          "output_type": "stream",
          "text": [
            "ENSG00000184292\n",
            "[]\n",
            "0\n",
            "ENSG00000198900\n",
            "[{'action_type': None, 'activity_comment': None, 'activity_id': 16793336, 'activity_properties': [], 'assay_chembl_id': 'CHEMBL3867357', 'assay_description': 'Inhibition of human DNA topoisomerase 1 using pHOT1 as substrate after 30 mins by agarose gel electrophoresis', 'assay_type': 'B', 'assay_variant_accession': None, 'assay_variant_mutation': None, 'bao_endpoint': 'BAO_0000190', 'bao_format': 'BAO_0000357', 'bao_label': 'single protein format', 'canonical_smiles': 'C[n+]1ccc2c3c(nc4cc5c(cc42)OCO5)-c2ccccc2-c31.[I-]', 'data_validity_comment': None, 'data_validity_description': None, 'document_chembl_id': 'CHEMBL3865847', 'document_journal': 'Bioorg Med Chem', 'document_year': 2016, 'ligand_efficiency': None, 'molecule_chembl_id': 'CHEMBL3968023', 'molecule_pref_name': None, 'parent_molecule_chembl_id': 'CHEMBL3990067', 'pchembl_value': None, 'potential_duplicate': 0, 'qudt_units': 'http://www.openphacts.org/units/MicrogramPerMilliliter', 'record_id': 2807330, 'relation': '=', 'src_id': 1, 'standard_flag': 1, 'standard_relation': '=', 'standard_text_value': None, 'standard_type': 'IC50', 'standard_units': 'ug.mL-1', 'standard_upper_value': None, 'standard_value': '0.45', 'target_chembl_id': 'CHEMBL1781', 'target_organism': 'Homo sapiens', 'target_pref_name': 'DNA topoisomerase I', 'target_tax_id': '9606', 'text_value': None, 'toid': None, 'type': 'IC50', 'units': 'ug ml-1', 'uo_units': 'UO_0000274', 'upper_value': None, 'value': '0.45'}, {'action_type': None, 'activity_comment': None, 'activity_id': 16793333, 'activity_properties': [], 'assay_chembl_id': 'CHEMBL3867357', 'assay_description': 'Inhibition of human DNA topoisomerase 1 using pHOT1 as substrate after 30 mins by agarose gel electrophoresis', 'assay_type': 'B', 'assay_variant_accession': None, 'assay_variant_mutation': None, 'bao_endpoint': 'BAO_0000190', 'bao_format': 'BAO_0000357', 'bao_label': 'single protein format', 'canonical_smiles': 'C[n+]1c2c3c(nc(-c4ccccc4)cc3c3ccccc31)-c1ccccc1-2.[I-]', 'data_validity_comment': None, 'data_validity_description': None, 'document_chembl_id': 'CHEMBL3865847', 'document_journal': 'Bioorg Med Chem', 'document_year': 2016, 'ligand_efficiency': None, 'molecule_chembl_id': 'CHEMBL3914791', 'molecule_pref_name': None, 'parent_molecule_chembl_id': 'CHEMBL3990652', 'pchembl_value': None, 'potential_duplicate': 0, 'qudt_units': 'http://www.openphacts.org/units/MicrogramPerMilliliter', 'record_id': 2807327, 'relation': '=', 'src_id': 1, 'standard_flag': 1, 'standard_relation': '=', 'standard_text_value': None, 'standard_type': 'IC50', 'standard_units': 'ug.mL-1', 'standard_upper_value': None, 'standard_value': '0.475', 'target_chembl_id': 'CHEMBL1781', 'target_organism': 'Homo sapiens', 'target_pref_name': 'DNA topoisomerase I', 'target_tax_id': '9606', 'text_value': None, 'toid': None, 'type': 'IC50', 'units': 'ug ml-1', 'uo_units': 'UO_0000274', 'upper_value': None, 'value': '0.475'}, {'action_type': None, 'activity_comment': None, 'activity_id': 16793337, 'activity_properties': [], 'assay_chembl_id': 'CHEMBL3867357', 'assay_description': 'Inhibition of human DNA topoisomerase 1 using pHOT1 as substrate after 30 mins by agarose gel electrophoresis', 'assay_type': 'B', 'assay_variant_accession': None, 'assay_variant_mutation': None, 'bao_endpoint': 'BAO_0000190', 'bao_format': 'BAO_0000357', 'bao_label': 'single protein format', 'canonical_smiles': '[Br-].c1ccc(C[n+]2ccc3c4c(nc5cc6c(cc53)OCO6)-c3ccccc3-c42)cc1', 'data_validity_comment': None, 'data_validity_description': None, 'document_chembl_id': 'CHEMBL3865847', 'document_journal': 'Bioorg Med Chem', 'document_year': 2016, 'ligand_efficiency': None, 'molecule_chembl_id': 'CHEMBL3896867', 'molecule_pref_name': None, 'parent_molecule_chembl_id': 'CHEMBL3990390', 'pchembl_value': None, 'potential_duplicate': 0, 'qudt_units': 'http://www.openphacts.org/units/MicrogramPerMilliliter', 'record_id': 2807331, 'relation': '=', 'src_id': 1, 'standard_flag': 1, 'standard_relation': '=', 'standard_text_value': None, 'standard_type': 'IC50', 'standard_units': 'ug.mL-1', 'standard_upper_value': None, 'standard_value': '0.52', 'target_chembl_id': 'CHEMBL1781', 'target_organism': 'Homo sapiens', 'target_pref_name': 'DNA topoisomerase I', 'target_tax_id': '9606', 'text_value': None, 'toid': None, 'type': 'IC50', 'units': 'ug ml-1', 'uo_units': 'UO_0000274', 'upper_value': None, 'value': '0.52'}, {'action_type': None, 'activity_comment': None, 'activity_id': 16793330, 'activity_properties': [], 'assay_chembl_id': 'CHEMBL3867357', 'assay_description': 'Inhibition of human DNA topoisomerase 1 using pHOT1 as substrate after 30 mins by agarose gel electrophoresis', 'assay_type': 'B', 'assay_variant_accession': None, 'assay_variant_mutation': None, 'bao_endpoint': 'BAO_0000190', 'bao_format': 'BAO_0000357', 'bao_label': 'single protein format', 'canonical_smiles': '[Br-].c1ccc(C[n+]2ccc3c4c(nc5ccccc53)-c3ccccc3-c42)cc1', 'data_validity_comment': None, 'data_validity_description': None, 'document_chembl_id': 'CHEMBL3865847', 'document_journal': 'Bioorg Med Chem', 'document_year': 2016, 'ligand_efficiency': None, 'molecule_chembl_id': 'CHEMBL3889816', 'molecule_pref_name': None, 'parent_molecule_chembl_id': 'CHEMBL3991340', 'pchembl_value': None, 'potential_duplicate': 0, 'qudt_units': 'http://www.openphacts.org/units/MicrogramPerMilliliter', 'record_id': 2807324, 'relation': '=', 'src_id': 1, 'standard_flag': 1, 'standard_relation': '=', 'standard_text_value': None, 'standard_type': 'IC50', 'standard_units': 'ug.mL-1', 'standard_upper_value': None, 'standard_value': '0.57', 'target_chembl_id': 'CHEMBL1781', 'target_organism': 'Homo sapiens', 'target_pref_name': 'DNA topoisomerase I', 'target_tax_id': '9606', 'text_value': None, 'toid': None, 'type': 'IC50', 'units': 'ug ml-1', 'uo_units': 'UO_0000274', 'upper_value': None, 'value': '0.57'}, '...(remaining elements truncated)...']\n",
            "456\n",
            "ENSG00000120217\n",
            "[{'action_type': {'action_type': 'INHIBITOR', 'description': 'Negatively effects (inhibits) the normal functioning of the protein e.g., prevention of enzymatic reaction or activation of downstream pathway', 'parent_type': 'NEGATIVE MODULATOR'}, 'activity_comment': None, 'activity_id': 22991297, 'activity_properties': [{'comments': None, 'relation': '=', 'result_flag': 0, 'standard_relation': '=', 'standard_text_value': None, 'standard_type': 'TIME', 'standard_units': 'hr', 'standard_value': '0.25', 'text_value': None, 'type': 'Time', 'units': 'min', 'value': '15.0'}], 'assay_chembl_id': 'CHEMBL4775268', 'assay_description': 'Binding affinity to human PDL1 assessed as reduction in PDL1/human PD1protein-protein interaction by HTRF binding assay', 'assay_type': 'B', 'assay_variant_accession': None, 'assay_variant_mutation': None, 'bao_endpoint': 'BAO_0000190', 'bao_format': 'BAO_0000357', 'bao_label': 'single protein format', 'canonical_smiles': 'Cc1c(COc2cc(OCc3cncc(C#N)c3)c(CNC(C)(C)C(=O)O)cc2Cl)cccc1-c1ccc2ocnc2c1', 'data_validity_comment': None, 'data_validity_description': None, 'document_chembl_id': 'CHEMBL4765466', 'document_journal': 'J Med Chem', 'document_year': 2020, 'ligand_efficiency': {'bei': '15.07', 'le': '0.29', 'lle': '2.17', 'sei': '6.90'}, 'molecule_chembl_id': 'CHEMBL4776444', 'molecule_pref_name': None, 'parent_molecule_chembl_id': 'CHEMBL4776444', 'pchembl_value': '9.00', 'potential_duplicate': 0, 'qudt_units': 'http://www.openphacts.org/units/Nanomolar', 'record_id': 3570672, 'relation': '=', 'src_id': 1, 'standard_flag': 1, 'standard_relation': '=', 'standard_text_value': None, 'standard_type': 'IC50', 'standard_units': 'nM', 'standard_upper_value': None, 'standard_value': '1.0', 'target_chembl_id': 'CHEMBL3580522', 'target_organism': 'Homo sapiens', 'target_pref_name': 'Programmed cell death 1 ligand 1', 'target_tax_id': '9606', 'text_value': None, 'toid': None, 'type': 'IC50', 'units': 'nM', 'uo_units': 'UO_0000065', 'upper_value': None, 'value': '1.0'}, {'action_type': {'action_type': 'INHIBITOR', 'description': 'Negatively effects (inhibits) the normal functioning of the protein e.g., prevention of enzymatic reaction or activation of downstream pathway', 'parent_type': 'NEGATIVE MODULATOR'}, 'activity_comment': None, 'activity_id': 22991300, 'activity_properties': [{'comments': None, 'relation': '=', 'result_flag': 0, 'standard_relation': '=', 'standard_text_value': None, 'standard_type': 'TIME', 'standard_units': 'hr', 'standard_value': '0.25', 'text_value': None, 'type': 'Time', 'units': 'min', 'value': '15.0'}], 'assay_chembl_id': 'CHEMBL4775269', 'assay_description': 'Binding affinity to PDL1 (unknown origin) assessed as reduction in PDL1/PD1 protein-protein interaction preincubated for 15 mins followed by PD1 addition and measured after 15 mins by HTRF binding assay', 'assay_type': 'B', 'assay_variant_accession': None, 'assay_variant_mutation': None, 'bao_endpoint': 'BAO_0000190', 'bao_format': 'BAO_0000357', 'bao_label': 'single protein format', 'canonical_smiles': 'COc1cc(OCc2cccc(-c3ccccc3)c2C)cc(OC)c1CNCCNC(C)=O', 'data_validity_comment': None, 'data_validity_description': None, 'document_chembl_id': 'CHEMBL4765466', 'document_journal': 'J Med Chem', 'document_year': 2020, 'ligand_efficiency': {'bei': '20.06', 'le': '0.37', 'lle': '4.52', 'sei': '13.08'}, 'molecule_chembl_id': 'CHEMBL4081869', 'molecule_pref_name': None, 'parent_molecule_chembl_id': 'CHEMBL4081869', 'pchembl_value': '9.00', 'potential_duplicate': 0, 'qudt_units': 'http://www.openphacts.org/units/Nanomolar', 'record_id': 3570670, 'relation': '=', 'src_id': 1, 'standard_flag': 1, 'standard_relation': '=', 'standard_text_value': None, 'standard_type': 'IC50', 'standard_units': 'nM', 'standard_upper_value': None, 'standard_value': '1.0', 'target_chembl_id': 'CHEMBL3580522', 'target_organism': 'Homo sapiens', 'target_pref_name': 'Programmed cell death 1 ligand 1', 'target_tax_id': '9606', 'text_value': None, 'toid': None, 'type': 'IC50', 'units': 'nM', 'uo_units': 'UO_0000065', 'upper_value': None, 'value': '1.0'}, {'action_type': {'action_type': 'INHIBITOR', 'description': 'Negatively effects (inhibits) the normal functioning of the protein e.g., prevention of enzymatic reaction or activation of downstream pathway', 'parent_type': 'NEGATIVE MODULATOR'}, 'activity_comment': None, 'activity_id': 22991299, 'activity_properties': [{'comments': None, 'relation': '=', 'result_flag': 0, 'standard_relation': '=', 'standard_text_value': None, 'standard_type': 'TIME', 'standard_units': 'hr', 'standard_value': '0.25', 'text_value': None, 'type': 'Time', 'units': 'min', 'value': '15.0'}], 'assay_chembl_id': 'CHEMBL4775268', 'assay_description': 'Binding affinity to human PDL1 assessed as reduction in PDL1/human PD1protein-protein interaction by HTRF binding assay', 'assay_type': 'B', 'assay_variant_accession': None, 'assay_variant_mutation': None, 'bao_endpoint': 'BAO_0000190', 'bao_format': 'BAO_0000357', 'bao_label': 'single protein format', 'canonical_smiles': 'Cn1cnc(S(=O)(=O)N2CCCC3=C[C@H]4C[C@H](CN5CCCC[C@H]45)[C@@H]32)c1', 'data_validity_comment': None, 'data_validity_description': None, 'document_chembl_id': 'CHEMBL4765466', 'document_journal': 'J Med Chem', 'document_year': 2020, 'ligand_efficiency': {'bei': '23.90', 'le': '0.47', 'lle': '7.00', 'sei': '15.40'}, 'molecule_chembl_id': 'CHEMBL4776700', 'molecule_pref_name': None, 'parent_molecule_chembl_id': 'CHEMBL4776700', 'pchembl_value': '9.00', 'potential_duplicate': 0, 'qudt_units': 'http://www.openphacts.org/units/Nanomolar', 'record_id': 3570674, 'relation': '=', 'src_id': 1, 'standard_flag': 1, 'standard_relation': '=', 'standard_text_value': None, 'standard_type': 'IC50', 'standard_units': 'nM', 'standard_upper_value': None, 'standard_value': '1.0', 'target_chembl_id': 'CHEMBL3580522', 'target_organism': 'Homo sapiens', 'target_pref_name': 'Programmed cell death 1 ligand 1', 'target_tax_id': '9606', 'text_value': None, 'toid': None, 'type': 'IC50', 'units': 'nM', 'uo_units': 'UO_0000065', 'upper_value': None, 'value': '1.0'}, {'action_type': {'action_type': 'INHIBITOR', 'description': 'Negatively effects (inhibits) the normal functioning of the protein e.g., prevention of enzymatic reaction or activation of downstream pathway', 'parent_type': 'NEGATIVE MODULATOR'}, 'activity_comment': None, 'activity_id': 22991298, 'activity_properties': [{'comments': None, 'relation': '=', 'result_flag': 0, 'standard_relation': '=', 'standard_text_value': None, 'standard_type': 'TIME', 'standard_units': 'hr', 'standard_value': '0.25', 'text_value': None, 'type': 'Time', 'units': 'min', 'value': '15.0'}], 'assay_chembl_id': 'CHEMBL4775268', 'assay_description': 'Binding affinity to human PDL1 assessed as reduction in PDL1/human PD1protein-protein interaction by HTRF binding assay', 'assay_type': 'B', 'assay_variant_accession': None, 'assay_variant_mutation': None, 'bao_endpoint': 'BAO_0000190', 'bao_format': 'BAO_0000357', 'bao_label': 'single protein format', 'canonical_smiles': 'Cc1c(COc2cc(OCc3cncc(C#N)c3)c(CN[C@](C)(CO)C(=O)O)cc2Cl)cccc1-c1cnc2ccccc2n1', 'data_validity_comment': None, 'data_validity_description': None, 'document_chembl_id': 'CHEMBL4765466', 'document_journal': 'J Med Chem', 'document_year': 2020, 'ligand_efficiency': {'bei': '14.42', 'le': '0.27', 'lle': '3.39', 'sei': '5.98'}, 'molecule_chembl_id': 'CHEMBL4785255', 'molecule_pref_name': None, 'parent_molecule_chembl_id': 'CHEMBL4785255', 'pchembl_value': '9.00', 'potential_duplicate': 0, 'qudt_units': 'http://www.openphacts.org/units/Nanomolar', 'record_id': 3570673, 'relation': '=', 'src_id': 1, 'standard_flag': 1, 'standard_relation': '=', 'standard_text_value': None, 'standard_type': 'IC50', 'standard_units': 'nM', 'standard_upper_value': None, 'standard_value': '1.0', 'target_chembl_id': 'CHEMBL3580522', 'target_organism': 'Homo sapiens', 'target_pref_name': 'Programmed cell death 1 ligand 1', 'target_tax_id': '9606', 'text_value': None, 'toid': None, 'type': 'IC50', 'units': 'nM', 'uo_units': 'UO_0000065', 'upper_value': None, 'value': '1.0'}, '...(remaining elements truncated)...']\n",
            "34\n",
            "ENSG00000258947\n",
            "[{'action_type': {'action_type': 'DISRUPTING AGENT', 'description': 'Destabilises or disrupts a protein complex, macromolecular assembly, cell membrane etc', 'parent_type': 'OTHER'}, 'activity_comment': None, 'activity_id': 22484831, 'activity_properties': [{'comments': None, 'relation': '=', 'result_flag': 0, 'standard_relation': '=', 'standard_text_value': None, 'standard_type': 'TIME', 'standard_units': 'hr', 'standard_value': '48.0', 'text_value': None, 'type': 'Time', 'units': 'hrs', 'value': '48.0'}], 'assay_chembl_id': 'CHEMBL4688370', 'assay_description': 'Inhibition of beta3 Tubulin (unknown origin) expressed in human HeLa cell line assessed as inhibition of cell proliferation measured after 48 hrs by SRB method', 'assay_type': 'B', 'assay_variant_accession': None, 'assay_variant_mutation': None, 'bao_endpoint': 'BAO_0000190', 'bao_format': 'BAO_0000219', 'bao_label': 'cell-based format', 'canonical_smiles': 'COc1cccc2cc(N(C)c3nc(C)nc4c3CCC4)ccc12', 'data_validity_comment': None, 'data_validity_description': None, 'document_chembl_id': 'CHEMBL4680306', 'document_journal': 'Bioorg Med Chem', 'document_year': 2021, 'ligand_efficiency': {'bei': '26.88', 'le': '0.49', 'lle': '4.39', 'sei': '22.44'}, 'molecule_chembl_id': 'CHEMBL4800264', 'molecule_pref_name': None, 'parent_molecule_chembl_id': 'CHEMBL4800264', 'pchembl_value': '8.59', 'potential_duplicate': 0, 'qudt_units': 'http://www.openphacts.org/units/Nanomolar', 'record_id': 3524650, 'relation': '=', 'src_id': 1, 'standard_flag': 1, 'standard_relation': '=', 'standard_text_value': None, 'standard_type': 'IC50', 'standard_units': 'nM', 'standard_upper_value': None, 'standard_value': '2.6', 'target_chembl_id': 'CHEMBL2597', 'target_organism': 'Homo sapiens', 'target_pref_name': 'Tubulin beta-3 chain', 'target_tax_id': '9606', 'text_value': None, 'toid': None, 'type': 'IC50', 'units': 'nM', 'uo_units': 'UO_0000065', 'upper_value': None, 'value': '2.6'}, {'action_type': None, 'activity_comment': None, 'activity_id': 13338836, 'activity_properties': [], 'assay_chembl_id': 'CHEMBL2396366', 'assay_description': 'Inhibition of beta-3 tubulin (unknown origin) transfected in human HeLa cells assessed as growth inhibition after 48 hrs by SRB assay', 'assay_type': 'B', 'assay_variant_accession': None, 'assay_variant_mutation': None, 'bao_endpoint': 'BAO_0000190', 'bao_format': 'BAO_0000219', 'bao_label': 'cell-based format', 'canonical_smiles': 'COc1ccc(/C=C\\\\c2cc(OC)c(OC)c(OC)c2)cc1O', 'data_validity_comment': None, 'data_validity_description': None, 'document_chembl_id': 'CHEMBL2390928', 'document_journal': 'Bioorg Med Chem', 'document_year': 2013, 'ligand_efficiency': {'bei': '26.19', 'le': '0.49', 'lle': '4.68', 'sei': '14.50'}, 'molecule_chembl_id': 'CHEMBL67', 'molecule_pref_name': 'COMBRETASTATIN A4', 'parent_molecule_chembl_id': 'CHEMBL67', 'pchembl_value': '8.28', 'potential_duplicate': 0, 'qudt_units': 'http://www.openphacts.org/units/Nanomolar', 'record_id': 1899495, 'relation': '=', 'src_id': 1, 'standard_flag': 1, 'standard_relation': '=', 'standard_text_value': None, 'standard_type': 'IC50', 'standard_units': 'nM', 'standard_upper_value': None, 'standard_value': '5.2', 'target_chembl_id': 'CHEMBL2597', 'target_organism': 'Homo sapiens', 'target_pref_name': 'Tubulin beta-3 chain', 'target_tax_id': '9606', 'text_value': None, 'toid': None, 'type': 'IC50', 'units': 'nM', 'uo_units': 'UO_0000065', 'upper_value': None, 'value': '5.2'}, {'action_type': {'action_type': 'DISRUPTING AGENT', 'description': 'Destabilises or disrupts a protein complex, macromolecular assembly, cell membrane etc', 'parent_type': 'OTHER'}, 'activity_comment': None, 'activity_id': 22484836, 'activity_properties': [{'comments': None, 'relation': '=', 'result_flag': 0, 'standard_relation': '=', 'standard_text_value': None, 'standard_type': 'TIME', 'standard_units': 'hr', 'standard_value': '48.0', 'text_value': None, 'type': 'Time', 'units': 'hrs', 'value': '48.0'}], 'assay_chembl_id': 'CHEMBL4688370', 'assay_description': 'Inhibition of beta3 Tubulin (unknown origin) expressed in human HeLa cell line assessed as inhibition of cell proliferation measured after 48 hrs by SRB method', 'assay_type': 'B', 'assay_variant_accession': None, 'assay_variant_mutation': None, 'bao_endpoint': 'BAO_0000190', 'bao_format': 'BAO_0000219', 'bao_label': 'cell-based format', 'canonical_smiles': 'COc1ccc(/C=C\\\\c2cc(OC)c(OC)c(OC)c2)cc1O', 'data_validity_comment': None, 'data_validity_description': None, 'document_chembl_id': 'CHEMBL4680306', 'document_journal': 'Bioorg Med Chem', 'document_year': 2021, 'ligand_efficiency': {'bei': '26.06', 'le': '0.49', 'lle': '4.64', 'sei': '14.43'}, 'molecule_chembl_id': 'CHEMBL67', 'molecule_pref_name': 'COMBRETASTATIN A4', 'parent_molecule_chembl_id': 'CHEMBL67', 'pchembl_value': '8.24', 'potential_duplicate': 0, 'qudt_units': 'http://www.openphacts.org/units/Nanomolar', 'record_id': 3524656, 'relation': '=', 'src_id': 1, 'standard_flag': 1, 'standard_relation': '=', 'standard_text_value': None, 'standard_type': 'IC50', 'standard_units': 'nM', 'standard_upper_value': None, 'standard_value': '5.7', 'target_chembl_id': 'CHEMBL2597', 'target_organism': 'Homo sapiens', 'target_pref_name': 'Tubulin beta-3 chain', 'target_tax_id': '9606', 'text_value': None, 'toid': None, 'type': 'IC50', 'units': 'nM', 'uo_units': 'UO_0000065', 'upper_value': None, 'value': '5.7'}, {'action_type': None, 'activity_comment': None, 'activity_id': 13445917, 'activity_properties': [], 'assay_chembl_id': 'CHEMBL2428597', 'assay_description': 'Inhibition of beta3 tubulin overexpressed in human HeLa cells after 48 hrs by SRB assay', 'assay_type': 'B', 'assay_variant_accession': None, 'assay_variant_mutation': None, 'bao_endpoint': 'BAO_0000190', 'bao_format': 'BAO_0000219', 'bao_label': 'cell-based format', 'canonical_smiles': 'COc1ccc(/C=C\\\\c2cc(OC)c(OC)c(OC)c2)cc1O', 'data_validity_comment': None, 'data_validity_description': None, 'document_chembl_id': 'CHEMBL2424583', 'document_journal': 'J Med Chem', 'document_year': 2013, 'ligand_efficiency': {'bei': '26.06', 'le': '0.49', 'lle': '4.64', 'sei': '14.43'}, 'molecule_chembl_id': 'CHEMBL67', 'molecule_pref_name': 'COMBRETASTATIN A4', 'parent_molecule_chembl_id': 'CHEMBL67', 'pchembl_value': '8.24', 'potential_duplicate': 1, 'qudt_units': 'http://www.openphacts.org/units/Nanomolar', 'record_id': 1919079, 'relation': '=', 'src_id': 1, 'standard_flag': 1, 'standard_relation': '=', 'standard_text_value': None, 'standard_type': 'IC50', 'standard_units': 'nM', 'standard_upper_value': None, 'standard_value': '5.7', 'target_chembl_id': 'CHEMBL2597', 'target_organism': 'Homo sapiens', 'target_pref_name': 'Tubulin beta-3 chain', 'target_tax_id': '9606', 'text_value': None, 'toid': None, 'type': 'IC50', 'units': 'nM', 'uo_units': 'UO_0000065', 'upper_value': None, 'value': '5.7'}, '...(remaining elements truncated)...']\n",
            "17\n"
          ]
        },
        {
          "data": {
            "text/plain": [
              "'\\nimport pickle\\n\\nfor target in target_data_list:\\n    print(target[\\'target_id\\'])\\n\\n    display(target[\\'data\\'])\\n    f = open(target[\\'target_id\\']+\"dataframe.pickle\", \"wb\")\\n    pickle.dump(target[\\'data\\'], f)\\n    f.close()\\n    #display(target[\\'data\\'])\\n'"
            ]
          },
          "execution_count": 58,
          "metadata": {},
          "output_type": "execute_result"
        }
      ],
      "source": [
        "from chembl_webresource_client.new_client import new_client\n",
        "\n",
        "target = new_client.target\n",
        "activity = new_client.activity\n",
        "assay = new_client.assay\n",
        "\n",
        "# Create targets_dict, which will be a dictionary containing target names, with compounds and compound data associated with that target.\n",
        "targets_dict = {}\n",
        "\n",
        "# Create darget_data, which will be a dictionary containing target names, with dataframes with compound data associated with that target\n",
        "target_data_list = []\n",
        "\n",
        "full_disease_df = pd.DataFrame()\n",
        "#For each target pulled from OpenTargets:\n",
        "for target in target_id_list:\n",
        "\n",
        "    target_data = {}\n",
        "    print(target[0])\n",
        "    # Get compound activitiy data from Chembl for each target, including only exact IC50 values. Sort by IC50 value.\n",
        "    activities = activity.filter(target_chembl_id=target[1], standard_type=\"IC50\", relation = '=').order_by('standard_value')\n",
        "    #print(assay)\n",
        "    #print(activities)\n",
        "\n",
        "    compound_dictionary = {}\n",
        "\n",
        "    #create seperate list for each type of data\n",
        "    smiles_list = []\n",
        "    standard_value_list = []\n",
        "    compound_list = []\n",
        "    type_list = []\n",
        "    assays_list = []\n",
        "    assay_type_list = []\n",
        "    descr_list = []\n",
        "    abstract_list = []\n",
        "    doc_list = []\n",
        "    target_name = []\n",
        "\n",
        "    print(len(activities))\n",
        "\n",
        "    for compound in activities:\n",
        "        #print(compound)\n",
        "        slimDict = {key:val for key, val in compound.items() if key == 'type' or key == 'canonical_smiles' or key == 'standard_value'}\n",
        "\n",
        "\n",
        "        #slimDict = {key:val for key, val in compound.items() if key == 'value'}\n",
        "\n",
        "\n",
        "        compound_id = compound['molecule_chembl_id']\n",
        "        compound_list.append(compound_id)\n",
        "        type_list.append(compound['type'])\n",
        "        standard_value_list.append(compound['standard_value'])\n",
        "        smiles_list.append(compound['canonical_smiles'])\n",
        "        assays_list.append(compound['assay_chembl_id'])\n",
        "        assay_type_list.append(compound['assay_type'])\n",
        "        doc_list.append(compound['document_chembl_id'])\n",
        "        target_name.append(target[0])\n",
        "\n",
        "        doc_id = compound['document_chembl_id']\n",
        "        document = new_client.document\n",
        "        abstract = document.filter(document_chembl_id = doc_id, assay_chembl_id = compound['assay_chembl_id']).only('abstract')\n",
        "\n",
        "        \n",
        "\n",
        "        #print(abstract[0]['abstract'])\n",
        "        abstract_list.append(abstract[0]['abstract'])\n",
        "        descr_list.append(compound['assay_description'])\n",
        "        #print(compound_id)\n",
        "\n",
        "        compound_dictionary[compound['molecule_chembl_id']] = slimDict\n",
        "        df = pd.DataFrame.from_dict(compound_dictionary)\n",
        "\n",
        "\n",
        "    targets_dict[target[0]] = compound_dictionary\n",
        "\n",
        "\n",
        "    to_pandas_dict = {\"target_ENSG\" : target_name, \"compound_id\": compound_list, \"smiles\": smiles_list, \"type\" : type_list, \"standard_value\": standard_value_list, 'assay_id': assays_list, 'assay_type': assay_type_list, 'assay_description' : descr_list, 'document_ID' : doc_list, 'abstract' : abstract_list}\n",
        "    pandas_df = pd.DataFrame.from_dict(to_pandas_dict)\n",
        "\n",
        "\n",
        "    full_disease_df = pd.concat([full_disease_df, pandas_df], ignore_index = True)\n",
        "\n",
        "    \"\"\"\n",
        "    f = open(target[0]+\"dataframe.pickle\", \"wb\")\n",
        "    pickle.dump(pandas_df, f)\n",
        "    f.close()\n",
        "    \"\"\"\n",
        "    #display(pandas_df)\n",
        "    target_data['target_id'] = target[0]\n",
        "    target_data['data'] = pandas_df\n",
        "    target_data_list.append(target_data)\n",
        "\n",
        "\n",
        "\n",
        "\n",
        "\"\"\"\n",
        "import pickle\n",
        "\n",
        "for target in target_data_list:\n",
        "    print(target['target_id'])\n",
        "\n",
        "    display(target['data'])\n",
        "    f = open(target['target_id']+\"dataframe.pickle\", \"wb\")\n",
        "    pickle.dump(target['data'], f)\n",
        "    f.close()\n",
        "    #display(target['data'])\n",
        "\"\"\"\n",
        "\n",
        "\n"
      ]
    },
    {
      "cell_type": "code",
      "execution_count": null,
      "id": "6kkd9x5d04s6",
      "metadata": {
        "colab": {
          "base_uri": "https://localhost:8080/"
        },
        "id": "6kkd9x5d04s6",
        "outputId": "c4512418-4d75-4472-ff8d-15e4569723e6"
      },
      "outputs": [
        {
          "name": "stdout",
          "output_type": "stream",
          "text": [
            "[{'abstract': ''}, {'abstract': ''}, {'abstract': 'Okadaic acid (OA) is a toxin responsible for diarrhetic shellfish poisoning and is an extremely useful tool for studying processes that are regulated by phosphorylation, although the exact mechanism of action is still undetermined. We report on a study that proved the existence of OA in an unusual dimeric form when complexed with potassium ion. The proposed structure of this dimer is based on spectroscopic and conformational studies.'}, {'abstract': 'A variety of novel heterocyclic compounds having thienoazepine, pyrroloazepine, furoazepine, and thienodiazepine skeletons were synthesized, most of which exhibited potent antagonism of [(3)H]-AVP specific binding in assays using rat liver (V1), rat kidney (V2), human platelet plasma membranes, and recombinant human CHO cells (V2), as well as antagonizing AVP-induced hypertension in rats (V1, intravenous) and showing a diuretic effect in rats (V2, oral). By detailed studies of the structure-activity relationships of these compounds, the thienoazepine derivative 1 was found to be a very potent combined V1 and V2 antagonist. After further pharmacological and toxicological evaluation as well as physical properties, the hydrochloride 2 (JTV-605) of compound 1 was selected for clinical studies as a potent AVP antagonist with a long duration of action.'}, '...(remaining elements truncated)...']\n"
          ]
        }
      ],
      "source": [
        "\"\"\"\n",
        "from chembl_webresource_client.new_client import new_client\n",
        "\n",
        "assay = new_client.document\n",
        "\n",
        "abstract = assay.filter(assay_chembl_id = \"CHEMBL4775268\").only('abstract')\n",
        "print(abstract)\n",
        "\"\"\""
      ]
    },
    {
      "cell_type": "code",
      "execution_count": 52,
      "id": "600d144e-5b08-4409-aee0-0de4b6591825",
      "metadata": {
        "id": "600d144e-5b08-4409-aee0-0de4b6591825",
        "outputId": "95effd89-ce3d-4d92-8cd5-4b0887d05969"
      },
      "outputs": [
        {
          "name": "stdout",
          "output_type": "stream",
          "text": [
            "<class 'pandas.core.frame.DataFrame'>\n",
            "[]\n",
            "490\n"
          ]
        }
      ],
      "source": [
        "#big_target_data_list = [target for target in target_data_list if len(target['data']) > 3000]\n",
        "#print(type(target_data_list[0]['data']))\n",
        "#print(big_target_data_list)"
      ]
    },
    {
      "cell_type": "code",
      "execution_count": 64,
      "id": "4a3e25bd-24bd-4a55-a3c1-624b319d03a7",
      "metadata": {
        "id": "4a3e25bd-24bd-4a55-a3c1-624b319d03a7",
        "outputId": "db92214d-2b50-49a3-8399-5a93c25f20e9"
      },
      "outputs": [
        {
          "name": "stdout",
          "output_type": "stream",
          "text": [
            "(456, 10)\n",
            "(34, 10)\n",
            "(490, 10)\n"
          ]
        }
      ],
      "source": [
        "#display(target_data_list[1]['data'])\n",
        "\n",
        "big_data = pd.concat([target_data_list[1]['data'], target_data_list[2]['data']], ignore_index=True)\n",
        "#display(big_data)\n",
        "\n",
        "print(target_data_list[1]['data'].shape)\n",
        "print(target_data_list[2]['data'].shape)\n",
        "print(big_data.shape)\n"
      ]
    },
    {
      "cell_type": "code",
      "execution_count": null,
      "id": "7f3e0460-afef-4868-a1ff-e80537df407f",
      "metadata": {
        "id": "7f3e0460-afef-4868-a1ff-e80537df407f",
        "scrolled": true
      },
      "outputs": [],
      "source": [
        "# Get TXT file of list of SMILES associated with target\n",
        "for target in target_data_list:\n",
        "    print(target['target_id'])\n",
        "    smiles = target['data']['smiles']\n",
        "    print(smiles)\n",
        "    smiles_list = []\n",
        "    for row in smiles:\n",
        "        smiles_list.append(row)\n",
        "    print(smiles_list)\n",
        "\n",
        "    smiles_string = str(smiles_list)\n",
        "    smiles_string = smiles_string[1:-1]\n",
        "    smiles_string = smiles_string.replace(\",\", \"\\n\").replace(\"'\", \"\").replace(\" \", \"\")\n",
        "    print(smiles_string)\n",
        "\n",
        "    #with open(target['target_id']+'_Smiles.txt','w') as data:\n",
        "        #data.write(str(smiles_string))\n",
        "        # Get TXT file of list of SMILES associated with target\n"
      ]
    },
    {
      "cell_type": "code",
      "execution_count": null,
      "id": "1d176985-a82e-4292-b4c2-937ce04a8f11",
      "metadata": {
        "id": "1d176985-a82e-4292-b4c2-937ce04a8f11"
      },
      "outputs": [],
      "source": []
    },
    {
      "cell_type": "code",
      "execution_count": null,
      "id": "b4a90d8f-6ba3-49b4-88d6-473b4fa0b179",
      "metadata": {
        "id": "b4a90d8f-6ba3-49b4-88d6-473b4fa0b179"
      },
      "outputs": [],
      "source": []
    },
    {
      "cell_type": "code",
      "execution_count": null,
      "id": "f30dd729-5cd7-4d16-8b73-2adb913b971a",
      "metadata": {
        "id": "f30dd729-5cd7-4d16-8b73-2adb913b971a",
        "outputId": "b0361d4e-b9e2-47a2-db21-b160bdf07759"
      },
      "outputs": [
        {
          "data": {
            "text/plain": [
              "{'Result': {'Status': 2, 'Message': 'Username or password is incorrect!'},\n",
              " 'Data': {'Molecules': [], 'Version': 'v.1.0'}}"
            ]
          },
          "execution_count": 217,
          "metadata": {},
          "output_type": "execute_result"
        }
      ],
      "source": [
        "\"\"\"\n",
        "smiles = \"CC(O)C\"\n",
        "headers = \t{\n",
        "\t\"API Key\":\"0794a3fb-40ff-4465-9b26-40bfad7ce84e\",\n",
        "\t\"Structure\":smiles,\n",
        "\t\"Search Type\":'3',\n",
        "\t\"Maximum Search Time\":'60000',\n",
        "\t\"Maximum Result Count\":'10000',\n",
        "\t\"Chemical Similarity Index\":'0.9'\n",
        "\t}\n",
        "url = \"https://api.molport.com/api/chemical-search/search\"\n",
        "\n",
        "#r = requests.get(\"https://api.molport.com/api/molecule/load?molecule=2325030&apikey=880d8343-8ui2-418c-9g7a-68b4e2e78c8b\")\n",
        "r = requests.get(url = url, params = headers)\n",
        "r.json()\n",
        "\"\"\""
      ]
    },
    {
      "cell_type": "code",
      "execution_count": null,
      "id": "4439223a-e5f6-470d-8783-4ef4972b2ed0",
      "metadata": {
        "id": "4439223a-e5f6-470d-8783-4ef4972b2ed0"
      },
      "outputs": [],
      "source": [
        "r = requests.get(\"https://zinc20.docking.org/for_sale?q=\")\n",
        "print(r.status)"
      ]
    },
    {
      "cell_type": "code",
      "execution_count": null,
      "id": "c3fe3dad-bcc6-4bb6-9dc2-aaffb94cb92d",
      "metadata": {
        "id": "c3fe3dad-bcc6-4bb6-9dc2-aaffb94cb92d",
        "outputId": "a5d013c5-f37e-4c0d-fbc1-b69478ee98aa"
      },
      "outputs": [
        {
          "ename": "NameError",
          "evalue": "name 'compund_dictionary' is not defined",
          "output_type": "error",
          "traceback": [
            "\u001b[0;31m---------------------------------------------------------------------------\u001b[0m",
            "\u001b[0;31mNameError\u001b[0m                                 Traceback (most recent call last)",
            "\u001b[0;32m<ipython-input-22-95fe4c19ca9f>\u001b[0m in \u001b[0;36m<module>\u001b[0;34m\u001b[0m\n\u001b[0;32m----> 1\u001b[0;31m \u001b[0mprint\u001b[0m\u001b[0;34m(\u001b[0m\u001b[0mcompund_dictionary\u001b[0m\u001b[0;34m[\u001b[0m\u001b[0;36m0\u001b[0m\u001b[0;34m]\u001b[0m\u001b[0;34m)\u001b[0m\u001b[0;34m\u001b[0m\u001b[0;34m\u001b[0m\u001b[0m\n\u001b[0m",
            "\u001b[0;31mNameError\u001b[0m: name 'compund_dictionary' is not defined"
          ]
        }
      ],
      "source": []
    }
  ],
  "metadata": {
    "colab": {
      "provenance": []
    },
    "kernelspec": {
      "display_name": "Python 3 (ipykernel)",
      "language": "python",
      "name": "python3"
    },
    "language_info": {
      "codemirror_mode": {
        "name": "ipython",
        "version": 3
      },
      "file_extension": ".py",
      "mimetype": "text/x-python",
      "name": "python",
      "nbconvert_exporter": "python",
      "pygments_lexer": "ipython3",
      "version": "3.8.2"
    }
  },
  "nbformat": 4,
  "nbformat_minor": 5
}
