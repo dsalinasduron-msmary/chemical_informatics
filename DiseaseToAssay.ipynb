{
 "cells": [
  {
   "cell_type": "code",
   "execution_count": 1,
   "id": "9d441909-f9af-43b9-b413-c39de48763ca",
   "metadata": {},
   "outputs": [
    {
     "name": "stdout",
     "output_type": "stream",
     "text": [
      "200\n",
      "done\n"
     ]
    }
   ],
   "source": [
    "#!/usr/bin/env python3\n",
    "\n",
    "# Import relevant libraries to make HTTP requests and parse JSON response\n",
    "import requests\n",
    "import json\n",
    "import csv\n",
    "\n",
    "# Set disease_id variable for colorectal cancer\n",
    "disease_id = \"EFO_0005842\"\n",
    "\n",
    "# Build query string to get target information as well as count\n",
    "query_string = \"\"\"\n",
    "query associatedTargets {\n",
    "  disease(efoId: \"EFO_0005537\") {\n",
    "    id\n",
    "    name\n",
    "    associatedTargets(page: {size: 100, index: 0}) {\n",
    "      count\n",
    "      rows {\n",
    "        target {\n",
    "          id\n",
    "          approvedSymbol\n",
    "        }\n",
    "      }\n",
    "    }\n",
    "  }\n",
    "}\n",
    "\"\"\"\n",
    "\n",
    "# Set variables object of arguments to be passed to endpoint\n",
    "variables = {\"efoId\": disease_id}\n",
    "\n",
    "# Set base URL of GraphQL API endpoint\n",
    "base_url = \"https://api.platform.opentargets.org/api/v4/graphql\"\n",
    "\n",
    "# Perform POST request and check status code of response\n",
    "r = requests.post(base_url, json={\"query\": query_string, \"variables\": variables})\n",
    "print(r.status_code)\n",
    "\n",
    "#Transform API response from JSON into Python dictionary and print in console\n",
    "api_response = json.loads(r.text)\n",
    "print('done')\n",
    "#print(api_response)\n",
    "\n",
    "\n",
    "\n",
    "        "
   ]
  },
  {
   "cell_type": "code",
   "execution_count": 2,
   "id": "384d88c9-899c-4e3b-9e04-e928a0a5c5c5",
   "metadata": {},
   "outputs": [],
   "source": [
    "a=0\n",
    "target_ids = api_response['data']['disease']['associatedTargets']['rows']\n",
    "target_id_list = []\n",
    "while a < len(target_ids):\n",
    "    target_id_list.append(target_ids[a]['target'].get('id'))\n",
    "    a+=1\n",
    "#print(target_id_list)\n"
   ]
  },
  {
   "cell_type": "code",
   "execution_count": 3,
   "id": "c20346da-9ce8-4ee7-8a87-70de4bbd6e12",
   "metadata": {},
   "outputs": [],
   "source": [
    "# Able to write dictionary at a speed of 4 targets/second\n",
    "a = 0\n",
    "target_id_assay_dict = {}\n",
    "for id in target_id_list:\n",
    "# get raw AIDs for each Ensemble ID in JSON format using PUG REST\n",
    "    r = requests.get('https://pubchem.ncbi.nlm.nih.gov/rest/pug/gene/synonym/Ensemble:' + id + '/aids/json')\n",
    "# convert JSON to Python Dictionary\n",
    "    raw_aids = r.json()\n",
    "    #print(type(raw_aids))\n",
    "# isolate raw_aids into a list containing just the AIDS\n",
    "    try:\n",
    "        aids = raw_aids['InformationList']['Information'][0]['AID']\n",
    "    except:\n",
    "        pass\n",
    "# assign each Ensamble Target ID to dictionary entry with associated Assay IDs\n",
    "    target_id_assay_dict[id] =  aids\n",
    "    #a+=1\n",
    "    #display(a)\n",
    "#print(target_id_assay_dict)"
   ]
  }
 ],
 "metadata": {
  "kernelspec": {
   "display_name": "Python 3",
   "language": "python",
   "name": "python3"
  },
  "language_info": {
   "codemirror_mode": {
    "name": "ipython",
    "version": 3
   },
   "file_extension": ".py",
   "mimetype": "text/x-python",
   "name": "python",
   "nbconvert_exporter": "python",
   "pygments_lexer": "ipython3",
   "version": "3.8.2"
  }
 },
 "nbformat": 4,
 "nbformat_minor": 5
}
